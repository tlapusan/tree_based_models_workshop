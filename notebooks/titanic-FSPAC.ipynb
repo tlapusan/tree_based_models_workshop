{
 "cells": [
  {
   "cell_type": "markdown",
   "metadata": {},
   "source": [
    "# Introduction to Machine Learning using Decision Tree"
   ]
  },
  {
   "cell_type": "markdown",
   "metadata": {},
   "source": [
    "<img src=\"https://scikit-learn.org/stable/_static/ml_map.png\"/>"
   ]
  },
  {
   "cell_type": "markdown",
   "metadata": {},
   "source": [
    "## ML requirements\n",
    "<b>Data</b> <br>\n",
    "To develop a ML project, first we need a dataset. <br>\n",
    "\n",
    "There are hundreds of dataset available online for free and waiting to be used !\n",
    "- [UCI Machine Learning Repository](https://archive.ics.uci.edu/ml/index.php)\n",
    "- [Kaggle datasets](https://www.kaggle.com/datasets)\n",
    "- [ask google](https://www.google.com/search?ei=R2QMXZD9MNaD8gL4uYPoCw&q=machine+learning+open+datasets&oq=machine+learning+open+datasets&gs_l=psy-ab.3..0i203j0i8i30.5101.6297..6496...1.0..0.128.673.0j6......0....1..gws-wiz.......0i71j35i304i39j0i7i30j0i13j0i8i7i30j0i7i30i19j0i8i7i30i19j0i19j0i8i13i30i19.lyx-wjPDejE)\n",
    "\n",
    "If you plan to start a ML project at work, it is important to plan from the beginning how to collect and store the data. <br>\n",
    "It is well known that approx. 80% from a ML project lifecycle is spent on data exploration, data cleaning, data transformation. Pandas python library/Spark are a very good choice for these phases.  \n",
    "\n",
    "\n",
    "<b>Software (ML libraries) </b> <br>\n",
    "Yes, it's true that ML algorithms are based on <b>mathematic</b>. But it's also true that most of these algorithms are already <b>implemented in a lot of libraries</b>, so we don't need to know all the math details. <br>\n",
    "Most of the time, is it enough to have a general understanding of what a ML algorithm does to apply it with success on our project. Of course, if you deep dive into the details implementation, you will start to master it and if you master something you will have a better results. <br>\n",
    "\n",
    "OK, we know that there are ML libraries to use but what programming languages do we need to know to use them ? <br>\n",
    "The most common ones are <b>Python and R</b>. There are also libraries written for example in Java, .Net, Scala, but either they are in to early stages, implement only a few algorithms, those algorithms aren't the most efficent ones implemented and have a weak comunity/suport. <br>\n",
    "\n",
    "Python and R are the most common programming languages when it's about ML. Python has the advantage that has a strong and large community, latest best ML libraries support Python and also it contains complementary libraries which cam be used as regular programming. R language was very used in the past, but it seems to have a descending path in the last years and its main focus is for statistic and ML. \n",
    "\n",
    "Most common Python libraries :\n",
    "- Scikit-learn\n",
    "- Spark ML\n",
    "- Theano\n",
    "- TensorFlow\n",
    "- Keras\n",
    "- PyTorch\n",
    "\n",
    "What is the differences between these libraries/ which one to choose ? \n",
    "\n",
    "\n",
    "Nowadays, it's pretty easy to install and use these libraries. We can either install them on our personal computers or access them from cloud services. Because they are so important and useful for software industry, the biggest cloud providers created services around them :\n",
    "- [Amazon](https://aws.amazon.com/sagemaker/)\n",
    "- [Microsoft](https://azure.microsoft.com/en-in/services/machine-learning-studio/)\n",
    "- [Google](https://cloud.google.com/products/ai/)\n",
    "\n",
    "\n",
    "<b>Hardware</b> <br>\n",
    "Every software needs hardware. This is also the case for ML. <br>\n",
    "Hardware specifications are related to the type of ML project and mostly to the volume of data. If the volume of data is big, we clearly will need more resources(CPU, memory, disk) to proccess it. <br>\n",
    "\n",
    "For computer vision, is indicated to have a [GPU](https://en.wikipedia.org/wiki/Graphics_processing_unit), a good processor and few tens of memory gigabytes. For traditional ML datasets, where most of the time we have [structure data](https://en.wikipedia.org/wiki/Data_structure) and few hundreds of megabytes, gigabytes of data is enough a commodity hardware(ex. 4 cores, 8 GBs RAM) . <br>\n",
    "\n",
    "BUT, if you want to start learning ML, hardware is not an escuse. You can find a small dataset, a lightweight library and this will ran very fast even on the cheapest laptop/PC. <br>\n",
    "\n",
    "If you are not sure that ML if for you and you are skeptical about investing in hardware, you can choose a cloud solution. In this case you can rent hardware and pay as much as you consume. Nowadays, these services are pretty cheap. Look at [amazon prices](https://aws.amazon.com/ec2/pricing/)\n",
    "\n",
    " \n",
    "\n"
   ]
  },
  {
   "cell_type": "markdown",
   "metadata": {},
   "source": [
    "## Our workshop setup"
   ]
  },
  {
   "cell_type": "markdown",
   "metadata": {},
   "source": [
    "Dataset\n",
    "- [Titanic dataset](https://data.world/nrippner/titanic-disaster-dataset)\n",
    "\n",
    "Software \n",
    "- [jupyter notebook](https://jupyter.org/)\n",
    "- [python](https://www.python.org/)\n",
    "- [sklearn](https://scikit-learn.org/stable/)\n",
    "- [pandas](https://pandas.pydata.org/)\n",
    "- [matplotlib](https://matplotlib.org/)\n",
    "- [woodpecker](https://github.com/tlapusan/woodpecker)\n",
    "\n",
    "Hardware\n",
    "- [Lentiq](https://lentiq.com/)\n",
    "- Your own laptop\n"
   ]
  },
  {
   "cell_type": "markdown",
   "metadata": {},
   "source": [
    "## Main steps for each ML project"
   ]
  },
  {
   "cell_type": "markdown",
   "metadata": {},
   "source": [
    "- read the data\n",
    "- data exploration\n",
    "- data cleaning and data transformation\n",
    "- initializing and fitting ML models\n",
    "- model validation\n",
    "- model structure interpretation\n",
    "- hyperparameter tuning"
   ]
  },
  {
   "cell_type": "markdown",
   "metadata": {},
   "source": [
    "# Classification algorithms : DecisionTree and RandomForest"
   ]
  },
  {
   "cell_type": "markdown",
   "metadata": {},
   "source": [
    "## Imports"
   ]
  },
  {
   "cell_type": "markdown",
   "metadata": {},
   "source": [
    "Imports in Python, as in any other programming language, is the ways to include other library funtionalities.\n",
    "\n",
    "Read more from [official docs](https://docs.python.org/3/reference/import.html) about Python imports"
   ]
  },
  {
   "cell_type": "code",
   "execution_count": 1,
   "metadata": {
    "ExecuteTime": {
     "end_time": "2019-07-19T12:26:54.882565Z",
     "start_time": "2019-07-19T12:26:53.382567Z"
    }
   },
   "outputs": [],
   "source": [
    "from sklearn.metrics import accuracy_score\n",
    "from sklearn.tree import DecisionTreeClassifier\n",
    "from sklearn.ensemble import RandomForestClassifier\n",
    "from sklearn.model_selection import train_test_split\n",
    "from sklearn import tree\n",
    "from sklearn.model_selection import cross_val_score, cross_validate\n",
    "from sklearn.model_selection import StratifiedKFold\n",
    "\n",
    "import graphviz\n",
    "from graphviz import Source\n",
    "import seaborn as sns\n",
    "import matplotlib.pyplot as plt\n",
    "import pandas as pd"
   ]
  },
  {
   "cell_type": "code",
   "execution_count": 2,
   "metadata": {
    "ExecuteTime": {
     "end_time": "2019-07-19T12:26:54.888380Z",
     "start_time": "2019-07-19T12:26:54.885154Z"
    }
   },
   "outputs": [],
   "source": [
    "pd.options.display.max_columns = 999\n",
    "pd.options.mode.chained_assignment = None  # default='warn'"
   ]
  },
  {
   "cell_type": "code",
   "execution_count": null,
   "metadata": {},
   "outputs": [],
   "source": []
  },
  {
   "cell_type": "markdown",
   "metadata": {},
   "source": [
    "## Util functions"
   ]
  },
  {
   "cell_type": "code",
   "execution_count": 3,
   "metadata": {
    "ExecuteTime": {
     "end_time": "2019-07-19T12:26:56.114726Z",
     "start_time": "2019-07-19T12:26:56.106583Z"
    }
   },
   "outputs": [],
   "source": [
    "def save_decision_tree_structure(_decision_tree, _filename, _features):\n",
    "    graph = Source(tree.export_graphviz(_decision_tree, feature_names=_features, class_names=[\"0\", \"1\"],\n",
    "                                                filled=True, node_ids=True))\n",
    "    graph.format = 'png'\n",
    "    graph.render(filename=_filename,view=True)\n",
    "    \n",
    "# save_decision_tree_structure(dt_v3, \"decision_tree_classifier_sample\", features_param=feature_set_v3)\n",
    "\n",
    "def show_features_importance(decision_tree, features, figsize=(20, 10)):\n",
    "        \"\"\"Visual representation of features importance.\n",
    "\n",
    "\n",
    "        Features are ordered descending by their importance using a bar plot visualisation.\n",
    "        oX contains features name and oY contains features importance.\n",
    "\n",
    "        :param figsize: tuple\n",
    "            the size (x, y) of the plot (default is (20, 10))\n",
    "        :return: None\n",
    "        \"\"\"\n",
    "\n",
    "        feature_names, feature_importances = zip(\n",
    "            *sorted(list(zip(decision_tree.feature_importances_, features)), key=lambda tup: tup[0],\n",
    "                    reverse=True))\n",
    "        plt.figure(figsize=figsize)\n",
    "        plt.bar(feature_importances, feature_names)\n",
    "        plt.xlabel(\"feature name\", fontsize=20)\n",
    "        plt.ylabel(\"feature importance\", fontsize=20)\n",
    "        plt.grid()\n",
    "        plt.show()\n",
    "        \n",
    "def show_decision_tree_structure(decision_tree, features):\n",
    "        \"\"\"Show decision woodpecker structure as a binary woodpecker.\n",
    "\n",
    "        It is just an utility method for graphviz functionality to render a decision woodpecker structure.\n",
    "\n",
    "        :return: graphviz.files.Source\n",
    "        \"\"\"\n",
    "\n",
    "        dot_data = tree.export_graphviz(decision_tree, out_file=None, feature_names=features,\n",
    "                                                filled=True, node_ids=True)\n",
    "        return graphviz.Source(dot_data)"
   ]
  },
  {
   "cell_type": "markdown",
   "metadata": {},
   "source": [
    "## Dataset\n",
    "\n",
    "What are we trying to solve ?\n",
    "\n",
    "The dataset is related to the sinking of the Titanic ship. On April 15, 1912, during her maiden voyage, the Titanic sank after colliding with an iceberg, killing 1502 out of 2224 passengers and crew. This sensational tragedy shocked the international community and led to better safety regulations for ships. <br>\n",
    "If you are new to a domain, in this case ship disaster, machine learning should help us to understand also the dataset, to get domain knowledge, not only to make predictions !\n",
    "\n",
    "[Titanic: Machine Learning from Disaster](https://www.kaggle.com/c/titanic) <br>\n",
    "\n",
    "Before start to work on a ML project, it's important to understand what we want to achive. <br>\n",
    "<b>Our goal is to predict which passengers survived the tragedy ! </b> <br> <br>\n",
    "\n",
    "\n",
    "\n",
    "\n",
    "Depending of what we need to predict, the ML algorithms are devided in two main subclasses : <br>\n",
    "<b>Classification </b>\n",
    "- we need to predict a class/label (a limited set of values), ex. email is span or not spam, healty or not healty\n",
    "- the most common is the binary classification, where we need to predict between two classes\n",
    "- when we need to predict multiple classes, the problem is known as multi-class classification\n",
    "\n",
    "<b>Regression </b>\n",
    "- we need to predict a real-value, such as an integer or floating point value, ex price, age, distance \n",
    "\n",
    "[Differences between Classification and Regression](https://machinelearningmastery.com/classification-versus-regression-in-machine-learning/)\n",
    "\n",
    "Above subclasses of algorithms are making part from supervised learning. Why? Because we trained the algorithms based on a known label y (ground truth). Unsupervised learning, on the other hand, does not have labels, so its goal is to infer the natural structure present within a set of data points. [Read more](https://towardsdatascience.com/supervised-vs-unsupervised-learning-14f68e32ea8d)"
   ]
  },
  {
   "cell_type": "markdown",
   "metadata": {},
   "source": [
    "### Read the data"
   ]
  },
  {
   "cell_type": "code",
   "execution_count": 4,
   "metadata": {
    "ExecuteTime": {
     "end_time": "2019-07-19T12:27:01.612735Z",
     "start_time": "2019-07-19T12:27:01.597533Z"
    }
   },
   "outputs": [],
   "source": [
    "dataset = pd.read_csv(\"../dataset/titanic/titanic.csv\")"
   ]
  },
  {
   "cell_type": "code",
   "execution_count": 5,
   "metadata": {
    "ExecuteTime": {
     "end_time": "2019-07-19T12:27:02.261767Z",
     "start_time": "2019-07-19T12:27:02.240722Z"
    },
    "scrolled": true
   },
   "outputs": [
    {
     "data": {
      "text/html": [
       "<div>\n",
       "<style scoped>\n",
       "    .dataframe tbody tr th:only-of-type {\n",
       "        vertical-align: middle;\n",
       "    }\n",
       "\n",
       "    .dataframe tbody tr th {\n",
       "        vertical-align: top;\n",
       "    }\n",
       "\n",
       "    .dataframe thead th {\n",
       "        text-align: right;\n",
       "    }\n",
       "</style>\n",
       "<table border=\"1\" class=\"dataframe\">\n",
       "  <thead>\n",
       "    <tr style=\"text-align: right;\">\n",
       "      <th></th>\n",
       "      <th>pclass</th>\n",
       "      <th>survived</th>\n",
       "      <th>name</th>\n",
       "      <th>gender</th>\n",
       "      <th>age</th>\n",
       "      <th>sibsp</th>\n",
       "      <th>parch</th>\n",
       "      <th>ticket</th>\n",
       "      <th>fare</th>\n",
       "      <th>cabin</th>\n",
       "      <th>embarked</th>\n",
       "    </tr>\n",
       "  </thead>\n",
       "  <tbody>\n",
       "    <tr>\n",
       "      <th>0</th>\n",
       "      <td>1</td>\n",
       "      <td>True</td>\n",
       "      <td>Allen, Miss. Elisabeth Walton</td>\n",
       "      <td>female</td>\n",
       "      <td>29.0000</td>\n",
       "      <td>0</td>\n",
       "      <td>0</td>\n",
       "      <td>24160</td>\n",
       "      <td>211.3375</td>\n",
       "      <td>B5</td>\n",
       "      <td>S</td>\n",
       "    </tr>\n",
       "    <tr>\n",
       "      <th>1</th>\n",
       "      <td>1</td>\n",
       "      <td>True</td>\n",
       "      <td>Allison, Master. Hudson Trevor</td>\n",
       "      <td>male</td>\n",
       "      <td>0.9167</td>\n",
       "      <td>1</td>\n",
       "      <td>2</td>\n",
       "      <td>113781</td>\n",
       "      <td>151.5500</td>\n",
       "      <td>C22 C26</td>\n",
       "      <td>S</td>\n",
       "    </tr>\n",
       "    <tr>\n",
       "      <th>2</th>\n",
       "      <td>1</td>\n",
       "      <td>False</td>\n",
       "      <td>Allison, Miss. Helen Loraine</td>\n",
       "      <td>female</td>\n",
       "      <td>2.0000</td>\n",
       "      <td>1</td>\n",
       "      <td>2</td>\n",
       "      <td>113781</td>\n",
       "      <td>151.5500</td>\n",
       "      <td>C22 C26</td>\n",
       "      <td>S</td>\n",
       "    </tr>\n",
       "    <tr>\n",
       "      <th>3</th>\n",
       "      <td>1</td>\n",
       "      <td>False</td>\n",
       "      <td>Allison, Mr. Hudson Joshua Creighton</td>\n",
       "      <td>male</td>\n",
       "      <td>30.0000</td>\n",
       "      <td>1</td>\n",
       "      <td>2</td>\n",
       "      <td>113781</td>\n",
       "      <td>151.5500</td>\n",
       "      <td>C22 C26</td>\n",
       "      <td>S</td>\n",
       "    </tr>\n",
       "    <tr>\n",
       "      <th>4</th>\n",
       "      <td>1</td>\n",
       "      <td>False</td>\n",
       "      <td>Allison, Mrs. Hudson J C (Bessie Waldo Daniels)</td>\n",
       "      <td>female</td>\n",
       "      <td>25.0000</td>\n",
       "      <td>1</td>\n",
       "      <td>2</td>\n",
       "      <td>113781</td>\n",
       "      <td>151.5500</td>\n",
       "      <td>C22 C26</td>\n",
       "      <td>S</td>\n",
       "    </tr>\n",
       "    <tr>\n",
       "      <th>5</th>\n",
       "      <td>1</td>\n",
       "      <td>True</td>\n",
       "      <td>Anderson, Mr. Harry</td>\n",
       "      <td>male</td>\n",
       "      <td>48.0000</td>\n",
       "      <td>0</td>\n",
       "      <td>0</td>\n",
       "      <td>19952</td>\n",
       "      <td>26.5500</td>\n",
       "      <td>E12</td>\n",
       "      <td>S</td>\n",
       "    </tr>\n",
       "    <tr>\n",
       "      <th>6</th>\n",
       "      <td>1</td>\n",
       "      <td>True</td>\n",
       "      <td>Andrews, Miss. Kornelia Theodosia</td>\n",
       "      <td>female</td>\n",
       "      <td>63.0000</td>\n",
       "      <td>1</td>\n",
       "      <td>0</td>\n",
       "      <td>13502</td>\n",
       "      <td>77.9583</td>\n",
       "      <td>D7</td>\n",
       "      <td>S</td>\n",
       "    </tr>\n",
       "    <tr>\n",
       "      <th>7</th>\n",
       "      <td>1</td>\n",
       "      <td>False</td>\n",
       "      <td>Andrews, Mr. Thomas Jr</td>\n",
       "      <td>male</td>\n",
       "      <td>39.0000</td>\n",
       "      <td>0</td>\n",
       "      <td>0</td>\n",
       "      <td>112050</td>\n",
       "      <td>0.0000</td>\n",
       "      <td>A36</td>\n",
       "      <td>S</td>\n",
       "    </tr>\n",
       "    <tr>\n",
       "      <th>8</th>\n",
       "      <td>1</td>\n",
       "      <td>True</td>\n",
       "      <td>Appleton, Mrs. Edward Dale (Charlotte Lamson)</td>\n",
       "      <td>female</td>\n",
       "      <td>53.0000</td>\n",
       "      <td>2</td>\n",
       "      <td>0</td>\n",
       "      <td>11769</td>\n",
       "      <td>51.4792</td>\n",
       "      <td>C101</td>\n",
       "      <td>S</td>\n",
       "    </tr>\n",
       "    <tr>\n",
       "      <th>9</th>\n",
       "      <td>1</td>\n",
       "      <td>False</td>\n",
       "      <td>Artagaveytia, Mr. Ramon</td>\n",
       "      <td>male</td>\n",
       "      <td>71.0000</td>\n",
       "      <td>0</td>\n",
       "      <td>0</td>\n",
       "      <td>PC 17609</td>\n",
       "      <td>49.5042</td>\n",
       "      <td>NaN</td>\n",
       "      <td>C</td>\n",
       "    </tr>\n",
       "  </tbody>\n",
       "</table>\n",
       "</div>"
      ],
      "text/plain": [
       "   pclass  survived                                             name  gender  \\\n",
       "0       1      True                    Allen, Miss. Elisabeth Walton  female   \n",
       "1       1      True                   Allison, Master. Hudson Trevor    male   \n",
       "2       1     False                     Allison, Miss. Helen Loraine  female   \n",
       "3       1     False             Allison, Mr. Hudson Joshua Creighton    male   \n",
       "4       1     False  Allison, Mrs. Hudson J C (Bessie Waldo Daniels)  female   \n",
       "5       1      True                              Anderson, Mr. Harry    male   \n",
       "6       1      True                Andrews, Miss. Kornelia Theodosia  female   \n",
       "7       1     False                           Andrews, Mr. Thomas Jr    male   \n",
       "8       1      True    Appleton, Mrs. Edward Dale (Charlotte Lamson)  female   \n",
       "9       1     False                          Artagaveytia, Mr. Ramon    male   \n",
       "\n",
       "       age  sibsp  parch    ticket      fare    cabin embarked  \n",
       "0  29.0000      0      0     24160  211.3375       B5        S  \n",
       "1   0.9167      1      2    113781  151.5500  C22 C26        S  \n",
       "2   2.0000      1      2    113781  151.5500  C22 C26        S  \n",
       "3  30.0000      1      2    113781  151.5500  C22 C26        S  \n",
       "4  25.0000      1      2    113781  151.5500  C22 C26        S  \n",
       "5  48.0000      0      0     19952   26.5500      E12        S  \n",
       "6  63.0000      1      0     13502   77.9583       D7        S  \n",
       "7  39.0000      0      0    112050    0.0000      A36        S  \n",
       "8  53.0000      2      0     11769   51.4792     C101        S  \n",
       "9  71.0000      0      0  PC 17609   49.5042      NaN        C  "
      ]
     },
     "execution_count": 5,
     "metadata": {},
     "output_type": "execute_result"
    }
   ],
   "source": [
    "dataset.head(10)"
   ]
  },
  {
   "cell_type": "markdown",
   "metadata": {},
   "source": [
    "Any machine learning algorithm needs data from where to learn and make relevant predictions ! <br>\n",
    "In our world, we can find a lot of dataset types, like structure datasets, raw text, images, video, sounds, etc.\n",
    "\n",
    "\n",
    "\n",
    "[Pandas](http://pandas.pydata.org/) is the most popular library in Python for working with structured datasets. \n",
    "\n",
    "During the development of a ML project, working with data is typically devided into multiple stages :\n",
    "- data transformation and data cleaning\n",
    "- data analysis, visualisations\n",
    "- data modeling using ML algorithms\n",
    "\n",
    "Pandas is the ideal tool for all of these tasks. The main data structures in Pandas are Series (1-dimensional) and DataFrame (2-dimensional).\n",
    "\n",
    "Pandas DataFrame (can be seen as a SQL table) :\n",
    "- easy handling of missing data\n",
    "- add/delete columns \n",
    "- powerfull groupby, joins funtionalities\n",
    "- can read from CSV, excel, databases, json, parquet, etc\n",
    "\n",
    "\n",
    "[Official docs](http://pandas.pydata.org/pandas-docs/stable/) <br>\n",
    "[Python for Data Analysis book](https://www.amazon.com/Python-Data-Analysis-Wrangling-IPython/dp/1449319793)\n",
    "\n",
    "\n",
    "\n"
   ]
  },
  {
   "cell_type": "markdown",
   "metadata": {},
   "source": [
    "## Initial data analysis"
   ]
  },
  {
   "cell_type": "markdown",
   "metadata": {
    "ExecuteTime": {
     "end_time": "2019-06-22T08:04:25.051084Z",
     "start_time": "2019-06-22T08:04:25.044909Z"
    }
   },
   "source": [
    "When working on a ML project we can start with at least two approaches : <br><br>\n",
    "<b>Data driven approach</b><br>\n",
    "It assume to start looking at the data, to make a lot of visualisations, discover patterns. By doing this we are making a lot of assumptions about the data and what kind of information we should put in our ML model. <br>\n",
    "In this way, the model could learn from our assumptions, which in some cases can be limited or incorect.\n",
    "\n",
    "\n",
    "<b>ML drive approach </b><br>\n",
    "This approach assume to look at the data just enough to make it ready for training a ML model (handle missing values, categorical features, etc). After we have a model trained on this data, we interprete its result, structure, behavior and based on these investigations we make assumptions about the data.\n",
    "\n",
    "<br>\n",
    "Choose which one fits for you !"
   ]
  },
  {
   "cell_type": "markdown",
   "metadata": {},
   "source": [
    "### Columns description\n",
    "<b>pclass </b>: A proxy for socio-economic status (SES). 1st = Upper, 2nd = Middle, 3rd = Lower <br>\n",
    "<b>survived</b> : True = survived, False = didn't survive <br>\n",
    "<b>name</b> : passanger name <br>\n",
    "<b>gender</b> : passanger gender, male or female <br>\n",
    "<b>age</b> : passanger age <br>\n",
    "<b>sibsp</b> : # of siblings / spouses aboard the Titanic <br>\n",
    "<b>parch</b> : # of parents / children aboard the Titanic <br>\n",
    "<b>ticket</b> : passanger ticket number <br>\n",
    "<b>fare</b> : passenger fare <br>\n",
    "<b>embarked</b> : Port of embarkation, C = Cherbourg, Q = Queenstown, S = Southampton <br>"
   ]
  },
  {
   "cell_type": "code",
   "execution_count": 6,
   "metadata": {
    "ExecuteTime": {
     "end_time": "2019-07-19T12:27:06.004839Z",
     "start_time": "2019-07-19T12:27:05.990379Z"
    }
   },
   "outputs": [
    {
     "data": {
      "text/html": [
       "<div>\n",
       "<style scoped>\n",
       "    .dataframe tbody tr th:only-of-type {\n",
       "        vertical-align: middle;\n",
       "    }\n",
       "\n",
       "    .dataframe tbody tr th {\n",
       "        vertical-align: top;\n",
       "    }\n",
       "\n",
       "    .dataframe thead th {\n",
       "        text-align: right;\n",
       "    }\n",
       "</style>\n",
       "<table border=\"1\" class=\"dataframe\">\n",
       "  <thead>\n",
       "    <tr style=\"text-align: right;\">\n",
       "      <th></th>\n",
       "      <th>pclass</th>\n",
       "      <th>survived</th>\n",
       "      <th>name</th>\n",
       "      <th>gender</th>\n",
       "      <th>age</th>\n",
       "      <th>sibsp</th>\n",
       "      <th>parch</th>\n",
       "      <th>ticket</th>\n",
       "      <th>fare</th>\n",
       "      <th>cabin</th>\n",
       "      <th>embarked</th>\n",
       "    </tr>\n",
       "  </thead>\n",
       "  <tbody>\n",
       "    <tr>\n",
       "      <th>0</th>\n",
       "      <td>1</td>\n",
       "      <td>True</td>\n",
       "      <td>Allen, Miss. Elisabeth Walton</td>\n",
       "      <td>female</td>\n",
       "      <td>29.0000</td>\n",
       "      <td>0</td>\n",
       "      <td>0</td>\n",
       "      <td>24160</td>\n",
       "      <td>211.3375</td>\n",
       "      <td>B5</td>\n",
       "      <td>S</td>\n",
       "    </tr>\n",
       "    <tr>\n",
       "      <th>1</th>\n",
       "      <td>1</td>\n",
       "      <td>True</td>\n",
       "      <td>Allison, Master. Hudson Trevor</td>\n",
       "      <td>male</td>\n",
       "      <td>0.9167</td>\n",
       "      <td>1</td>\n",
       "      <td>2</td>\n",
       "      <td>113781</td>\n",
       "      <td>151.5500</td>\n",
       "      <td>C22 C26</td>\n",
       "      <td>S</td>\n",
       "    </tr>\n",
       "    <tr>\n",
       "      <th>2</th>\n",
       "      <td>1</td>\n",
       "      <td>False</td>\n",
       "      <td>Allison, Miss. Helen Loraine</td>\n",
       "      <td>female</td>\n",
       "      <td>2.0000</td>\n",
       "      <td>1</td>\n",
       "      <td>2</td>\n",
       "      <td>113781</td>\n",
       "      <td>151.5500</td>\n",
       "      <td>C22 C26</td>\n",
       "      <td>S</td>\n",
       "    </tr>\n",
       "  </tbody>\n",
       "</table>\n",
       "</div>"
      ],
      "text/plain": [
       "   pclass  survived                            name  gender      age  sibsp  \\\n",
       "0       1      True   Allen, Miss. Elisabeth Walton  female  29.0000      0   \n",
       "1       1      True  Allison, Master. Hudson Trevor    male   0.9167      1   \n",
       "2       1     False    Allison, Miss. Helen Loraine  female   2.0000      1   \n",
       "\n",
       "   parch  ticket      fare    cabin embarked  \n",
       "0      0   24160  211.3375       B5        S  \n",
       "1      2  113781  151.5500  C22 C26        S  \n",
       "2      2  113781  151.5500  C22 C26        S  "
      ]
     },
     "execution_count": 6,
     "metadata": {},
     "output_type": "execute_result"
    }
   ],
   "source": [
    "dataset.head(3)"
   ]
  },
  {
   "cell_type": "markdown",
   "metadata": {},
   "source": [
    "### Dataset size"
   ]
  },
  {
   "cell_type": "code",
   "execution_count": 7,
   "metadata": {
    "ExecuteTime": {
     "end_time": "2019-07-19T12:27:07.183291Z",
     "start_time": "2019-07-19T12:27:07.179393Z"
    }
   },
   "outputs": [
    {
     "data": {
      "text/plain": [
       "(1309, 11)"
      ]
     },
     "execution_count": 7,
     "metadata": {},
     "output_type": "execute_result"
    }
   ],
   "source": [
    "dataset.shape"
   ]
  },
  {
   "cell_type": "markdown",
   "metadata": {},
   "source": [
    "### Check column datatypes"
   ]
  },
  {
   "cell_type": "code",
   "execution_count": 8,
   "metadata": {
    "ExecuteTime": {
     "end_time": "2019-07-19T12:27:08.099495Z",
     "start_time": "2019-07-19T12:27:08.094060Z"
    }
   },
   "outputs": [
    {
     "data": {
      "text/plain": [
       "pclass        int64\n",
       "survived       bool\n",
       "name         object\n",
       "gender       object\n",
       "age         float64\n",
       "sibsp         int64\n",
       "parch         int64\n",
       "ticket       object\n",
       "fare        float64\n",
       "cabin        object\n",
       "embarked     object\n",
       "dtype: object"
      ]
     },
     "execution_count": 8,
     "metadata": {},
     "output_type": "execute_result"
    }
   ],
   "source": [
    "dataset.dtypes"
   ]
  },
  {
   "cell_type": "markdown",
   "metadata": {},
   "source": [
    "### Column summarize"
   ]
  },
  {
   "cell_type": "code",
   "execution_count": 9,
   "metadata": {
    "ExecuteTime": {
     "end_time": "2019-07-19T12:27:09.233515Z",
     "start_time": "2019-07-19T12:27:09.203638Z"
    }
   },
   "outputs": [
    {
     "data": {
      "text/html": [
       "<div>\n",
       "<style scoped>\n",
       "    .dataframe tbody tr th:only-of-type {\n",
       "        vertical-align: middle;\n",
       "    }\n",
       "\n",
       "    .dataframe tbody tr th {\n",
       "        vertical-align: top;\n",
       "    }\n",
       "\n",
       "    .dataframe thead th {\n",
       "        text-align: right;\n",
       "    }\n",
       "</style>\n",
       "<table border=\"1\" class=\"dataframe\">\n",
       "  <thead>\n",
       "    <tr style=\"text-align: right;\">\n",
       "      <th></th>\n",
       "      <th>pclass</th>\n",
       "      <th>age</th>\n",
       "      <th>sibsp</th>\n",
       "      <th>parch</th>\n",
       "      <th>fare</th>\n",
       "    </tr>\n",
       "  </thead>\n",
       "  <tbody>\n",
       "    <tr>\n",
       "      <th>count</th>\n",
       "      <td>1309.000000</td>\n",
       "      <td>1046.000000</td>\n",
       "      <td>1309.000000</td>\n",
       "      <td>1309.000000</td>\n",
       "      <td>1308.000000</td>\n",
       "    </tr>\n",
       "    <tr>\n",
       "      <th>mean</th>\n",
       "      <td>2.294882</td>\n",
       "      <td>29.881135</td>\n",
       "      <td>0.498854</td>\n",
       "      <td>0.385027</td>\n",
       "      <td>33.295479</td>\n",
       "    </tr>\n",
       "    <tr>\n",
       "      <th>std</th>\n",
       "      <td>0.837836</td>\n",
       "      <td>14.413500</td>\n",
       "      <td>1.041658</td>\n",
       "      <td>0.865560</td>\n",
       "      <td>51.758668</td>\n",
       "    </tr>\n",
       "    <tr>\n",
       "      <th>min</th>\n",
       "      <td>1.000000</td>\n",
       "      <td>0.166700</td>\n",
       "      <td>0.000000</td>\n",
       "      <td>0.000000</td>\n",
       "      <td>0.000000</td>\n",
       "    </tr>\n",
       "    <tr>\n",
       "      <th>25%</th>\n",
       "      <td>2.000000</td>\n",
       "      <td>21.000000</td>\n",
       "      <td>0.000000</td>\n",
       "      <td>0.000000</td>\n",
       "      <td>7.895800</td>\n",
       "    </tr>\n",
       "    <tr>\n",
       "      <th>50%</th>\n",
       "      <td>3.000000</td>\n",
       "      <td>28.000000</td>\n",
       "      <td>0.000000</td>\n",
       "      <td>0.000000</td>\n",
       "      <td>14.454200</td>\n",
       "    </tr>\n",
       "    <tr>\n",
       "      <th>75%</th>\n",
       "      <td>3.000000</td>\n",
       "      <td>39.000000</td>\n",
       "      <td>1.000000</td>\n",
       "      <td>0.000000</td>\n",
       "      <td>31.275000</td>\n",
       "    </tr>\n",
       "    <tr>\n",
       "      <th>max</th>\n",
       "      <td>3.000000</td>\n",
       "      <td>80.000000</td>\n",
       "      <td>8.000000</td>\n",
       "      <td>9.000000</td>\n",
       "      <td>512.329200</td>\n",
       "    </tr>\n",
       "  </tbody>\n",
       "</table>\n",
       "</div>"
      ],
      "text/plain": [
       "            pclass          age        sibsp        parch         fare\n",
       "count  1309.000000  1046.000000  1309.000000  1309.000000  1308.000000\n",
       "mean      2.294882    29.881135     0.498854     0.385027    33.295479\n",
       "std       0.837836    14.413500     1.041658     0.865560    51.758668\n",
       "min       1.000000     0.166700     0.000000     0.000000     0.000000\n",
       "25%       2.000000    21.000000     0.000000     0.000000     7.895800\n",
       "50%       3.000000    28.000000     0.000000     0.000000    14.454200\n",
       "75%       3.000000    39.000000     1.000000     0.000000    31.275000\n",
       "max       3.000000    80.000000     8.000000     9.000000   512.329200"
      ]
     },
     "execution_count": 9,
     "metadata": {},
     "output_type": "execute_result"
    }
   ],
   "source": [
    "dataset.describe()"
   ]
  },
  {
   "cell_type": "markdown",
   "metadata": {},
   "source": [
    "### Check for missing data"
   ]
  },
  {
   "cell_type": "code",
   "execution_count": 10,
   "metadata": {
    "ExecuteTime": {
     "end_time": "2019-07-19T12:27:10.268273Z",
     "start_time": "2019-07-19T12:27:10.260953Z"
    }
   },
   "outputs": [
    {
     "data": {
      "text/plain": [
       "pclass      False\n",
       "survived    False\n",
       "name        False\n",
       "gender      False\n",
       "age          True\n",
       "sibsp       False\n",
       "parch       False\n",
       "ticket      False\n",
       "fare         True\n",
       "cabin        True\n",
       "embarked     True\n",
       "dtype: bool"
      ]
     },
     "execution_count": 10,
     "metadata": {},
     "output_type": "execute_result"
    }
   ],
   "source": [
    "dataset.isna().any()"
   ]
  },
  {
   "cell_type": "code",
   "execution_count": 11,
   "metadata": {
    "ExecuteTime": {
     "end_time": "2019-07-19T12:27:10.663263Z",
     "start_time": "2019-07-19T12:27:10.656059Z"
    }
   },
   "outputs": [
    {
     "data": {
      "text/plain": [
       "pclass         0\n",
       "survived       0\n",
       "name           0\n",
       "gender         0\n",
       "age          263\n",
       "sibsp          0\n",
       "parch          0\n",
       "ticket         0\n",
       "fare           1\n",
       "cabin       1014\n",
       "embarked       2\n",
       "dtype: int64"
      ]
     },
     "execution_count": 11,
     "metadata": {},
     "output_type": "execute_result"
    }
   ],
   "source": [
    "dataset.isna().sum()"
   ]
  },
  {
   "cell_type": "markdown",
   "metadata": {},
   "source": [
    "### Visualisations\n",
    "We understand better and faster if we look visually at the data. <br>\n",
    "Python community developed a lot of useful libraries for visualistions, but the most used one is [matplotlib](https://matplotlib.org/). Check [here](https://mode.com/blog/python-data-visualization-libraries) for other popular libraries. <br> \n",
    "\n",
    "\n",
    "The most common types of visualisations are histograms, line plots and scatter plots."
   ]
  },
  {
   "cell_type": "code",
   "execution_count": 12,
   "metadata": {
    "ExecuteTime": {
     "end_time": "2019-07-19T12:27:11.556423Z",
     "start_time": "2019-07-19T12:27:11.539576Z"
    }
   },
   "outputs": [
    {
     "data": {
      "text/html": [
       "<div>\n",
       "<style scoped>\n",
       "    .dataframe tbody tr th:only-of-type {\n",
       "        vertical-align: middle;\n",
       "    }\n",
       "\n",
       "    .dataframe tbody tr th {\n",
       "        vertical-align: top;\n",
       "    }\n",
       "\n",
       "    .dataframe thead th {\n",
       "        text-align: right;\n",
       "    }\n",
       "</style>\n",
       "<table border=\"1\" class=\"dataframe\">\n",
       "  <thead>\n",
       "    <tr style=\"text-align: right;\">\n",
       "      <th></th>\n",
       "      <th>pclass</th>\n",
       "      <th>survived</th>\n",
       "      <th>name</th>\n",
       "      <th>gender</th>\n",
       "      <th>age</th>\n",
       "      <th>sibsp</th>\n",
       "      <th>parch</th>\n",
       "      <th>ticket</th>\n",
       "      <th>fare</th>\n",
       "      <th>cabin</th>\n",
       "      <th>embarked</th>\n",
       "    </tr>\n",
       "  </thead>\n",
       "  <tbody>\n",
       "    <tr>\n",
       "      <th>0</th>\n",
       "      <td>1</td>\n",
       "      <td>True</td>\n",
       "      <td>Allen, Miss. Elisabeth Walton</td>\n",
       "      <td>female</td>\n",
       "      <td>29.0000</td>\n",
       "      <td>0</td>\n",
       "      <td>0</td>\n",
       "      <td>24160</td>\n",
       "      <td>211.3375</td>\n",
       "      <td>B5</td>\n",
       "      <td>S</td>\n",
       "    </tr>\n",
       "    <tr>\n",
       "      <th>1</th>\n",
       "      <td>1</td>\n",
       "      <td>True</td>\n",
       "      <td>Allison, Master. Hudson Trevor</td>\n",
       "      <td>male</td>\n",
       "      <td>0.9167</td>\n",
       "      <td>1</td>\n",
       "      <td>2</td>\n",
       "      <td>113781</td>\n",
       "      <td>151.5500</td>\n",
       "      <td>C22 C26</td>\n",
       "      <td>S</td>\n",
       "    </tr>\n",
       "    <tr>\n",
       "      <th>2</th>\n",
       "      <td>1</td>\n",
       "      <td>False</td>\n",
       "      <td>Allison, Miss. Helen Loraine</td>\n",
       "      <td>female</td>\n",
       "      <td>2.0000</td>\n",
       "      <td>1</td>\n",
       "      <td>2</td>\n",
       "      <td>113781</td>\n",
       "      <td>151.5500</td>\n",
       "      <td>C22 C26</td>\n",
       "      <td>S</td>\n",
       "    </tr>\n",
       "    <tr>\n",
       "      <th>3</th>\n",
       "      <td>1</td>\n",
       "      <td>False</td>\n",
       "      <td>Allison, Mr. Hudson Joshua Creighton</td>\n",
       "      <td>male</td>\n",
       "      <td>30.0000</td>\n",
       "      <td>1</td>\n",
       "      <td>2</td>\n",
       "      <td>113781</td>\n",
       "      <td>151.5500</td>\n",
       "      <td>C22 C26</td>\n",
       "      <td>S</td>\n",
       "    </tr>\n",
       "    <tr>\n",
       "      <th>4</th>\n",
       "      <td>1</td>\n",
       "      <td>False</td>\n",
       "      <td>Allison, Mrs. Hudson J C (Bessie Waldo Daniels)</td>\n",
       "      <td>female</td>\n",
       "      <td>25.0000</td>\n",
       "      <td>1</td>\n",
       "      <td>2</td>\n",
       "      <td>113781</td>\n",
       "      <td>151.5500</td>\n",
       "      <td>C22 C26</td>\n",
       "      <td>S</td>\n",
       "    </tr>\n",
       "    <tr>\n",
       "      <th>5</th>\n",
       "      <td>1</td>\n",
       "      <td>True</td>\n",
       "      <td>Anderson, Mr. Harry</td>\n",
       "      <td>male</td>\n",
       "      <td>48.0000</td>\n",
       "      <td>0</td>\n",
       "      <td>0</td>\n",
       "      <td>19952</td>\n",
       "      <td>26.5500</td>\n",
       "      <td>E12</td>\n",
       "      <td>S</td>\n",
       "    </tr>\n",
       "    <tr>\n",
       "      <th>6</th>\n",
       "      <td>1</td>\n",
       "      <td>True</td>\n",
       "      <td>Andrews, Miss. Kornelia Theodosia</td>\n",
       "      <td>female</td>\n",
       "      <td>63.0000</td>\n",
       "      <td>1</td>\n",
       "      <td>0</td>\n",
       "      <td>13502</td>\n",
       "      <td>77.9583</td>\n",
       "      <td>D7</td>\n",
       "      <td>S</td>\n",
       "    </tr>\n",
       "    <tr>\n",
       "      <th>7</th>\n",
       "      <td>1</td>\n",
       "      <td>False</td>\n",
       "      <td>Andrews, Mr. Thomas Jr</td>\n",
       "      <td>male</td>\n",
       "      <td>39.0000</td>\n",
       "      <td>0</td>\n",
       "      <td>0</td>\n",
       "      <td>112050</td>\n",
       "      <td>0.0000</td>\n",
       "      <td>A36</td>\n",
       "      <td>S</td>\n",
       "    </tr>\n",
       "    <tr>\n",
       "      <th>8</th>\n",
       "      <td>1</td>\n",
       "      <td>True</td>\n",
       "      <td>Appleton, Mrs. Edward Dale (Charlotte Lamson)</td>\n",
       "      <td>female</td>\n",
       "      <td>53.0000</td>\n",
       "      <td>2</td>\n",
       "      <td>0</td>\n",
       "      <td>11769</td>\n",
       "      <td>51.4792</td>\n",
       "      <td>C101</td>\n",
       "      <td>S</td>\n",
       "    </tr>\n",
       "    <tr>\n",
       "      <th>9</th>\n",
       "      <td>1</td>\n",
       "      <td>False</td>\n",
       "      <td>Artagaveytia, Mr. Ramon</td>\n",
       "      <td>male</td>\n",
       "      <td>71.0000</td>\n",
       "      <td>0</td>\n",
       "      <td>0</td>\n",
       "      <td>PC 17609</td>\n",
       "      <td>49.5042</td>\n",
       "      <td>NaN</td>\n",
       "      <td>C</td>\n",
       "    </tr>\n",
       "  </tbody>\n",
       "</table>\n",
       "</div>"
      ],
      "text/plain": [
       "   pclass  survived                                             name  gender  \\\n",
       "0       1      True                    Allen, Miss. Elisabeth Walton  female   \n",
       "1       1      True                   Allison, Master. Hudson Trevor    male   \n",
       "2       1     False                     Allison, Miss. Helen Loraine  female   \n",
       "3       1     False             Allison, Mr. Hudson Joshua Creighton    male   \n",
       "4       1     False  Allison, Mrs. Hudson J C (Bessie Waldo Daniels)  female   \n",
       "5       1      True                              Anderson, Mr. Harry    male   \n",
       "6       1      True                Andrews, Miss. Kornelia Theodosia  female   \n",
       "7       1     False                           Andrews, Mr. Thomas Jr    male   \n",
       "8       1      True    Appleton, Mrs. Edward Dale (Charlotte Lamson)  female   \n",
       "9       1     False                          Artagaveytia, Mr. Ramon    male   \n",
       "\n",
       "       age  sibsp  parch    ticket      fare    cabin embarked  \n",
       "0  29.0000      0      0     24160  211.3375       B5        S  \n",
       "1   0.9167      1      2    113781  151.5500  C22 C26        S  \n",
       "2   2.0000      1      2    113781  151.5500  C22 C26        S  \n",
       "3  30.0000      1      2    113781  151.5500  C22 C26        S  \n",
       "4  25.0000      1      2    113781  151.5500  C22 C26        S  \n",
       "5  48.0000      0      0     19952   26.5500      E12        S  \n",
       "6  63.0000      1      0     13502   77.9583       D7        S  \n",
       "7  39.0000      0      0    112050    0.0000      A36        S  \n",
       "8  53.0000      2      0     11769   51.4792     C101        S  \n",
       "9  71.0000      0      0  PC 17609   49.5042      NaN        C  "
      ]
     },
     "execution_count": 12,
     "metadata": {},
     "output_type": "execute_result"
    }
   ],
   "source": [
    "dataset.head(10)"
   ]
  },
  {
   "cell_type": "code",
   "execution_count": 13,
   "metadata": {
    "ExecuteTime": {
     "end_time": "2019-07-19T12:27:12.203205Z",
     "start_time": "2019-07-19T12:27:11.935552Z"
    }
   },
   "outputs": [
    {
     "data": {
      "text/plain": [
       "<matplotlib.axes._subplots.AxesSubplot at 0x11dfa1e80>"
      ]
     },
     "execution_count": 13,
     "metadata": {},
     "output_type": "execute_result"
    },
    {
     "data": {
      "image/png": "[encoded data removed]",
      "text/plain": [
       "<Figure size 720x360 with 1 Axes>"
      ]
     },
     "metadata": {
      "needs_background": "light"
     },
     "output_type": "display_data"
    }
   ],
   "source": [
    "plt.figure(figsize=(10,5))\n",
    "dataset.groupby([\"survived\"]).size().plot.bar()"
   ]
  },
  {
   "cell_type": "code",
   "execution_count": 14,
   "metadata": {
    "ExecuteTime": {
     "end_time": "2019-07-19T12:27:12.749488Z",
     "start_time": "2019-07-19T12:27:12.406722Z"
    }
   },
   "outputs": [
    {
     "data": {
      "text/plain": [
       "<matplotlib.axes._subplots.AxesSubplot at 0x11e09df60>"
      ]
     },
     "execution_count": 14,
     "metadata": {},
     "output_type": "execute_result"
    },
    {
     "data": {
      "image/png": "[encoded data removed]",
      "text/plain": [
       "<Figure size 720x360 with 1 Axes>"
      ]
     },
     "metadata": {
      "needs_background": "light"
     },
     "output_type": "display_data"
    }
   ],
   "source": [
    "plt.figure(figsize=(10,5))\n",
    "dataset.age.plot.hist(bins=30)"
   ]
  },
  {
   "cell_type": "code",
   "execution_count": 15,
   "metadata": {
    "ExecuteTime": {
     "end_time": "2019-07-19T12:27:13.594791Z",
     "start_time": "2019-07-19T12:27:13.049836Z"
    }
   },
   "outputs": [
    {
     "data": {
      "text/plain": [
       "<matplotlib.axes._subplots.AxesSubplot at 0x11e2d6f60>"
      ]
     },
     "execution_count": 15,
     "metadata": {},
     "output_type": "execute_result"
    },
    {
     "data": {
      "image/png": "[encoded data removed]",
      "text/plain": [
       "<Figure size 1440x360 with 1 Axes>"
      ]
     },
     "metadata": {
      "needs_background": "light"
     },
     "output_type": "display_data"
    }
   ],
   "source": [
    "plt.figure(figsize=(20,5))\n",
    "dataset.fare.plot.hist(bins=100)"
   ]
  },
  {
   "cell_type": "code",
   "execution_count": 16,
   "metadata": {
    "ExecuteTime": {
     "end_time": "2019-07-19T12:27:13.601809Z",
     "start_time": "2019-07-19T12:27:13.596930Z"
    }
   },
   "outputs": [
    {
     "name": "stdout",
     "output_type": "stream",
     "text": [
      "fare mean 33.29547928134557, fare median 14.4542\n"
     ]
    }
   ],
   "source": [
    "print(f\"fare mean {dataset.fare.mean()}, fare median {dataset.fare.median()}\")"
   ]
  },
  {
   "cell_type": "markdown",
   "metadata": {},
   "source": [
    "## Decision Tree Classifier"
   ]
  },
  {
   "cell_type": "markdown",
   "metadata": {
    "ExecuteTime": {
     "end_time": "2019-07-11T16:17:14.069607Z",
     "start_time": "2019-07-11T16:17:13.938968Z"
    }
   },
   "source": [
    "A Decision Tree is simple a tree of decisions ! <br>\n",
    "The tree is build based on the data and an algorithm([ID3, C4.5, CART](https://scikit-learn.org/stable/modules/tree.html#tree-algorithms-id3-c4-5-c5-0-and-cart)) <br>\n",
    "\n",
    "Most of ML libraries implement Decision Trees. Take a look at Sklearn implementations for [classification](https://scikit-learn.org/stable/modules/generated/sklearn.tree.DecisionTreeClassifier.html#sklearn.tree.DecisionTreeClassifier) and for [regression](https://scikit-learn.org/stable/modules/generated/sklearn.tree.DecisionTreeRegressor.html#sklearn.tree.DecisionTreeRegressor)\n",
    "\n",
    "\n",
    "<img src='https://raw.githubusercontent.com/tlapusan/tree_based_models_workshop/master/resources/images/decision_tree_sample_2.png' />"
   ]
  },
  {
   "cell_type": "markdown",
   "metadata": {},
   "source": [
    "\n",
    "\n",
    "Main advantages of DecisionTree :\n",
    "- can be used for both classification and regression\n",
    "- don't require too much feature enginner\n",
    "- they are interpretable\n",
    "- they have pretty good results\n",
    "- easy to learn and understand\n",
    "- they are the base for other performant models, like RandomForest, XGBoost.\n"
   ]
  },
  {
   "cell_type": "markdown",
   "metadata": {},
   "source": [
    "### Feature selection\n",
    "\n",
    "A machine learning algorithm understand a dataset using its features (X) and target variable (y) ! <br>\n",
    "Features are the input properties from the dataset, on which the model is trained to make good predictions for target variable. <br>"
   ]
  },
  {
   "cell_type": "code",
   "execution_count": 17,
   "metadata": {
    "ExecuteTime": {
     "end_time": "2019-07-19T12:27:16.371687Z",
     "start_time": "2019-07-19T12:27:16.355670Z"
    }
   },
   "outputs": [
    {
     "data": {
      "text/html": [
       "<div>\n",
       "<style scoped>\n",
       "    .dataframe tbody tr th:only-of-type {\n",
       "        vertical-align: middle;\n",
       "    }\n",
       "\n",
       "    .dataframe tbody tr th {\n",
       "        vertical-align: top;\n",
       "    }\n",
       "\n",
       "    .dataframe thead th {\n",
       "        text-align: right;\n",
       "    }\n",
       "</style>\n",
       "<table border=\"1\" class=\"dataframe\">\n",
       "  <thead>\n",
       "    <tr style=\"text-align: right;\">\n",
       "      <th></th>\n",
       "      <th>pclass</th>\n",
       "      <th>survived</th>\n",
       "      <th>name</th>\n",
       "      <th>gender</th>\n",
       "      <th>age</th>\n",
       "      <th>sibsp</th>\n",
       "      <th>parch</th>\n",
       "      <th>ticket</th>\n",
       "      <th>fare</th>\n",
       "      <th>cabin</th>\n",
       "      <th>embarked</th>\n",
       "    </tr>\n",
       "  </thead>\n",
       "  <tbody>\n",
       "    <tr>\n",
       "      <th>0</th>\n",
       "      <td>1</td>\n",
       "      <td>True</td>\n",
       "      <td>Allen, Miss. Elisabeth Walton</td>\n",
       "      <td>female</td>\n",
       "      <td>29.0000</td>\n",
       "      <td>0</td>\n",
       "      <td>0</td>\n",
       "      <td>24160</td>\n",
       "      <td>211.3375</td>\n",
       "      <td>B5</td>\n",
       "      <td>S</td>\n",
       "    </tr>\n",
       "    <tr>\n",
       "      <th>1</th>\n",
       "      <td>1</td>\n",
       "      <td>True</td>\n",
       "      <td>Allison, Master. Hudson Trevor</td>\n",
       "      <td>male</td>\n",
       "      <td>0.9167</td>\n",
       "      <td>1</td>\n",
       "      <td>2</td>\n",
       "      <td>113781</td>\n",
       "      <td>151.5500</td>\n",
       "      <td>C22 C26</td>\n",
       "      <td>S</td>\n",
       "    </tr>\n",
       "    <tr>\n",
       "      <th>2</th>\n",
       "      <td>1</td>\n",
       "      <td>False</td>\n",
       "      <td>Allison, Miss. Helen Loraine</td>\n",
       "      <td>female</td>\n",
       "      <td>2.0000</td>\n",
       "      <td>1</td>\n",
       "      <td>2</td>\n",
       "      <td>113781</td>\n",
       "      <td>151.5500</td>\n",
       "      <td>C22 C26</td>\n",
       "      <td>S</td>\n",
       "    </tr>\n",
       "    <tr>\n",
       "      <th>3</th>\n",
       "      <td>1</td>\n",
       "      <td>False</td>\n",
       "      <td>Allison, Mr. Hudson Joshua Creighton</td>\n",
       "      <td>male</td>\n",
       "      <td>30.0000</td>\n",
       "      <td>1</td>\n",
       "      <td>2</td>\n",
       "      <td>113781</td>\n",
       "      <td>151.5500</td>\n",
       "      <td>C22 C26</td>\n",
       "      <td>S</td>\n",
       "    </tr>\n",
       "    <tr>\n",
       "      <th>4</th>\n",
       "      <td>1</td>\n",
       "      <td>False</td>\n",
       "      <td>Allison, Mrs. Hudson J C (Bessie Waldo Daniels)</td>\n",
       "      <td>female</td>\n",
       "      <td>25.0000</td>\n",
       "      <td>1</td>\n",
       "      <td>2</td>\n",
       "      <td>113781</td>\n",
       "      <td>151.5500</td>\n",
       "      <td>C22 C26</td>\n",
       "      <td>S</td>\n",
       "    </tr>\n",
       "  </tbody>\n",
       "</table>\n",
       "</div>"
      ],
      "text/plain": [
       "   pclass  survived                                             name  gender  \\\n",
       "0       1      True                    Allen, Miss. Elisabeth Walton  female   \n",
       "1       1      True                   Allison, Master. Hudson Trevor    male   \n",
       "2       1     False                     Allison, Miss. Helen Loraine  female   \n",
       "3       1     False             Allison, Mr. Hudson Joshua Creighton    male   \n",
       "4       1     False  Allison, Mrs. Hudson J C (Bessie Waldo Daniels)  female   \n",
       "\n",
       "       age  sibsp  parch  ticket      fare    cabin embarked  \n",
       "0  29.0000      0      0   24160  211.3375       B5        S  \n",
       "1   0.9167      1      2  113781  151.5500  C22 C26        S  \n",
       "2   2.0000      1      2  113781  151.5500  C22 C26        S  \n",
       "3  30.0000      1      2  113781  151.5500  C22 C26        S  \n",
       "4  25.0000      1      2  113781  151.5500  C22 C26        S  "
      ]
     },
     "execution_count": 17,
     "metadata": {},
     "output_type": "execute_result"
    }
   ],
   "source": [
    "dataset.head(5)"
   ]
  },
  {
   "cell_type": "code",
   "execution_count": 18,
   "metadata": {
    "ExecuteTime": {
     "end_time": "2019-07-19T12:27:16.959093Z",
     "start_time": "2019-07-19T12:27:16.955755Z"
    }
   },
   "outputs": [],
   "source": [
    "feature_set_v1 = [\"pclass\", \"gender\", \"age\", \"sibsp\", \"parch\", \"ticket\", \"fare\", \"cabin\", \"embarked\"]\n",
    "target = \"survived\""
   ]
  },
  {
   "cell_type": "code",
   "execution_count": 19,
   "metadata": {
    "ExecuteTime": {
     "end_time": "2019-07-19T12:27:17.570407Z",
     "start_time": "2019-07-19T12:27:17.554479Z"
    }
   },
   "outputs": [
    {
     "data": {
      "text/html": [
       "<div>\n",
       "<style scoped>\n",
       "    .dataframe tbody tr th:only-of-type {\n",
       "        vertical-align: middle;\n",
       "    }\n",
       "\n",
       "    .dataframe tbody tr th {\n",
       "        vertical-align: top;\n",
       "    }\n",
       "\n",
       "    .dataframe thead th {\n",
       "        text-align: right;\n",
       "    }\n",
       "</style>\n",
       "<table border=\"1\" class=\"dataframe\">\n",
       "  <thead>\n",
       "    <tr style=\"text-align: right;\">\n",
       "      <th></th>\n",
       "      <th>pclass</th>\n",
       "      <th>gender</th>\n",
       "      <th>age</th>\n",
       "      <th>sibsp</th>\n",
       "      <th>parch</th>\n",
       "      <th>ticket</th>\n",
       "      <th>fare</th>\n",
       "      <th>cabin</th>\n",
       "      <th>embarked</th>\n",
       "      <th>survived</th>\n",
       "    </tr>\n",
       "  </thead>\n",
       "  <tbody>\n",
       "    <tr>\n",
       "      <th>0</th>\n",
       "      <td>1</td>\n",
       "      <td>female</td>\n",
       "      <td>29.0000</td>\n",
       "      <td>0</td>\n",
       "      <td>0</td>\n",
       "      <td>24160</td>\n",
       "      <td>211.3375</td>\n",
       "      <td>B5</td>\n",
       "      <td>S</td>\n",
       "      <td>True</td>\n",
       "    </tr>\n",
       "    <tr>\n",
       "      <th>1</th>\n",
       "      <td>1</td>\n",
       "      <td>male</td>\n",
       "      <td>0.9167</td>\n",
       "      <td>1</td>\n",
       "      <td>2</td>\n",
       "      <td>113781</td>\n",
       "      <td>151.5500</td>\n",
       "      <td>C22 C26</td>\n",
       "      <td>S</td>\n",
       "      <td>True</td>\n",
       "    </tr>\n",
       "    <tr>\n",
       "      <th>2</th>\n",
       "      <td>1</td>\n",
       "      <td>female</td>\n",
       "      <td>2.0000</td>\n",
       "      <td>1</td>\n",
       "      <td>2</td>\n",
       "      <td>113781</td>\n",
       "      <td>151.5500</td>\n",
       "      <td>C22 C26</td>\n",
       "      <td>S</td>\n",
       "      <td>False</td>\n",
       "    </tr>\n",
       "  </tbody>\n",
       "</table>\n",
       "</div>"
      ],
      "text/plain": [
       "   pclass  gender      age  sibsp  parch  ticket      fare    cabin embarked  \\\n",
       "0       1  female  29.0000      0      0   24160  211.3375       B5        S   \n",
       "1       1    male   0.9167      1      2  113781  151.5500  C22 C26        S   \n",
       "2       1  female   2.0000      1      2  113781  151.5500  C22 C26        S   \n",
       "\n",
       "   survived  \n",
       "0      True  \n",
       "1      True  \n",
       "2     False  "
      ]
     },
     "execution_count": 19,
     "metadata": {},
     "output_type": "execute_result"
    }
   ],
   "source": [
    "dataset[feature_set_v1 + [target]].head(3)"
   ]
  },
  {
   "cell_type": "markdown",
   "metadata": {},
   "source": [
    "### Initializing and training a DecisionTreeClassifier"
   ]
  },
  {
   "cell_type": "code",
   "execution_count": 20,
   "metadata": {
    "ExecuteTime": {
     "end_time": "2019-07-19T12:27:24.215025Z",
     "start_time": "2019-07-19T12:27:24.212138Z"
    }
   },
   "outputs": [],
   "source": [
    "dt = DecisionTreeClassifier(max_depth=10)"
   ]
  },
  {
   "cell_type": "code",
   "execution_count": 21,
   "metadata": {
    "ExecuteTime": {
     "end_time": "2019-07-19T12:27:25.291481Z",
     "start_time": "2019-07-19T12:27:24.800231Z"
    }
   },
   "outputs": [
    {
     "ename": "ValueError",
     "evalue": "could not convert string to float: 'female'",
     "output_type": "error",
     "traceback": [
      "\u001b[0;31m---------------------------------------------------------------------------\u001b[0m",
      "\u001b[0;31mValueError\u001b[0m                                Traceback (most recent call last)",
      "\u001b[0;32m<ipython-input-21-78adfb8ce574>\u001b[0m in \u001b[0;36m<module>\u001b[0;34m\u001b[0m\n\u001b[0;32m----> 1\u001b[0;31m \u001b[0mdt\u001b[0m\u001b[0;34m.\u001b[0m\u001b[0mfit\u001b[0m\u001b[0;34m(\u001b[0m\u001b[0mdataset\u001b[0m\u001b[0;34m[\u001b[0m\u001b[0mfeature_set_v1\u001b[0m\u001b[0;34m]\u001b[0m\u001b[0;34m,\u001b[0m \u001b[0mdataset\u001b[0m\u001b[0;34m[\u001b[0m\u001b[0mtarget\u001b[0m\u001b[0;34m]\u001b[0m\u001b[0;34m)\u001b[0m\u001b[0;34m\u001b[0m\u001b[0m\n\u001b[0m",
      "\u001b[0;32m~/Documents/workspaces/ml/workshops/tree_based_models_workshop/venv/lib/python3.7/site-packages/sklearn/tree/tree.py\u001b[0m in \u001b[0;36mfit\u001b[0;34m(self, X, y, sample_weight, check_input, X_idx_sorted)\u001b[0m\n\u001b[1;32m    814\u001b[0m             \u001b[0msample_weight\u001b[0m\u001b[0;34m=\u001b[0m\u001b[0msample_weight\u001b[0m\u001b[0;34m,\u001b[0m\u001b[0;34m\u001b[0m\u001b[0m\n\u001b[1;32m    815\u001b[0m             \u001b[0mcheck_input\u001b[0m\u001b[0;34m=\u001b[0m\u001b[0mcheck_input\u001b[0m\u001b[0;34m,\u001b[0m\u001b[0;34m\u001b[0m\u001b[0m\n\u001b[0;32m--> 816\u001b[0;31m             X_idx_sorted=X_idx_sorted)\n\u001b[0m\u001b[1;32m    817\u001b[0m         \u001b[0;32mreturn\u001b[0m \u001b[0mself\u001b[0m\u001b[0;34m\u001b[0m\u001b[0m\n\u001b[1;32m    818\u001b[0m \u001b[0;34m\u001b[0m\u001b[0m\n",
      "\u001b[0;32m~/Documents/workspaces/ml/workshops/tree_based_models_workshop/venv/lib/python3.7/site-packages/sklearn/tree/tree.py\u001b[0m in \u001b[0;36mfit\u001b[0;34m(self, X, y, sample_weight, check_input, X_idx_sorted)\u001b[0m\n\u001b[1;32m    128\u001b[0m         \u001b[0mrandom_state\u001b[0m \u001b[0;34m=\u001b[0m \u001b[0mcheck_random_state\u001b[0m\u001b[0;34m(\u001b[0m\u001b[0mself\u001b[0m\u001b[0;34m.\u001b[0m\u001b[0mrandom_state\u001b[0m\u001b[0;34m)\u001b[0m\u001b[0;34m\u001b[0m\u001b[0m\n\u001b[1;32m    129\u001b[0m         \u001b[0;32mif\u001b[0m \u001b[0mcheck_input\u001b[0m\u001b[0;34m:\u001b[0m\u001b[0;34m\u001b[0m\u001b[0m\n\u001b[0;32m--> 130\u001b[0;31m             \u001b[0mX\u001b[0m \u001b[0;34m=\u001b[0m \u001b[0mcheck_array\u001b[0m\u001b[0;34m(\u001b[0m\u001b[0mX\u001b[0m\u001b[0;34m,\u001b[0m \u001b[0mdtype\u001b[0m\u001b[0;34m=\u001b[0m\u001b[0mDTYPE\u001b[0m\u001b[0;34m,\u001b[0m \u001b[0maccept_sparse\u001b[0m\u001b[0;34m=\u001b[0m\u001b[0;34m\"csc\"\u001b[0m\u001b[0;34m)\u001b[0m\u001b[0;34m\u001b[0m\u001b[0m\n\u001b[0m\u001b[1;32m    131\u001b[0m             \u001b[0my\u001b[0m \u001b[0;34m=\u001b[0m \u001b[0mcheck_array\u001b[0m\u001b[0;34m(\u001b[0m\u001b[0my\u001b[0m\u001b[0;34m,\u001b[0m \u001b[0mensure_2d\u001b[0m\u001b[0;34m=\u001b[0m\u001b[0;32mFalse\u001b[0m\u001b[0;34m,\u001b[0m \u001b[0mdtype\u001b[0m\u001b[0;34m=\u001b[0m\u001b[0;32mNone\u001b[0m\u001b[0;34m)\u001b[0m\u001b[0;34m\u001b[0m\u001b[0m\n\u001b[1;32m    132\u001b[0m             \u001b[0;32mif\u001b[0m \u001b[0missparse\u001b[0m\u001b[0;34m(\u001b[0m\u001b[0mX\u001b[0m\u001b[0;34m)\u001b[0m\u001b[0;34m:\u001b[0m\u001b[0;34m\u001b[0m\u001b[0m\n",
      "\u001b[0;32m~/Documents/workspaces/ml/workshops/tree_based_models_workshop/venv/lib/python3.7/site-packages/sklearn/utils/validation.py\u001b[0m in \u001b[0;36mcheck_array\u001b[0;34m(array, accept_sparse, accept_large_sparse, dtype, order, copy, force_all_finite, ensure_2d, allow_nd, ensure_min_samples, ensure_min_features, warn_on_dtype, estimator)\u001b[0m\n\u001b[1;32m    494\u001b[0m             \u001b[0;32mtry\u001b[0m\u001b[0;34m:\u001b[0m\u001b[0;34m\u001b[0m\u001b[0m\n\u001b[1;32m    495\u001b[0m                 \u001b[0mwarnings\u001b[0m\u001b[0;34m.\u001b[0m\u001b[0msimplefilter\u001b[0m\u001b[0;34m(\u001b[0m\u001b[0;34m'error'\u001b[0m\u001b[0;34m,\u001b[0m \u001b[0mComplexWarning\u001b[0m\u001b[0;34m)\u001b[0m\u001b[0;34m\u001b[0m\u001b[0m\n\u001b[0;32m--> 496\u001b[0;31m                 \u001b[0marray\u001b[0m \u001b[0;34m=\u001b[0m \u001b[0mnp\u001b[0m\u001b[0;34m.\u001b[0m\u001b[0masarray\u001b[0m\u001b[0;34m(\u001b[0m\u001b[0marray\u001b[0m\u001b[0;34m,\u001b[0m \u001b[0mdtype\u001b[0m\u001b[0;34m=\u001b[0m\u001b[0mdtype\u001b[0m\u001b[0;34m,\u001b[0m \u001b[0morder\u001b[0m\u001b[0;34m=\u001b[0m\u001b[0morder\u001b[0m\u001b[0;34m)\u001b[0m\u001b[0;34m\u001b[0m\u001b[0m\n\u001b[0m\u001b[1;32m    497\u001b[0m             \u001b[0;32mexcept\u001b[0m \u001b[0mComplexWarning\u001b[0m\u001b[0;34m:\u001b[0m\u001b[0;34m\u001b[0m\u001b[0m\n\u001b[1;32m    498\u001b[0m                 raise ValueError(\"Complex data not supported\\n\"\n",
      "\u001b[0;32m~/Documents/workspaces/ml/workshops/tree_based_models_workshop/venv/lib/python3.7/site-packages/numpy/core/numeric.py\u001b[0m in \u001b[0;36masarray\u001b[0;34m(a, dtype, order)\u001b[0m\n\u001b[1;32m    536\u001b[0m \u001b[0;34m\u001b[0m\u001b[0m\n\u001b[1;32m    537\u001b[0m     \"\"\"\n\u001b[0;32m--> 538\u001b[0;31m     \u001b[0;32mreturn\u001b[0m \u001b[0marray\u001b[0m\u001b[0;34m(\u001b[0m\u001b[0ma\u001b[0m\u001b[0;34m,\u001b[0m \u001b[0mdtype\u001b[0m\u001b[0;34m,\u001b[0m \u001b[0mcopy\u001b[0m\u001b[0;34m=\u001b[0m\u001b[0;32mFalse\u001b[0m\u001b[0;34m,\u001b[0m \u001b[0morder\u001b[0m\u001b[0;34m=\u001b[0m\u001b[0morder\u001b[0m\u001b[0;34m)\u001b[0m\u001b[0;34m\u001b[0m\u001b[0m\n\u001b[0m\u001b[1;32m    539\u001b[0m \u001b[0;34m\u001b[0m\u001b[0m\n\u001b[1;32m    540\u001b[0m \u001b[0;34m\u001b[0m\u001b[0m\n",
      "\u001b[0;31mValueError\u001b[0m: could not convert string to float: 'female'"
     ]
    }
   ],
   "source": [
    "dt.fit(dataset[feature_set_v1], dataset[target])"
   ]
  },
  {
   "cell_type": "markdown",
   "metadata": {},
   "source": [
    "### Feature encoding"
   ]
  },
  {
   "cell_type": "code",
   "execution_count": 22,
   "metadata": {
    "ExecuteTime": {
     "end_time": "2019-07-19T12:27:26.295374Z",
     "start_time": "2019-07-19T12:27:26.279539Z"
    }
   },
   "outputs": [
    {
     "data": {
      "text/html": [
       "<div>\n",
       "<style scoped>\n",
       "    .dataframe tbody tr th:only-of-type {\n",
       "        vertical-align: middle;\n",
       "    }\n",
       "\n",
       "    .dataframe tbody tr th {\n",
       "        vertical-align: top;\n",
       "    }\n",
       "\n",
       "    .dataframe thead th {\n",
       "        text-align: right;\n",
       "    }\n",
       "</style>\n",
       "<table border=\"1\" class=\"dataframe\">\n",
       "  <thead>\n",
       "    <tr style=\"text-align: right;\">\n",
       "      <th></th>\n",
       "      <th>pclass</th>\n",
       "      <th>survived</th>\n",
       "      <th>name</th>\n",
       "      <th>gender</th>\n",
       "      <th>age</th>\n",
       "      <th>sibsp</th>\n",
       "      <th>parch</th>\n",
       "      <th>ticket</th>\n",
       "      <th>fare</th>\n",
       "      <th>cabin</th>\n",
       "      <th>embarked</th>\n",
       "    </tr>\n",
       "  </thead>\n",
       "  <tbody>\n",
       "    <tr>\n",
       "      <th>0</th>\n",
       "      <td>1</td>\n",
       "      <td>True</td>\n",
       "      <td>Allen, Miss. Elisabeth Walton</td>\n",
       "      <td>female</td>\n",
       "      <td>29.0000</td>\n",
       "      <td>0</td>\n",
       "      <td>0</td>\n",
       "      <td>24160</td>\n",
       "      <td>211.3375</td>\n",
       "      <td>B5</td>\n",
       "      <td>S</td>\n",
       "    </tr>\n",
       "    <tr>\n",
       "      <th>1</th>\n",
       "      <td>1</td>\n",
       "      <td>True</td>\n",
       "      <td>Allison, Master. Hudson Trevor</td>\n",
       "      <td>male</td>\n",
       "      <td>0.9167</td>\n",
       "      <td>1</td>\n",
       "      <td>2</td>\n",
       "      <td>113781</td>\n",
       "      <td>151.5500</td>\n",
       "      <td>C22 C26</td>\n",
       "      <td>S</td>\n",
       "    </tr>\n",
       "    <tr>\n",
       "      <th>2</th>\n",
       "      <td>1</td>\n",
       "      <td>False</td>\n",
       "      <td>Allison, Miss. Helen Loraine</td>\n",
       "      <td>female</td>\n",
       "      <td>2.0000</td>\n",
       "      <td>1</td>\n",
       "      <td>2</td>\n",
       "      <td>113781</td>\n",
       "      <td>151.5500</td>\n",
       "      <td>C22 C26</td>\n",
       "      <td>S</td>\n",
       "    </tr>\n",
       "    <tr>\n",
       "      <th>3</th>\n",
       "      <td>1</td>\n",
       "      <td>False</td>\n",
       "      <td>Allison, Mr. Hudson Joshua Creighton</td>\n",
       "      <td>male</td>\n",
       "      <td>30.0000</td>\n",
       "      <td>1</td>\n",
       "      <td>2</td>\n",
       "      <td>113781</td>\n",
       "      <td>151.5500</td>\n",
       "      <td>C22 C26</td>\n",
       "      <td>S</td>\n",
       "    </tr>\n",
       "    <tr>\n",
       "      <th>4</th>\n",
       "      <td>1</td>\n",
       "      <td>False</td>\n",
       "      <td>Allison, Mrs. Hudson J C (Bessie Waldo Daniels)</td>\n",
       "      <td>female</td>\n",
       "      <td>25.0000</td>\n",
       "      <td>1</td>\n",
       "      <td>2</td>\n",
       "      <td>113781</td>\n",
       "      <td>151.5500</td>\n",
       "      <td>C22 C26</td>\n",
       "      <td>S</td>\n",
       "    </tr>\n",
       "  </tbody>\n",
       "</table>\n",
       "</div>"
      ],
      "text/plain": [
       "   pclass  survived                                             name  gender  \\\n",
       "0       1      True                    Allen, Miss. Elisabeth Walton  female   \n",
       "1       1      True                   Allison, Master. Hudson Trevor    male   \n",
       "2       1     False                     Allison, Miss. Helen Loraine  female   \n",
       "3       1     False             Allison, Mr. Hudson Joshua Creighton    male   \n",
       "4       1     False  Allison, Mrs. Hudson J C (Bessie Waldo Daniels)  female   \n",
       "\n",
       "       age  sibsp  parch  ticket      fare    cabin embarked  \n",
       "0  29.0000      0      0   24160  211.3375       B5        S  \n",
       "1   0.9167      1      2  113781  151.5500  C22 C26        S  \n",
       "2   2.0000      1      2  113781  151.5500  C22 C26        S  \n",
       "3  30.0000      1      2  113781  151.5500  C22 C26        S  \n",
       "4  25.0000      1      2  113781  151.5500  C22 C26        S  "
      ]
     },
     "execution_count": 22,
     "metadata": {},
     "output_type": "execute_result"
    }
   ],
   "source": [
    "dataset.head(5)"
   ]
  },
  {
   "cell_type": "markdown",
   "metadata": {},
   "source": [
    "In Machine Learning we have two main types of features : <br>\n",
    "- <b>Numerical features </b> <br>\n",
    "    Like age, price, duration\n",
    "- <b>Categorical features</b>\n",
    "    - nominal features <br>\n",
    "    We don't have any logical order for feature values. ex. color, job, weather conditions, \n",
    "    - ordinal features <br>\n",
    "    We have a logical order. ex. education, month, t-shirt size\n",
    "\n",
    "There are many ways to convert a categorical feature into a numerical one, almost each ML related library contains one. <br>\n",
    "\n",
    "One of the most populars are : <br>\n",
    "sklearn : [LabelEncoding](https://scikit-learn.org/stable/modules/generated/sklearn.preprocessing.LabelEncoder.html) <br>\n",
    "pandas : [Categorical data](http://pandas.pydata.org/pandas-docs/stable/user_guide/categorical.html)\n",
    "\n",
    "<br>\n",
    "<b>Pandas categorical data types </b><br>\n",
    "Categorical data types are using integer values  to represent the raw values from a column. <br>\n",
    "Behind, pandas is using a dictionary to keep all the mappings between integer values and raw values. Beside encoding functionality, categorical values can be used for memory saving.\n",
    " \n"
   ]
  },
  {
   "cell_type": "code",
   "execution_count": 23,
   "metadata": {
    "ExecuteTime": {
     "end_time": "2019-07-19T12:27:27.776109Z",
     "start_time": "2019-07-19T12:27:27.765852Z"
    },
    "scrolled": true
   },
   "outputs": [
    {
     "data": {
      "text/plain": [
       "0       female\n",
       "1         male\n",
       "2       female\n",
       "3         male\n",
       "4       female\n",
       "5         male\n",
       "6       female\n",
       "7         male\n",
       "8       female\n",
       "9         male\n",
       "10        male\n",
       "11      female\n",
       "12      female\n",
       "13      female\n",
       "14        male\n",
       "15        male\n",
       "16        male\n",
       "17      female\n",
       "18      female\n",
       "19        male\n",
       "20        male\n",
       "21      female\n",
       "22        male\n",
       "23      female\n",
       "24      female\n",
       "25        male\n",
       "26        male\n",
       "27      female\n",
       "28      female\n",
       "29        male\n",
       "         ...  \n",
       "1279    female\n",
       "1280      male\n",
       "1281      male\n",
       "1282      male\n",
       "1283      male\n",
       "1284      male\n",
       "1285      male\n",
       "1286    female\n",
       "1287      male\n",
       "1288      male\n",
       "1289      male\n",
       "1290    female\n",
       "1291      male\n",
       "1292      male\n",
       "1293      male\n",
       "1294      male\n",
       "1295      male\n",
       "1296      male\n",
       "1297      male\n",
       "1298      male\n",
       "1299      male\n",
       "1300    female\n",
       "1301      male\n",
       "1302      male\n",
       "1303      male\n",
       "1304    female\n",
       "1305    female\n",
       "1306      male\n",
       "1307      male\n",
       "1308      male\n",
       "Name: gender, Length: 1309, dtype: category\n",
       "Categories (2, object): [female, male]"
      ]
     },
     "execution_count": 23,
     "metadata": {},
     "output_type": "execute_result"
    }
   ],
   "source": [
    "# convert a string type to categorical type\n",
    "dataset.gender.astype(\"category\")"
   ]
  },
  {
   "cell_type": "code",
   "execution_count": 24,
   "metadata": {
    "ExecuteTime": {
     "end_time": "2019-07-19T12:27:29.015032Z",
     "start_time": "2019-07-19T12:27:29.007833Z"
    },
    "scrolled": true
   },
   "outputs": [
    {
     "data": {
      "text/plain": [
       "0       0\n",
       "1       1\n",
       "2       0\n",
       "3       1\n",
       "4       0\n",
       "5       1\n",
       "6       0\n",
       "7       1\n",
       "8       0\n",
       "9       1\n",
       "10      1\n",
       "11      0\n",
       "12      0\n",
       "13      0\n",
       "14      1\n",
       "15      1\n",
       "16      1\n",
       "17      0\n",
       "18      0\n",
       "19      1\n",
       "20      1\n",
       "21      0\n",
       "22      1\n",
       "23      0\n",
       "24      0\n",
       "25      1\n",
       "26      1\n",
       "27      0\n",
       "28      0\n",
       "29      1\n",
       "       ..\n",
       "1279    0\n",
       "1280    1\n",
       "1281    1\n",
       "1282    1\n",
       "1283    1\n",
       "1284    1\n",
       "1285    1\n",
       "1286    0\n",
       "1287    1\n",
       "1288    1\n",
       "1289    1\n",
       "1290    0\n",
       "1291    1\n",
       "1292    1\n",
       "1293    1\n",
       "1294    1\n",
       "1295    1\n",
       "1296    1\n",
       "1297    1\n",
       "1298    1\n",
       "1299    1\n",
       "1300    0\n",
       "1301    1\n",
       "1302    1\n",
       "1303    1\n",
       "1304    0\n",
       "1305    0\n",
       "1306    1\n",
       "1307    1\n",
       "1308    1\n",
       "Length: 1309, dtype: int8"
      ]
     },
     "execution_count": 24,
     "metadata": {},
     "output_type": "execute_result"
    }
   ],
   "source": [
    "dataset.gender.astype(\"category\").cat.codes"
   ]
  },
  {
   "cell_type": "code",
   "execution_count": 25,
   "metadata": {
    "ExecuteTime": {
     "end_time": "2019-07-19T12:27:29.672975Z",
     "start_time": "2019-07-19T12:27:29.668483Z"
    }
   },
   "outputs": [],
   "source": [
    "def encode_columns_as_categories(_dataset, _column_set):\n",
    "    for column in _column_set:\n",
    "        if dataset[column].isna().any():\n",
    "            dataset[f\"{column}_missing\"] = dataset[column].isna()\n",
    "            \n",
    "        _dataset[f\"{column}_cat\"] = _dataset[column].astype(\"category\").cat.codes"
   ]
  },
  {
   "cell_type": "code",
   "execution_count": 26,
   "metadata": {
    "ExecuteTime": {
     "end_time": "2019-07-19T12:27:30.653534Z",
     "start_time": "2019-07-19T12:27:30.640043Z"
    }
   },
   "outputs": [],
   "source": [
    "encode_columns_as_categories(dataset, [\"gender\", \"ticket\", \"cabin\", \"embarked\"])"
   ]
  },
  {
   "cell_type": "code",
   "execution_count": 27,
   "metadata": {
    "ExecuteTime": {
     "end_time": "2019-07-19T12:27:31.307555Z",
     "start_time": "2019-07-19T12:27:31.286671Z"
    }
   },
   "outputs": [
    {
     "data": {
      "text/html": [
       "<div>\n",
       "<style scoped>\n",
       "    .dataframe tbody tr th:only-of-type {\n",
       "        vertical-align: middle;\n",
       "    }\n",
       "\n",
       "    .dataframe tbody tr th {\n",
       "        vertical-align: top;\n",
       "    }\n",
       "\n",
       "    .dataframe thead th {\n",
       "        text-align: right;\n",
       "    }\n",
       "</style>\n",
       "<table border=\"1\" class=\"dataframe\">\n",
       "  <thead>\n",
       "    <tr style=\"text-align: right;\">\n",
       "      <th></th>\n",
       "      <th>pclass</th>\n",
       "      <th>survived</th>\n",
       "      <th>name</th>\n",
       "      <th>gender</th>\n",
       "      <th>age</th>\n",
       "      <th>sibsp</th>\n",
       "      <th>parch</th>\n",
       "      <th>ticket</th>\n",
       "      <th>fare</th>\n",
       "      <th>cabin</th>\n",
       "      <th>embarked</th>\n",
       "      <th>gender_cat</th>\n",
       "      <th>ticket_cat</th>\n",
       "      <th>cabin_missing</th>\n",
       "      <th>cabin_cat</th>\n",
       "      <th>embarked_missing</th>\n",
       "      <th>embarked_cat</th>\n",
       "    </tr>\n",
       "  </thead>\n",
       "  <tbody>\n",
       "    <tr>\n",
       "      <th>0</th>\n",
       "      <td>1</td>\n",
       "      <td>True</td>\n",
       "      <td>Allen, Miss. Elisabeth Walton</td>\n",
       "      <td>female</td>\n",
       "      <td>29.0000</td>\n",
       "      <td>0</td>\n",
       "      <td>0</td>\n",
       "      <td>24160</td>\n",
       "      <td>211.3375</td>\n",
       "      <td>B5</td>\n",
       "      <td>S</td>\n",
       "      <td>0</td>\n",
       "      <td>187</td>\n",
       "      <td>False</td>\n",
       "      <td>43</td>\n",
       "      <td>False</td>\n",
       "      <td>2</td>\n",
       "    </tr>\n",
       "    <tr>\n",
       "      <th>1</th>\n",
       "      <td>1</td>\n",
       "      <td>True</td>\n",
       "      <td>Allison, Master. Hudson Trevor</td>\n",
       "      <td>male</td>\n",
       "      <td>0.9167</td>\n",
       "      <td>1</td>\n",
       "      <td>2</td>\n",
       "      <td>113781</td>\n",
       "      <td>151.5500</td>\n",
       "      <td>C22 C26</td>\n",
       "      <td>S</td>\n",
       "      <td>1</td>\n",
       "      <td>49</td>\n",
       "      <td>False</td>\n",
       "      <td>79</td>\n",
       "      <td>False</td>\n",
       "      <td>2</td>\n",
       "    </tr>\n",
       "    <tr>\n",
       "      <th>2</th>\n",
       "      <td>1</td>\n",
       "      <td>False</td>\n",
       "      <td>Allison, Miss. Helen Loraine</td>\n",
       "      <td>female</td>\n",
       "      <td>2.0000</td>\n",
       "      <td>1</td>\n",
       "      <td>2</td>\n",
       "      <td>113781</td>\n",
       "      <td>151.5500</td>\n",
       "      <td>C22 C26</td>\n",
       "      <td>S</td>\n",
       "      <td>0</td>\n",
       "      <td>49</td>\n",
       "      <td>False</td>\n",
       "      <td>79</td>\n",
       "      <td>False</td>\n",
       "      <td>2</td>\n",
       "    </tr>\n",
       "    <tr>\n",
       "      <th>3</th>\n",
       "      <td>1</td>\n",
       "      <td>False</td>\n",
       "      <td>Allison, Mr. Hudson Joshua Creighton</td>\n",
       "      <td>male</td>\n",
       "      <td>30.0000</td>\n",
       "      <td>1</td>\n",
       "      <td>2</td>\n",
       "      <td>113781</td>\n",
       "      <td>151.5500</td>\n",
       "      <td>C22 C26</td>\n",
       "      <td>S</td>\n",
       "      <td>1</td>\n",
       "      <td>49</td>\n",
       "      <td>False</td>\n",
       "      <td>79</td>\n",
       "      <td>False</td>\n",
       "      <td>2</td>\n",
       "    </tr>\n",
       "    <tr>\n",
       "      <th>4</th>\n",
       "      <td>1</td>\n",
       "      <td>False</td>\n",
       "      <td>Allison, Mrs. Hudson J C (Bessie Waldo Daniels)</td>\n",
       "      <td>female</td>\n",
       "      <td>25.0000</td>\n",
       "      <td>1</td>\n",
       "      <td>2</td>\n",
       "      <td>113781</td>\n",
       "      <td>151.5500</td>\n",
       "      <td>C22 C26</td>\n",
       "      <td>S</td>\n",
       "      <td>0</td>\n",
       "      <td>49</td>\n",
       "      <td>False</td>\n",
       "      <td>79</td>\n",
       "      <td>False</td>\n",
       "      <td>2</td>\n",
       "    </tr>\n",
       "  </tbody>\n",
       "</table>\n",
       "</div>"
      ],
      "text/plain": [
       "   pclass  survived                                             name  gender  \\\n",
       "0       1      True                    Allen, Miss. Elisabeth Walton  female   \n",
       "1       1      True                   Allison, Master. Hudson Trevor    male   \n",
       "2       1     False                     Allison, Miss. Helen Loraine  female   \n",
       "3       1     False             Allison, Mr. Hudson Joshua Creighton    male   \n",
       "4       1     False  Allison, Mrs. Hudson J C (Bessie Waldo Daniels)  female   \n",
       "\n",
       "       age  sibsp  parch  ticket      fare    cabin embarked  gender_cat  \\\n",
       "0  29.0000      0      0   24160  211.3375       B5        S           0   \n",
       "1   0.9167      1      2  113781  151.5500  C22 C26        S           1   \n",
       "2   2.0000      1      2  113781  151.5500  C22 C26        S           0   \n",
       "3  30.0000      1      2  113781  151.5500  C22 C26        S           1   \n",
       "4  25.0000      1      2  113781  151.5500  C22 C26        S           0   \n",
       "\n",
       "   ticket_cat  cabin_missing  cabin_cat  embarked_missing  embarked_cat  \n",
       "0         187          False         43             False             2  \n",
       "1          49          False         79             False             2  \n",
       "2          49          False         79             False             2  \n",
       "3          49          False         79             False             2  \n",
       "4          49          False         79             False             2  "
      ]
     },
     "execution_count": 27,
     "metadata": {},
     "output_type": "execute_result"
    }
   ],
   "source": [
    "dataset.head(5)"
   ]
  },
  {
   "cell_type": "code",
   "execution_count": 28,
   "metadata": {
    "ExecuteTime": {
     "end_time": "2019-07-19T12:27:31.835437Z",
     "start_time": "2019-07-19T12:27:31.829715Z"
    }
   },
   "outputs": [
    {
     "data": {
      "text/plain": [
       "pclass                int64\n",
       "survived               bool\n",
       "name                 object\n",
       "gender               object\n",
       "age                 float64\n",
       "sibsp                 int64\n",
       "parch                 int64\n",
       "ticket               object\n",
       "fare                float64\n",
       "cabin                object\n",
       "embarked             object\n",
       "gender_cat             int8\n",
       "ticket_cat            int16\n",
       "cabin_missing          bool\n",
       "cabin_cat             int16\n",
       "embarked_missing       bool\n",
       "embarked_cat           int8\n",
       "dtype: object"
      ]
     },
     "execution_count": 28,
     "metadata": {},
     "output_type": "execute_result"
    }
   ],
   "source": [
    "dataset.dtypes"
   ]
  },
  {
   "cell_type": "code",
   "execution_count": 29,
   "metadata": {
    "ExecuteTime": {
     "end_time": "2019-07-19T12:27:32.532498Z",
     "start_time": "2019-07-19T12:27:32.529086Z"
    }
   },
   "outputs": [],
   "source": [
    "features_v2 = [\"pclass\", \"gender_cat\", \"age\", \"sibsp\", \"parch\", \"ticket_cat\", \"fare\", \"cabin_cat\", \"cabin_missing\", \"embarked_cat\", \"embarked_missing\"]"
   ]
  },
  {
   "cell_type": "code",
   "execution_count": 30,
   "metadata": {
    "ExecuteTime": {
     "end_time": "2019-07-19T12:27:35.561963Z",
     "start_time": "2019-07-19T12:27:35.541707Z"
    }
   },
   "outputs": [
    {
     "ename": "ValueError",
     "evalue": "Input contains NaN, infinity or a value too large for dtype('float32').",
     "output_type": "error",
     "traceback": [
      "\u001b[0;31m---------------------------------------------------------------------------\u001b[0m",
      "\u001b[0;31mValueError\u001b[0m                                Traceback (most recent call last)",
      "\u001b[0;32m<ipython-input-30-90280a2af999>\u001b[0m in \u001b[0;36m<module>\u001b[0;34m\u001b[0m\n\u001b[0;32m----> 1\u001b[0;31m \u001b[0mdt\u001b[0m\u001b[0;34m.\u001b[0m\u001b[0mfit\u001b[0m\u001b[0;34m(\u001b[0m\u001b[0mdataset\u001b[0m\u001b[0;34m[\u001b[0m\u001b[0mfeatures_v2\u001b[0m\u001b[0;34m]\u001b[0m\u001b[0;34m,\u001b[0m \u001b[0mdataset\u001b[0m\u001b[0;34m[\u001b[0m\u001b[0mtarget\u001b[0m\u001b[0;34m]\u001b[0m\u001b[0;34m)\u001b[0m\u001b[0;34m\u001b[0m\u001b[0m\n\u001b[0m",
      "\u001b[0;32m~/Documents/workspaces/ml/workshops/tree_based_models_workshop/venv/lib/python3.7/site-packages/sklearn/tree/tree.py\u001b[0m in \u001b[0;36mfit\u001b[0;34m(self, X, y, sample_weight, check_input, X_idx_sorted)\u001b[0m\n\u001b[1;32m    814\u001b[0m             \u001b[0msample_weight\u001b[0m\u001b[0;34m=\u001b[0m\u001b[0msample_weight\u001b[0m\u001b[0;34m,\u001b[0m\u001b[0;34m\u001b[0m\u001b[0m\n\u001b[1;32m    815\u001b[0m             \u001b[0mcheck_input\u001b[0m\u001b[0;34m=\u001b[0m\u001b[0mcheck_input\u001b[0m\u001b[0;34m,\u001b[0m\u001b[0;34m\u001b[0m\u001b[0m\n\u001b[0;32m--> 816\u001b[0;31m             X_idx_sorted=X_idx_sorted)\n\u001b[0m\u001b[1;32m    817\u001b[0m         \u001b[0;32mreturn\u001b[0m \u001b[0mself\u001b[0m\u001b[0;34m\u001b[0m\u001b[0m\n\u001b[1;32m    818\u001b[0m \u001b[0;34m\u001b[0m\u001b[0m\n",
      "\u001b[0;32m~/Documents/workspaces/ml/workshops/tree_based_models_workshop/venv/lib/python3.7/site-packages/sklearn/tree/tree.py\u001b[0m in \u001b[0;36mfit\u001b[0;34m(self, X, y, sample_weight, check_input, X_idx_sorted)\u001b[0m\n\u001b[1;32m    128\u001b[0m         \u001b[0mrandom_state\u001b[0m \u001b[0;34m=\u001b[0m \u001b[0mcheck_random_state\u001b[0m\u001b[0;34m(\u001b[0m\u001b[0mself\u001b[0m\u001b[0;34m.\u001b[0m\u001b[0mrandom_state\u001b[0m\u001b[0;34m)\u001b[0m\u001b[0;34m\u001b[0m\u001b[0m\n\u001b[1;32m    129\u001b[0m         \u001b[0;32mif\u001b[0m \u001b[0mcheck_input\u001b[0m\u001b[0;34m:\u001b[0m\u001b[0;34m\u001b[0m\u001b[0m\n\u001b[0;32m--> 130\u001b[0;31m             \u001b[0mX\u001b[0m \u001b[0;34m=\u001b[0m \u001b[0mcheck_array\u001b[0m\u001b[0;34m(\u001b[0m\u001b[0mX\u001b[0m\u001b[0;34m,\u001b[0m \u001b[0mdtype\u001b[0m\u001b[0;34m=\u001b[0m\u001b[0mDTYPE\u001b[0m\u001b[0;34m,\u001b[0m \u001b[0maccept_sparse\u001b[0m\u001b[0;34m=\u001b[0m\u001b[0;34m\"csc\"\u001b[0m\u001b[0;34m)\u001b[0m\u001b[0;34m\u001b[0m\u001b[0m\n\u001b[0m\u001b[1;32m    131\u001b[0m             \u001b[0my\u001b[0m \u001b[0;34m=\u001b[0m \u001b[0mcheck_array\u001b[0m\u001b[0;34m(\u001b[0m\u001b[0my\u001b[0m\u001b[0;34m,\u001b[0m \u001b[0mensure_2d\u001b[0m\u001b[0;34m=\u001b[0m\u001b[0;32mFalse\u001b[0m\u001b[0;34m,\u001b[0m \u001b[0mdtype\u001b[0m\u001b[0;34m=\u001b[0m\u001b[0;32mNone\u001b[0m\u001b[0;34m)\u001b[0m\u001b[0;34m\u001b[0m\u001b[0m\n\u001b[1;32m    132\u001b[0m             \u001b[0;32mif\u001b[0m \u001b[0missparse\u001b[0m\u001b[0;34m(\u001b[0m\u001b[0mX\u001b[0m\u001b[0;34m)\u001b[0m\u001b[0;34m:\u001b[0m\u001b[0;34m\u001b[0m\u001b[0m\n",
      "\u001b[0;32m~/Documents/workspaces/ml/workshops/tree_based_models_workshop/venv/lib/python3.7/site-packages/sklearn/utils/validation.py\u001b[0m in \u001b[0;36mcheck_array\u001b[0;34m(array, accept_sparse, accept_large_sparse, dtype, order, copy, force_all_finite, ensure_2d, allow_nd, ensure_min_samples, ensure_min_features, warn_on_dtype, estimator)\u001b[0m\n\u001b[1;32m    540\u001b[0m         \u001b[0;32mif\u001b[0m \u001b[0mforce_all_finite\u001b[0m\u001b[0;34m:\u001b[0m\u001b[0;34m\u001b[0m\u001b[0m\n\u001b[1;32m    541\u001b[0m             _assert_all_finite(array,\n\u001b[0;32m--> 542\u001b[0;31m                                allow_nan=force_all_finite == 'allow-nan')\n\u001b[0m\u001b[1;32m    543\u001b[0m \u001b[0;34m\u001b[0m\u001b[0m\n\u001b[1;32m    544\u001b[0m     \u001b[0;32mif\u001b[0m \u001b[0mensure_min_samples\u001b[0m \u001b[0;34m>\u001b[0m \u001b[0;36m0\u001b[0m\u001b[0;34m:\u001b[0m\u001b[0;34m\u001b[0m\u001b[0m\n",
      "\u001b[0;32m~/Documents/workspaces/ml/workshops/tree_based_models_workshop/venv/lib/python3.7/site-packages/sklearn/utils/validation.py\u001b[0m in \u001b[0;36m_assert_all_finite\u001b[0;34m(X, allow_nan)\u001b[0m\n\u001b[1;32m     54\u001b[0m                 not allow_nan and not np.isfinite(X).all()):\n\u001b[1;32m     55\u001b[0m             \u001b[0mtype_err\u001b[0m \u001b[0;34m=\u001b[0m \u001b[0;34m'infinity'\u001b[0m \u001b[0;32mif\u001b[0m \u001b[0mallow_nan\u001b[0m \u001b[0;32melse\u001b[0m \u001b[0;34m'NaN, infinity'\u001b[0m\u001b[0;34m\u001b[0m\u001b[0m\n\u001b[0;32m---> 56\u001b[0;31m             \u001b[0;32mraise\u001b[0m \u001b[0mValueError\u001b[0m\u001b[0;34m(\u001b[0m\u001b[0mmsg_err\u001b[0m\u001b[0;34m.\u001b[0m\u001b[0mformat\u001b[0m\u001b[0;34m(\u001b[0m\u001b[0mtype_err\u001b[0m\u001b[0;34m,\u001b[0m \u001b[0mX\u001b[0m\u001b[0;34m.\u001b[0m\u001b[0mdtype\u001b[0m\u001b[0;34m)\u001b[0m\u001b[0;34m)\u001b[0m\u001b[0;34m\u001b[0m\u001b[0m\n\u001b[0m\u001b[1;32m     57\u001b[0m     \u001b[0;31m# for object dtype data, we only check for NaNs (GH-13254)\u001b[0m\u001b[0;34m\u001b[0m\u001b[0;34m\u001b[0m\u001b[0m\n\u001b[1;32m     58\u001b[0m     \u001b[0;32melif\u001b[0m \u001b[0mX\u001b[0m\u001b[0;34m.\u001b[0m\u001b[0mdtype\u001b[0m \u001b[0;34m==\u001b[0m \u001b[0mnp\u001b[0m\u001b[0;34m.\u001b[0m\u001b[0mdtype\u001b[0m\u001b[0;34m(\u001b[0m\u001b[0;34m'object'\u001b[0m\u001b[0;34m)\u001b[0m \u001b[0;32mand\u001b[0m \u001b[0;32mnot\u001b[0m \u001b[0mallow_nan\u001b[0m\u001b[0;34m:\u001b[0m\u001b[0;34m\u001b[0m\u001b[0m\n",
      "\u001b[0;31mValueError\u001b[0m: Input contains NaN, infinity or a value too large for dtype('float32')."
     ]
    }
   ],
   "source": [
    "dt.fit(dataset[features_v2], dataset[target])"
   ]
  },
  {
   "cell_type": "markdown",
   "metadata": {},
   "source": [
    "### Handle missing values\n",
    "Having missing data in our datasets is pretty common. It can be caused by human error, software bug or simple the value isn't known. <br> \n",
    "Possible values for missing values are :  ‘NaN’, ‘NA’, ‘None’, ‘ ’, ‘?’, etc\n",
    "\n",
    "The simplest solution is to remove the rows with missing values. The main disadvantage of this method is that we remove information from our dataset.\n",
    "\n",
    "Another solution is to fill the missing data with some values. For numerical features, the most common method is to replace by mean or median (if there are ourliers). For categorical features, we can replace by the most frequent value.\n",
    "\n"
   ]
  },
  {
   "cell_type": "code",
   "execution_count": 31,
   "metadata": {
    "ExecuteTime": {
     "end_time": "2019-07-19T12:27:37.867169Z",
     "start_time": "2019-07-19T12:27:37.858334Z"
    }
   },
   "outputs": [
    {
     "data": {
      "text/plain": [
       "pclass              False\n",
       "gender_cat          False\n",
       "age                  True\n",
       "sibsp               False\n",
       "parch               False\n",
       "ticket_cat          False\n",
       "fare                 True\n",
       "cabin_cat           False\n",
       "cabin_missing       False\n",
       "embarked_cat        False\n",
       "embarked_missing    False\n",
       "dtype: bool"
      ]
     },
     "execution_count": 31,
     "metadata": {},
     "output_type": "execute_result"
    }
   ],
   "source": [
    "dataset[features_v2].isna().any()"
   ]
  },
  {
   "cell_type": "code",
   "execution_count": 32,
   "metadata": {
    "ExecuteTime": {
     "end_time": "2019-07-19T12:27:39.428361Z",
     "start_time": "2019-07-19T12:27:39.157226Z"
    }
   },
   "outputs": [
    {
     "data": {
      "text/plain": [
       "<matplotlib.axes._subplots.AxesSubplot at 0x11e4bcf60>"
      ]
     },
     "execution_count": 32,
     "metadata": {},
     "output_type": "execute_result"
    },
    {
     "data": {
      "image/png": "[encoded data removed]",
      "text/plain": [
       "<Figure size 432x288 with 1 Axes>"
      ]
     },
     "metadata": {
      "needs_background": "light"
     },
     "output_type": "display_data"
    }
   ],
   "source": [
    "dataset.age.plot.hist()"
   ]
  },
  {
   "cell_type": "code",
   "execution_count": 33,
   "metadata": {
    "ExecuteTime": {
     "end_time": "2019-07-19T12:27:39.638385Z",
     "start_time": "2019-07-19T12:27:39.633297Z"
    },
    "scrolled": true
   },
   "outputs": [
    {
     "data": {
      "text/plain": [
       "29.8811345124283"
      ]
     },
     "execution_count": 33,
     "metadata": {},
     "output_type": "execute_result"
    }
   ],
   "source": [
    "dataset.age.mean()"
   ]
  },
  {
   "cell_type": "code",
   "execution_count": 34,
   "metadata": {
    "ExecuteTime": {
     "end_time": "2019-07-19T12:27:40.266061Z",
     "start_time": "2019-07-19T12:27:40.258165Z"
    }
   },
   "outputs": [],
   "source": [
    "dataset[\"age_missing\"] = dataset.age.isna()\n",
    "dataset[\"fare_missing\"] = dataset.fare.isna()\n",
    "dataset.fillna({\"age\":dataset.age.mean(), \"fare\":dataset.fare.median()}, inplace=True)"
   ]
  },
  {
   "cell_type": "code",
   "execution_count": 35,
   "metadata": {
    "ExecuteTime": {
     "end_time": "2019-07-19T12:27:41.100902Z",
     "start_time": "2019-07-19T12:27:40.822351Z"
    }
   },
   "outputs": [
    {
     "data": {
      "text/plain": [
       "<matplotlib.axes._subplots.AxesSubplot at 0x11e6c8f98>"
      ]
     },
     "execution_count": 35,
     "metadata": {},
     "output_type": "execute_result"
    },
    {
     "data": {
      "image/png": "[encoded data removed]",
      "text/plain": [
       "<Figure size 432x288 with 1 Axes>"
      ]
     },
     "metadata": {
      "needs_background": "light"
     },
     "output_type": "display_data"
    }
   ],
   "source": [
    "dataset.age.plot.hist()"
   ]
  },
  {
   "cell_type": "code",
   "execution_count": null,
   "metadata": {},
   "outputs": [],
   "source": []
  },
  {
   "cell_type": "code",
   "execution_count": 36,
   "metadata": {
    "ExecuteTime": {
     "end_time": "2019-07-19T12:27:42.928900Z",
     "start_time": "2019-07-19T12:27:42.925583Z"
    }
   },
   "outputs": [],
   "source": [
    "features_v3 = [\"pclass\", \"gender_cat\", \"age\", \"age_missing\", \"sibsp\", \"parch\", \"ticket_cat\", \"fare\", \"fare_missing\", \"cabin_cat\", \"cabin_missing\", \"embarked_cat\", \"embarked_missing\"]\n"
   ]
  },
  {
   "cell_type": "code",
   "execution_count": 37,
   "metadata": {
    "ExecuteTime": {
     "end_time": "2019-07-19T12:27:43.732955Z",
     "start_time": "2019-07-19T12:27:43.717761Z"
    }
   },
   "outputs": [
    {
     "data": {
      "text/plain": [
       "DecisionTreeClassifier(class_weight=None, criterion='gini', max_depth=10,\n",
       "                       max_features=None, max_leaf_nodes=None,\n",
       "                       min_impurity_decrease=0.0, min_impurity_split=None,\n",
       "                       min_samples_leaf=1, min_samples_split=2,\n",
       "                       min_weight_fraction_leaf=0.0, presort=False,\n",
       "                       random_state=None, splitter='best')"
      ]
     },
     "execution_count": 37,
     "metadata": {},
     "output_type": "execute_result"
    }
   ],
   "source": [
    "dt.fit(dataset[features_v3], dataset[target])"
   ]
  },
  {
   "cell_type": "markdown",
   "metadata": {},
   "source": [
    "We succeded to train our first DecisionTreeClassifier model !!! <br>\n",
    "To reach this step, we needed to :\n",
    " - load the dataset\n",
    " - to know what we are trying to solve \n",
    " - to make the dataset ready for the model. \n",
    " \n",
    "We needed to encode categorical features into numerical features and to handle missing data. These operations are known under the concept of <b>feature engineering</b>. <br>\n",
    "In our case, we spend only a few time on feature enginner, but in real use-cases we need to spend a lot of time, mostly because the dataset isn't in a good shape, like this one. <br>\n",
    "\n",
    "<b>Most of the time, good feature enginner would reflect in better model performance. <b>\n",
    "\n",
    "\n",
    "\n",
    "\n",
    "\n",
    "\n"
   ]
  },
  {
   "cell_type": "markdown",
   "metadata": {},
   "source": [
    "### Prediction description"
   ]
  },
  {
   "cell_type": "markdown",
   "metadata": {},
   "source": [
    "Let's take 10 random samples from our dataset."
   ]
  },
  {
   "cell_type": "code",
   "execution_count": 38,
   "metadata": {
    "ExecuteTime": {
     "end_time": "2019-07-19T12:27:47.462779Z",
     "start_time": "2019-07-19T12:27:47.457561Z"
    }
   },
   "outputs": [],
   "source": [
    "dataset_predictions = dataset.sample(frac=1).head(10)"
   ]
  },
  {
   "cell_type": "code",
   "execution_count": 39,
   "metadata": {
    "ExecuteTime": {
     "end_time": "2019-07-19T12:27:47.763700Z",
     "start_time": "2019-07-19T12:27:47.742520Z"
    }
   },
   "outputs": [
    {
     "data": {
      "text/html": [
       "<div>\n",
       "<style scoped>\n",
       "    .dataframe tbody tr th:only-of-type {\n",
       "        vertical-align: middle;\n",
       "    }\n",
       "\n",
       "    .dataframe tbody tr th {\n",
       "        vertical-align: top;\n",
       "    }\n",
       "\n",
       "    .dataframe thead th {\n",
       "        text-align: right;\n",
       "    }\n",
       "</style>\n",
       "<table border=\"1\" class=\"dataframe\">\n",
       "  <thead>\n",
       "    <tr style=\"text-align: right;\">\n",
       "      <th></th>\n",
       "      <th>pclass</th>\n",
       "      <th>gender_cat</th>\n",
       "      <th>age</th>\n",
       "      <th>age_missing</th>\n",
       "      <th>sibsp</th>\n",
       "      <th>parch</th>\n",
       "      <th>ticket_cat</th>\n",
       "      <th>fare</th>\n",
       "      <th>fare_missing</th>\n",
       "      <th>cabin_cat</th>\n",
       "      <th>cabin_missing</th>\n",
       "      <th>embarked_cat</th>\n",
       "      <th>embarked_missing</th>\n",
       "      <th>survived</th>\n",
       "    </tr>\n",
       "  </thead>\n",
       "  <tbody>\n",
       "    <tr>\n",
       "      <th>1223</th>\n",
       "      <td>3</td>\n",
       "      <td>0</td>\n",
       "      <td>23.0</td>\n",
       "      <td>False</td>\n",
       "      <td>0</td>\n",
       "      <td>0</td>\n",
       "      <td>777</td>\n",
       "      <td>7.5500</td>\n",
       "      <td>False</td>\n",
       "      <td>-1</td>\n",
       "      <td>True</td>\n",
       "      <td>2</td>\n",
       "      <td>False</td>\n",
       "      <td>True</td>\n",
       "    </tr>\n",
       "    <tr>\n",
       "      <th>263</th>\n",
       "      <td>1</td>\n",
       "      <td>0</td>\n",
       "      <td>39.0</td>\n",
       "      <td>False</td>\n",
       "      <td>1</td>\n",
       "      <td>0</td>\n",
       "      <td>93</td>\n",
       "      <td>55.9000</td>\n",
       "      <td>False</td>\n",
       "      <td>161</td>\n",
       "      <td>False</td>\n",
       "      <td>2</td>\n",
       "      <td>False</td>\n",
       "      <td>True</td>\n",
       "    </tr>\n",
       "    <tr>\n",
       "      <th>673</th>\n",
       "      <td>3</td>\n",
       "      <td>1</td>\n",
       "      <td>20.0</td>\n",
       "      <td>False</td>\n",
       "      <td>0</td>\n",
       "      <td>0</td>\n",
       "      <td>242</td>\n",
       "      <td>4.0125</td>\n",
       "      <td>False</td>\n",
       "      <td>-1</td>\n",
       "      <td>True</td>\n",
       "      <td>0</td>\n",
       "      <td>False</td>\n",
       "      <td>False</td>\n",
       "    </tr>\n",
       "    <tr>\n",
       "      <th>825</th>\n",
       "      <td>3</td>\n",
       "      <td>1</td>\n",
       "      <td>9.0</td>\n",
       "      <td>False</td>\n",
       "      <td>5</td>\n",
       "      <td>2</td>\n",
       "      <td>775</td>\n",
       "      <td>46.9000</td>\n",
       "      <td>False</td>\n",
       "      <td>-1</td>\n",
       "      <td>True</td>\n",
       "      <td>2</td>\n",
       "      <td>False</td>\n",
       "      <td>False</td>\n",
       "    </tr>\n",
       "    <tr>\n",
       "      <th>185</th>\n",
       "      <td>1</td>\n",
       "      <td>1</td>\n",
       "      <td>42.0</td>\n",
       "      <td>False</td>\n",
       "      <td>0</td>\n",
       "      <td>0</td>\n",
       "      <td>114</td>\n",
       "      <td>26.5500</td>\n",
       "      <td>False</td>\n",
       "      <td>-1</td>\n",
       "      <td>True</td>\n",
       "      <td>2</td>\n",
       "      <td>False</td>\n",
       "      <td>False</td>\n",
       "    </tr>\n",
       "    <tr>\n",
       "      <th>654</th>\n",
       "      <td>3</td>\n",
       "      <td>1</td>\n",
       "      <td>20.0</td>\n",
       "      <td>False</td>\n",
       "      <td>0</td>\n",
       "      <td>0</td>\n",
       "      <td>274</td>\n",
       "      <td>7.2250</td>\n",
       "      <td>False</td>\n",
       "      <td>-1</td>\n",
       "      <td>True</td>\n",
       "      <td>0</td>\n",
       "      <td>False</td>\n",
       "      <td>False</td>\n",
       "    </tr>\n",
       "    <tr>\n",
       "      <th>496</th>\n",
       "      <td>2</td>\n",
       "      <td>1</td>\n",
       "      <td>30.0</td>\n",
       "      <td>False</td>\n",
       "      <td>0</td>\n",
       "      <td>0</td>\n",
       "      <td>307</td>\n",
       "      <td>13.0000</td>\n",
       "      <td>False</td>\n",
       "      <td>-1</td>\n",
       "      <td>True</td>\n",
       "      <td>2</td>\n",
       "      <td>False</td>\n",
       "      <td>False</td>\n",
       "    </tr>\n",
       "    <tr>\n",
       "      <th>354</th>\n",
       "      <td>2</td>\n",
       "      <td>1</td>\n",
       "      <td>25.0</td>\n",
       "      <td>False</td>\n",
       "      <td>1</td>\n",
       "      <td>0</td>\n",
       "      <td>162</td>\n",
       "      <td>26.0000</td>\n",
       "      <td>False</td>\n",
       "      <td>-1</td>\n",
       "      <td>True</td>\n",
       "      <td>2</td>\n",
       "      <td>False</td>\n",
       "      <td>False</td>\n",
       "    </tr>\n",
       "    <tr>\n",
       "      <th>862</th>\n",
       "      <td>3</td>\n",
       "      <td>0</td>\n",
       "      <td>22.0</td>\n",
       "      <td>False</td>\n",
       "      <td>0</td>\n",
       "      <td>0</td>\n",
       "      <td>696</td>\n",
       "      <td>8.9625</td>\n",
       "      <td>False</td>\n",
       "      <td>-1</td>\n",
       "      <td>True</td>\n",
       "      <td>2</td>\n",
       "      <td>False</td>\n",
       "      <td>True</td>\n",
       "    </tr>\n",
       "    <tr>\n",
       "      <th>1301</th>\n",
       "      <td>3</td>\n",
       "      <td>1</td>\n",
       "      <td>45.5</td>\n",
       "      <td>False</td>\n",
       "      <td>0</td>\n",
       "      <td>0</td>\n",
       "      <td>236</td>\n",
       "      <td>7.2250</td>\n",
       "      <td>False</td>\n",
       "      <td>-1</td>\n",
       "      <td>True</td>\n",
       "      <td>0</td>\n",
       "      <td>False</td>\n",
       "      <td>False</td>\n",
       "    </tr>\n",
       "  </tbody>\n",
       "</table>\n",
       "</div>"
      ],
      "text/plain": [
       "      pclass  gender_cat   age  age_missing  sibsp  parch  ticket_cat  \\\n",
       "1223       3           0  23.0        False      0      0         777   \n",
       "263        1           0  39.0        False      1      0          93   \n",
       "673        3           1  20.0        False      0      0         242   \n",
       "825        3           1   9.0        False      5      2         775   \n",
       "185        1           1  42.0        False      0      0         114   \n",
       "654        3           1  20.0        False      0      0         274   \n",
       "496        2           1  30.0        False      0      0         307   \n",
       "354        2           1  25.0        False      1      0         162   \n",
       "862        3           0  22.0        False      0      0         696   \n",
       "1301       3           1  45.5        False      0      0         236   \n",
       "\n",
       "         fare  fare_missing  cabin_cat  cabin_missing  embarked_cat  \\\n",
       "1223   7.5500         False         -1           True             2   \n",
       "263   55.9000         False        161          False             2   \n",
       "673    4.0125         False         -1           True             0   \n",
       "825   46.9000         False         -1           True             2   \n",
       "185   26.5500         False         -1           True             2   \n",
       "654    7.2250         False         -1           True             0   \n",
       "496   13.0000         False         -1           True             2   \n",
       "354   26.0000         False         -1           True             2   \n",
       "862    8.9625         False         -1           True             2   \n",
       "1301   7.2250         False         -1           True             0   \n",
       "\n",
       "      embarked_missing  survived  \n",
       "1223             False      True  \n",
       "263              False      True  \n",
       "673              False     False  \n",
       "825              False     False  \n",
       "185              False     False  \n",
       "654              False     False  \n",
       "496              False     False  \n",
       "354              False     False  \n",
       "862              False      True  \n",
       "1301             False     False  "
      ]
     },
     "execution_count": 39,
     "metadata": {},
     "output_type": "execute_result"
    }
   ],
   "source": [
    "dataset_predictions[features_v3 + [target]]"
   ]
  },
  {
   "cell_type": "markdown",
   "metadata": {},
   "source": [
    "DecisionTreeClassifier contains predict and predict_proba methods for making predictions : <br>\n",
    "- predict method returns the predicted class \n",
    "- predict_proba returns the class probabilities "
   ]
  },
  {
   "cell_type": "code",
   "execution_count": 40,
   "metadata": {
    "ExecuteTime": {
     "end_time": "2019-07-19T12:27:48.621126Z",
     "start_time": "2019-07-19T12:27:48.613586Z"
    }
   },
   "outputs": [
    {
     "data": {
      "text/plain": [
       "array([ True,  True, False, False, False, False, False, False, False,\n",
       "       False])"
      ]
     },
     "execution_count": 40,
     "metadata": {},
     "output_type": "execute_result"
    }
   ],
   "source": [
    "dt.predict(dataset_predictions[features_v3])"
   ]
  },
  {
   "cell_type": "code",
   "execution_count": 41,
   "metadata": {
    "ExecuteTime": {
     "end_time": "2019-07-19T12:27:49.146648Z",
     "start_time": "2019-07-19T12:27:49.138619Z"
    }
   },
   "outputs": [
    {
     "data": {
      "text/plain": [
       "array([[0.        , 1.        ],\n",
       "       [0.        , 1.        ],\n",
       "       [0.86153846, 0.13846154],\n",
       "       [1.        , 0.        ],\n",
       "       [1.        , 0.        ],\n",
       "       [0.86153846, 0.13846154],\n",
       "       [0.93172691, 0.06827309],\n",
       "       [0.93172691, 0.06827309],\n",
       "       [0.85714286, 0.14285714],\n",
       "       [0.96226415, 0.03773585]])"
      ]
     },
     "execution_count": 41,
     "metadata": {},
     "output_type": "execute_result"
    }
   ],
   "source": [
    "dt.predict_proba(dataset_predictions[features_v3])"
   ]
  },
  {
   "cell_type": "markdown",
   "metadata": {},
   "source": [
    "### Model validation\n",
    "\n",
    "The role of model validation is to check the model performance ! <br>\n",
    "\n",
    "In our case, we need to correctly classify if a person survived or didn't survived. So, our model should predict as many as possible, the correct answers.\n",
    "\n",
    "The metric we should use is the accuracy metric. It tells us the percentage of correct predictions made by our model, in others words : accuracy = (number of corrent predictions / total number of predictions). <br>\n",
    "[Check for others validation metrics for classification](https://scikit-learn.org/stable/modules/classes.html#classification-metrics)\n",
    "\n"
   ]
  },
  {
   "cell_type": "code",
   "execution_count": 42,
   "metadata": {
    "ExecuteTime": {
     "end_time": "2019-07-19T12:27:50.707139Z",
     "start_time": "2019-07-19T12:27:50.697728Z"
    }
   },
   "outputs": [
    {
     "data": {
      "text/plain": [
       "0.9167303284950343"
      ]
     },
     "execution_count": 42,
     "metadata": {},
     "output_type": "execute_result"
    }
   ],
   "source": [
    "accuracy_score(dataset[target], dt.predict(dataset[features_v3]))"
   ]
  },
  {
   "cell_type": "markdown",
   "metadata": {},
   "source": [
    "### Validation strategies  \n",
    "\n",
    "The rule number one : validation strategy should reflect as much as possible how the model will behave in production. <br>\n",
    "\n",
    "The most common validation strategy is holdout method, where we split our dataset in two parts, training and validation datasets. <br>\n",
    "One splitting method would be to shuffle the data and choose 70% of them in training and 30% into validation. "
   ]
  },
  {
   "cell_type": "code",
   "execution_count": 43,
   "metadata": {
    "ExecuteTime": {
     "end_time": "2019-07-19T12:27:51.632161Z",
     "start_time": "2019-07-19T12:27:51.629266Z"
    }
   },
   "outputs": [],
   "source": [
    "random_state = 1987"
   ]
  },
  {
   "cell_type": "code",
   "execution_count": 44,
   "metadata": {
    "ExecuteTime": {
     "end_time": "2019-07-19T12:27:52.381074Z",
     "start_time": "2019-07-19T12:27:52.374022Z"
    }
   },
   "outputs": [],
   "source": [
    "train, validation = train_test_split(dataset, train_size=0.7, random_state=random_state, stratify = dataset.survived)"
   ]
  },
  {
   "cell_type": "code",
   "execution_count": 45,
   "metadata": {
    "ExecuteTime": {
     "end_time": "2019-07-19T12:27:52.844431Z",
     "start_time": "2019-07-19T12:27:52.840749Z"
    }
   },
   "outputs": [
    {
     "name": "stdout",
     "output_type": "stream",
     "text": [
      "train size 916\n",
      "validation size 393\n"
     ]
    }
   ],
   "source": [
    "print(f\"train size {train.shape[0]}\")\n",
    "print(f\"validation size {validation.shape[0]}\")"
   ]
  },
  {
   "cell_type": "code",
   "execution_count": 46,
   "metadata": {
    "ExecuteTime": {
     "end_time": "2019-07-19T12:27:53.742154Z",
     "start_time": "2019-07-19T12:27:53.406118Z"
    }
   },
   "outputs": [
    {
     "data": {
      "text/plain": [
       "<matplotlib.axes._subplots.AxesSubplot at 0x11ef74748>"
      ]
     },
     "execution_count": 46,
     "metadata": {},
     "output_type": "execute_result"
    },
    {
     "data": {
      "image/png": "[encoded data removed]",
      "text/plain": [
       "<Figure size 720x360 with 2 Axes>"
      ]
     },
     "metadata": {
      "needs_background": "light"
     },
     "output_type": "display_data"
    }
   ],
   "source": [
    "plt.figure(figsize=(10,5))\n",
    "plt.subplot(1,2,1)\n",
    "train.groupby(\"survived\").size().plot.bar()\n",
    "plt.subplot(1,2,2)\n",
    "validation.groupby(\"survived\").size().plot.bar()"
   ]
  },
  {
   "cell_type": "code",
   "execution_count": 47,
   "metadata": {
    "ExecuteTime": {
     "end_time": "2019-07-19T12:27:54.478253Z",
     "start_time": "2019-07-19T12:27:54.004237Z"
    }
   },
   "outputs": [
    {
     "data": {
      "text/plain": [
       "<matplotlib.axes._subplots.AxesSubplot at 0x11f083d68>"
      ]
     },
     "execution_count": 47,
     "metadata": {},
     "output_type": "execute_result"
    },
    {
     "data": {
      "image/png": "[encoded data removed]",
      "text/plain": [
       "<Figure size 720x360 with 2 Axes>"
      ]
     },
     "metadata": {
      "needs_background": "light"
     },
     "output_type": "display_data"
    }
   ],
   "source": [
    "plt.figure(figsize=(10,5))\n",
    "plt.subplot(1,2,1)\n",
    "train.age.plot.hist()\n",
    "plt.subplot(1,2,2)\n",
    "validation.age.plot.hist()"
   ]
  },
  {
   "cell_type": "code",
   "execution_count": 48,
   "metadata": {
    "ExecuteTime": {
     "end_time": "2019-07-19T12:27:54.491793Z",
     "start_time": "2019-07-19T12:27:54.481347Z"
    }
   },
   "outputs": [
    {
     "data": {
      "text/plain": [
       "DecisionTreeClassifier(class_weight=None, criterion='gini', max_depth=10,\n",
       "                       max_features=None, max_leaf_nodes=None,\n",
       "                       min_impurity_decrease=0.0, min_impurity_split=None,\n",
       "                       min_samples_leaf=1, min_samples_split=2,\n",
       "                       min_weight_fraction_leaf=0.0, presort=False,\n",
       "                       random_state=None, splitter='best')"
      ]
     },
     "execution_count": 48,
     "metadata": {},
     "output_type": "execute_result"
    }
   ],
   "source": [
    "dt = DecisionTreeClassifier(max_depth=10)\n",
    "dt.fit(train[features_v3], train[target])\n"
   ]
  },
  {
   "cell_type": "code",
   "execution_count": 49,
   "metadata": {
    "ExecuteTime": {
     "end_time": "2019-07-19T12:27:55.194254Z",
     "start_time": "2019-07-19T12:27:55.182453Z"
    }
   },
   "outputs": [
    {
     "name": "stdout",
     "output_type": "stream",
     "text": [
      "training accuracy 0.9279475982532751\n",
      "validation accuracy 0.7659033078880407\n"
     ]
    }
   ],
   "source": [
    "print(f\"training accuracy {accuracy_score(train[target], dt.predict(train[features_v3]))}\")\n",
    "print(f\"validation accuracy {accuracy_score(validation[target], dt.predict(validation[features_v3]))}\")"
   ]
  },
  {
   "cell_type": "markdown",
   "metadata": {
    "ExecuteTime": {
     "end_time": "2019-07-09T08:30:32.857215Z",
     "start_time": "2019-07-09T08:30:32.817009Z"
    }
   },
   "source": [
    "### Underfitting and overfitting\n",
    "\n",
    "The performance of a ML model can be in three states :\n",
    "- Underfitting, when the model cannot learn and find patterns into the data, so it perform badly both on training and validation datasets\n",
    "- Overfitting, when the model learns too well every small details from training dataset, so it's a big chance to have poor performance on validation dataset(it will not generalize)\n",
    "- Appropriate fitting - the ideal scenario, when the model will have good performance on both training and validation datasets"
   ]
  },
  {
   "cell_type": "markdown",
   "metadata": {},
   "source": [
    "<img src=\"https://raw.githubusercontent.com/tlapusan/tree_based_models_workshop/master/resources/images/underfitting_overfitting.png\" />"
   ]
  },
  {
   "cell_type": "markdown",
   "metadata": {},
   "source": [
    "### Model interpretation\n",
    "A ML project can have two main purposes : <br> \n",
    " - to make predictions and to use them in production\n",
    " - to understand your data and to get domain knowledge\n",
    " "
   ]
  },
  {
   "cell_type": "code",
   "execution_count": 50,
   "metadata": {
    "ExecuteTime": {
     "end_time": "2019-07-19T12:27:58.323126Z",
     "start_time": "2019-07-19T12:27:57.573239Z"
    },
    "scrolled": true
   },
   "outputs": [],
   "source": [
    "save_decision_tree_structure(dt, \"dt_sample\", features_v3)"
   ]
  },
  {
   "cell_type": "markdown",
   "metadata": {},
   "source": [
    "#### Woodpecker\n",
    "Most of the time, to build a performant Decision Tree, we need to build a complex tree, with many levels and a lot of nodes. <br>\n",
    "In this scenarios, Decision Tree is losing one of its main advantage : interpretability\n",
    "\n",
    "This is the main reason I started to create a library from scratch, [woodpecker](https://github.com/tlapusan/woodpecker), to help me to interprete the decision tree structure, even if it's very big.\n"
   ]
  },
  {
   "cell_type": "code",
   "execution_count": 51,
   "metadata": {
    "ExecuteTime": {
     "end_time": "2019-07-19T12:28:04.043748Z",
     "start_time": "2019-07-19T12:28:04.040746Z"
    }
   },
   "outputs": [],
   "source": [
    "#pip install git+https://github.com/tlapusan/woodpecker.git"
   ]
  },
  {
   "cell_type": "code",
   "execution_count": 52,
   "metadata": {
    "ExecuteTime": {
     "end_time": "2019-07-19T12:28:04.833979Z",
     "start_time": "2019-07-19T12:28:04.757791Z"
    }
   },
   "outputs": [],
   "source": [
    "from woodpecker.decision_tree_structure import DecisionTreeStructure"
   ]
  },
  {
   "cell_type": "code",
   "execution_count": 53,
   "metadata": {
    "ExecuteTime": {
     "end_time": "2019-07-19T12:28:05.489485Z",
     "start_time": "2019-07-19T12:28:05.485130Z"
    }
   },
   "outputs": [],
   "source": [
    "dts = DecisionTreeStructure(dt, train, features_v3, target)"
   ]
  },
  {
   "cell_type": "markdown",
   "metadata": {},
   "source": [
    "##### Feature importance\n",
    "Feature importance is one of the first visualisation I make for model interpretation.\n",
    "\n",
    "Question : What we can obtain from feature importance ?\n",
    " - focus on most important dataset columns, make more visualisations with them\n",
    " - discuss with a business analyst, client and debate on them\n",
    " - discover potential data leakages\n",
    " - give you a clue if you are on the right way"
   ]
  },
  {
   "cell_type": "code",
   "execution_count": 54,
   "metadata": {
    "ExecuteTime": {
     "end_time": "2019-07-19T12:28:08.621820Z",
     "start_time": "2019-07-19T12:28:08.090703Z"
    }
   },
   "outputs": [
    {
     "data": {
      "image/png": "[encoded data removed]",
      "text/plain": [
       "<Figure size 1440x720 with 1 Axes>"
      ]
     },
     "metadata": {
      "needs_background": "light"
     },
     "output_type": "display_data"
    }
   ],
   "source": [
    "dts.show_features_importance()"
   ]
  },
  {
   "cell_type": "code",
   "execution_count": 55,
   "metadata": {
    "ExecuteTime": {
     "end_time": "2019-07-19T12:28:12.308269Z",
     "start_time": "2019-07-19T12:28:12.048027Z"
    }
   },
   "outputs": [
    {
     "data": {
      "text/plain": [
       "<matplotlib.axes._subplots.AxesSubplot at 0x11f373278>"
      ]
     },
     "execution_count": 55,
     "metadata": {},
     "output_type": "execute_result"
    },
    {
     "data": {
      "image/png": "[encoded data removed]",
      "text/plain": [
       "<Figure size 720x360 with 1 Axes>"
      ]
     },
     "metadata": {
      "needs_background": "light"
     },
     "output_type": "display_data"
    }
   ],
   "source": [
    "plt.figure(figsize=(10,5))\n",
    "dataset.groupby(\"gender\").size().plot.bar()"
   ]
  },
  {
   "cell_type": "code",
   "execution_count": 56,
   "metadata": {
    "ExecuteTime": {
     "end_time": "2019-07-19T12:28:12.673408Z",
     "start_time": "2019-07-19T12:28:12.396276Z"
    }
   },
   "outputs": [
    {
     "data": {
      "text/plain": [
       "<matplotlib.legend.Legend at 0x11f7a7da0>"
      ]
     },
     "execution_count": 56,
     "metadata": {},
     "output_type": "execute_result"
    },
    {
     "data": {
      "image/png": "[encoded data removed]",
      "text/plain": [
       "<Figure size 720x360 with 1 Axes>"
      ]
     },
     "metadata": {
      "needs_background": "light"
     },
     "output_type": "display_data"
    }
   ],
   "source": [
    "survive_gender_corr = dataset.groupby([\"survived\", \"gender\"]).size()\n",
    "plt.figure(figsize=(10,5))\n",
    "plt.bar(survive_gender_corr[0].keys().values, survive_gender_corr[0].values, label=\"survived=False\")\n",
    "plt.bar(survive_gender_corr[1].keys().values, survive_gender_corr[1].values, bottom=survive_gender_corr[0].values, label=\"survived=True\" )\n",
    "plt.legend()\n"
   ]
  },
  {
   "cell_type": "code",
   "execution_count": 57,
   "metadata": {
    "ExecuteTime": {
     "end_time": "2019-07-19T12:28:13.047943Z",
     "start_time": "2019-07-19T12:28:12.691053Z"
    }
   },
   "outputs": [
    {
     "data": {
      "text/plain": [
       "<matplotlib.axes._subplots.AxesSubplot at 0x11f7f3ba8>"
      ]
     },
     "execution_count": 57,
     "metadata": {},
     "output_type": "execute_result"
    },
    {
     "data": {
      "image/png": "[encoded data removed]",
      "text/plain": [
       "<Figure size 720x360 with 1 Axes>"
      ]
     },
     "metadata": {
      "needs_background": "light"
     },
     "output_type": "display_data"
    }
   ],
   "source": [
    "plt.figure(figsize=(10,5))\n",
    "dataset.ticket_cat.plot.hist(bins=30)\n"
   ]
  },
  {
   "cell_type": "code",
   "execution_count": 58,
   "metadata": {
    "ExecuteTime": {
     "end_time": "2019-07-19T12:28:13.549854Z",
     "start_time": "2019-07-19T12:28:13.050238Z"
    }
   },
   "outputs": [
    {
     "data": {
      "text/plain": [
       "<matplotlib.legend.Legend at 0x11f7dcb00>"
      ]
     },
     "execution_count": 58,
     "metadata": {},
     "output_type": "execute_result"
    },
    {
     "data": {
      "image/png": "[encoded data removed]",
      "text/plain": [
       "<Figure size 720x360 with 1 Axes>"
      ]
     },
     "metadata": {
      "needs_background": "light"
     },
     "output_type": "display_data"
    }
   ],
   "source": [
    "plt.figure(figsize=(10,5))\n",
    "dataset[dataset.survived==True].ticket_cat.plot.hist(bins=30, label=\"survived=True\")\n",
    "dataset[dataset.survived==False].ticket_cat.plot.hist(bins=30, label=\"survived=False\", alpha=0.7)\n",
    "plt.legend()"
   ]
  },
  {
   "cell_type": "code",
   "execution_count": 59,
   "metadata": {
    "ExecuteTime": {
     "end_time": "2019-07-19T12:28:13.918575Z",
     "start_time": "2019-07-19T12:28:13.552135Z"
    }
   },
   "outputs": [
    {
     "data": {
      "text/plain": [
       "<matplotlib.axes._subplots.AxesSubplot at 0x11fae7550>"
      ]
     },
     "execution_count": 59,
     "metadata": {},
     "output_type": "execute_result"
    },
    {
     "data": {
      "image/png": "[encoded data removed]",
      "text/plain": [
       "<Figure size 720x360 with 1 Axes>"
      ]
     },
     "metadata": {
      "needs_background": "light"
     },
     "output_type": "display_data"
    }
   ],
   "source": [
    "plt.figure(figsize=(10,5))\n",
    "dataset.fare.plot.hist(bins=30)"
   ]
  },
  {
   "cell_type": "code",
   "execution_count": 60,
   "metadata": {
    "ExecuteTime": {
     "end_time": "2019-07-19T12:28:14.407569Z",
     "start_time": "2019-07-19T12:28:13.920781Z"
    }
   },
   "outputs": [
    {
     "data": {
      "text/plain": [
       "<matplotlib.legend.Legend at 0x11fc668d0>"
      ]
     },
     "execution_count": 60,
     "metadata": {},
     "output_type": "execute_result"
    },
    {
     "data": {
      "image/png": "[encoded data removed]",
      "text/plain": [
       "<Figure size 720x360 with 1 Axes>"
      ]
     },
     "metadata": {
      "needs_background": "light"
     },
     "output_type": "display_data"
    }
   ],
   "source": [
    "plt.figure(figsize=(10,5))\n",
    "dataset[dataset.survived == True].fare.plot.hist(label=\"survived=True\", bins=30)\n",
    "dataset[dataset.survived == False].fare.plot.hist(label=\"survived=False\", bins=30, alpha=0.7)\n",
    "plt.legend()"
   ]
  },
  {
   "cell_type": "markdown",
   "metadata": {},
   "source": [
    "##### Leaf impurity\n",
    "\n",
    "Question : what is the principle after which the tree is built?\n",
    "\n",
    "For DecisionTreeClassifier we need to find the best splits based on node impurities. A node with impurity 0 means that it contains samples only from one class (ideal scenario). If the impurity is bigger than 0, it means that the node contains samples from both classes. <br>\n",
    "Algorithm target is to create nodes with impurity as close as possible to 0. \n",
    "\n",
    "Common measures of impurity are [gini, entropy and misclasificaion](https://scikit-learn.org/stable/modules/tree.html#classification-criteria). \n",
    "\n",
    "<img src=\"https://raw.githubusercontent.com/tlapusan/tree_based_models_workshop/master/resources/images/node_impurity.png\" alt=\"drawing\" width=\"60%\" height=\"60%\"/>"
   ]
  },
  {
   "cell_type": "markdown",
   "metadata": {},
   "source": [
    "Information gain (IG) is used to select the best split. <br>\n",
    "The feature which generate the biggest IG is chosen to split the node.\n",
    "\n",
    "<img src=\"https://raw.githubusercontent.com/tlapusan/tree_based_models_workshop/master/resources/images/information_gain.png\" alt=\"drawing\" width=\"60%\" height=\"60%\"/>"
   ]
  },
  {
   "cell_type": "code",
   "execution_count": 61,
   "metadata": {
    "ExecuteTime": {
     "end_time": "2019-07-19T12:28:21.281616Z",
     "start_time": "2019-07-19T12:28:18.461191Z"
    }
   },
   "outputs": [
    {
     "data": {
      "image/png": "[encoded data removed]",
      "text/plain": [
       "<Figure size 3600x1440 with 1 Axes>"
      ]
     },
     "metadata": {
      "needs_background": "light"
     },
     "output_type": "display_data"
    }
   ],
   "source": [
    "dts.show_leaf_impurity(figsize=(50,20))"
   ]
  },
  {
   "cell_type": "code",
   "execution_count": 62,
   "metadata": {
    "ExecuteTime": {
     "end_time": "2019-07-19T12:28:22.108090Z",
     "start_time": "2019-07-19T12:28:21.817233Z"
    }
   },
   "outputs": [
    {
     "data": {
      "image/png": "[encoded data removed]",
      "text/plain": [
       "<Figure size 720x360 with 1 Axes>"
      ]
     },
     "metadata": {
      "needs_background": "light"
     },
     "output_type": "display_data"
    }
   ],
   "source": [
    "dts.show_leaf_impurity_distribution(figsize=(10,5))"
   ]
  },
  {
   "cell_type": "markdown",
   "metadata": {},
   "source": [
    "##### Leaf samples\n",
    "\n",
    "Does the number of samples from leaves matter ?"
   ]
  },
  {
   "cell_type": "code",
   "execution_count": 63,
   "metadata": {
    "ExecuteTime": {
     "end_time": "2019-07-19T12:28:26.035331Z",
     "start_time": "2019-07-19T12:28:23.172646Z"
    }
   },
   "outputs": [
    {
     "data": {
      "image/png": "[encoded data removed]",
      "text/plain": [
       "<Figure size 3600x1440 with 1 Axes>"
      ]
     },
     "metadata": {
      "needs_background": "light"
     },
     "output_type": "display_data"
    }
   ],
   "source": [
    "dts.show_leaf_samples(figsize=(50,20))"
   ]
  },
  {
   "cell_type": "code",
   "execution_count": 64,
   "metadata": {
    "ExecuteTime": {
     "end_time": "2019-07-19T12:28:26.418457Z",
     "start_time": "2019-07-19T12:28:26.037650Z"
    }
   },
   "outputs": [
    {
     "data": {
      "image/png": "[encoded data removed]",
      "text/plain": [
       "<Figure size 720x360 with 1 Axes>"
      ]
     },
     "metadata": {
      "needs_background": "light"
     },
     "output_type": "display_data"
    }
   ],
   "source": [
    "dts.show_leaf_samples_distribution(figsize=(10,5), bins=40)"
   ]
  },
  {
   "cell_type": "code",
   "execution_count": 65,
   "metadata": {
    "ExecuteTime": {
     "end_time": "2019-07-19T12:28:29.561165Z",
     "start_time": "2019-07-19T12:28:26.421197Z"
    }
   },
   "outputs": [
    {
     "data": {
      "image/png": "[encoded data removed]",
      "text/plain": [
       "<Figure size 3600x1440 with 1 Axes>"
      ]
     },
     "metadata": {
      "needs_background": "light"
     },
     "output_type": "display_data"
    }
   ],
   "source": [
    "dts.show_leaf_samples_by_class(figsize=(50,20))"
   ]
  },
  {
   "cell_type": "code",
   "execution_count": 66,
   "metadata": {
    "ExecuteTime": {
     "end_time": "2019-07-19T12:28:29.622606Z",
     "start_time": "2019-07-19T12:28:29.563907Z"
    }
   },
   "outputs": [
    {
     "name": "stderr",
     "output_type": "stream",
     "text": [
      "INFO - decision paths [[1 0 0 ... 0 0 0]\n",
      " [1 1 1 ... 0 0 0]\n",
      " [1 1 0 ... 0 0 0]\n",
      " ...\n",
      " [1 0 0 ... 0 0 0]\n",
      " [1 0 0 ... 0 0 0]\n",
      " [1 0 0 ... 0 0 0]] \n"
     ]
    },
    {
     "data": {
      "text/html": [
       "<div>\n",
       "<style scoped>\n",
       "    .dataframe tbody tr th:only-of-type {\n",
       "        vertical-align: middle;\n",
       "    }\n",
       "\n",
       "    .dataframe tbody tr th {\n",
       "        vertical-align: top;\n",
       "    }\n",
       "\n",
       "    .dataframe thead th {\n",
       "        text-align: right;\n",
       "    }\n",
       "</style>\n",
       "<table border=\"1\" class=\"dataframe\">\n",
       "  <thead>\n",
       "    <tr style=\"text-align: right;\">\n",
       "      <th></th>\n",
       "      <th>pclass</th>\n",
       "      <th>gender_cat</th>\n",
       "      <th>age</th>\n",
       "      <th>sibsp</th>\n",
       "      <th>parch</th>\n",
       "      <th>ticket_cat</th>\n",
       "      <th>fare</th>\n",
       "      <th>cabin_cat</th>\n",
       "      <th>embarked_cat</th>\n",
       "    </tr>\n",
       "  </thead>\n",
       "  <tbody>\n",
       "    <tr>\n",
       "      <th>count</th>\n",
       "      <td>84.000000</td>\n",
       "      <td>84.0</td>\n",
       "      <td>84.000000</td>\n",
       "      <td>84.000000</td>\n",
       "      <td>84.000000</td>\n",
       "      <td>84.00000</td>\n",
       "      <td>84.000000</td>\n",
       "      <td>84.000000</td>\n",
       "      <td>84.000000</td>\n",
       "    </tr>\n",
       "    <tr>\n",
       "      <th>mean</th>\n",
       "      <td>1.059524</td>\n",
       "      <td>0.0</td>\n",
       "      <td>34.761074</td>\n",
       "      <td>0.523810</td>\n",
       "      <td>0.297619</td>\n",
       "      <td>367.52381</td>\n",
       "      <td>108.515429</td>\n",
       "      <td>73.095238</td>\n",
       "      <td>0.916667</td>\n",
       "    </tr>\n",
       "    <tr>\n",
       "      <th>std</th>\n",
       "      <td>0.238024</td>\n",
       "      <td>0.0</td>\n",
       "      <td>13.306865</td>\n",
       "      <td>0.548298</td>\n",
       "      <td>0.459957</td>\n",
       "      <td>353.11060</td>\n",
       "      <td>86.260323</td>\n",
       "      <td>53.546201</td>\n",
       "      <td>1.032115</td>\n",
       "    </tr>\n",
       "    <tr>\n",
       "      <th>min</th>\n",
       "      <td>1.000000</td>\n",
       "      <td>0.0</td>\n",
       "      <td>4.000000</td>\n",
       "      <td>0.000000</td>\n",
       "      <td>0.000000</td>\n",
       "      <td>0.00000</td>\n",
       "      <td>31.683300</td>\n",
       "      <td>-1.000000</td>\n",
       "      <td>-1.000000</td>\n",
       "    </tr>\n",
       "    <tr>\n",
       "      <th>25%</th>\n",
       "      <td>1.000000</td>\n",
       "      <td>0.0</td>\n",
       "      <td>24.000000</td>\n",
       "      <td>0.000000</td>\n",
       "      <td>0.000000</td>\n",
       "      <td>73.75000</td>\n",
       "      <td>55.331275</td>\n",
       "      <td>32.250000</td>\n",
       "      <td>0.000000</td>\n",
       "    </tr>\n",
       "    <tr>\n",
       "      <th>50%</th>\n",
       "      <td>1.000000</td>\n",
       "      <td>0.0</td>\n",
       "      <td>33.000000</td>\n",
       "      <td>0.500000</td>\n",
       "      <td>0.000000</td>\n",
       "      <td>120.50000</td>\n",
       "      <td>80.929150</td>\n",
       "      <td>72.500000</td>\n",
       "      <td>0.000000</td>\n",
       "    </tr>\n",
       "    <tr>\n",
       "      <th>75%</th>\n",
       "      <td>1.000000</td>\n",
       "      <td>0.0</td>\n",
       "      <td>45.000000</td>\n",
       "      <td>1.000000</td>\n",
       "      <td>1.000000</td>\n",
       "      <td>802.25000</td>\n",
       "      <td>134.500000</td>\n",
       "      <td>116.750000</td>\n",
       "      <td>2.000000</td>\n",
       "    </tr>\n",
       "    <tr>\n",
       "      <th>max</th>\n",
       "      <td>2.000000</td>\n",
       "      <td>0.0</td>\n",
       "      <td>62.000000</td>\n",
       "      <td>2.000000</td>\n",
       "      <td>1.000000</td>\n",
       "      <td>926.00000</td>\n",
       "      <td>512.329200</td>\n",
       "      <td>183.000000</td>\n",
       "      <td>2.000000</td>\n",
       "    </tr>\n",
       "  </tbody>\n",
       "</table>\n",
       "</div>"
      ],
      "text/plain": [
       "          pclass  gender_cat        age      sibsp      parch  ticket_cat  \\\n",
       "count  84.000000        84.0  84.000000  84.000000  84.000000    84.00000   \n",
       "mean    1.059524         0.0  34.761074   0.523810   0.297619   367.52381   \n",
       "std     0.238024         0.0  13.306865   0.548298   0.459957   353.11060   \n",
       "min     1.000000         0.0   4.000000   0.000000   0.000000     0.00000   \n",
       "25%     1.000000         0.0  24.000000   0.000000   0.000000    73.75000   \n",
       "50%     1.000000         0.0  33.000000   0.500000   0.000000   120.50000   \n",
       "75%     1.000000         0.0  45.000000   1.000000   1.000000   802.25000   \n",
       "max     2.000000         0.0  62.000000   2.000000   1.000000   926.00000   \n",
       "\n",
       "             fare   cabin_cat  embarked_cat  \n",
       "count   84.000000   84.000000     84.000000  \n",
       "mean   108.515429   73.095238      0.916667  \n",
       "std     86.260323   53.546201      1.032115  \n",
       "min     31.683300   -1.000000     -1.000000  \n",
       "25%     55.331275   32.250000      0.000000  \n",
       "50%     80.929150   72.500000      0.000000  \n",
       "75%    134.500000  116.750000      2.000000  \n",
       "max    512.329200  183.000000      2.000000  "
      ]
     },
     "execution_count": 66,
     "metadata": {},
     "output_type": "execute_result"
    }
   ],
   "source": [
    "dts.get_node_samples(node_id=30).describe()"
   ]
  },
  {
   "cell_type": "code",
   "execution_count": 67,
   "metadata": {
    "ExecuteTime": {
     "end_time": "2019-07-19T12:28:29.674028Z",
     "start_time": "2019-07-19T12:28:29.625584Z"
    }
   },
   "outputs": [
    {
     "data": {
      "text/html": [
       "<div>\n",
       "<style scoped>\n",
       "    .dataframe tbody tr th:only-of-type {\n",
       "        vertical-align: middle;\n",
       "    }\n",
       "\n",
       "    .dataframe tbody tr th {\n",
       "        vertical-align: top;\n",
       "    }\n",
       "\n",
       "    .dataframe thead th {\n",
       "        text-align: right;\n",
       "    }\n",
       "</style>\n",
       "<table border=\"1\" class=\"dataframe\">\n",
       "  <thead>\n",
       "    <tr style=\"text-align: right;\">\n",
       "      <th></th>\n",
       "      <th>pclass</th>\n",
       "      <th>gender_cat</th>\n",
       "      <th>age</th>\n",
       "      <th>sibsp</th>\n",
       "      <th>parch</th>\n",
       "      <th>ticket_cat</th>\n",
       "      <th>fare</th>\n",
       "      <th>cabin_cat</th>\n",
       "      <th>embarked_cat</th>\n",
       "    </tr>\n",
       "  </thead>\n",
       "  <tbody>\n",
       "    <tr>\n",
       "      <th>count</th>\n",
       "      <td>69.000000</td>\n",
       "      <td>69.0</td>\n",
       "      <td>69.000000</td>\n",
       "      <td>69.0</td>\n",
       "      <td>69.000000</td>\n",
       "      <td>69.000000</td>\n",
       "      <td>69.000000</td>\n",
       "      <td>69.0</td>\n",
       "      <td>69.000000</td>\n",
       "    </tr>\n",
       "    <tr>\n",
       "      <th>mean</th>\n",
       "      <td>2.623188</td>\n",
       "      <td>1.0</td>\n",
       "      <td>43.652174</td>\n",
       "      <td>0.0</td>\n",
       "      <td>0.115942</td>\n",
       "      <td>511.333333</td>\n",
       "      <td>12.701388</td>\n",
       "      <td>-1.0</td>\n",
       "      <td>1.652174</td>\n",
       "    </tr>\n",
       "    <tr>\n",
       "      <th>std</th>\n",
       "      <td>0.596594</td>\n",
       "      <td>0.0</td>\n",
       "      <td>10.271786</td>\n",
       "      <td>0.0</td>\n",
       "      <td>0.403522</td>\n",
       "      <td>223.455527</td>\n",
       "      <td>12.465235</td>\n",
       "      <td>0.0</td>\n",
       "      <td>0.724083</td>\n",
       "    </tr>\n",
       "    <tr>\n",
       "      <th>min</th>\n",
       "      <td>1.000000</td>\n",
       "      <td>1.0</td>\n",
       "      <td>32.500000</td>\n",
       "      <td>0.0</td>\n",
       "      <td>0.000000</td>\n",
       "      <td>177.000000</td>\n",
       "      <td>0.000000</td>\n",
       "      <td>-1.0</td>\n",
       "      <td>0.000000</td>\n",
       "    </tr>\n",
       "    <tr>\n",
       "      <th>25%</th>\n",
       "      <td>2.000000</td>\n",
       "      <td>1.0</td>\n",
       "      <td>36.000000</td>\n",
       "      <td>0.0</td>\n",
       "      <td>0.000000</td>\n",
       "      <td>308.000000</td>\n",
       "      <td>7.750000</td>\n",
       "      <td>-1.0</td>\n",
       "      <td>2.000000</td>\n",
       "    </tr>\n",
       "    <tr>\n",
       "      <th>50%</th>\n",
       "      <td>3.000000</td>\n",
       "      <td>1.0</td>\n",
       "      <td>40.500000</td>\n",
       "      <td>0.0</td>\n",
       "      <td>0.000000</td>\n",
       "      <td>509.000000</td>\n",
       "      <td>8.050000</td>\n",
       "      <td>-1.0</td>\n",
       "      <td>2.000000</td>\n",
       "    </tr>\n",
       "    <tr>\n",
       "      <th>75%</th>\n",
       "      <td>3.000000</td>\n",
       "      <td>1.0</td>\n",
       "      <td>49.000000</td>\n",
       "      <td>0.0</td>\n",
       "      <td>0.000000</td>\n",
       "      <td>729.000000</td>\n",
       "      <td>13.000000</td>\n",
       "      <td>-1.0</td>\n",
       "      <td>2.000000</td>\n",
       "    </tr>\n",
       "    <tr>\n",
       "      <th>max</th>\n",
       "      <td>3.000000</td>\n",
       "      <td>1.0</td>\n",
       "      <td>74.000000</td>\n",
       "      <td>0.0</td>\n",
       "      <td>2.000000</td>\n",
       "      <td>886.000000</td>\n",
       "      <td>79.200000</td>\n",
       "      <td>-1.0</td>\n",
       "      <td>2.000000</td>\n",
       "    </tr>\n",
       "  </tbody>\n",
       "</table>\n",
       "</div>"
      ],
      "text/plain": [
       "          pclass  gender_cat        age  sibsp      parch  ticket_cat  \\\n",
       "count  69.000000        69.0  69.000000   69.0  69.000000   69.000000   \n",
       "mean    2.623188         1.0  43.652174    0.0   0.115942  511.333333   \n",
       "std     0.596594         0.0  10.271786    0.0   0.403522  223.455527   \n",
       "min     1.000000         1.0  32.500000    0.0   0.000000  177.000000   \n",
       "25%     2.000000         1.0  36.000000    0.0   0.000000  308.000000   \n",
       "50%     3.000000         1.0  40.500000    0.0   0.000000  509.000000   \n",
       "75%     3.000000         1.0  49.000000    0.0   0.000000  729.000000   \n",
       "max     3.000000         1.0  74.000000    0.0   2.000000  886.000000   \n",
       "\n",
       "            fare  cabin_cat  embarked_cat  \n",
       "count  69.000000       69.0     69.000000  \n",
       "mean   12.701388       -1.0      1.652174  \n",
       "std    12.465235        0.0      0.724083  \n",
       "min     0.000000       -1.0      0.000000  \n",
       "25%     7.750000       -1.0      2.000000  \n",
       "50%     8.050000       -1.0      2.000000  \n",
       "75%    13.000000       -1.0      2.000000  \n",
       "max    79.200000       -1.0      2.000000  "
      ]
     },
     "execution_count": 67,
     "metadata": {},
     "output_type": "execute_result"
    }
   ],
   "source": [
    "dts.get_node_samples(node_id=144).describe()"
   ]
  },
  {
   "cell_type": "markdown",
   "metadata": {},
   "source": [
    "##### Prediction path through the tree"
   ]
  },
  {
   "cell_type": "code",
   "execution_count": 68,
   "metadata": {
    "ExecuteTime": {
     "end_time": "2019-07-19T12:28:29.683870Z",
     "start_time": "2019-07-19T12:28:29.676042Z"
    }
   },
   "outputs": [
    {
     "data": {
      "text/plain": [
       "pclass                  3\n",
       "gender_cat              1\n",
       "age                    21\n",
       "age_missing         False\n",
       "sibsp                   0\n",
       "parch                   0\n",
       "ticket_cat            678\n",
       "fare                 16.1\n",
       "fare_missing        False\n",
       "cabin_cat              -1\n",
       "cabin_missing        True\n",
       "embarked_cat            2\n",
       "embarked_missing    False\n",
       "Name: 685, dtype: object"
      ]
     },
     "execution_count": 68,
     "metadata": {},
     "output_type": "execute_result"
    }
   ],
   "source": [
    "sample = train[features_v3].iloc[0]\n",
    "sample"
   ]
  },
  {
   "cell_type": "code",
   "execution_count": 69,
   "metadata": {
    "ExecuteTime": {
     "end_time": "2019-07-19T12:28:29.786895Z",
     "start_time": "2019-07-19T12:28:29.686945Z"
    }
   },
   "outputs": [
    {
     "name": "stderr",
     "output_type": "stream",
     "text": [
      "INFO - Make a prediction for sample pclass                  3\n",
      "gender_cat              1\n",
      "age                    21\n",
      "age_missing         False\n",
      "sibsp                   0\n",
      "parch                   0\n",
      "ticket_cat            678\n",
      "fare                 16.1\n",
      "fare_missing        False\n",
      "cabin_cat              -1\n",
      "cabin_missing        True\n",
      "embarked_cat            2\n",
      "embarked_missing    False\n",
      "Name: 685, dtype: object\n",
      "INFO - decision path [  0  80  96  97  98  99 100 112 118 119 121]\n"
     ]
    },
    {
     "data": {
      "image/svg+xml": [
       "<?xml version=\"1.0\" encoding=\"UTF-8\" standalone=\"no\"?>\n",
       "<!DOCTYPE svg PUBLIC \"-//W3C//DTD SVG 1.1//EN\"\n",
       " \"http://www.w3.org/Graphics/SVG/1.1/DTD/svg11.dtd\">\n",
       "<!-- Generated by graphviz version 2.40.1 (20161225.0304)\n",
       " -->\n",
       "<!-- Pages: 1 -->\n",
       "<svg width=\"635pt\" height=\"1409pt\"\n",
       " viewBox=\"0.00 0.00 634.59 1408.86\" xmlns=\"http://www.w3.org/2000/svg\" xmlns:xlink=\"http://www.w3.org/1999/xlink\">\n",
       "<g id=\"graph0\" class=\"graph\" transform=\"scale(1 1) rotate(0) translate(4 1404.8612)\">\n",
       "<polygon fill=\"#ffffff\" stroke=\"transparent\" points=\"-4,4 -4,-1404.8612 630.5929,-1404.8612 630.5929,4 -4,4\"/>\n",
       "<!-- 0 -->\n",
       "<g id=\"node1\" class=\"node\">\n",
       "<title>0</title>\n",
       "<ellipse fill=\"none\" stroke=\"#0000ff\" cx=\"309.9325\" cy=\"-1352.7779\" rx=\"68.6788\" ry=\"48.1667\"/>\n",
       "<text text-anchor=\"middle\" x=\"309.9325\" y=\"-1373.7779\" font-family=\"Times,serif\" font-size=\"10.00\" fill=\"#000000\">Node 0 </text>\n",
       "<text text-anchor=\"middle\" x=\"309.9325\" y=\"-1361.7779\" font-family=\"Times,serif\" font-size=\"10.00\" fill=\"#000000\">gender_cat(1) &gt; 0.5</text>\n",
       "<text text-anchor=\"middle\" x=\"309.9325\" y=\"-1349.7779\" font-family=\"Times,serif\" font-size=\"10.00\" fill=\"#000000\"> samples 916 </text>\n",
       "<text text-anchor=\"middle\" x=\"309.9325\" y=\"-1337.7779\" font-family=\"Times,serif\" font-size=\"10.00\" fill=\"#000000\"> values [566. 350.], </text>\n",
       "<text text-anchor=\"middle\" x=\"309.9325\" y=\"-1325.7779\" font-family=\"Times,serif\" font-size=\"10.00\" fill=\"#000000\"> impurity 0.47</text>\n",
       "</g>\n",
       "<!-- 1 -->\n",
       "<g id=\"node2\" class=\"node\">\n",
       "<title>1</title>\n",
       "<ellipse fill=\"none\" stroke=\"#000000\" cx=\"232.9325\" cy=\"-1220.6114\" rx=\"67.3507\" ry=\"48.1667\"/>\n",
       "<text text-anchor=\"middle\" x=\"232.9325\" y=\"-1241.6114\" font-family=\"Times,serif\" font-size=\"10.00\" fill=\"#000000\">Node 1 </text>\n",
       "<text text-anchor=\"middle\" x=\"232.9325\" y=\"-1229.6114\" font-family=\"Times,serif\" font-size=\"10.00\" fill=\"#000000\">pclass(3) &gt; 2.5</text>\n",
       "<text text-anchor=\"middle\" x=\"232.9325\" y=\"-1217.6114\" font-family=\"Times,serif\" font-size=\"10.00\" fill=\"#000000\"> samples 333 </text>\n",
       "<text text-anchor=\"middle\" x=\"232.9325\" y=\"-1205.6114\" font-family=\"Times,serif\" font-size=\"10.00\" fill=\"#000000\"> values [ 84. 249.], </text>\n",
       "<text text-anchor=\"middle\" x=\"232.9325\" y=\"-1193.6114\" font-family=\"Times,serif\" font-size=\"10.00\" fill=\"#000000\"> impurity 0.38</text>\n",
       "</g>\n",
       "<!-- 0&#45;&gt;1 -->\n",
       "<g id=\"edge1\" class=\"edge\">\n",
       "<title>0&#45;&gt;1</title>\n",
       "<path fill=\"none\" stroke=\"#000000\" d=\"M283.8638,-1308.0324C277.5294,-1297.1596 270.692,-1285.4235 264.1462,-1274.1881\"/>\n",
       "<polygon fill=\"#000000\" stroke=\"#000000\" points=\"267.0326,-1272.1895 258.9743,-1265.3109 260.9842,-1275.7133 267.0326,-1272.1895\"/>\n",
       "</g>\n",
       "<!-- 80 -->\n",
       "<g id=\"node3\" class=\"node\">\n",
       "<title>80</title>\n",
       "<ellipse fill=\"none\" stroke=\"#0000ff\" cx=\"386.9325\" cy=\"-1220.6114\" rx=\"68.6788\" ry=\"48.1667\"/>\n",
       "<text text-anchor=\"middle\" x=\"386.9325\" y=\"-1241.6114\" font-family=\"Times,serif\" font-size=\"10.00\" fill=\"#000000\">Node 80 </text>\n",
       "<text text-anchor=\"middle\" x=\"386.9325\" y=\"-1229.6114\" font-family=\"Times,serif\" font-size=\"10.00\" fill=\"#000000\">age(21.0) &gt; 9.5</text>\n",
       "<text text-anchor=\"middle\" x=\"386.9325\" y=\"-1217.6114\" font-family=\"Times,serif\" font-size=\"10.00\" fill=\"#000000\"> samples 583 </text>\n",
       "<text text-anchor=\"middle\" x=\"386.9325\" y=\"-1205.6114\" font-family=\"Times,serif\" font-size=\"10.00\" fill=\"#000000\"> values [482. 101.], </text>\n",
       "<text text-anchor=\"middle\" x=\"386.9325\" y=\"-1193.6114\" font-family=\"Times,serif\" font-size=\"10.00\" fill=\"#000000\"> impurity 0.29</text>\n",
       "</g>\n",
       "<!-- 0&#45;&gt;80 -->\n",
       "<g id=\"edge2\" class=\"edge\">\n",
       "<title>0&#45;&gt;80</title>\n",
       "<path fill=\"none\" stroke=\"#000000\" d=\"M336.0012,-1308.0324C342.3356,-1297.1596 349.1731,-1285.4235 355.7188,-1274.1881\"/>\n",
       "<polygon fill=\"#000000\" stroke=\"#000000\" points=\"358.8808,-1275.7133 360.8907,-1265.3109 352.8324,-1272.1895 358.8808,-1275.7133\"/>\n",
       "</g>\n",
       "<!-- 81 -->\n",
       "<g id=\"node4\" class=\"node\">\n",
       "<title>81</title>\n",
       "<ellipse fill=\"none\" stroke=\"#000000\" cx=\"311.9325\" cy=\"-1088.4449\" rx=\"60.2083\" ry=\"48.1667\"/>\n",
       "<text text-anchor=\"middle\" x=\"311.9325\" y=\"-1109.4449\" font-family=\"Times,serif\" font-size=\"10.00\" fill=\"#000000\">Node 81 </text>\n",
       "<text text-anchor=\"middle\" x=\"311.9325\" y=\"-1097.4449\" font-family=\"Times,serif\" font-size=\"10.00\" fill=\"#000000\">sibsp(0) &lt;= 2.0</text>\n",
       "<text text-anchor=\"middle\" x=\"311.9325\" y=\"-1085.4449\" font-family=\"Times,serif\" font-size=\"10.00\" fill=\"#000000\"> samples 26 </text>\n",
       "<text text-anchor=\"middle\" x=\"311.9325\" y=\"-1073.4449\" font-family=\"Times,serif\" font-size=\"10.00\" fill=\"#000000\"> values [ 9. 17.], </text>\n",
       "<text text-anchor=\"middle\" x=\"311.9325\" y=\"-1061.4449\" font-family=\"Times,serif\" font-size=\"10.00\" fill=\"#000000\"> impurity 0.45</text>\n",
       "</g>\n",
       "<!-- 80&#45;&gt;81 -->\n",
       "<g id=\"edge3\" class=\"edge\">\n",
       "<title>80&#45;&gt;81</title>\n",
       "<path fill=\"none\" stroke=\"#000000\" d=\"M361.5409,-1175.8658C355.1745,-1164.6467 348.2864,-1152.5084 341.727,-1140.9494\"/>\n",
       "<polygon fill=\"#000000\" stroke=\"#000000\" points=\"344.7687,-1139.2177 336.7892,-1132.2479 338.6806,-1142.6726 344.7687,-1139.2177\"/>\n",
       "</g>\n",
       "<!-- 96 -->\n",
       "<g id=\"node5\" class=\"node\">\n",
       "<title>96</title>\n",
       "<ellipse fill=\"none\" stroke=\"#0000ff\" cx=\"461.9325\" cy=\"-1088.4449\" rx=\"71.3357\" ry=\"48.1667\"/>\n",
       "<text text-anchor=\"middle\" x=\"461.9325\" y=\"-1109.4449\" font-family=\"Times,serif\" font-size=\"10.00\" fill=\"#000000\">Node 96 </text>\n",
       "<text text-anchor=\"middle\" x=\"461.9325\" y=\"-1097.4449\" font-family=\"Times,serif\" font-size=\"10.00\" fill=\"#000000\">cabin_cat(&#45;1) &lt;= 5.5</text>\n",
       "<text text-anchor=\"middle\" x=\"461.9325\" y=\"-1085.4449\" font-family=\"Times,serif\" font-size=\"10.00\" fill=\"#000000\"> samples 557 </text>\n",
       "<text text-anchor=\"middle\" x=\"461.9325\" y=\"-1073.4449\" font-family=\"Times,serif\" font-size=\"10.00\" fill=\"#000000\"> values [473. &#160;84.], </text>\n",
       "<text text-anchor=\"middle\" x=\"461.9325\" y=\"-1061.4449\" font-family=\"Times,serif\" font-size=\"10.00\" fill=\"#000000\"> impurity 0.26</text>\n",
       "</g>\n",
       "<!-- 80&#45;&gt;96 -->\n",
       "<g id=\"edge4\" class=\"edge\">\n",
       "<title>80&#45;&gt;96</title>\n",
       "<path fill=\"none\" stroke=\"#000000\" d=\"M412.3241,-1175.8658C418.4269,-1165.1113 425.0091,-1153.5121 431.3215,-1142.3881\"/>\n",
       "<polygon fill=\"#000000\" stroke=\"#000000\" points=\"434.4205,-1144.0187 436.3119,-1133.5941 428.3324,-1140.5639 434.4205,-1144.0187\"/>\n",
       "</g>\n",
       "<!-- 97 -->\n",
       "<g id=\"node6\" class=\"node\">\n",
       "<title>97</title>\n",
       "<ellipse fill=\"none\" stroke=\"#0000ff\" cx=\"373.9325\" cy=\"-956.2784\" rx=\"83.3772\" ry=\"48.1667\"/>\n",
       "<text text-anchor=\"middle\" x=\"373.9325\" y=\"-977.2784\" font-family=\"Times,serif\" font-size=\"10.00\" fill=\"#000000\">Node 97 </text>\n",
       "<text text-anchor=\"middle\" x=\"373.9325\" y=\"-965.2784\" font-family=\"Times,serif\" font-size=\"10.00\" fill=\"#000000\">ticket_cat(678) &lt;= 894.5</text>\n",
       "<text text-anchor=\"middle\" x=\"373.9325\" y=\"-953.2784\" font-family=\"Times,serif\" font-size=\"10.00\" fill=\"#000000\"> samples 465 </text>\n",
       "<text text-anchor=\"middle\" x=\"373.9325\" y=\"-941.2784\" font-family=\"Times,serif\" font-size=\"10.00\" fill=\"#000000\"> values [412. &#160;53.], </text>\n",
       "<text text-anchor=\"middle\" x=\"373.9325\" y=\"-929.2784\" font-family=\"Times,serif\" font-size=\"10.00\" fill=\"#000000\"> impurity 0.2</text>\n",
       "</g>\n",
       "<!-- 96&#45;&gt;97 -->\n",
       "<g id=\"edge5\" class=\"edge\">\n",
       "<title>96&#45;&gt;97</title>\n",
       "<path fill=\"none\" stroke=\"#000000\" d=\"M432.6298,-1044.4353C425.2987,-1033.4249 417.3527,-1021.4908 409.7452,-1010.0651\"/>\n",
       "<polygon fill=\"#000000\" stroke=\"#000000\" points=\"412.4649,-1007.8346 404.0094,-1001.4506 406.6383,-1011.7141 412.4649,-1007.8346\"/>\n",
       "</g>\n",
       "<!-- 160 -->\n",
       "<g id=\"node7\" class=\"node\">\n",
       "<title>160</title>\n",
       "<ellipse fill=\"none\" stroke=\"#000000\" cx=\"550.9325\" cy=\"-956.2784\" rx=\"75.8212\" ry=\"48.1667\"/>\n",
       "<text text-anchor=\"middle\" x=\"550.9325\" y=\"-977.2784\" font-family=\"Times,serif\" font-size=\"10.00\" fill=\"#000000\">Node 160 </text>\n",
       "<text text-anchor=\"middle\" x=\"550.9325\" y=\"-965.2784\" font-family=\"Times,serif\" font-size=\"10.00\" fill=\"#000000\">ticket_cat(678) &gt; 53.5</text>\n",
       "<text text-anchor=\"middle\" x=\"550.9325\" y=\"-953.2784\" font-family=\"Times,serif\" font-size=\"10.00\" fill=\"#000000\"> samples 92 </text>\n",
       "<text text-anchor=\"middle\" x=\"550.9325\" y=\"-941.2784\" font-family=\"Times,serif\" font-size=\"10.00\" fill=\"#000000\"> values [61. 31.], </text>\n",
       "<text text-anchor=\"middle\" x=\"550.9325\" y=\"-929.2784\" font-family=\"Times,serif\" font-size=\"10.00\" fill=\"#000000\"> impurity 0.45</text>\n",
       "</g>\n",
       "<!-- 96&#45;&gt;160 -->\n",
       "<g id=\"edge6\" class=\"edge\">\n",
       "<title>96&#45;&gt;160</title>\n",
       "<path fill=\"none\" stroke=\"#000000\" d=\"M491.5682,-1044.4353C499.218,-1033.0753 507.5299,-1020.7319 515.4448,-1008.9782\"/>\n",
       "<polygon fill=\"#000000\" stroke=\"#000000\" points=\"518.4403,-1010.796 521.1228,-1000.5463 512.634,-1006.8861 518.4403,-1010.796\"/>\n",
       "</g>\n",
       "<!-- 98 -->\n",
       "<g id=\"node8\" class=\"node\">\n",
       "<title>98</title>\n",
       "<ellipse fill=\"none\" stroke=\"#0000ff\" cx=\"303.9325\" cy=\"-824.1118\" rx=\"67.3507\" ry=\"48.1667\"/>\n",
       "<text text-anchor=\"middle\" x=\"303.9325\" y=\"-845.1118\" font-family=\"Times,serif\" font-size=\"10.00\" fill=\"#000000\">Node 98 </text>\n",
       "<text text-anchor=\"middle\" x=\"303.9325\" y=\"-833.1118\" font-family=\"Times,serif\" font-size=\"10.00\" fill=\"#000000\">age(21.0) &lt;= 32.25</text>\n",
       "<text text-anchor=\"middle\" x=\"303.9325\" y=\"-821.1118\" font-family=\"Times,serif\" font-size=\"10.00\" fill=\"#000000\"> samples 451 </text>\n",
       "<text text-anchor=\"middle\" x=\"303.9325\" y=\"-809.1118\" font-family=\"Times,serif\" font-size=\"10.00\" fill=\"#000000\"> values [403. &#160;48.], </text>\n",
       "<text text-anchor=\"middle\" x=\"303.9325\" y=\"-797.1118\" font-family=\"Times,serif\" font-size=\"10.00\" fill=\"#000000\"> impurity 0.19</text>\n",
       "</g>\n",
       "<!-- 97&#45;&gt;98 -->\n",
       "<g id=\"edge7\" class=\"edge\">\n",
       "<title>97&#45;&gt;98</title>\n",
       "<path fill=\"none\" stroke=\"#000000\" d=\"M349.4499,-910.0529C344.0221,-899.8047 338.2222,-888.8541 332.6429,-878.3197\"/>\n",
       "<polygon fill=\"#000000\" stroke=\"#000000\" points=\"335.5849,-876.3965 327.8115,-869.1975 329.399,-879.6728 335.5849,-876.3965\"/>\n",
       "</g>\n",
       "<!-- 151 -->\n",
       "<g id=\"node9\" class=\"node\">\n",
       "<title>151</title>\n",
       "<ellipse fill=\"none\" stroke=\"#000000\" cx=\"443.9325\" cy=\"-824.1118\" rx=\"54.3945\" ry=\"48.1667\"/>\n",
       "<text text-anchor=\"middle\" x=\"443.9325\" y=\"-845.1118\" font-family=\"Times,serif\" font-size=\"10.00\" fill=\"#000000\">Node 151 </text>\n",
       "<text text-anchor=\"middle\" x=\"443.9325\" y=\"-833.1118\" font-family=\"Times,serif\" font-size=\"10.00\" fill=\"#000000\">pclass(3) &gt; 2.5</text>\n",
       "<text text-anchor=\"middle\" x=\"443.9325\" y=\"-821.1118\" font-family=\"Times,serif\" font-size=\"10.00\" fill=\"#000000\"> samples 14 </text>\n",
       "<text text-anchor=\"middle\" x=\"443.9325\" y=\"-809.1118\" font-family=\"Times,serif\" font-size=\"10.00\" fill=\"#000000\"> values [9. 5.], </text>\n",
       "<text text-anchor=\"middle\" x=\"443.9325\" y=\"-797.1118\" font-family=\"Times,serif\" font-size=\"10.00\" fill=\"#000000\"> impurity 0.46</text>\n",
       "</g>\n",
       "<!-- 97&#45;&gt;151 -->\n",
       "<g id=\"edge8\" class=\"edge\">\n",
       "<title>97&#45;&gt;151</title>\n",
       "<path fill=\"none\" stroke=\"#000000\" d=\"M398.4151,-910.0529C404.0826,-899.3522 410.1556,-887.8858 415.9598,-876.927\"/>\n",
       "<polygon fill=\"#000000\" stroke=\"#000000\" points=\"419.1697,-878.3442 420.7572,-867.869 412.9837,-875.0679 419.1697,-878.3442\"/>\n",
       "</g>\n",
       "<!-- 99 -->\n",
       "<g id=\"node10\" class=\"node\">\n",
       "<title>99</title>\n",
       "<ellipse fill=\"none\" stroke=\"#0000ff\" cx=\"223.9325\" cy=\"-691.9453\" rx=\"67.3507\" ry=\"48.1667\"/>\n",
       "<text text-anchor=\"middle\" x=\"223.9325\" y=\"-712.9453\" font-family=\"Times,serif\" font-size=\"10.00\" fill=\"#000000\">Node 99 </text>\n",
       "<text text-anchor=\"middle\" x=\"223.9325\" y=\"-700.9453\" font-family=\"Times,serif\" font-size=\"10.00\" fill=\"#000000\">parch(0) &lt;= 0.5</text>\n",
       "<text text-anchor=\"middle\" x=\"223.9325\" y=\"-688.9453\" font-family=\"Times,serif\" font-size=\"10.00\" fill=\"#000000\"> samples 346 </text>\n",
       "<text text-anchor=\"middle\" x=\"223.9325\" y=\"-676.9453\" font-family=\"Times,serif\" font-size=\"10.00\" fill=\"#000000\"> values [302. &#160;44.], </text>\n",
       "<text text-anchor=\"middle\" x=\"223.9325\" y=\"-664.9453\" font-family=\"Times,serif\" font-size=\"10.00\" fill=\"#000000\"> impurity 0.22</text>\n",
       "</g>\n",
       "<!-- 98&#45;&gt;99 -->\n",
       "<g id=\"edge9\" class=\"edge\">\n",
       "<title>98&#45;&gt;99</title>\n",
       "<path fill=\"none\" stroke=\"#000000\" d=\"M277.0711,-779.7346C270.3431,-768.6194 263.0573,-756.5826 256.1004,-745.0892\"/>\n",
       "<polygon fill=\"#000000\" stroke=\"#000000\" points=\"259.0317,-743.1729 250.8592,-736.4304 253.0432,-746.7977 259.0317,-743.1729\"/>\n",
       "</g>\n",
       "<!-- 136 -->\n",
       "<g id=\"node11\" class=\"node\">\n",
       "<title>136</title>\n",
       "<ellipse fill=\"none\" stroke=\"#000000\" cx=\"384.9325\" cy=\"-691.9453\" rx=\"75.8212\" ry=\"48.1667\"/>\n",
       "<text text-anchor=\"middle\" x=\"384.9325\" y=\"-712.9453\" font-family=\"Times,serif\" font-size=\"10.00\" fill=\"#000000\">Node 136 </text>\n",
       "<text text-anchor=\"middle\" x=\"384.9325\" y=\"-700.9453\" font-family=\"Times,serif\" font-size=\"10.00\" fill=\"#000000\">ticket_cat(678) &gt; 41.0</text>\n",
       "<text text-anchor=\"middle\" x=\"384.9325\" y=\"-688.9453\" font-family=\"Times,serif\" font-size=\"10.00\" fill=\"#000000\"> samples 105 </text>\n",
       "<text text-anchor=\"middle\" x=\"384.9325\" y=\"-676.9453\" font-family=\"Times,serif\" font-size=\"10.00\" fill=\"#000000\"> values [101. &#160;&#160;4.], </text>\n",
       "<text text-anchor=\"middle\" x=\"384.9325\" y=\"-664.9453\" font-family=\"Times,serif\" font-size=\"10.00\" fill=\"#000000\"> impurity 0.07</text>\n",
       "</g>\n",
       "<!-- 98&#45;&gt;136 -->\n",
       "<g id=\"edge10\" class=\"edge\">\n",
       "<title>98&#45;&gt;136</title>\n",
       "<path fill=\"none\" stroke=\"#000000\" d=\"M331.1297,-779.7346C337.8685,-768.739 345.1601,-756.8413 352.1352,-745.4602\"/>\n",
       "<polygon fill=\"#000000\" stroke=\"#000000\" points=\"355.1518,-747.2361 357.393,-736.8811 349.1835,-743.5783 355.1518,-747.2361\"/>\n",
       "</g>\n",
       "<!-- 100 -->\n",
       "<g id=\"node12\" class=\"node\">\n",
       "<title>100</title>\n",
       "<ellipse fill=\"none\" stroke=\"#0000ff\" cx=\"142.9325\" cy=\"-559.7788\" rx=\"67.3507\" ry=\"48.1667\"/>\n",
       "<text text-anchor=\"middle\" x=\"142.9325\" y=\"-580.7788\" font-family=\"Times,serif\" font-size=\"10.00\" fill=\"#000000\">Node 100 </text>\n",
       "<text text-anchor=\"middle\" x=\"142.9325\" y=\"-568.7788\" font-family=\"Times,serif\" font-size=\"10.00\" fill=\"#000000\">fare(16.1) &gt; 7.89</text>\n",
       "<text text-anchor=\"middle\" x=\"142.9325\" y=\"-556.7788\" font-family=\"Times,serif\" font-size=\"10.00\" fill=\"#000000\"> samples 321 </text>\n",
       "<text text-anchor=\"middle\" x=\"142.9325\" y=\"-544.7788\" font-family=\"Times,serif\" font-size=\"10.00\" fill=\"#000000\"> values [283. &#160;38.], </text>\n",
       "<text text-anchor=\"middle\" x=\"142.9325\" y=\"-532.7788\" font-family=\"Times,serif\" font-size=\"10.00\" fill=\"#000000\"> impurity 0.21</text>\n",
       "</g>\n",
       "<!-- 99&#45;&gt;100 -->\n",
       "<g id=\"edge11\" class=\"edge\">\n",
       "<title>99&#45;&gt;100</title>\n",
       "<path fill=\"none\" stroke=\"#000000\" d=\"M196.7353,-647.5681C189.85,-636.3334 182.3876,-624.1571 175.2753,-612.5521\"/>\n",
       "<polygon fill=\"#000000\" stroke=\"#000000\" points=\"178.1297,-610.5114 169.9202,-603.8142 172.1614,-614.1692 178.1297,-610.5114\"/>\n",
       "</g>\n",
       "<!-- 125 -->\n",
       "<g id=\"node13\" class=\"node\">\n",
       "<title>125</title>\n",
       "<ellipse fill=\"none\" stroke=\"#000000\" cx=\"304.9325\" cy=\"-559.7788\" rx=\"77.1494\" ry=\"48.1667\"/>\n",
       "<text text-anchor=\"middle\" x=\"304.9325\" y=\"-580.7788\" font-family=\"Times,serif\" font-size=\"10.00\" fill=\"#000000\">Node 125 </text>\n",
       "<text text-anchor=\"middle\" x=\"304.9325\" y=\"-568.7788\" font-family=\"Times,serif\" font-size=\"10.00\" fill=\"#000000\">embarked_cat(2) &gt; 0.5</text>\n",
       "<text text-anchor=\"middle\" x=\"304.9325\" y=\"-556.7788\" font-family=\"Times,serif\" font-size=\"10.00\" fill=\"#000000\"> samples 25 </text>\n",
       "<text text-anchor=\"middle\" x=\"304.9325\" y=\"-544.7788\" font-family=\"Times,serif\" font-size=\"10.00\" fill=\"#000000\"> values [19. &#160;6.], </text>\n",
       "<text text-anchor=\"middle\" x=\"304.9325\" y=\"-532.7788\" font-family=\"Times,serif\" font-size=\"10.00\" fill=\"#000000\"> impurity 0.36</text>\n",
       "</g>\n",
       "<!-- 99&#45;&gt;125 -->\n",
       "<g id=\"edge12\" class=\"edge\">\n",
       "<title>99&#45;&gt;125</title>\n",
       "<path fill=\"none\" stroke=\"#000000\" d=\"M251.1297,-647.5681C257.8685,-636.5724 265.1601,-624.6748 272.1352,-613.2936\"/>\n",
       "<polygon fill=\"#000000\" stroke=\"#000000\" points=\"275.1518,-615.0696 277.393,-604.7145 269.1835,-611.4118 275.1518,-615.0696\"/>\n",
       "</g>\n",
       "<!-- 101 -->\n",
       "<g id=\"node14\" class=\"node\">\n",
       "<title>101</title>\n",
       "<ellipse fill=\"none\" stroke=\"#000000\" cx=\"62.9325\" cy=\"-427.6123\" rx=\"62.8651\" ry=\"48.1667\"/>\n",
       "<text text-anchor=\"middle\" x=\"62.9325\" y=\"-448.6123\" font-family=\"Times,serif\" font-size=\"10.00\" fill=\"#000000\">Node 101 </text>\n",
       "<text text-anchor=\"middle\" x=\"62.9325\" y=\"-436.6123\" font-family=\"Times,serif\" font-size=\"10.00\" fill=\"#000000\">age(21.0) &lt;= 31.5</text>\n",
       "<text text-anchor=\"middle\" x=\"62.9325\" y=\"-424.6123\" font-family=\"Times,serif\" font-size=\"10.00\" fill=\"#000000\"> samples 116 </text>\n",
       "<text text-anchor=\"middle\" x=\"62.9325\" y=\"-412.6123\" font-family=\"Times,serif\" font-size=\"10.00\" fill=\"#000000\"> values [96. 20.], </text>\n",
       "<text text-anchor=\"middle\" x=\"62.9325\" y=\"-400.6123\" font-family=\"Times,serif\" font-size=\"10.00\" fill=\"#000000\"> impurity 0.29</text>\n",
       "</g>\n",
       "<!-- 100&#45;&gt;101 -->\n",
       "<g id=\"edge13\" class=\"edge\">\n",
       "<title>100&#45;&gt;101</title>\n",
       "<path fill=\"none\" stroke=\"#000000\" d=\"M116.0711,-515.4016C109.2708,-504.1669 101.9005,-491.9906 94.8761,-480.3856\"/>\n",
       "<polygon fill=\"#000000\" stroke=\"#000000\" points=\"97.7595,-478.3901 89.587,-471.6476 91.7711,-482.0149 97.7595,-478.3901\"/>\n",
       "</g>\n",
       "<!-- 112 -->\n",
       "<g id=\"node15\" class=\"node\">\n",
       "<title>112</title>\n",
       "<ellipse fill=\"none\" stroke=\"#0000ff\" cx=\"222.9325\" cy=\"-427.6123\" rx=\"79.3924\" ry=\"48.1667\"/>\n",
       "<text text-anchor=\"middle\" x=\"222.9325\" y=\"-448.6123\" font-family=\"Times,serif\" font-size=\"10.00\" fill=\"#000000\">Node 112 </text>\n",
       "<text text-anchor=\"middle\" x=\"222.9325\" y=\"-436.6123\" font-family=\"Times,serif\" font-size=\"10.00\" fill=\"#000000\">ticket_cat(678) &gt; 116.0</text>\n",
       "<text text-anchor=\"middle\" x=\"222.9325\" y=\"-424.6123\" font-family=\"Times,serif\" font-size=\"10.00\" fill=\"#000000\"> samples 205 </text>\n",
       "<text text-anchor=\"middle\" x=\"222.9325\" y=\"-412.6123\" font-family=\"Times,serif\" font-size=\"10.00\" fill=\"#000000\"> values [187. &#160;18.], </text>\n",
       "<text text-anchor=\"middle\" x=\"222.9325\" y=\"-400.6123\" font-family=\"Times,serif\" font-size=\"10.00\" fill=\"#000000\"> impurity 0.16</text>\n",
       "</g>\n",
       "<!-- 100&#45;&gt;112 -->\n",
       "<g id=\"edge14\" class=\"edge\">\n",
       "<title>100&#45;&gt;112</title>\n",
       "<path fill=\"none\" stroke=\"#000000\" d=\"M169.7939,-515.4016C176.3127,-504.6321 183.3551,-492.9973 190.1147,-481.83\"/>\n",
       "<polygon fill=\"#000000\" stroke=\"#000000\" points=\"193.2756,-483.367 195.4596,-472.9997 187.2871,-479.7422 193.2756,-483.367\"/>\n",
       "</g>\n",
       "<!-- 113 -->\n",
       "<g id=\"node16\" class=\"node\">\n",
       "<title>113</title>\n",
       "<ellipse fill=\"none\" stroke=\"#000000\" cx=\"141.9325\" cy=\"-295.4457\" rx=\"60.2083\" ry=\"48.1667\"/>\n",
       "<text text-anchor=\"middle\" x=\"141.9325\" y=\"-316.4457\" font-family=\"Times,serif\" font-size=\"10.00\" fill=\"#000000\">Node 113 </text>\n",
       "<text text-anchor=\"middle\" x=\"141.9325\" y=\"-304.4457\" font-family=\"Times,serif\" font-size=\"10.00\" fill=\"#000000\">pclass(3) &gt; 2.0</text>\n",
       "<text text-anchor=\"middle\" x=\"141.9325\" y=\"-292.4457\" font-family=\"Times,serif\" font-size=\"10.00\" fill=\"#000000\"> samples 15 </text>\n",
       "<text text-anchor=\"middle\" x=\"141.9325\" y=\"-280.4457\" font-family=\"Times,serif\" font-size=\"10.00\" fill=\"#000000\"> values [11. &#160;4.], </text>\n",
       "<text text-anchor=\"middle\" x=\"141.9325\" y=\"-268.4457\" font-family=\"Times,serif\" font-size=\"10.00\" fill=\"#000000\"> impurity 0.39</text>\n",
       "</g>\n",
       "<!-- 112&#45;&gt;113 -->\n",
       "<g id=\"edge15\" class=\"edge\">\n",
       "<title>112&#45;&gt;113</title>\n",
       "<path fill=\"none\" stroke=\"#000000\" d=\"M195.2834,-382.4977C188.4175,-371.2946 181.0018,-359.1946 173.946,-347.6817\"/>\n",
       "<polygon fill=\"#000000\" stroke=\"#000000\" points=\"176.8451,-345.714 168.6355,-339.0167 170.8768,-349.3718 176.8451,-345.714\"/>\n",
       "</g>\n",
       "<!-- 118 -->\n",
       "<g id=\"node17\" class=\"node\">\n",
       "<title>118</title>\n",
       "<ellipse fill=\"none\" stroke=\"#0000ff\" cx=\"303.9325\" cy=\"-295.4457\" rx=\"83.3772\" ry=\"48.1667\"/>\n",
       "<text text-anchor=\"middle\" x=\"303.9325\" y=\"-316.4457\" font-family=\"Times,serif\" font-size=\"10.00\" fill=\"#000000\">Node 118 </text>\n",
       "<text text-anchor=\"middle\" x=\"303.9325\" y=\"-304.4457\" font-family=\"Times,serif\" font-size=\"10.00\" fill=\"#000000\">ticket_cat(678) &lt;= 859.5</text>\n",
       "<text text-anchor=\"middle\" x=\"303.9325\" y=\"-292.4457\" font-family=\"Times,serif\" font-size=\"10.00\" fill=\"#000000\"> samples 190 </text>\n",
       "<text text-anchor=\"middle\" x=\"303.9325\" y=\"-280.4457\" font-family=\"Times,serif\" font-size=\"10.00\" fill=\"#000000\"> values [176. &#160;14.], </text>\n",
       "<text text-anchor=\"middle\" x=\"303.9325\" y=\"-268.4457\" font-family=\"Times,serif\" font-size=\"10.00\" fill=\"#000000\"> impurity 0.14</text>\n",
       "</g>\n",
       "<!-- 112&#45;&gt;118 -->\n",
       "<g id=\"edge16\" class=\"edge\">\n",
       "<title>112&#45;&gt;118</title>\n",
       "<path fill=\"none\" stroke=\"#000000\" d=\"M250.5816,-382.4977C257.0909,-371.8765 264.0943,-360.4491 270.8168,-349.4802\"/>\n",
       "<polygon fill=\"#000000\" stroke=\"#000000\" points=\"273.8918,-351.1608 276.133,-340.8057 267.9235,-347.503 273.8918,-351.1608\"/>\n",
       "</g>\n",
       "<!-- 119 -->\n",
       "<g id=\"node18\" class=\"node\">\n",
       "<title>119</title>\n",
       "<ellipse fill=\"none\" stroke=\"#0000ff\" cx=\"219.9325\" cy=\"-163.2792\" rx=\"67.3507\" ry=\"48.1667\"/>\n",
       "<text text-anchor=\"middle\" x=\"219.9325\" y=\"-184.2792\" font-family=\"Times,serif\" font-size=\"10.00\" fill=\"#000000\">Node 119 </text>\n",
       "<text text-anchor=\"middle\" x=\"219.9325\" y=\"-172.2792\" font-family=\"Times,serif\" font-size=\"10.00\" fill=\"#000000\">age(21.0) &gt; 15.0</text>\n",
       "<text text-anchor=\"middle\" x=\"219.9325\" y=\"-160.2792\" font-family=\"Times,serif\" font-size=\"10.00\" fill=\"#000000\"> samples 183 </text>\n",
       "<text text-anchor=\"middle\" x=\"219.9325\" y=\"-148.2792\" font-family=\"Times,serif\" font-size=\"10.00\" fill=\"#000000\"> values [171. &#160;12.], </text>\n",
       "<text text-anchor=\"middle\" x=\"219.9325\" y=\"-136.2792\" font-family=\"Times,serif\" font-size=\"10.00\" fill=\"#000000\"> impurity 0.12</text>\n",
       "</g>\n",
       "<!-- 118&#45;&gt;119 -->\n",
       "<g id=\"edge17\" class=\"edge\">\n",
       "<title>118&#45;&gt;119</title>\n",
       "<path fill=\"none\" stroke=\"#000000\" d=\"M275.0245,-249.9615C267.9904,-238.894 260.412,-226.97 253.1938,-215.6129\"/>\n",
       "<polygon fill=\"#000000\" stroke=\"#000000\" points=\"256.0772,-213.6245 247.7593,-207.0622 250.1694,-217.3793 256.0772,-213.6245\"/>\n",
       "</g>\n",
       "<!-- 122 -->\n",
       "<g id=\"node19\" class=\"node\">\n",
       "<title>122</title>\n",
       "<ellipse fill=\"none\" stroke=\"#000000\" cx=\"388.9325\" cy=\"-163.2792\" rx=\"83.3772\" ry=\"48.1667\"/>\n",
       "<text text-anchor=\"middle\" x=\"388.9325\" y=\"-184.2792\" font-family=\"Times,serif\" font-size=\"10.00\" fill=\"#000000\">Node 122 </text>\n",
       "<text text-anchor=\"middle\" x=\"388.9325\" y=\"-172.2792\" font-family=\"Times,serif\" font-size=\"10.00\" fill=\"#000000\">ticket_cat(678) &lt;= 862.0</text>\n",
       "<text text-anchor=\"middle\" x=\"388.9325\" y=\"-160.2792\" font-family=\"Times,serif\" font-size=\"10.00\" fill=\"#000000\"> samples 7 </text>\n",
       "<text text-anchor=\"middle\" x=\"388.9325\" y=\"-148.2792\" font-family=\"Times,serif\" font-size=\"10.00\" fill=\"#000000\"> values [5. 2.], </text>\n",
       "<text text-anchor=\"middle\" x=\"388.9325\" y=\"-136.2792\" font-family=\"Times,serif\" font-size=\"10.00\" fill=\"#000000\"> impurity 0.41</text>\n",
       "</g>\n",
       "<!-- 118&#45;&gt;122 -->\n",
       "<g id=\"edge18\" class=\"edge\">\n",
       "<title>118&#45;&gt;122</title>\n",
       "<path fill=\"none\" stroke=\"#000000\" d=\"M332.9469,-250.3312C339.7777,-239.71 347.127,-228.2826 354.1814,-217.3136\"/>\n",
       "<polygon fill=\"#000000\" stroke=\"#000000\" points=\"357.2948,-218.9432 359.7602,-208.6392 351.4072,-215.1567 357.2948,-218.9432\"/>\n",
       "</g>\n",
       "<!-- 120 -->\n",
       "<g id=\"node20\" class=\"node\">\n",
       "<title>120</title>\n",
       "<ellipse fill=\"none\" stroke=\"#000000\" cx=\"149.9325\" cy=\"-39.598\" rx=\"54.3945\" ry=\"39.6962\"/>\n",
       "<text text-anchor=\"middle\" x=\"149.9325\" y=\"-54.598\" font-family=\"Times,serif\" font-size=\"10.00\" fill=\"#000000\">Node 120 </text>\n",
       "<text text-anchor=\"middle\" x=\"149.9325\" y=\"-42.598\" font-family=\"Times,serif\" font-size=\"10.00\" fill=\"#000000\"> samples 3 </text>\n",
       "<text text-anchor=\"middle\" x=\"149.9325\" y=\"-30.598\" font-family=\"Times,serif\" font-size=\"10.00\" fill=\"#000000\"> values [2. 1.], </text>\n",
       "<text text-anchor=\"middle\" x=\"149.9325\" y=\"-18.598\" font-family=\"Times,serif\" font-size=\"10.00\" fill=\"#000000\"> impurity 0.44</text>\n",
       "</g>\n",
       "<!-- 119&#45;&gt;120 -->\n",
       "<g id=\"edge19\" class=\"edge\">\n",
       "<title>119&#45;&gt;120</title>\n",
       "<path fill=\"none\" stroke=\"#000000\" d=\"M194.6609,-118.6275C188.5419,-107.816 181.992,-96.2431 175.8441,-85.3805\"/>\n",
       "<polygon fill=\"#000000\" stroke=\"#000000\" points=\"178.7642,-83.4341 170.7926,-76.4552 172.6722,-86.882 178.7642,-83.4341\"/>\n",
       "</g>\n",
       "<!-- 121 -->\n",
       "<g id=\"node21\" class=\"node\">\n",
       "<title>121</title>\n",
       "<ellipse fill=\"none\" stroke=\"#0000ff\" cx=\"289.9325\" cy=\"-39.598\" rx=\"67.3507\" ry=\"39.6962\"/>\n",
       "<text text-anchor=\"middle\" x=\"289.9325\" y=\"-54.598\" font-family=\"Times,serif\" font-size=\"10.00\" fill=\"#000000\">Node 121 </text>\n",
       "<text text-anchor=\"middle\" x=\"289.9325\" y=\"-42.598\" font-family=\"Times,serif\" font-size=\"10.00\" fill=\"#000000\"> samples 180 </text>\n",
       "<text text-anchor=\"middle\" x=\"289.9325\" y=\"-30.598\" font-family=\"Times,serif\" font-size=\"10.00\" fill=\"#000000\"> values [169. &#160;11.], </text>\n",
       "<text text-anchor=\"middle\" x=\"289.9325\" y=\"-18.598\" font-family=\"Times,serif\" font-size=\"10.00\" fill=\"#000000\"> impurity 0.11</text>\n",
       "</g>\n",
       "<!-- 119&#45;&gt;121 -->\n",
       "<g id=\"edge20\" class=\"edge\">\n",
       "<title>119&#45;&gt;121</title>\n",
       "<path fill=\"none\" stroke=\"#000000\" d=\"M245.2041,-118.6275C251.2007,-108.0322 257.6112,-96.7057 263.6516,-86.0331\"/>\n",
       "<polygon fill=\"#000000\" stroke=\"#000000\" points=\"266.7417,-87.679 268.6213,-77.2522 260.6497,-84.2311 266.7417,-87.679\"/>\n",
       "</g>\n",
       "</g>\n",
       "</svg>\n"
      ],
      "text/plain": [
       "<graphviz.files.Source at 0x1234979e8>"
      ]
     },
     "execution_count": 69,
     "metadata": {},
     "output_type": "execute_result"
    }
   ],
   "source": [
    "dts.show_decision_tree_prediction_path(sample)"
   ]
  },
  {
   "cell_type": "markdown",
   "metadata": {},
   "source": [
    "### Error analysis"
   ]
  },
  {
   "cell_type": "code",
   "execution_count": 70,
   "metadata": {
    "ExecuteTime": {
     "end_time": "2019-07-19T12:28:30.561930Z",
     "start_time": "2019-07-19T12:28:30.548459Z"
    }
   },
   "outputs": [],
   "source": [
    "validation[\"prediction\"] = dt.predict(validation[features_v3])"
   ]
  },
  {
   "cell_type": "code",
   "execution_count": 71,
   "metadata": {
    "ExecuteTime": {
     "end_time": "2019-07-19T12:28:31.219006Z",
     "start_time": "2019-07-19T12:28:31.207211Z"
    }
   },
   "outputs": [
    {
     "data": {
      "text/plain": [
       "survived  prediction  gender\n",
       "False     False       female     20\n",
       "                      male      175\n",
       "          True        female     23\n",
       "                      male       25\n",
       "True      False       female      5\n",
       "                      male       39\n",
       "          True        female     85\n",
       "                      male       21\n",
       "dtype: int64"
      ]
     },
     "execution_count": 71,
     "metadata": {},
     "output_type": "execute_result"
    }
   ],
   "source": [
    "validation.groupby([\"survived\", \"prediction\", \"gender\"]).size()"
   ]
  },
  {
   "cell_type": "markdown",
   "metadata": {},
   "source": [
    "### Hyperparameter tuning\n",
    "Hyperparameters are those parameters we can set when we initialize a ML model. Their values can have a big impact \n",
    "into model performance.\n",
    "\n",
    "How do we change them ? First we need to understand if our model is overfitting or underfitting and based on this information to change corresponding hyperparameters values.\n",
    "\n",
    "Don’t exagerate and spend too much time to tune hyperparameters, especially in the first phase of the project. Would be recommended to spend that time for data understanding, feature engineering.\n",
    "\n",
    "[DecisionTreeClassifier hyperparamenters](https://scikit-learn.org/stable/modules/generated/sklearn.tree.DecisionTreeClassifier.html). "
   ]
  },
  {
   "cell_type": "markdown",
   "metadata": {},
   "source": [
    "#### max_depth"
   ]
  },
  {
   "cell_type": "code",
   "execution_count": 72,
   "metadata": {
    "ExecuteTime": {
     "end_time": "2019-07-19T12:28:34.619931Z",
     "start_time": "2019-07-19T12:28:34.518304Z"
    }
   },
   "outputs": [],
   "source": [
    "max_depth_values = [1, 2, 3, 5, 10, 30, 60, 100]\n",
    "train_accuracy = []\n",
    "validation_accuracy = []\n",
    "for depth in max_depth_values:\n",
    "    dt = DecisionTreeClassifier(max_depth=depth)\n",
    "    dt.fit(train[features_v3], train[target])\n",
    "    train_accuracy.append(accuracy_score(train[target], dt.predict(train[features_v3])))\n",
    "    validation_accuracy.append(accuracy_score(validation[target], dt.predict(validation[features_v3])))"
   ]
  },
  {
   "cell_type": "code",
   "execution_count": 73,
   "metadata": {
    "ExecuteTime": {
     "end_time": "2019-07-19T12:28:35.335585Z",
     "start_time": "2019-07-19T12:28:35.021998Z"
    }
   },
   "outputs": [
    {
     "data": {
      "text/plain": [
       "<matplotlib.legend.Legend at 0x1236af470>"
      ]
     },
     "execution_count": 73,
     "metadata": {},
     "output_type": "execute_result"
    },
    {
     "data": {
      "image/png": "[encoded data removed]",
      "text/plain": [
       "<Figure size 720x360 with 1 Axes>"
      ]
     },
     "metadata": {
      "needs_background": "light"
     },
     "output_type": "display_data"
    }
   ],
   "source": [
    "plt.figure(figsize=(10,5))\n",
    "plt.xticks(range(0, len(max_depth_values)), max_depth_values)\n",
    "plt.plot(train_accuracy, label=\"train accuracy\")\n",
    "plt.plot(validation_accuracy, label=\"validation accuracy\")\n",
    "plt.grid()\n",
    "plt.legend()"
   ]
  },
  {
   "cell_type": "markdown",
   "metadata": {},
   "source": [
    "#### min_samples_split\n",
    "The minimum number of samples required to split an internal node"
   ]
  },
  {
   "cell_type": "code",
   "execution_count": 74,
   "metadata": {
    "ExecuteTime": {
     "end_time": "2019-07-19T12:28:36.306802Z",
     "start_time": "2019-07-19T12:28:36.166981Z"
    }
   },
   "outputs": [],
   "source": [
    "train_accuracy = []\n",
    "validation_accuracy = []\n",
    "min_samples_split_values = [2, 5, 10, 15, 20, 30, 40, 50, 70, 100]\n",
    "for min_samples_split in min_samples_split_values:\n",
    "    dt = DecisionTreeClassifier(min_samples_split=min_samples_split)\n",
    "    dt.fit(train[features_v3], train[target])\n",
    "    train_accuracy.append(accuracy_score(train[target], dt.predict(train[features_v3])))\n",
    "    validation_accuracy.append(accuracy_score(validation[target], dt.predict(validation[features_v3])))"
   ]
  },
  {
   "cell_type": "code",
   "execution_count": 75,
   "metadata": {
    "ExecuteTime": {
     "end_time": "2019-07-19T12:28:37.106138Z",
     "start_time": "2019-07-19T12:28:36.712130Z"
    }
   },
   "outputs": [
    {
     "data": {
      "image/png": "[encoded data removed]",
      "text/plain": [
       "<Figure size 720x360 with 1 Axes>"
      ]
     },
     "metadata": {
      "needs_background": "light"
     },
     "output_type": "display_data"
    }
   ],
   "source": [
    "plt.figure(figsize=(10,5))\n",
    "plt.xticks(range(0, len(min_samples_split_values)), min_samples_split_values)\n",
    "plt.plot(train_accuracy)\n",
    "plt.plot(validation_accuracy)\n",
    "plt.grid()"
   ]
  },
  {
   "cell_type": "markdown",
   "metadata": {},
   "source": [
    "#### Try multiple hyperparameters  \n",
    "Trying multiple hyperparameter values in the same time can be done manually or [automatically](https://scikit-learn.org/stable/modules/grid_search.html)."
   ]
  },
  {
   "cell_type": "code",
   "execution_count": 76,
   "metadata": {
    "ExecuteTime": {
     "end_time": "2019-07-19T12:28:40.494225Z",
     "start_time": "2019-07-19T12:28:39.898179Z"
    }
   },
   "outputs": [],
   "source": [
    "hyperparameters_values = []\n",
    "train_accuracy = []\n",
    "validation_accuracy = []\n",
    "max_depth_values = [1, 2, 3, 5, 10, 30, 60, 100]\n",
    "min_samples_split_values = [2, 5, 10, 15, 20, 30, 40, 50]\n",
    "\n",
    "for max_depth in max_depth_values:\n",
    "    for min_samples_split in min_samples_split_values:\n",
    "        dt = DecisionTreeClassifier(max_depth=max_depth, min_samples_split=min_samples_split)\n",
    "        dt.fit(train[features_v3], train[target])\n",
    "\n",
    "        hyperparameters_values.append(f\"{max_depth},{min_samples_split}\")\n",
    "        train_accuracy.append(accuracy_score(train[target], dt.predict(train[features_v3])))\n",
    "        validation_accuracy.append(accuracy_score(validation[target], dt.predict(validation[features_v3])))\n",
    "        "
   ]
  },
  {
   "cell_type": "code",
   "execution_count": 77,
   "metadata": {
    "ExecuteTime": {
     "end_time": "2019-07-19T12:28:42.628934Z",
     "start_time": "2019-07-19T12:28:41.007194Z"
    }
   },
   "outputs": [
    {
     "data": {
      "text/plain": [
       "<matplotlib.legend.Legend at 0x1224b5b00>"
      ]
     },
     "execution_count": 77,
     "metadata": {},
     "output_type": "execute_result"
    },
    {
     "data": {
      "image/png": "[encoded data removed]",
      "text/plain": [
       "<Figure size 2880x720 with 1 Axes>"
      ]
     },
     "metadata": {
      "needs_background": "light"
     },
     "output_type": "display_data"
    }
   ],
   "source": [
    "plt.figure(figsize=(40,10))\n",
    "plt.xticks(range(0, len(hyperparameters_values)), hyperparameters_values, rotation='40')\n",
    "plt.plot(train_accuracy, label=\"train_accuracy\")\n",
    "plt.plot(validation_accuracy, label=\"validation_accuracy\")\n",
    "plt.grid()\n",
    "plt.legend()"
   ]
  },
  {
   "cell_type": "markdown",
   "metadata": {},
   "source": [
    "### Final DecisionTree model"
   ]
  },
  {
   "cell_type": "code",
   "execution_count": 79,
   "metadata": {
    "ExecuteTime": {
     "end_time": "2019-07-19T12:29:05.264884Z",
     "start_time": "2019-07-19T12:29:05.253155Z"
    }
   },
   "outputs": [
    {
     "data": {
      "text/plain": [
       "DecisionTreeClassifier(class_weight=None, criterion='gini', max_depth=5,\n",
       "                       max_features=None, max_leaf_nodes=None,\n",
       "                       min_impurity_decrease=0.0, min_impurity_split=None,\n",
       "                       min_samples_leaf=1, min_samples_split=2,\n",
       "                       min_weight_fraction_leaf=0.0, presort=False,\n",
       "                       random_state=None, splitter='best')"
      ]
     },
     "execution_count": 79,
     "metadata": {},
     "output_type": "execute_result"
    }
   ],
   "source": [
    "dt = DecisionTreeClassifier(max_depth=5, min_samples_split=2)\n",
    "dt.fit(dataset[features_v3], dataset[target])"
   ]
  },
  {
   "cell_type": "code",
   "execution_count": null,
   "metadata": {},
   "outputs": [],
   "source": []
  },
  {
   "cell_type": "code",
   "execution_count": null,
   "metadata": {},
   "outputs": [],
   "source": []
  },
  {
   "cell_type": "code",
   "execution_count": null,
   "metadata": {},
   "outputs": [],
   "source": []
  },
  {
   "cell_type": "code",
   "execution_count": null,
   "metadata": {},
   "outputs": [],
   "source": []
  },
  {
   "cell_type": "code",
   "execution_count": null,
   "metadata": {},
   "outputs": [],
   "source": []
  },
  {
   "cell_type": "code",
   "execution_count": null,
   "metadata": {},
   "outputs": [],
   "source": []
  },
  {
   "cell_type": "code",
   "execution_count": null,
   "metadata": {},
   "outputs": [],
   "source": []
  },
  {
   "cell_type": "code",
   "execution_count": null,
   "metadata": {},
   "outputs": [],
   "source": []
  },
  {
   "cell_type": "code",
   "execution_count": null,
   "metadata": {},
   "outputs": [],
   "source": []
  },
  {
   "cell_type": "code",
   "execution_count": null,
   "metadata": {},
   "outputs": [],
   "source": []
  },
  {
   "cell_type": "code",
   "execution_count": null,
   "metadata": {},
   "outputs": [],
   "source": []
  },
  {
   "cell_type": "code",
   "execution_count": null,
   "metadata": {},
   "outputs": [],
   "source": []
  }
 ],
 "metadata": {
  "kernelspec": {
   "display_name": "Python 3",
   "language": "python",
   "name": "python3"
  },
  "language_info": {
   "codemirror_mode": {
    "name": "ipython",
    "version": 3
   },
   "file_extension": ".py",
   "mimetype": "text/x-python",
   "name": "python",
   "nbconvert_exporter": "python",
   "pygments_lexer": "ipython3",
   "version": "3.7.0"
  },
  "toc": {
   "base_numbering": 1,
   "nav_menu": {},
   "number_sections": true,
   "sideBar": true,
   "skip_h1_title": false,
   "title_cell": "Table of Contents",
   "title_sidebar": "Contents",
   "toc_cell": false,
   "toc_position": {
    "height": "calc(100% - 180px)",
    "left": "10px",
    "top": "150px",
    "width": "292px"
   },
   "toc_section_display": true,
   "toc_window_display": true
  }
 },
 "nbformat": 4,
 "nbformat_minor": 2
}
