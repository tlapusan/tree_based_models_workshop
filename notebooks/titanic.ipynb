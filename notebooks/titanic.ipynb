{
 "cells": [
  {
   "cell_type": "markdown",
   "metadata": {},
   "source": [
    "# Intro"
   ]
  },
  {
   "cell_type": "markdown",
   "metadata": {},
   "source": [
    "## Machine Learning (ML)"
   ]
  },
  {
   "cell_type": "markdown",
   "metadata": {
    "ExecuteTime": {
     "end_time": "2019-06-20T17:03:38.335912Z",
     "start_time": "2019-06-20T17:03:37.910151Z"
    }
   },
   "source": [
    "TODO <br>\n",
    "think at a better intro\n",
    "\n",
    "- Machine Learning is a way to find patterns in our data and based on these patterns to make new predictions.\n",
    "- ML is about the task of learning a mapping function from inputs to outputs.\n",
    "- for each step, give refernces to other most advanceds solutions\n",
    "\n",
    "\n"
   ]
  },
  {
   "cell_type": "markdown",
   "metadata": {
    "ExecuteTime": {
     "end_time": "2019-06-20T17:08:20.972111Z",
     "start_time": "2019-06-20T17:08:20.969251Z"
    }
   },
   "source": [
    "\n",
    "### ML use-cases\n",
    "[Digit recognition](http://bit.ly/2x8FF2s) <br>\n",
    "Our goal is to correctly identify digits from a dataset of tens of thousands of handwritten images <br>\n",
    "\n",
    "[Titanic: Machine Learning from Disaster](https://www.kaggle.com/c/titanic) <br>\n",
    "We need to predict if a person survived or didn't survive on Titanic\n",
    "\n",
    "[Predict Future Sales](https://www.kaggle.com/c/competitive-data-science-predict-future-sales) <br>\n",
    "We need to predict total sales for every product and store in the next month <br>\n",
    "\n",
    "Above ML use-cases are extracted from Kaggle competitions. Kaggle is the most popular online platform where we can test, learn and share our ML skills. <br>\n",
    "\n",
    "If we start to think at the big companies which we are using daily, like Facebook, Google, Amazon, Twitter... most of them functionalities are implemented using ML. <br>\n",
    "\n",
    "I'm almost sure that if you start to think for 5 minutes, you can see some functionalities from you project/product which can be implemented with ML.\n",
    "\n",
    "\n",
    "\n"
   ]
  },
  {
   "cell_type": "markdown",
   "metadata": {},
   "source": [
    "## ML requirements\n",
    "<b>Data</b> <br>\n",
    "To develop a ML project, first we need a dataset. <br>\n",
    "\n",
    "There are hundreds of dataset available online for free and waiting to be used !\n",
    "- [UCI Machine Learning Repository](https://archive.ics.uci.edu/ml/index.php)\n",
    "- [Kaggle datasets](https://www.kaggle.com/datasets)\n",
    "- [ask google](https://www.google.com/search?ei=R2QMXZD9MNaD8gL4uYPoCw&q=machine+learning+open+datasets&oq=machine+learning+open+datasets&gs_l=psy-ab.3..0i203j0i8i30.5101.6297..6496...1.0..0.128.673.0j6......0....1..gws-wiz.......0i71j35i304i39j0i7i30j0i13j0i8i7i30j0i7i30i19j0i8i7i30i19j0i19j0i8i13i30i19.lyx-wjPDejE)\n",
    "\n",
    "If we don't already have in place a dataset, we need first to plan how to collect and store our data. <br>\n",
    "This phase of how to store the data is very important, because based on it rely most our ML project work. <br>\n",
    "It is well known that approx. 80% from a ML project development is spend on data exploration, data cleaning, data transformation.\n",
    "\n",
    "<i>data cleaning examples and tools used for it... </i>\n",
    "\n",
    "<b>Software (ML libraries) </b> <br>\n",
    "Yes, it's true that ML algorithms are based on mathematic. But it's also true that most of these algorithms are already implemented in a lot of libraries, so we don't need to know all the math details. <br>\n",
    "Most of the time, is it enough to have a general understanding of what a ML algorithm does to apply it with success on our project. Of course, if you deep dive into the details implementation, you will start to master it and if you master something you will have a better success. <br>\n",
    "\n",
    "OK, we know that there are ML libraries to use but what programming languages do we need to know to use them ? The most common ones are Python and R. There are also libraries written for example in Java, .Net, Scala, but either are in to early stage, implement only a few algorithms, those algorithms aren't the most efficent ones implemented and have a weak comunity/suport behind them. <br>\n",
    "\n",
    "Python and R are the most common programming languages when it's about ML. Python has the advantage that has a strong and large community itself and also that the latest best ML libraries support Python. R language was very used in the past, but it seems to have a descending path in the last years. \n",
    "\n",
    "Most common Python libraries : (look in how to win a kaggle competition for other libraries)\n",
    "- Scikit-learn\n",
    "- Spark ML\n",
    "- Theano\n",
    "- TensorFlow\n",
    "- Keras\n",
    "- PyTorch\n",
    "\n",
    "<i> explain differences between libraries </i>\n",
    "\n",
    "\n",
    "Nowadays, it's pretty easy to install and use these libraries. We can either install them on our personal computers or access them from cloud services. Just to see how important and useful are them for software industry, the biggest cloud providers created services around them :\n",
    "- amazon\n",
    "- microsoft\n",
    "- google\n",
    "- lentiq or bigstep ?\n",
    "\n",
    "<i>link references</i>\n",
    "\n",
    "\n",
    "<b>Hardware</b> <br>\n",
    "Every software needs hardware. This is the case also for ML. <br>\n",
    "Hardware specifications are related to the type of project and mostly to the volume of data. If the volume of data if big, we clearly will need more power(CPU, memory) to proccess it. <br>\n",
    "\n",
    "For computer vision, is indicated to have a [GPU](https://en.wikipedia.org/wiki/Graphics_processing_unit), a good processor and few tens of memory gigabytes. For traditional ML datasets, where most of the time we have [structure data](https://en.wikipedia.org/wiki/Data_structure) and few hundreds, gigabytes of data is enough a commodity hardware(ex. 4 cores, 8 GBs RAM) . <br>\n",
    "\n",
    "BUT, if you want to start learning ML, hardware is not an escuse. You can find a small dataset, a lightweight library and this will ran very fast even on the cheapest laptop/PC. <br>\n",
    "\n",
    "If you are not sure that ML if for you and you are skeptical about investing for hardware, you can choose a cloud solution. In this case you can rent hardware and pay as much as you consume. Nowadays, these services are pretty cheap. <i> look for prices </i>\n",
    "\n",
    " \n",
    "\n"
   ]
  },
  {
   "cell_type": "markdown",
   "metadata": {},
   "source": [
    "## Our workshop setup"
   ]
  },
  {
   "cell_type": "markdown",
   "metadata": {},
   "source": [
    "Dataset\n",
    "- [Titanic dataset](https://data.world/nrippner/titanic-disaster-dataset)\n",
    "\n",
    "Software \n",
    "- [jupyter notebook](https://jupyter.org/)\n",
    "- [python](https://www.python.org/)\n",
    "- [sklearn](https://scikit-learn.org/stable/)\n",
    "- [pandas](https://pandas.pydata.org/)\n",
    "- [matplotlib](https://matplotlib.org/)\n",
    "- [woodpecker](https://github.com/tlapusan/woodpecker)\n",
    "\n",
    "Hardware\n",
    "- [Lentiq](https://lentiq.com/)\n",
    "- Your own laptop\n"
   ]
  },
  {
   "cell_type": "markdown",
   "metadata": {},
   "source": [
    "<i> workshop general steps </i>"
   ]
  },
  {
   "cell_type": "markdown",
   "metadata": {},
   "source": [
    "# Classification algorithms - DecisionTree and RandomForest"
   ]
  },
  {
   "cell_type": "markdown",
   "metadata": {},
   "source": [
    "- read the data\n",
    "- data exploration\n",
    "- data cleaning and data transformation\n",
    "- initializing and fitting ML models\n",
    "- model validation\n",
    "- model structure interpretation\n",
    "- hyperparameter tuning"
   ]
  },
  {
   "cell_type": "markdown",
   "metadata": {},
   "source": [
    "## Imports"
   ]
  },
  {
   "cell_type": "markdown",
   "metadata": {},
   "source": [
    "Imports in Python, as in any other programming language, are the ways to include other library funtionalities.\n",
    "\n",
    "Read more from [official docs](https://docs.python.org/3/reference/import.html) about Python imports"
   ]
  },
  {
   "cell_type": "code",
   "execution_count": 106,
   "metadata": {
    "ExecuteTime": {
     "end_time": "2019-07-01T16:03:01.420120Z",
     "start_time": "2019-07-01T16:03:01.378960Z"
    }
   },
   "outputs": [],
   "source": [
    "from sklearn.metrics import accuracy_score\n",
    "from sklearn.tree import DecisionTreeClassifier\n",
    "from sklearn.ensemble import RandomForestClassifier\n",
    "from sklearn.model_selection import train_test_split\n",
    "from sklearn import tree\n",
    "from sklearn.model_selection import cross_val_score, cross_validate\n",
    "from sklearn.model_selection import StratifiedKFold\n",
    "\n",
    "from graphviz import Source\n",
    "import matplotlib.pyplot as plt\n",
    "import pandas as pd"
   ]
  },
  {
   "cell_type": "code",
   "execution_count": 107,
   "metadata": {
    "ExecuteTime": {
     "end_time": "2019-07-01T16:03:01.578637Z",
     "start_time": "2019-07-01T16:03:01.530231Z"
    }
   },
   "outputs": [
    {
     "name": "stdout",
     "output_type": "stream",
     "text": [
      "The autoreload extension is already loaded. To reload it, use:\n",
      "  %reload_ext autoreload\n"
     ]
    }
   ],
   "source": [
    "%load_ext autoreload\n",
    "%autoreload 2\n",
    "\n",
    "%matplotlib inline\n",
    "\n",
    "import sys\n",
    "sys.path.append(f\"/Users/tudorlapusan/Documents/workspaces/ml/woodpecker/\")\n",
    "from woodpecker.decision_tree_structure import DecisionTreeStructure\n"
   ]
  },
  {
   "cell_type": "code",
   "execution_count": 3,
   "metadata": {
    "ExecuteTime": {
     "end_time": "2019-07-01T15:49:39.257711Z",
     "start_time": "2019-07-01T15:49:39.225026Z"
    }
   },
   "outputs": [],
   "source": [
    "pd.options.display.max_columns = 999"
   ]
  },
  {
   "cell_type": "markdown",
   "metadata": {},
   "source": [
    "## Dataset\n",
    "\n",
    "What are we trying to solve today ?\n",
    "\n",
    "The dataset is related to the sinking of the Titanic ship. On April 15, 1912, during her maiden voyage, the Titanic sank after colliding with an iceberg, killing 1502 out of 2224 passengers and crew. This sensational tragedy shocked the international community and led to better safety regulations for ships.\n",
    "\n",
    "<b>Our goal is to predict which passengers survived the tragedy ! </b> <br>\n",
    "\n",
    "\n",
    "Depending of what we need to predict, the ML algorithms are devided in two main subclasses : <br>\n",
    "<b>Classification </b>\n",
    "- we need to predict a class/label (a limited set of values), ex. email is span or not spam, healty or not healty\n",
    "- the most common is the binary classification, where we need to predict between two classes\n",
    "- when we need to predict multiple classes, the problem is known as multi-class classification\n",
    "\n",
    "<b>Regression </b>\n",
    "- we need to predict a real-value, such as an integer or floating point value, ex price, age, distance \n",
    "\n",
    "[Differences between Classification and Regression](https://machinelearningmastery.com/classification-versus-regression-in-machine-learning/)\n",
    "\n",
    "Above subclasses of algorithms are making part from supervised learning. Why? Because we trained the algorithms based on a known label y (ground truth). Unsupervised learning, on the other hand, does not have labels, so its goal is to infer the natural structure present within a set of data points. [Read more](https://towardsdatascience.com/supervised-vs-unsupervised-learning-14f68e32ea8d)\n",
    "\n",
    "<i> examples of supervized/unsupervised algorithms </i>"
   ]
  },
  {
   "cell_type": "markdown",
   "metadata": {},
   "source": [
    "### Read the data"
   ]
  },
  {
   "cell_type": "code",
   "execution_count": 4,
   "metadata": {
    "ExecuteTime": {
     "end_time": "2019-07-01T15:49:39.311566Z",
     "start_time": "2019-07-01T15:49:39.259505Z"
    }
   },
   "outputs": [],
   "source": [
    "dataset = pd.read_csv(\"../dataset/titanic/titanic.csv\")"
   ]
  },
  {
   "cell_type": "code",
   "execution_count": 5,
   "metadata": {
    "ExecuteTime": {
     "end_time": "2019-07-01T15:49:39.372162Z",
     "start_time": "2019-07-01T15:49:39.313977Z"
    },
    "scrolled": true
   },
   "outputs": [
    {
     "data": {
      "text/html": [
       "<div>\n",
       "<style scoped>\n",
       "    .dataframe tbody tr th:only-of-type {\n",
       "        vertical-align: middle;\n",
       "    }\n",
       "\n",
       "    .dataframe tbody tr th {\n",
       "        vertical-align: top;\n",
       "    }\n",
       "\n",
       "    .dataframe thead th {\n",
       "        text-align: right;\n",
       "    }\n",
       "</style>\n",
       "<table border=\"1\" class=\"dataframe\">\n",
       "  <thead>\n",
       "    <tr style=\"text-align: right;\">\n",
       "      <th></th>\n",
       "      <th>pclass</th>\n",
       "      <th>survived</th>\n",
       "      <th>name</th>\n",
       "      <th>sex</th>\n",
       "      <th>age</th>\n",
       "      <th>sibsp</th>\n",
       "      <th>parch</th>\n",
       "      <th>ticket</th>\n",
       "      <th>fare</th>\n",
       "      <th>cabin</th>\n",
       "      <th>embarked</th>\n",
       "    </tr>\n",
       "  </thead>\n",
       "  <tbody>\n",
       "    <tr>\n",
       "      <th>0</th>\n",
       "      <td>1</td>\n",
       "      <td>True</td>\n",
       "      <td>Allen, Miss. Elisabeth Walton</td>\n",
       "      <td>female</td>\n",
       "      <td>29.0000</td>\n",
       "      <td>0</td>\n",
       "      <td>0</td>\n",
       "      <td>24160</td>\n",
       "      <td>211.3375</td>\n",
       "      <td>B5</td>\n",
       "      <td>S</td>\n",
       "    </tr>\n",
       "    <tr>\n",
       "      <th>1</th>\n",
       "      <td>1</td>\n",
       "      <td>True</td>\n",
       "      <td>Allison, Master. Hudson Trevor</td>\n",
       "      <td>male</td>\n",
       "      <td>0.9167</td>\n",
       "      <td>1</td>\n",
       "      <td>2</td>\n",
       "      <td>113781</td>\n",
       "      <td>151.5500</td>\n",
       "      <td>C22 C26</td>\n",
       "      <td>S</td>\n",
       "    </tr>\n",
       "    <tr>\n",
       "      <th>2</th>\n",
       "      <td>1</td>\n",
       "      <td>False</td>\n",
       "      <td>Allison, Miss. Helen Loraine</td>\n",
       "      <td>female</td>\n",
       "      <td>2.0000</td>\n",
       "      <td>1</td>\n",
       "      <td>2</td>\n",
       "      <td>113781</td>\n",
       "      <td>151.5500</td>\n",
       "      <td>C22 C26</td>\n",
       "      <td>S</td>\n",
       "    </tr>\n",
       "    <tr>\n",
       "      <th>3</th>\n",
       "      <td>1</td>\n",
       "      <td>False</td>\n",
       "      <td>Allison, Mr. Hudson Joshua Creighton</td>\n",
       "      <td>male</td>\n",
       "      <td>30.0000</td>\n",
       "      <td>1</td>\n",
       "      <td>2</td>\n",
       "      <td>113781</td>\n",
       "      <td>151.5500</td>\n",
       "      <td>C22 C26</td>\n",
       "      <td>S</td>\n",
       "    </tr>\n",
       "    <tr>\n",
       "      <th>4</th>\n",
       "      <td>1</td>\n",
       "      <td>False</td>\n",
       "      <td>Allison, Mrs. Hudson J C (Bessie Waldo Daniels)</td>\n",
       "      <td>female</td>\n",
       "      <td>25.0000</td>\n",
       "      <td>1</td>\n",
       "      <td>2</td>\n",
       "      <td>113781</td>\n",
       "      <td>151.5500</td>\n",
       "      <td>C22 C26</td>\n",
       "      <td>S</td>\n",
       "    </tr>\n",
       "    <tr>\n",
       "      <th>5</th>\n",
       "      <td>1</td>\n",
       "      <td>True</td>\n",
       "      <td>Anderson, Mr. Harry</td>\n",
       "      <td>male</td>\n",
       "      <td>48.0000</td>\n",
       "      <td>0</td>\n",
       "      <td>0</td>\n",
       "      <td>19952</td>\n",
       "      <td>26.5500</td>\n",
       "      <td>E12</td>\n",
       "      <td>S</td>\n",
       "    </tr>\n",
       "    <tr>\n",
       "      <th>6</th>\n",
       "      <td>1</td>\n",
       "      <td>True</td>\n",
       "      <td>Andrews, Miss. Kornelia Theodosia</td>\n",
       "      <td>female</td>\n",
       "      <td>63.0000</td>\n",
       "      <td>1</td>\n",
       "      <td>0</td>\n",
       "      <td>13502</td>\n",
       "      <td>77.9583</td>\n",
       "      <td>D7</td>\n",
       "      <td>S</td>\n",
       "    </tr>\n",
       "    <tr>\n",
       "      <th>7</th>\n",
       "      <td>1</td>\n",
       "      <td>False</td>\n",
       "      <td>Andrews, Mr. Thomas Jr</td>\n",
       "      <td>male</td>\n",
       "      <td>39.0000</td>\n",
       "      <td>0</td>\n",
       "      <td>0</td>\n",
       "      <td>112050</td>\n",
       "      <td>0.0000</td>\n",
       "      <td>A36</td>\n",
       "      <td>S</td>\n",
       "    </tr>\n",
       "    <tr>\n",
       "      <th>8</th>\n",
       "      <td>1</td>\n",
       "      <td>True</td>\n",
       "      <td>Appleton, Mrs. Edward Dale (Charlotte Lamson)</td>\n",
       "      <td>female</td>\n",
       "      <td>53.0000</td>\n",
       "      <td>2</td>\n",
       "      <td>0</td>\n",
       "      <td>11769</td>\n",
       "      <td>51.4792</td>\n",
       "      <td>C101</td>\n",
       "      <td>S</td>\n",
       "    </tr>\n",
       "    <tr>\n",
       "      <th>9</th>\n",
       "      <td>1</td>\n",
       "      <td>False</td>\n",
       "      <td>Artagaveytia, Mr. Ramon</td>\n",
       "      <td>male</td>\n",
       "      <td>71.0000</td>\n",
       "      <td>0</td>\n",
       "      <td>0</td>\n",
       "      <td>PC 17609</td>\n",
       "      <td>49.5042</td>\n",
       "      <td>NaN</td>\n",
       "      <td>C</td>\n",
       "    </tr>\n",
       "  </tbody>\n",
       "</table>\n",
       "</div>"
      ],
      "text/plain": [
       "   pclass  survived                                             name     sex  \\\n",
       "0       1      True                    Allen, Miss. Elisabeth Walton  female   \n",
       "1       1      True                   Allison, Master. Hudson Trevor    male   \n",
       "2       1     False                     Allison, Miss. Helen Loraine  female   \n",
       "3       1     False             Allison, Mr. Hudson Joshua Creighton    male   \n",
       "4       1     False  Allison, Mrs. Hudson J C (Bessie Waldo Daniels)  female   \n",
       "5       1      True                              Anderson, Mr. Harry    male   \n",
       "6       1      True                Andrews, Miss. Kornelia Theodosia  female   \n",
       "7       1     False                           Andrews, Mr. Thomas Jr    male   \n",
       "8       1      True    Appleton, Mrs. Edward Dale (Charlotte Lamson)  female   \n",
       "9       1     False                          Artagaveytia, Mr. Ramon    male   \n",
       "\n",
       "       age  sibsp  parch    ticket      fare    cabin embarked  \n",
       "0  29.0000      0      0     24160  211.3375       B5        S  \n",
       "1   0.9167      1      2    113781  151.5500  C22 C26        S  \n",
       "2   2.0000      1      2    113781  151.5500  C22 C26        S  \n",
       "3  30.0000      1      2    113781  151.5500  C22 C26        S  \n",
       "4  25.0000      1      2    113781  151.5500  C22 C26        S  \n",
       "5  48.0000      0      0     19952   26.5500      E12        S  \n",
       "6  63.0000      1      0     13502   77.9583       D7        S  \n",
       "7  39.0000      0      0    112050    0.0000      A36        S  \n",
       "8  53.0000      2      0     11769   51.4792     C101        S  \n",
       "9  71.0000      0      0  PC 17609   49.5042      NaN        C  "
      ]
     },
     "execution_count": 5,
     "metadata": {},
     "output_type": "execute_result"
    }
   ],
   "source": [
    "dataset.head(10)"
   ]
  },
  {
   "cell_type": "markdown",
   "metadata": {},
   "source": [
    "Any machine learning algorithm needs data from where to learn and make relevant predictions ! <br>\n",
    "In our world, we can find a lot of dataset types, like structure datasets, raw text, images, video, sounds, etc.\n",
    "\n",
    "\n",
    "\n",
    "[Pandas](http://pandas.pydata.org/) is the most popular library in Python for working with structured datasets. \n",
    "\n",
    "During the development of a ML project, working with data is typically devided into multiple stages :\n",
    "- data transformation and data cleaning\n",
    "- data analysis, visualisations\n",
    "- data modeling using ML algorithms\n",
    "\n",
    "Pandas is the ideal tool for all of these tasks. The main data structures in Pandas are Series (1-dimensional) and DataFrame (2-dimensional).\n",
    "\n",
    "Pandas DataFrame (can be seen as a SQL table) :\n",
    "- easy handling of missing data\n",
    "- add/delete columns \n",
    "- powerfull groupby, joins funtionalities\n",
    "- can read from CSV, excel, databases, json, parquet, etc\n",
    "\n",
    "\n",
    "[Official docs](http://pandas.pydata.org/pandas-docs/stable/) <br>\n",
    "[Python for Data Analysis book](https://www.amazon.com/Python-Data-Analysis-Wrangling-IPython/dp/1449319793)\n",
    "\n",
    "\n",
    "\n"
   ]
  },
  {
   "cell_type": "markdown",
   "metadata": {},
   "source": [
    "## Initial data analysis"
   ]
  },
  {
   "cell_type": "markdown",
   "metadata": {},
   "source": [
    "TODO - show few of jupyter shortcuts, like show method documentation <br>\n",
    "TODO - understand better the shorcut descriptionn <br>\n",
    "TODO - save intermediary dataset results  <br>\n",
    "TODO - apply feature encoding separately on train and validation\n"
   ]
  },
  {
   "cell_type": "markdown",
   "metadata": {
    "ExecuteTime": {
     "end_time": "2019-06-22T08:04:25.051084Z",
     "start_time": "2019-06-22T08:04:25.044909Z"
    }
   },
   "source": [
    "When working on a ML project we can start with at least two approaches : <br><br>\n",
    "<b>Data driven approach</b><br>\n",
    "It assume to start looking at the data, to make a lot of visualisations, discover patterns. By doing this we are making a lot of assumptions about the data and what kind of information we should put in our ML model. <br>\n",
    "In this way, the model will learn only from our assumptions, which in some cases can be limited or incorect.\n",
    "\n",
    "\n",
    "<b>ML drive approach </b><br>\n",
    "This approach assume to look at the data just enough to make it ready for training a ML model (handle missing values, categorical features, etc). After we have a model trained on this data, we interprete its result, structure, behavior and based on these investigations we make assumptions about the data.\n",
    "\n",
    "<br>\n",
    "Choose which one fits for you !"
   ]
  },
  {
   "cell_type": "markdown",
   "metadata": {},
   "source": [
    "### Columns description\n",
    "<b>pclass </b>: A proxy for socio-economic status (SES). 1st = Upper, 2nd = Middle, 3rd = Lower <br>\n",
    "<b>survived</b> : True = survived, False = didn't survive <br>\n",
    "<b>name</b> : passanger name <br>\n",
    "<b>sex</b> : passanger sex, male or female <br>\n",
    "<b>age</b> : passanger age <br>\n",
    "<b>sibsp</b> : # of siblings / spouses aboard the Titanic <br>\n",
    "<b>parch</b> : # of parents / children aboard the Titanic <br>\n",
    "<b>ticket</b> : passanger ticket number <br>\n",
    "<b>fare</b> : passenger fare <br>\n",
    "<b>embarked</b> : Port of embarkation, C = Cherbourg, Q = Queenstown, S = Southampton <br>"
   ]
  },
  {
   "cell_type": "code",
   "execution_count": 6,
   "metadata": {
    "ExecuteTime": {
     "end_time": "2019-07-01T15:49:39.624501Z",
     "start_time": "2019-07-01T15:49:39.580911Z"
    }
   },
   "outputs": [
    {
     "data": {
      "text/html": [
       "<div>\n",
       "<style scoped>\n",
       "    .dataframe tbody tr th:only-of-type {\n",
       "        vertical-align: middle;\n",
       "    }\n",
       "\n",
       "    .dataframe tbody tr th {\n",
       "        vertical-align: top;\n",
       "    }\n",
       "\n",
       "    .dataframe thead th {\n",
       "        text-align: right;\n",
       "    }\n",
       "</style>\n",
       "<table border=\"1\" class=\"dataframe\">\n",
       "  <thead>\n",
       "    <tr style=\"text-align: right;\">\n",
       "      <th></th>\n",
       "      <th>pclass</th>\n",
       "      <th>survived</th>\n",
       "      <th>name</th>\n",
       "      <th>sex</th>\n",
       "      <th>age</th>\n",
       "      <th>sibsp</th>\n",
       "      <th>parch</th>\n",
       "      <th>ticket</th>\n",
       "      <th>fare</th>\n",
       "      <th>cabin</th>\n",
       "      <th>embarked</th>\n",
       "    </tr>\n",
       "  </thead>\n",
       "  <tbody>\n",
       "    <tr>\n",
       "      <th>0</th>\n",
       "      <td>1</td>\n",
       "      <td>True</td>\n",
       "      <td>Allen, Miss. Elisabeth Walton</td>\n",
       "      <td>female</td>\n",
       "      <td>29.0000</td>\n",
       "      <td>0</td>\n",
       "      <td>0</td>\n",
       "      <td>24160</td>\n",
       "      <td>211.3375</td>\n",
       "      <td>B5</td>\n",
       "      <td>S</td>\n",
       "    </tr>\n",
       "    <tr>\n",
       "      <th>1</th>\n",
       "      <td>1</td>\n",
       "      <td>True</td>\n",
       "      <td>Allison, Master. Hudson Trevor</td>\n",
       "      <td>male</td>\n",
       "      <td>0.9167</td>\n",
       "      <td>1</td>\n",
       "      <td>2</td>\n",
       "      <td>113781</td>\n",
       "      <td>151.5500</td>\n",
       "      <td>C22 C26</td>\n",
       "      <td>S</td>\n",
       "    </tr>\n",
       "    <tr>\n",
       "      <th>2</th>\n",
       "      <td>1</td>\n",
       "      <td>False</td>\n",
       "      <td>Allison, Miss. Helen Loraine</td>\n",
       "      <td>female</td>\n",
       "      <td>2.0000</td>\n",
       "      <td>1</td>\n",
       "      <td>2</td>\n",
       "      <td>113781</td>\n",
       "      <td>151.5500</td>\n",
       "      <td>C22 C26</td>\n",
       "      <td>S</td>\n",
       "    </tr>\n",
       "  </tbody>\n",
       "</table>\n",
       "</div>"
      ],
      "text/plain": [
       "   pclass  survived                            name     sex      age  sibsp  \\\n",
       "0       1      True   Allen, Miss. Elisabeth Walton  female  29.0000      0   \n",
       "1       1      True  Allison, Master. Hudson Trevor    male   0.9167      1   \n",
       "2       1     False    Allison, Miss. Helen Loraine  female   2.0000      1   \n",
       "\n",
       "   parch  ticket      fare    cabin embarked  \n",
       "0      0   24160  211.3375       B5        S  \n",
       "1      2  113781  151.5500  C22 C26        S  \n",
       "2      2  113781  151.5500  C22 C26        S  "
      ]
     },
     "execution_count": 6,
     "metadata": {},
     "output_type": "execute_result"
    }
   ],
   "source": [
    "dataset.head(3)"
   ]
  },
  {
   "cell_type": "markdown",
   "metadata": {},
   "source": [
    "### Dataset size"
   ]
  },
  {
   "cell_type": "code",
   "execution_count": 7,
   "metadata": {
    "ExecuteTime": {
     "end_time": "2019-07-01T15:49:39.958799Z",
     "start_time": "2019-07-01T15:49:39.924235Z"
    }
   },
   "outputs": [
    {
     "data": {
      "text/plain": [
       "(1309, 11)"
      ]
     },
     "execution_count": 7,
     "metadata": {},
     "output_type": "execute_result"
    }
   ],
   "source": [
    "dataset.shape"
   ]
  },
  {
   "cell_type": "markdown",
   "metadata": {},
   "source": [
    "### Check column datatypes"
   ]
  },
  {
   "cell_type": "code",
   "execution_count": 8,
   "metadata": {
    "ExecuteTime": {
     "end_time": "2019-07-01T15:49:40.301128Z",
     "start_time": "2019-07-01T15:49:40.265401Z"
    }
   },
   "outputs": [
    {
     "data": {
      "text/plain": [
       "pclass        int64\n",
       "survived       bool\n",
       "name         object\n",
       "sex          object\n",
       "age         float64\n",
       "sibsp         int64\n",
       "parch         int64\n",
       "ticket       object\n",
       "fare        float64\n",
       "cabin        object\n",
       "embarked     object\n",
       "dtype: object"
      ]
     },
     "execution_count": 8,
     "metadata": {},
     "output_type": "execute_result"
    }
   ],
   "source": [
    "dataset.dtypes"
   ]
  },
  {
   "cell_type": "markdown",
   "metadata": {},
   "source": [
    "### Column summarize"
   ]
  },
  {
   "cell_type": "code",
   "execution_count": 9,
   "metadata": {
    "ExecuteTime": {
     "end_time": "2019-07-01T15:49:40.668851Z",
     "start_time": "2019-07-01T15:49:40.606555Z"
    }
   },
   "outputs": [
    {
     "data": {
      "text/html": [
       "<div>\n",
       "<style scoped>\n",
       "    .dataframe tbody tr th:only-of-type {\n",
       "        vertical-align: middle;\n",
       "    }\n",
       "\n",
       "    .dataframe tbody tr th {\n",
       "        vertical-align: top;\n",
       "    }\n",
       "\n",
       "    .dataframe thead th {\n",
       "        text-align: right;\n",
       "    }\n",
       "</style>\n",
       "<table border=\"1\" class=\"dataframe\">\n",
       "  <thead>\n",
       "    <tr style=\"text-align: right;\">\n",
       "      <th></th>\n",
       "      <th>pclass</th>\n",
       "      <th>age</th>\n",
       "      <th>sibsp</th>\n",
       "      <th>parch</th>\n",
       "      <th>fare</th>\n",
       "    </tr>\n",
       "  </thead>\n",
       "  <tbody>\n",
       "    <tr>\n",
       "      <th>count</th>\n",
       "      <td>1309.000000</td>\n",
       "      <td>1046.000000</td>\n",
       "      <td>1309.000000</td>\n",
       "      <td>1309.000000</td>\n",
       "      <td>1308.000000</td>\n",
       "    </tr>\n",
       "    <tr>\n",
       "      <th>mean</th>\n",
       "      <td>2.294882</td>\n",
       "      <td>29.881135</td>\n",
       "      <td>0.498854</td>\n",
       "      <td>0.385027</td>\n",
       "      <td>33.295479</td>\n",
       "    </tr>\n",
       "    <tr>\n",
       "      <th>std</th>\n",
       "      <td>0.837836</td>\n",
       "      <td>14.413500</td>\n",
       "      <td>1.041658</td>\n",
       "      <td>0.865560</td>\n",
       "      <td>51.758668</td>\n",
       "    </tr>\n",
       "    <tr>\n",
       "      <th>min</th>\n",
       "      <td>1.000000</td>\n",
       "      <td>0.166700</td>\n",
       "      <td>0.000000</td>\n",
       "      <td>0.000000</td>\n",
       "      <td>0.000000</td>\n",
       "    </tr>\n",
       "    <tr>\n",
       "      <th>25%</th>\n",
       "      <td>2.000000</td>\n",
       "      <td>21.000000</td>\n",
       "      <td>0.000000</td>\n",
       "      <td>0.000000</td>\n",
       "      <td>7.895800</td>\n",
       "    </tr>\n",
       "    <tr>\n",
       "      <th>50%</th>\n",
       "      <td>3.000000</td>\n",
       "      <td>28.000000</td>\n",
       "      <td>0.000000</td>\n",
       "      <td>0.000000</td>\n",
       "      <td>14.454200</td>\n",
       "    </tr>\n",
       "    <tr>\n",
       "      <th>75%</th>\n",
       "      <td>3.000000</td>\n",
       "      <td>39.000000</td>\n",
       "      <td>1.000000</td>\n",
       "      <td>0.000000</td>\n",
       "      <td>31.275000</td>\n",
       "    </tr>\n",
       "    <tr>\n",
       "      <th>max</th>\n",
       "      <td>3.000000</td>\n",
       "      <td>80.000000</td>\n",
       "      <td>8.000000</td>\n",
       "      <td>9.000000</td>\n",
       "      <td>512.329200</td>\n",
       "    </tr>\n",
       "  </tbody>\n",
       "</table>\n",
       "</div>"
      ],
      "text/plain": [
       "            pclass          age        sibsp        parch         fare\n",
       "count  1309.000000  1046.000000  1309.000000  1309.000000  1308.000000\n",
       "mean      2.294882    29.881135     0.498854     0.385027    33.295479\n",
       "std       0.837836    14.413500     1.041658     0.865560    51.758668\n",
       "min       1.000000     0.166700     0.000000     0.000000     0.000000\n",
       "25%       2.000000    21.000000     0.000000     0.000000     7.895800\n",
       "50%       3.000000    28.000000     0.000000     0.000000    14.454200\n",
       "75%       3.000000    39.000000     1.000000     0.000000    31.275000\n",
       "max       3.000000    80.000000     8.000000     9.000000   512.329200"
      ]
     },
     "execution_count": 9,
     "metadata": {},
     "output_type": "execute_result"
    }
   ],
   "source": [
    "dataset.describe()"
   ]
  },
  {
   "cell_type": "markdown",
   "metadata": {},
   "source": [
    "### Visualisations\n",
    "We understand better and faster if we look visually at the data. <br>\n",
    "Python community developed a lot of useful libraries for visualistions, but the most used one is [matplotlib](https://matplotlib.org/). Check [here](https://mode.com/blog/python-data-visualization-libraries) for other popular libraries. <br> \n",
    "\n",
    "\n",
    "The most common types of visualisations are histograms, line plots and scatter plots."
   ]
  },
  {
   "cell_type": "code",
   "execution_count": 10,
   "metadata": {
    "ExecuteTime": {
     "end_time": "2019-07-01T15:49:41.258043Z",
     "start_time": "2019-07-01T15:49:41.205722Z"
    }
   },
   "outputs": [
    {
     "data": {
      "text/html": [
       "<div>\n",
       "<style scoped>\n",
       "    .dataframe tbody tr th:only-of-type {\n",
       "        vertical-align: middle;\n",
       "    }\n",
       "\n",
       "    .dataframe tbody tr th {\n",
       "        vertical-align: top;\n",
       "    }\n",
       "\n",
       "    .dataframe thead th {\n",
       "        text-align: right;\n",
       "    }\n",
       "</style>\n",
       "<table border=\"1\" class=\"dataframe\">\n",
       "  <thead>\n",
       "    <tr style=\"text-align: right;\">\n",
       "      <th></th>\n",
       "      <th>pclass</th>\n",
       "      <th>survived</th>\n",
       "      <th>name</th>\n",
       "      <th>sex</th>\n",
       "      <th>age</th>\n",
       "      <th>sibsp</th>\n",
       "      <th>parch</th>\n",
       "      <th>ticket</th>\n",
       "      <th>fare</th>\n",
       "      <th>cabin</th>\n",
       "      <th>embarked</th>\n",
       "    </tr>\n",
       "  </thead>\n",
       "  <tbody>\n",
       "    <tr>\n",
       "      <th>0</th>\n",
       "      <td>1</td>\n",
       "      <td>True</td>\n",
       "      <td>Allen, Miss. Elisabeth Walton</td>\n",
       "      <td>female</td>\n",
       "      <td>29.0000</td>\n",
       "      <td>0</td>\n",
       "      <td>0</td>\n",
       "      <td>24160</td>\n",
       "      <td>211.3375</td>\n",
       "      <td>B5</td>\n",
       "      <td>S</td>\n",
       "    </tr>\n",
       "    <tr>\n",
       "      <th>1</th>\n",
       "      <td>1</td>\n",
       "      <td>True</td>\n",
       "      <td>Allison, Master. Hudson Trevor</td>\n",
       "      <td>male</td>\n",
       "      <td>0.9167</td>\n",
       "      <td>1</td>\n",
       "      <td>2</td>\n",
       "      <td>113781</td>\n",
       "      <td>151.5500</td>\n",
       "      <td>C22 C26</td>\n",
       "      <td>S</td>\n",
       "    </tr>\n",
       "    <tr>\n",
       "      <th>2</th>\n",
       "      <td>1</td>\n",
       "      <td>False</td>\n",
       "      <td>Allison, Miss. Helen Loraine</td>\n",
       "      <td>female</td>\n",
       "      <td>2.0000</td>\n",
       "      <td>1</td>\n",
       "      <td>2</td>\n",
       "      <td>113781</td>\n",
       "      <td>151.5500</td>\n",
       "      <td>C22 C26</td>\n",
       "      <td>S</td>\n",
       "    </tr>\n",
       "    <tr>\n",
       "      <th>3</th>\n",
       "      <td>1</td>\n",
       "      <td>False</td>\n",
       "      <td>Allison, Mr. Hudson Joshua Creighton</td>\n",
       "      <td>male</td>\n",
       "      <td>30.0000</td>\n",
       "      <td>1</td>\n",
       "      <td>2</td>\n",
       "      <td>113781</td>\n",
       "      <td>151.5500</td>\n",
       "      <td>C22 C26</td>\n",
       "      <td>S</td>\n",
       "    </tr>\n",
       "    <tr>\n",
       "      <th>4</th>\n",
       "      <td>1</td>\n",
       "      <td>False</td>\n",
       "      <td>Allison, Mrs. Hudson J C (Bessie Waldo Daniels)</td>\n",
       "      <td>female</td>\n",
       "      <td>25.0000</td>\n",
       "      <td>1</td>\n",
       "      <td>2</td>\n",
       "      <td>113781</td>\n",
       "      <td>151.5500</td>\n",
       "      <td>C22 C26</td>\n",
       "      <td>S</td>\n",
       "    </tr>\n",
       "    <tr>\n",
       "      <th>5</th>\n",
       "      <td>1</td>\n",
       "      <td>True</td>\n",
       "      <td>Anderson, Mr. Harry</td>\n",
       "      <td>male</td>\n",
       "      <td>48.0000</td>\n",
       "      <td>0</td>\n",
       "      <td>0</td>\n",
       "      <td>19952</td>\n",
       "      <td>26.5500</td>\n",
       "      <td>E12</td>\n",
       "      <td>S</td>\n",
       "    </tr>\n",
       "    <tr>\n",
       "      <th>6</th>\n",
       "      <td>1</td>\n",
       "      <td>True</td>\n",
       "      <td>Andrews, Miss. Kornelia Theodosia</td>\n",
       "      <td>female</td>\n",
       "      <td>63.0000</td>\n",
       "      <td>1</td>\n",
       "      <td>0</td>\n",
       "      <td>13502</td>\n",
       "      <td>77.9583</td>\n",
       "      <td>D7</td>\n",
       "      <td>S</td>\n",
       "    </tr>\n",
       "    <tr>\n",
       "      <th>7</th>\n",
       "      <td>1</td>\n",
       "      <td>False</td>\n",
       "      <td>Andrews, Mr. Thomas Jr</td>\n",
       "      <td>male</td>\n",
       "      <td>39.0000</td>\n",
       "      <td>0</td>\n",
       "      <td>0</td>\n",
       "      <td>112050</td>\n",
       "      <td>0.0000</td>\n",
       "      <td>A36</td>\n",
       "      <td>S</td>\n",
       "    </tr>\n",
       "    <tr>\n",
       "      <th>8</th>\n",
       "      <td>1</td>\n",
       "      <td>True</td>\n",
       "      <td>Appleton, Mrs. Edward Dale (Charlotte Lamson)</td>\n",
       "      <td>female</td>\n",
       "      <td>53.0000</td>\n",
       "      <td>2</td>\n",
       "      <td>0</td>\n",
       "      <td>11769</td>\n",
       "      <td>51.4792</td>\n",
       "      <td>C101</td>\n",
       "      <td>S</td>\n",
       "    </tr>\n",
       "    <tr>\n",
       "      <th>9</th>\n",
       "      <td>1</td>\n",
       "      <td>False</td>\n",
       "      <td>Artagaveytia, Mr. Ramon</td>\n",
       "      <td>male</td>\n",
       "      <td>71.0000</td>\n",
       "      <td>0</td>\n",
       "      <td>0</td>\n",
       "      <td>PC 17609</td>\n",
       "      <td>49.5042</td>\n",
       "      <td>NaN</td>\n",
       "      <td>C</td>\n",
       "    </tr>\n",
       "  </tbody>\n",
       "</table>\n",
       "</div>"
      ],
      "text/plain": [
       "   pclass  survived                                             name     sex  \\\n",
       "0       1      True                    Allen, Miss. Elisabeth Walton  female   \n",
       "1       1      True                   Allison, Master. Hudson Trevor    male   \n",
       "2       1     False                     Allison, Miss. Helen Loraine  female   \n",
       "3       1     False             Allison, Mr. Hudson Joshua Creighton    male   \n",
       "4       1     False  Allison, Mrs. Hudson J C (Bessie Waldo Daniels)  female   \n",
       "5       1      True                              Anderson, Mr. Harry    male   \n",
       "6       1      True                Andrews, Miss. Kornelia Theodosia  female   \n",
       "7       1     False                           Andrews, Mr. Thomas Jr    male   \n",
       "8       1      True    Appleton, Mrs. Edward Dale (Charlotte Lamson)  female   \n",
       "9       1     False                          Artagaveytia, Mr. Ramon    male   \n",
       "\n",
       "       age  sibsp  parch    ticket      fare    cabin embarked  \n",
       "0  29.0000      0      0     24160  211.3375       B5        S  \n",
       "1   0.9167      1      2    113781  151.5500  C22 C26        S  \n",
       "2   2.0000      1      2    113781  151.5500  C22 C26        S  \n",
       "3  30.0000      1      2    113781  151.5500  C22 C26        S  \n",
       "4  25.0000      1      2    113781  151.5500  C22 C26        S  \n",
       "5  48.0000      0      0     19952   26.5500      E12        S  \n",
       "6  63.0000      1      0     13502   77.9583       D7        S  \n",
       "7  39.0000      0      0    112050    0.0000      A36        S  \n",
       "8  53.0000      2      0     11769   51.4792     C101        S  \n",
       "9  71.0000      0      0  PC 17609   49.5042      NaN        C  "
      ]
     },
     "execution_count": 10,
     "metadata": {},
     "output_type": "execute_result"
    }
   ],
   "source": [
    "dataset.head(10)"
   ]
  },
  {
   "cell_type": "code",
   "execution_count": 11,
   "metadata": {
    "ExecuteTime": {
     "end_time": "2019-07-01T15:49:41.754205Z",
     "start_time": "2019-07-01T15:49:41.418472Z"
    }
   },
   "outputs": [
    {
     "data": {
      "text/plain": [
       "<matplotlib.axes._subplots.AxesSubplot at 0x126444780>"
      ]
     },
     "execution_count": 11,
     "metadata": {},
     "output_type": "execute_result"
    },
    {
     "data": {
      "image/png": "[encoded data removed]",
      "text/plain": [
       "<Figure size 720x360 with 1 Axes>"
      ]
     },
     "metadata": {
      "needs_background": "light"
     },
     "output_type": "display_data"
    }
   ],
   "source": [
    "dataset.groupby([\"survived\"]).size().plot.bar(figsize=(10,5))"
   ]
  },
  {
   "cell_type": "code",
   "execution_count": 12,
   "metadata": {
    "ExecuteTime": {
     "end_time": "2019-07-01T15:49:42.149458Z",
     "start_time": "2019-07-01T15:49:41.757545Z"
    }
   },
   "outputs": [
    {
     "data": {
      "text/plain": [
       "<matplotlib.axes._subplots.AxesSubplot at 0x126501358>"
      ]
     },
     "execution_count": 12,
     "metadata": {},
     "output_type": "execute_result"
    },
    {
     "data": {
      "image/png": "[encoded data removed]",
      "text/plain": [
       "<Figure size 720x360 with 1 Axes>"
      ]
     },
     "metadata": {
      "needs_background": "light"
     },
     "output_type": "display_data"
    }
   ],
   "source": [
    "dataset.age.plot.hist(figsize=(10,5))"
   ]
  },
  {
   "cell_type": "code",
   "execution_count": 13,
   "metadata": {
    "ExecuteTime": {
     "end_time": "2019-07-01T15:49:42.470721Z",
     "start_time": "2019-07-01T15:49:42.152075Z"
    }
   },
   "outputs": [
    {
     "data": {
      "text/plain": [
       "<matplotlib.axes._subplots.AxesSubplot at 0x1264bf630>"
      ]
     },
     "execution_count": 13,
     "metadata": {},
     "output_type": "execute_result"
    },
    {
     "data": {
      "image/png": "[encoded data removed]",
      "text/plain": [
       "<Figure size 720x360 with 1 Axes>"
      ]
     },
     "metadata": {
      "needs_background": "light"
     },
     "output_type": "display_data"
    }
   ],
   "source": [
    "dataset.groupby([\"sex\"]).size().plot.bar(figsize=(10,5))"
   ]
  },
  {
   "cell_type": "code",
   "execution_count": 14,
   "metadata": {
    "ExecuteTime": {
     "end_time": "2019-07-01T15:49:43.014203Z",
     "start_time": "2019-07-01T15:49:42.474348Z"
    }
   },
   "outputs": [
    {
     "data": {
      "text/plain": [
       "<matplotlib.axes._subplots.AxesSubplot at 0x126802908>"
      ]
     },
     "execution_count": 14,
     "metadata": {},
     "output_type": "execute_result"
    },
    {
     "data": {
      "image/png": "[encoded data removed]",
      "text/plain": [
       "<Figure size 720x360 with 1 Axes>"
      ]
     },
     "metadata": {
      "needs_background": "light"
     },
     "output_type": "display_data"
    }
   ],
   "source": [
    "dataset.fare.plot.hist(figsize=(10,5), bins=100)"
   ]
  },
  {
   "cell_type": "code",
   "execution_count": 15,
   "metadata": {
    "ExecuteTime": {
     "end_time": "2019-07-01T15:49:43.576522Z",
     "start_time": "2019-07-01T15:49:43.015843Z"
    }
   },
   "outputs": [
    {
     "data": {
      "text/plain": [
       "<matplotlib.axes._subplots.AxesSubplot at 0x126a520b8>"
      ]
     },
     "execution_count": 15,
     "metadata": {},
     "output_type": "execute_result"
    },
    {
     "data": {
      "image/png": "[encoded data removed]",
      "text/plain": [
       "<Figure size 1440x576 with 1 Axes>"
      ]
     },
     "metadata": {
      "needs_background": "light"
     },
     "output_type": "display_data"
    }
   ],
   "source": [
    "dataset.plot.scatter(x=\"age\", y = \"fare\", figsize=(20,8))"
   ]
  },
  {
   "cell_type": "markdown",
   "metadata": {},
   "source": [
    "### Workshop work\n",
    "- create other visualisations\n",
    "\n",
    "<i>vis for correlations</i>"
   ]
  },
  {
   "cell_type": "markdown",
   "metadata": {},
   "source": [
    "## Decision Tree Classifier"
   ]
  },
  {
   "cell_type": "markdown",
   "metadata": {},
   "source": [
    "Most of the time, the datasets we have are not ready to be used by a machine learning algorithm. We need to clean them and maybe also to tranform them into another values.\n",
    "\n",
    "A machine learning algorithm understand a dataset using its features (X) and target variable (y) ! <br>\n",
    "Features are the input properties from the dataset, on which the model is trained to make good predictions for target variable. \n"
   ]
  },
  {
   "cell_type": "markdown",
   "metadata": {},
   "source": [
    "Main advantages of Decision Trees \n",
    "- they are interpretable\n",
    "- they are fast to train\n",
    "- they have good results\n",
    "- easy to understand"
   ]
  },
  {
   "cell_type": "markdown",
   "metadata": {},
   "source": [
    "TODO <BR>\n",
    "Find a way/place to present in very high level how decision tree works and are build <br>\n",
    "Get notes from here : https://scikit-learn.org/stable/modules/tree.html#tips-on-practical-use\n",
    "Regression splitting criteria. std ? https://scikit-learn.org/stable/modules/tree.html#regression-criteria\n",
    "    \n",
    "<i> explain how decision tree is build </i>"
   ]
  },
  {
   "cell_type": "markdown",
   "metadata": {
    "ExecuteTime": {
     "end_time": "2019-06-09T17:18:15.464952Z",
     "start_time": "2019-06-09T17:18:15.459854Z"
    }
   },
   "source": [
    "![Decision tree](../resources/images/decision_tree_classifier_sample.png)\n"
   ]
  },
  {
   "cell_type": "markdown",
   "metadata": {},
   "source": [
    "Node impurity and Information Gain"
   ]
  },
  {
   "cell_type": "code",
   "execution_count": null,
   "metadata": {},
   "outputs": [],
   "source": []
  },
  {
   "cell_type": "code",
   "execution_count": 179,
   "metadata": {
    "ExecuteTime": {
     "end_time": "2019-07-02T17:30:35.740918Z",
     "start_time": "2019-07-02T17:30:35.699925Z"
    }
   },
   "outputs": [],
   "source": [
    "def get_gini(samples):\n",
    "    return samples[0]/sum(samples)*(1-samples[0]/sum(samples)) + samples[1]/sum(samples)*(1-samples[1]/sum(samples))\n",
    "    "
   ]
  },
  {
   "cell_type": "code",
   "execution_count": 218,
   "metadata": {
    "ExecuteTime": {
     "end_time": "2019-07-02T17:59:45.667073Z",
     "start_time": "2019-07-02T17:59:45.625676Z"
    }
   },
   "outputs": [],
   "source": [
    "def get_ig(s1, s2, s3):\n",
    "    print(get_gini(s1))\n",
    "    print((sum(s2)/sum(s1)*get_gini(s2)))\n",
    "    print(sum(s3)/sum(s1)*get_gini(s3))\n",
    "    return get_gini(s1) - ((sum(s2)/sum(s1)*get_gini(s2) + sum(s3)/sum(s1)*get_gini(s3)))"
   ]
  },
  {
   "cell_type": "code",
   "execution_count": 219,
   "metadata": {
    "ExecuteTime": {
     "end_time": "2019-07-02T17:59:46.189549Z",
     "start_time": "2019-07-02T17:59:46.149816Z"
    }
   },
   "outputs": [],
   "source": [
    "samples = [1, 25]"
   ]
  },
  {
   "cell_type": "code",
   "execution_count": 220,
   "metadata": {
    "ExecuteTime": {
     "end_time": "2019-07-02T17:59:46.599194Z",
     "start_time": "2019-07-02T17:59:46.556267Z"
    }
   },
   "outputs": [
    {
     "name": "stdout",
     "output_type": "stream",
     "text": [
      "0.48\n",
      "0.2\n",
      "0.26666666666666666\n"
     ]
    },
    {
     "data": {
      "text/plain": [
       "0.013333333333333308"
      ]
     },
     "execution_count": 220,
     "metadata": {},
     "output_type": "execute_result"
    }
   ],
   "source": [
    "get_ig([20,30], [10,10], [10,20])"
   ]
  },
  {
   "cell_type": "code",
   "execution_count": 221,
   "metadata": {
    "ExecuteTime": {
     "end_time": "2019-07-02T17:59:47.448434Z",
     "start_time": "2019-07-02T17:59:47.407547Z"
    }
   },
   "outputs": [
    {
     "name": "stdout",
     "output_type": "stream",
     "text": [
      "0.48\n",
      "0.15833333333333335\n",
      "0.03846153846153845\n"
     ]
    },
    {
     "data": {
      "text/plain": [
       "0.28320512820512816"
      ]
     },
     "execution_count": 221,
     "metadata": {},
     "output_type": "execute_result"
    }
   ],
   "source": [
    "get_ig([20,30], [19,5], [1,25])"
   ]
  },
  {
   "cell_type": "code",
   "execution_count": null,
   "metadata": {},
   "outputs": [],
   "source": []
  },
  {
   "cell_type": "markdown",
   "metadata": {},
   "source": [
    "### Feature selection\n",
    "Is the process where we need to decide which features to select for training our ML algorithm"
   ]
  },
  {
   "cell_type": "code",
   "execution_count": 16,
   "metadata": {
    "ExecuteTime": {
     "end_time": "2019-07-01T15:49:43.626910Z",
     "start_time": "2019-07-01T15:49:43.578765Z"
    }
   },
   "outputs": [
    {
     "data": {
      "text/html": [
       "<div>\n",
       "<style scoped>\n",
       "    .dataframe tbody tr th:only-of-type {\n",
       "        vertical-align: middle;\n",
       "    }\n",
       "\n",
       "    .dataframe tbody tr th {\n",
       "        vertical-align: top;\n",
       "    }\n",
       "\n",
       "    .dataframe thead th {\n",
       "        text-align: right;\n",
       "    }\n",
       "</style>\n",
       "<table border=\"1\" class=\"dataframe\">\n",
       "  <thead>\n",
       "    <tr style=\"text-align: right;\">\n",
       "      <th></th>\n",
       "      <th>pclass</th>\n",
       "      <th>survived</th>\n",
       "      <th>name</th>\n",
       "      <th>sex</th>\n",
       "      <th>age</th>\n",
       "      <th>sibsp</th>\n",
       "      <th>parch</th>\n",
       "      <th>ticket</th>\n",
       "      <th>fare</th>\n",
       "      <th>cabin</th>\n",
       "      <th>embarked</th>\n",
       "    </tr>\n",
       "  </thead>\n",
       "  <tbody>\n",
       "    <tr>\n",
       "      <th>0</th>\n",
       "      <td>1</td>\n",
       "      <td>True</td>\n",
       "      <td>Allen, Miss. Elisabeth Walton</td>\n",
       "      <td>female</td>\n",
       "      <td>29.0000</td>\n",
       "      <td>0</td>\n",
       "      <td>0</td>\n",
       "      <td>24160</td>\n",
       "      <td>211.3375</td>\n",
       "      <td>B5</td>\n",
       "      <td>S</td>\n",
       "    </tr>\n",
       "    <tr>\n",
       "      <th>1</th>\n",
       "      <td>1</td>\n",
       "      <td>True</td>\n",
       "      <td>Allison, Master. Hudson Trevor</td>\n",
       "      <td>male</td>\n",
       "      <td>0.9167</td>\n",
       "      <td>1</td>\n",
       "      <td>2</td>\n",
       "      <td>113781</td>\n",
       "      <td>151.5500</td>\n",
       "      <td>C22 C26</td>\n",
       "      <td>S</td>\n",
       "    </tr>\n",
       "    <tr>\n",
       "      <th>2</th>\n",
       "      <td>1</td>\n",
       "      <td>False</td>\n",
       "      <td>Allison, Miss. Helen Loraine</td>\n",
       "      <td>female</td>\n",
       "      <td>2.0000</td>\n",
       "      <td>1</td>\n",
       "      <td>2</td>\n",
       "      <td>113781</td>\n",
       "      <td>151.5500</td>\n",
       "      <td>C22 C26</td>\n",
       "      <td>S</td>\n",
       "    </tr>\n",
       "    <tr>\n",
       "      <th>3</th>\n",
       "      <td>1</td>\n",
       "      <td>False</td>\n",
       "      <td>Allison, Mr. Hudson Joshua Creighton</td>\n",
       "      <td>male</td>\n",
       "      <td>30.0000</td>\n",
       "      <td>1</td>\n",
       "      <td>2</td>\n",
       "      <td>113781</td>\n",
       "      <td>151.5500</td>\n",
       "      <td>C22 C26</td>\n",
       "      <td>S</td>\n",
       "    </tr>\n",
       "    <tr>\n",
       "      <th>4</th>\n",
       "      <td>1</td>\n",
       "      <td>False</td>\n",
       "      <td>Allison, Mrs. Hudson J C (Bessie Waldo Daniels)</td>\n",
       "      <td>female</td>\n",
       "      <td>25.0000</td>\n",
       "      <td>1</td>\n",
       "      <td>2</td>\n",
       "      <td>113781</td>\n",
       "      <td>151.5500</td>\n",
       "      <td>C22 C26</td>\n",
       "      <td>S</td>\n",
       "    </tr>\n",
       "    <tr>\n",
       "      <th>5</th>\n",
       "      <td>1</td>\n",
       "      <td>True</td>\n",
       "      <td>Anderson, Mr. Harry</td>\n",
       "      <td>male</td>\n",
       "      <td>48.0000</td>\n",
       "      <td>0</td>\n",
       "      <td>0</td>\n",
       "      <td>19952</td>\n",
       "      <td>26.5500</td>\n",
       "      <td>E12</td>\n",
       "      <td>S</td>\n",
       "    </tr>\n",
       "    <tr>\n",
       "      <th>6</th>\n",
       "      <td>1</td>\n",
       "      <td>True</td>\n",
       "      <td>Andrews, Miss. Kornelia Theodosia</td>\n",
       "      <td>female</td>\n",
       "      <td>63.0000</td>\n",
       "      <td>1</td>\n",
       "      <td>0</td>\n",
       "      <td>13502</td>\n",
       "      <td>77.9583</td>\n",
       "      <td>D7</td>\n",
       "      <td>S</td>\n",
       "    </tr>\n",
       "    <tr>\n",
       "      <th>7</th>\n",
       "      <td>1</td>\n",
       "      <td>False</td>\n",
       "      <td>Andrews, Mr. Thomas Jr</td>\n",
       "      <td>male</td>\n",
       "      <td>39.0000</td>\n",
       "      <td>0</td>\n",
       "      <td>0</td>\n",
       "      <td>112050</td>\n",
       "      <td>0.0000</td>\n",
       "      <td>A36</td>\n",
       "      <td>S</td>\n",
       "    </tr>\n",
       "    <tr>\n",
       "      <th>8</th>\n",
       "      <td>1</td>\n",
       "      <td>True</td>\n",
       "      <td>Appleton, Mrs. Edward Dale (Charlotte Lamson)</td>\n",
       "      <td>female</td>\n",
       "      <td>53.0000</td>\n",
       "      <td>2</td>\n",
       "      <td>0</td>\n",
       "      <td>11769</td>\n",
       "      <td>51.4792</td>\n",
       "      <td>C101</td>\n",
       "      <td>S</td>\n",
       "    </tr>\n",
       "    <tr>\n",
       "      <th>9</th>\n",
       "      <td>1</td>\n",
       "      <td>False</td>\n",
       "      <td>Artagaveytia, Mr. Ramon</td>\n",
       "      <td>male</td>\n",
       "      <td>71.0000</td>\n",
       "      <td>0</td>\n",
       "      <td>0</td>\n",
       "      <td>PC 17609</td>\n",
       "      <td>49.5042</td>\n",
       "      <td>NaN</td>\n",
       "      <td>C</td>\n",
       "    </tr>\n",
       "  </tbody>\n",
       "</table>\n",
       "</div>"
      ],
      "text/plain": [
       "   pclass  survived                                             name     sex  \\\n",
       "0       1      True                    Allen, Miss. Elisabeth Walton  female   \n",
       "1       1      True                   Allison, Master. Hudson Trevor    male   \n",
       "2       1     False                     Allison, Miss. Helen Loraine  female   \n",
       "3       1     False             Allison, Mr. Hudson Joshua Creighton    male   \n",
       "4       1     False  Allison, Mrs. Hudson J C (Bessie Waldo Daniels)  female   \n",
       "5       1      True                              Anderson, Mr. Harry    male   \n",
       "6       1      True                Andrews, Miss. Kornelia Theodosia  female   \n",
       "7       1     False                           Andrews, Mr. Thomas Jr    male   \n",
       "8       1      True    Appleton, Mrs. Edward Dale (Charlotte Lamson)  female   \n",
       "9       1     False                          Artagaveytia, Mr. Ramon    male   \n",
       "\n",
       "       age  sibsp  parch    ticket      fare    cabin embarked  \n",
       "0  29.0000      0      0     24160  211.3375       B5        S  \n",
       "1   0.9167      1      2    113781  151.5500  C22 C26        S  \n",
       "2   2.0000      1      2    113781  151.5500  C22 C26        S  \n",
       "3  30.0000      1      2    113781  151.5500  C22 C26        S  \n",
       "4  25.0000      1      2    113781  151.5500  C22 C26        S  \n",
       "5  48.0000      0      0     19952   26.5500      E12        S  \n",
       "6  63.0000      1      0     13502   77.9583       D7        S  \n",
       "7  39.0000      0      0    112050    0.0000      A36        S  \n",
       "8  53.0000      2      0     11769   51.4792     C101        S  \n",
       "9  71.0000      0      0  PC 17609   49.5042      NaN        C  "
      ]
     },
     "execution_count": 16,
     "metadata": {},
     "output_type": "execute_result"
    }
   ],
   "source": [
    "dataset.head(10)"
   ]
  },
  {
   "cell_type": "code",
   "execution_count": 17,
   "metadata": {
    "ExecuteTime": {
     "end_time": "2019-07-01T15:49:43.790524Z",
     "start_time": "2019-07-01T15:49:43.748738Z"
    }
   },
   "outputs": [],
   "source": [
    "feature_set_v1 = [\"sex\", \"age\", \"fare\", \"embarked\"]\n",
    "target = \"survived\""
   ]
  },
  {
   "cell_type": "markdown",
   "metadata": {},
   "source": [
    "### Initializing and training a DecisionTreeClassifier"
   ]
  },
  {
   "cell_type": "code",
   "execution_count": 18,
   "metadata": {
    "ExecuteTime": {
     "end_time": "2019-07-01T15:49:44.120971Z",
     "start_time": "2019-07-01T15:49:44.081316Z"
    }
   },
   "outputs": [],
   "source": [
    "dt_v1 = DecisionTreeClassifier(max_depth=5)"
   ]
  },
  {
   "cell_type": "code",
   "execution_count": 19,
   "metadata": {
    "ExecuteTime": {
     "end_time": "2019-07-01T15:49:44.835532Z",
     "start_time": "2019-07-01T15:49:44.267816Z"
    }
   },
   "outputs": [
    {
     "ename": "ValueError",
     "evalue": "could not convert string to float: 'female'",
     "output_type": "error",
     "traceback": [
      "\u001b[0;31m---------------------------------------------------------------------------\u001b[0m",
      "\u001b[0;31mValueError\u001b[0m                                Traceback (most recent call last)",
      "\u001b[0;32m<ipython-input-19-fa0c162189b2>\u001b[0m in \u001b[0;36m<module>\u001b[0;34m\u001b[0m\n\u001b[0;32m----> 1\u001b[0;31m \u001b[0mdt_v1\u001b[0m\u001b[0;34m.\u001b[0m\u001b[0mfit\u001b[0m\u001b[0;34m(\u001b[0m\u001b[0mdataset\u001b[0m\u001b[0;34m[\u001b[0m\u001b[0mfeature_set_v1\u001b[0m\u001b[0;34m]\u001b[0m\u001b[0;34m,\u001b[0m \u001b[0mdataset\u001b[0m\u001b[0;34m[\u001b[0m\u001b[0mtarget\u001b[0m\u001b[0;34m]\u001b[0m\u001b[0;34m)\u001b[0m\u001b[0;34m\u001b[0m\u001b[0m\n\u001b[0m",
      "\u001b[0;32m~/Documents/workspaces/ml/workshops/tree_based_models_workshop/venv/lib/python3.7/site-packages/sklearn/tree/tree.py\u001b[0m in \u001b[0;36mfit\u001b[0;34m(self, X, y, sample_weight, check_input, X_idx_sorted)\u001b[0m\n\u001b[1;32m    814\u001b[0m             \u001b[0msample_weight\u001b[0m\u001b[0;34m=\u001b[0m\u001b[0msample_weight\u001b[0m\u001b[0;34m,\u001b[0m\u001b[0;34m\u001b[0m\u001b[0m\n\u001b[1;32m    815\u001b[0m             \u001b[0mcheck_input\u001b[0m\u001b[0;34m=\u001b[0m\u001b[0mcheck_input\u001b[0m\u001b[0;34m,\u001b[0m\u001b[0;34m\u001b[0m\u001b[0m\n\u001b[0;32m--> 816\u001b[0;31m             X_idx_sorted=X_idx_sorted)\n\u001b[0m\u001b[1;32m    817\u001b[0m         \u001b[0;32mreturn\u001b[0m \u001b[0mself\u001b[0m\u001b[0;34m\u001b[0m\u001b[0m\n\u001b[1;32m    818\u001b[0m \u001b[0;34m\u001b[0m\u001b[0m\n",
      "\u001b[0;32m~/Documents/workspaces/ml/workshops/tree_based_models_workshop/venv/lib/python3.7/site-packages/sklearn/tree/tree.py\u001b[0m in \u001b[0;36mfit\u001b[0;34m(self, X, y, sample_weight, check_input, X_idx_sorted)\u001b[0m\n\u001b[1;32m    128\u001b[0m         \u001b[0mrandom_state\u001b[0m \u001b[0;34m=\u001b[0m \u001b[0mcheck_random_state\u001b[0m\u001b[0;34m(\u001b[0m\u001b[0mself\u001b[0m\u001b[0;34m.\u001b[0m\u001b[0mrandom_state\u001b[0m\u001b[0;34m)\u001b[0m\u001b[0;34m\u001b[0m\u001b[0m\n\u001b[1;32m    129\u001b[0m         \u001b[0;32mif\u001b[0m \u001b[0mcheck_input\u001b[0m\u001b[0;34m:\u001b[0m\u001b[0;34m\u001b[0m\u001b[0m\n\u001b[0;32m--> 130\u001b[0;31m             \u001b[0mX\u001b[0m \u001b[0;34m=\u001b[0m \u001b[0mcheck_array\u001b[0m\u001b[0;34m(\u001b[0m\u001b[0mX\u001b[0m\u001b[0;34m,\u001b[0m \u001b[0mdtype\u001b[0m\u001b[0;34m=\u001b[0m\u001b[0mDTYPE\u001b[0m\u001b[0;34m,\u001b[0m \u001b[0maccept_sparse\u001b[0m\u001b[0;34m=\u001b[0m\u001b[0;34m\"csc\"\u001b[0m\u001b[0;34m)\u001b[0m\u001b[0;34m\u001b[0m\u001b[0m\n\u001b[0m\u001b[1;32m    131\u001b[0m             \u001b[0my\u001b[0m \u001b[0;34m=\u001b[0m \u001b[0mcheck_array\u001b[0m\u001b[0;34m(\u001b[0m\u001b[0my\u001b[0m\u001b[0;34m,\u001b[0m \u001b[0mensure_2d\u001b[0m\u001b[0;34m=\u001b[0m\u001b[0;32mFalse\u001b[0m\u001b[0;34m,\u001b[0m \u001b[0mdtype\u001b[0m\u001b[0;34m=\u001b[0m\u001b[0;32mNone\u001b[0m\u001b[0;34m)\u001b[0m\u001b[0;34m\u001b[0m\u001b[0m\n\u001b[1;32m    132\u001b[0m             \u001b[0;32mif\u001b[0m \u001b[0missparse\u001b[0m\u001b[0;34m(\u001b[0m\u001b[0mX\u001b[0m\u001b[0;34m)\u001b[0m\u001b[0;34m:\u001b[0m\u001b[0;34m\u001b[0m\u001b[0m\n",
      "\u001b[0;32m~/Documents/workspaces/ml/workshops/tree_based_models_workshop/venv/lib/python3.7/site-packages/sklearn/utils/validation.py\u001b[0m in \u001b[0;36mcheck_array\u001b[0;34m(array, accept_sparse, accept_large_sparse, dtype, order, copy, force_all_finite, ensure_2d, allow_nd, ensure_min_samples, ensure_min_features, warn_on_dtype, estimator)\u001b[0m\n\u001b[1;32m    494\u001b[0m             \u001b[0;32mtry\u001b[0m\u001b[0;34m:\u001b[0m\u001b[0;34m\u001b[0m\u001b[0m\n\u001b[1;32m    495\u001b[0m                 \u001b[0mwarnings\u001b[0m\u001b[0;34m.\u001b[0m\u001b[0msimplefilter\u001b[0m\u001b[0;34m(\u001b[0m\u001b[0;34m'error'\u001b[0m\u001b[0;34m,\u001b[0m \u001b[0mComplexWarning\u001b[0m\u001b[0;34m)\u001b[0m\u001b[0;34m\u001b[0m\u001b[0m\n\u001b[0;32m--> 496\u001b[0;31m                 \u001b[0marray\u001b[0m \u001b[0;34m=\u001b[0m \u001b[0mnp\u001b[0m\u001b[0;34m.\u001b[0m\u001b[0masarray\u001b[0m\u001b[0;34m(\u001b[0m\u001b[0marray\u001b[0m\u001b[0;34m,\u001b[0m \u001b[0mdtype\u001b[0m\u001b[0;34m=\u001b[0m\u001b[0mdtype\u001b[0m\u001b[0;34m,\u001b[0m \u001b[0morder\u001b[0m\u001b[0;34m=\u001b[0m\u001b[0morder\u001b[0m\u001b[0;34m)\u001b[0m\u001b[0;34m\u001b[0m\u001b[0m\n\u001b[0m\u001b[1;32m    497\u001b[0m             \u001b[0;32mexcept\u001b[0m \u001b[0mComplexWarning\u001b[0m\u001b[0;34m:\u001b[0m\u001b[0;34m\u001b[0m\u001b[0m\n\u001b[1;32m    498\u001b[0m                 raise ValueError(\"Complex data not supported\\n\"\n",
      "\u001b[0;32m~/Documents/workspaces/ml/workshops/tree_based_models_workshop/venv/lib/python3.7/site-packages/numpy/core/numeric.py\u001b[0m in \u001b[0;36masarray\u001b[0;34m(a, dtype, order)\u001b[0m\n\u001b[1;32m    536\u001b[0m \u001b[0;34m\u001b[0m\u001b[0m\n\u001b[1;32m    537\u001b[0m     \"\"\"\n\u001b[0;32m--> 538\u001b[0;31m     \u001b[0;32mreturn\u001b[0m \u001b[0marray\u001b[0m\u001b[0;34m(\u001b[0m\u001b[0ma\u001b[0m\u001b[0;34m,\u001b[0m \u001b[0mdtype\u001b[0m\u001b[0;34m,\u001b[0m \u001b[0mcopy\u001b[0m\u001b[0;34m=\u001b[0m\u001b[0;32mFalse\u001b[0m\u001b[0;34m,\u001b[0m \u001b[0morder\u001b[0m\u001b[0;34m=\u001b[0m\u001b[0morder\u001b[0m\u001b[0;34m)\u001b[0m\u001b[0;34m\u001b[0m\u001b[0m\n\u001b[0m\u001b[1;32m    539\u001b[0m \u001b[0;34m\u001b[0m\u001b[0m\n\u001b[1;32m    540\u001b[0m \u001b[0;34m\u001b[0m\u001b[0m\n",
      "\u001b[0;31mValueError\u001b[0m: could not convert string to float: 'female'"
     ]
    }
   ],
   "source": [
    "dt_v1.fit(dataset[feature_set_v1], dataset[target])"
   ]
  },
  {
   "cell_type": "markdown",
   "metadata": {},
   "source": [
    "### Feature encoding"
   ]
  },
  {
   "cell_type": "code",
   "execution_count": null,
   "metadata": {
    "ExecuteTime": {
     "end_time": "2019-07-01T15:49:44.837816Z",
     "start_time": "2019-07-01T15:49:44.618Z"
    }
   },
   "outputs": [],
   "source": [
    "dataset.head(10)"
   ]
  },
  {
   "cell_type": "markdown",
   "metadata": {},
   "source": [
    "In Machine Learning we have two main types of features : <br>\n",
    "- <b>Numerical features </b> <br>\n",
    "    Like age, balance, duration,\n",
    "- <b>Categorical features</b>\n",
    "    - nominal features <br>\n",
    "    We don't have any logical order for feature values. ex. job, marital, housing, loan,\n",
    "    - ordinal features <br>\n",
    "    We have a logical order. ex. education, month, \n",
    "\n",
    "There are many ways to convert a categorical feature into a numerical one, almost each ML related library contains one. <br>\n",
    "\n",
    "One of the most populars are : <br>\n",
    "sklearn : [LabelEncoding](https://scikit-learn.org/stable/modules/generated/sklearn.preprocessing.LabelEncoder.html) <br>\n",
    "pandas : [Categorical data](http://pandas.pydata.org/pandas-docs/stable/user_guide/categorical.html)\n",
    "\n",
    "<br>\n",
    "<b>Pandas categorical data types </b><br>\n",
    "Categorical data types are using integer values  to represent the raw values from a column. <br>\n",
    "Behind, pandas is using a dictionary to keep all the mappings between integer values and raw values. Beside encoding functionality, categorical values can be used for memory saving.\n",
    " \n"
   ]
  },
  {
   "cell_type": "code",
   "execution_count": 20,
   "metadata": {
    "ExecuteTime": {
     "end_time": "2019-07-01T15:49:45.080935Z",
     "start_time": "2019-07-01T15:49:45.027657Z"
    },
    "scrolled": true
   },
   "outputs": [
    {
     "data": {
      "text/plain": [
       "0       female\n",
       "1         male\n",
       "2       female\n",
       "3         male\n",
       "4       female\n",
       "5         male\n",
       "6       female\n",
       "7         male\n",
       "8       female\n",
       "9         male\n",
       "10        male\n",
       "11      female\n",
       "12      female\n",
       "13      female\n",
       "14        male\n",
       "15        male\n",
       "16        male\n",
       "17      female\n",
       "18      female\n",
       "19        male\n",
       "20        male\n",
       "21      female\n",
       "22        male\n",
       "23      female\n",
       "24      female\n",
       "25        male\n",
       "26        male\n",
       "27      female\n",
       "28      female\n",
       "29        male\n",
       "         ...  \n",
       "1279    female\n",
       "1280      male\n",
       "1281      male\n",
       "1282      male\n",
       "1283      male\n",
       "1284      male\n",
       "1285      male\n",
       "1286    female\n",
       "1287      male\n",
       "1288      male\n",
       "1289      male\n",
       "1290    female\n",
       "1291      male\n",
       "1292      male\n",
       "1293      male\n",
       "1294      male\n",
       "1295      male\n",
       "1296      male\n",
       "1297      male\n",
       "1298      male\n",
       "1299      male\n",
       "1300    female\n",
       "1301      male\n",
       "1302      male\n",
       "1303      male\n",
       "1304    female\n",
       "1305    female\n",
       "1306      male\n",
       "1307      male\n",
       "1308      male\n",
       "Name: sex, Length: 1309, dtype: category\n",
       "Categories (2, object): [female, male]"
      ]
     },
     "execution_count": 20,
     "metadata": {},
     "output_type": "execute_result"
    }
   ],
   "source": [
    "# convert a string type to categorical type\n",
    "dataset.sex.astype(\"category\")"
   ]
  },
  {
   "cell_type": "code",
   "execution_count": 21,
   "metadata": {
    "ExecuteTime": {
     "end_time": "2019-07-01T15:49:45.284649Z",
     "start_time": "2019-07-01T15:49:45.234946Z"
    },
    "scrolled": true
   },
   "outputs": [
    {
     "data": {
      "text/plain": [
       "0       0\n",
       "1       1\n",
       "2       0\n",
       "3       1\n",
       "4       0\n",
       "5       1\n",
       "6       0\n",
       "7       1\n",
       "8       0\n",
       "9       1\n",
       "10      1\n",
       "11      0\n",
       "12      0\n",
       "13      0\n",
       "14      1\n",
       "15      1\n",
       "16      1\n",
       "17      0\n",
       "18      0\n",
       "19      1\n",
       "20      1\n",
       "21      0\n",
       "22      1\n",
       "23      0\n",
       "24      0\n",
       "25      1\n",
       "26      1\n",
       "27      0\n",
       "28      0\n",
       "29      1\n",
       "       ..\n",
       "1279    0\n",
       "1280    1\n",
       "1281    1\n",
       "1282    1\n",
       "1283    1\n",
       "1284    1\n",
       "1285    1\n",
       "1286    0\n",
       "1287    1\n",
       "1288    1\n",
       "1289    1\n",
       "1290    0\n",
       "1291    1\n",
       "1292    1\n",
       "1293    1\n",
       "1294    1\n",
       "1295    1\n",
       "1296    1\n",
       "1297    1\n",
       "1298    1\n",
       "1299    1\n",
       "1300    0\n",
       "1301    1\n",
       "1302    1\n",
       "1303    1\n",
       "1304    0\n",
       "1305    0\n",
       "1306    1\n",
       "1307    1\n",
       "1308    1\n",
       "Length: 1309, dtype: int8"
      ]
     },
     "execution_count": 21,
     "metadata": {},
     "output_type": "execute_result"
    }
   ],
   "source": [
    "dataset.sex.astype(\"category\").cat.codes"
   ]
  },
  {
   "cell_type": "code",
   "execution_count": 22,
   "metadata": {
    "ExecuteTime": {
     "end_time": "2019-07-01T15:49:45.482085Z",
     "start_time": "2019-07-01T15:49:45.435088Z"
    }
   },
   "outputs": [],
   "source": [
    "def encode_columns_as_categories(_dataset, _column_set):\n",
    "    for column in _column_set:\n",
    "        _dataset[f\"{column}_cat\"] = _dataset[column].astype(\"category\").cat.codes"
   ]
  },
  {
   "cell_type": "code",
   "execution_count": 23,
   "metadata": {
    "ExecuteTime": {
     "end_time": "2019-07-01T15:49:45.633529Z",
     "start_time": "2019-07-01T15:49:45.587569Z"
    }
   },
   "outputs": [],
   "source": [
    "encode_columns_as_categories(dataset, [\"sex\", \"embarked\"])\n"
   ]
  },
  {
   "cell_type": "code",
   "execution_count": 24,
   "metadata": {
    "ExecuteTime": {
     "end_time": "2019-07-01T15:49:45.833980Z",
     "start_time": "2019-07-01T15:49:45.778788Z"
    }
   },
   "outputs": [
    {
     "data": {
      "text/html": [
       "<div>\n",
       "<style scoped>\n",
       "    .dataframe tbody tr th:only-of-type {\n",
       "        vertical-align: middle;\n",
       "    }\n",
       "\n",
       "    .dataframe tbody tr th {\n",
       "        vertical-align: top;\n",
       "    }\n",
       "\n",
       "    .dataframe thead th {\n",
       "        text-align: right;\n",
       "    }\n",
       "</style>\n",
       "<table border=\"1\" class=\"dataframe\">\n",
       "  <thead>\n",
       "    <tr style=\"text-align: right;\">\n",
       "      <th></th>\n",
       "      <th>pclass</th>\n",
       "      <th>survived</th>\n",
       "      <th>name</th>\n",
       "      <th>sex</th>\n",
       "      <th>age</th>\n",
       "      <th>sibsp</th>\n",
       "      <th>parch</th>\n",
       "      <th>ticket</th>\n",
       "      <th>fare</th>\n",
       "      <th>cabin</th>\n",
       "      <th>embarked</th>\n",
       "      <th>sex_cat</th>\n",
       "      <th>embarked_cat</th>\n",
       "    </tr>\n",
       "  </thead>\n",
       "  <tbody>\n",
       "    <tr>\n",
       "      <th>0</th>\n",
       "      <td>1</td>\n",
       "      <td>True</td>\n",
       "      <td>Allen, Miss. Elisabeth Walton</td>\n",
       "      <td>female</td>\n",
       "      <td>29.0000</td>\n",
       "      <td>0</td>\n",
       "      <td>0</td>\n",
       "      <td>24160</td>\n",
       "      <td>211.3375</td>\n",
       "      <td>B5</td>\n",
       "      <td>S</td>\n",
       "      <td>0</td>\n",
       "      <td>2</td>\n",
       "    </tr>\n",
       "    <tr>\n",
       "      <th>1</th>\n",
       "      <td>1</td>\n",
       "      <td>True</td>\n",
       "      <td>Allison, Master. Hudson Trevor</td>\n",
       "      <td>male</td>\n",
       "      <td>0.9167</td>\n",
       "      <td>1</td>\n",
       "      <td>2</td>\n",
       "      <td>113781</td>\n",
       "      <td>151.5500</td>\n",
       "      <td>C22 C26</td>\n",
       "      <td>S</td>\n",
       "      <td>1</td>\n",
       "      <td>2</td>\n",
       "    </tr>\n",
       "    <tr>\n",
       "      <th>2</th>\n",
       "      <td>1</td>\n",
       "      <td>False</td>\n",
       "      <td>Allison, Miss. Helen Loraine</td>\n",
       "      <td>female</td>\n",
       "      <td>2.0000</td>\n",
       "      <td>1</td>\n",
       "      <td>2</td>\n",
       "      <td>113781</td>\n",
       "      <td>151.5500</td>\n",
       "      <td>C22 C26</td>\n",
       "      <td>S</td>\n",
       "      <td>0</td>\n",
       "      <td>2</td>\n",
       "    </tr>\n",
       "    <tr>\n",
       "      <th>3</th>\n",
       "      <td>1</td>\n",
       "      <td>False</td>\n",
       "      <td>Allison, Mr. Hudson Joshua Creighton</td>\n",
       "      <td>male</td>\n",
       "      <td>30.0000</td>\n",
       "      <td>1</td>\n",
       "      <td>2</td>\n",
       "      <td>113781</td>\n",
       "      <td>151.5500</td>\n",
       "      <td>C22 C26</td>\n",
       "      <td>S</td>\n",
       "      <td>1</td>\n",
       "      <td>2</td>\n",
       "    </tr>\n",
       "    <tr>\n",
       "      <th>4</th>\n",
       "      <td>1</td>\n",
       "      <td>False</td>\n",
       "      <td>Allison, Mrs. Hudson J C (Bessie Waldo Daniels)</td>\n",
       "      <td>female</td>\n",
       "      <td>25.0000</td>\n",
       "      <td>1</td>\n",
       "      <td>2</td>\n",
       "      <td>113781</td>\n",
       "      <td>151.5500</td>\n",
       "      <td>C22 C26</td>\n",
       "      <td>S</td>\n",
       "      <td>0</td>\n",
       "      <td>2</td>\n",
       "    </tr>\n",
       "    <tr>\n",
       "      <th>5</th>\n",
       "      <td>1</td>\n",
       "      <td>True</td>\n",
       "      <td>Anderson, Mr. Harry</td>\n",
       "      <td>male</td>\n",
       "      <td>48.0000</td>\n",
       "      <td>0</td>\n",
       "      <td>0</td>\n",
       "      <td>19952</td>\n",
       "      <td>26.5500</td>\n",
       "      <td>E12</td>\n",
       "      <td>S</td>\n",
       "      <td>1</td>\n",
       "      <td>2</td>\n",
       "    </tr>\n",
       "    <tr>\n",
       "      <th>6</th>\n",
       "      <td>1</td>\n",
       "      <td>True</td>\n",
       "      <td>Andrews, Miss. Kornelia Theodosia</td>\n",
       "      <td>female</td>\n",
       "      <td>63.0000</td>\n",
       "      <td>1</td>\n",
       "      <td>0</td>\n",
       "      <td>13502</td>\n",
       "      <td>77.9583</td>\n",
       "      <td>D7</td>\n",
       "      <td>S</td>\n",
       "      <td>0</td>\n",
       "      <td>2</td>\n",
       "    </tr>\n",
       "    <tr>\n",
       "      <th>7</th>\n",
       "      <td>1</td>\n",
       "      <td>False</td>\n",
       "      <td>Andrews, Mr. Thomas Jr</td>\n",
       "      <td>male</td>\n",
       "      <td>39.0000</td>\n",
       "      <td>0</td>\n",
       "      <td>0</td>\n",
       "      <td>112050</td>\n",
       "      <td>0.0000</td>\n",
       "      <td>A36</td>\n",
       "      <td>S</td>\n",
       "      <td>1</td>\n",
       "      <td>2</td>\n",
       "    </tr>\n",
       "    <tr>\n",
       "      <th>8</th>\n",
       "      <td>1</td>\n",
       "      <td>True</td>\n",
       "      <td>Appleton, Mrs. Edward Dale (Charlotte Lamson)</td>\n",
       "      <td>female</td>\n",
       "      <td>53.0000</td>\n",
       "      <td>2</td>\n",
       "      <td>0</td>\n",
       "      <td>11769</td>\n",
       "      <td>51.4792</td>\n",
       "      <td>C101</td>\n",
       "      <td>S</td>\n",
       "      <td>0</td>\n",
       "      <td>2</td>\n",
       "    </tr>\n",
       "    <tr>\n",
       "      <th>9</th>\n",
       "      <td>1</td>\n",
       "      <td>False</td>\n",
       "      <td>Artagaveytia, Mr. Ramon</td>\n",
       "      <td>male</td>\n",
       "      <td>71.0000</td>\n",
       "      <td>0</td>\n",
       "      <td>0</td>\n",
       "      <td>PC 17609</td>\n",
       "      <td>49.5042</td>\n",
       "      <td>NaN</td>\n",
       "      <td>C</td>\n",
       "      <td>1</td>\n",
       "      <td>0</td>\n",
       "    </tr>\n",
       "  </tbody>\n",
       "</table>\n",
       "</div>"
      ],
      "text/plain": [
       "   pclass  survived                                             name     sex  \\\n",
       "0       1      True                    Allen, Miss. Elisabeth Walton  female   \n",
       "1       1      True                   Allison, Master. Hudson Trevor    male   \n",
       "2       1     False                     Allison, Miss. Helen Loraine  female   \n",
       "3       1     False             Allison, Mr. Hudson Joshua Creighton    male   \n",
       "4       1     False  Allison, Mrs. Hudson J C (Bessie Waldo Daniels)  female   \n",
       "5       1      True                              Anderson, Mr. Harry    male   \n",
       "6       1      True                Andrews, Miss. Kornelia Theodosia  female   \n",
       "7       1     False                           Andrews, Mr. Thomas Jr    male   \n",
       "8       1      True    Appleton, Mrs. Edward Dale (Charlotte Lamson)  female   \n",
       "9       1     False                          Artagaveytia, Mr. Ramon    male   \n",
       "\n",
       "       age  sibsp  parch    ticket      fare    cabin embarked  sex_cat  \\\n",
       "0  29.0000      0      0     24160  211.3375       B5        S        0   \n",
       "1   0.9167      1      2    113781  151.5500  C22 C26        S        1   \n",
       "2   2.0000      1      2    113781  151.5500  C22 C26        S        0   \n",
       "3  30.0000      1      2    113781  151.5500  C22 C26        S        1   \n",
       "4  25.0000      1      2    113781  151.5500  C22 C26        S        0   \n",
       "5  48.0000      0      0     19952   26.5500      E12        S        1   \n",
       "6  63.0000      1      0     13502   77.9583       D7        S        0   \n",
       "7  39.0000      0      0    112050    0.0000      A36        S        1   \n",
       "8  53.0000      2      0     11769   51.4792     C101        S        0   \n",
       "9  71.0000      0      0  PC 17609   49.5042      NaN        C        1   \n",
       "\n",
       "   embarked_cat  \n",
       "0             2  \n",
       "1             2  \n",
       "2             2  \n",
       "3             2  \n",
       "4             2  \n",
       "5             2  \n",
       "6             2  \n",
       "7             2  \n",
       "8             2  \n",
       "9             0  "
      ]
     },
     "execution_count": 24,
     "metadata": {},
     "output_type": "execute_result"
    }
   ],
   "source": [
    "dataset.head(10)"
   ]
  },
  {
   "cell_type": "code",
   "execution_count": 25,
   "metadata": {
    "ExecuteTime": {
     "end_time": "2019-07-01T15:49:46.030498Z",
     "start_time": "2019-07-01T15:49:45.984727Z"
    }
   },
   "outputs": [
    {
     "data": {
      "text/plain": [
       "pclass            int64\n",
       "survived           bool\n",
       "name             object\n",
       "sex              object\n",
       "age             float64\n",
       "sibsp             int64\n",
       "parch             int64\n",
       "ticket           object\n",
       "fare            float64\n",
       "cabin            object\n",
       "embarked         object\n",
       "sex_cat            int8\n",
       "embarked_cat       int8\n",
       "dtype: object"
      ]
     },
     "execution_count": 25,
     "metadata": {},
     "output_type": "execute_result"
    }
   ],
   "source": [
    "dataset.dtypes"
   ]
  },
  {
   "cell_type": "code",
   "execution_count": null,
   "metadata": {},
   "outputs": [],
   "source": []
  },
  {
   "cell_type": "code",
   "execution_count": 26,
   "metadata": {
    "ExecuteTime": {
     "end_time": "2019-07-01T15:49:46.383353Z",
     "start_time": "2019-07-01T15:49:46.342238Z"
    }
   },
   "outputs": [],
   "source": [
    "feature_set_v2 = [\"sex_cat\", \"age\", \"fare\", \"embarked_cat\"]"
   ]
  },
  {
   "cell_type": "code",
   "execution_count": 27,
   "metadata": {
    "ExecuteTime": {
     "end_time": "2019-07-01T15:49:46.580036Z",
     "start_time": "2019-07-01T15:49:46.521320Z"
    }
   },
   "outputs": [
    {
     "ename": "ValueError",
     "evalue": "Input contains NaN, infinity or a value too large for dtype('float32').",
     "output_type": "error",
     "traceback": [
      "\u001b[0;31m---------------------------------------------------------------------------\u001b[0m",
      "\u001b[0;31mValueError\u001b[0m                                Traceback (most recent call last)",
      "\u001b[0;32m<ipython-input-27-3872544925e1>\u001b[0m in \u001b[0;36m<module>\u001b[0;34m\u001b[0m\n\u001b[1;32m      1\u001b[0m \u001b[0mdt_v2\u001b[0m \u001b[0;34m=\u001b[0m \u001b[0mDecisionTreeClassifier\u001b[0m\u001b[0;34m(\u001b[0m\u001b[0mmax_depth\u001b[0m\u001b[0;34m=\u001b[0m\u001b[0;36m5\u001b[0m\u001b[0;34m)\u001b[0m\u001b[0;34m\u001b[0m\u001b[0m\n\u001b[0;32m----> 2\u001b[0;31m \u001b[0mdt_v2\u001b[0m\u001b[0;34m.\u001b[0m\u001b[0mfit\u001b[0m\u001b[0;34m(\u001b[0m\u001b[0mdataset\u001b[0m\u001b[0;34m[\u001b[0m\u001b[0mfeature_set_v2\u001b[0m\u001b[0;34m]\u001b[0m\u001b[0;34m,\u001b[0m \u001b[0mdataset\u001b[0m\u001b[0;34m[\u001b[0m\u001b[0mtarget\u001b[0m\u001b[0;34m]\u001b[0m\u001b[0;34m)\u001b[0m\u001b[0;34m\u001b[0m\u001b[0m\n\u001b[0m",
      "\u001b[0;32m~/Documents/workspaces/ml/workshops/tree_based_models_workshop/venv/lib/python3.7/site-packages/sklearn/tree/tree.py\u001b[0m in \u001b[0;36mfit\u001b[0;34m(self, X, y, sample_weight, check_input, X_idx_sorted)\u001b[0m\n\u001b[1;32m    814\u001b[0m             \u001b[0msample_weight\u001b[0m\u001b[0;34m=\u001b[0m\u001b[0msample_weight\u001b[0m\u001b[0;34m,\u001b[0m\u001b[0;34m\u001b[0m\u001b[0m\n\u001b[1;32m    815\u001b[0m             \u001b[0mcheck_input\u001b[0m\u001b[0;34m=\u001b[0m\u001b[0mcheck_input\u001b[0m\u001b[0;34m,\u001b[0m\u001b[0;34m\u001b[0m\u001b[0m\n\u001b[0;32m--> 816\u001b[0;31m             X_idx_sorted=X_idx_sorted)\n\u001b[0m\u001b[1;32m    817\u001b[0m         \u001b[0;32mreturn\u001b[0m \u001b[0mself\u001b[0m\u001b[0;34m\u001b[0m\u001b[0m\n\u001b[1;32m    818\u001b[0m \u001b[0;34m\u001b[0m\u001b[0m\n",
      "\u001b[0;32m~/Documents/workspaces/ml/workshops/tree_based_models_workshop/venv/lib/python3.7/site-packages/sklearn/tree/tree.py\u001b[0m in \u001b[0;36mfit\u001b[0;34m(self, X, y, sample_weight, check_input, X_idx_sorted)\u001b[0m\n\u001b[1;32m    128\u001b[0m         \u001b[0mrandom_state\u001b[0m \u001b[0;34m=\u001b[0m \u001b[0mcheck_random_state\u001b[0m\u001b[0;34m(\u001b[0m\u001b[0mself\u001b[0m\u001b[0;34m.\u001b[0m\u001b[0mrandom_state\u001b[0m\u001b[0;34m)\u001b[0m\u001b[0;34m\u001b[0m\u001b[0m\n\u001b[1;32m    129\u001b[0m         \u001b[0;32mif\u001b[0m \u001b[0mcheck_input\u001b[0m\u001b[0;34m:\u001b[0m\u001b[0;34m\u001b[0m\u001b[0m\n\u001b[0;32m--> 130\u001b[0;31m             \u001b[0mX\u001b[0m \u001b[0;34m=\u001b[0m \u001b[0mcheck_array\u001b[0m\u001b[0;34m(\u001b[0m\u001b[0mX\u001b[0m\u001b[0;34m,\u001b[0m \u001b[0mdtype\u001b[0m\u001b[0;34m=\u001b[0m\u001b[0mDTYPE\u001b[0m\u001b[0;34m,\u001b[0m \u001b[0maccept_sparse\u001b[0m\u001b[0;34m=\u001b[0m\u001b[0;34m\"csc\"\u001b[0m\u001b[0;34m)\u001b[0m\u001b[0;34m\u001b[0m\u001b[0m\n\u001b[0m\u001b[1;32m    131\u001b[0m             \u001b[0my\u001b[0m \u001b[0;34m=\u001b[0m \u001b[0mcheck_array\u001b[0m\u001b[0;34m(\u001b[0m\u001b[0my\u001b[0m\u001b[0;34m,\u001b[0m \u001b[0mensure_2d\u001b[0m\u001b[0;34m=\u001b[0m\u001b[0;32mFalse\u001b[0m\u001b[0;34m,\u001b[0m \u001b[0mdtype\u001b[0m\u001b[0;34m=\u001b[0m\u001b[0;32mNone\u001b[0m\u001b[0;34m)\u001b[0m\u001b[0;34m\u001b[0m\u001b[0m\n\u001b[1;32m    132\u001b[0m             \u001b[0;32mif\u001b[0m \u001b[0missparse\u001b[0m\u001b[0;34m(\u001b[0m\u001b[0mX\u001b[0m\u001b[0;34m)\u001b[0m\u001b[0;34m:\u001b[0m\u001b[0;34m\u001b[0m\u001b[0m\n",
      "\u001b[0;32m~/Documents/workspaces/ml/workshops/tree_based_models_workshop/venv/lib/python3.7/site-packages/sklearn/utils/validation.py\u001b[0m in \u001b[0;36mcheck_array\u001b[0;34m(array, accept_sparse, accept_large_sparse, dtype, order, copy, force_all_finite, ensure_2d, allow_nd, ensure_min_samples, ensure_min_features, warn_on_dtype, estimator)\u001b[0m\n\u001b[1;32m    540\u001b[0m         \u001b[0;32mif\u001b[0m \u001b[0mforce_all_finite\u001b[0m\u001b[0;34m:\u001b[0m\u001b[0;34m\u001b[0m\u001b[0m\n\u001b[1;32m    541\u001b[0m             _assert_all_finite(array,\n\u001b[0;32m--> 542\u001b[0;31m                                allow_nan=force_all_finite == 'allow-nan')\n\u001b[0m\u001b[1;32m    543\u001b[0m \u001b[0;34m\u001b[0m\u001b[0m\n\u001b[1;32m    544\u001b[0m     \u001b[0;32mif\u001b[0m \u001b[0mensure_min_samples\u001b[0m \u001b[0;34m>\u001b[0m \u001b[0;36m0\u001b[0m\u001b[0;34m:\u001b[0m\u001b[0;34m\u001b[0m\u001b[0m\n",
      "\u001b[0;32m~/Documents/workspaces/ml/workshops/tree_based_models_workshop/venv/lib/python3.7/site-packages/sklearn/utils/validation.py\u001b[0m in \u001b[0;36m_assert_all_finite\u001b[0;34m(X, allow_nan)\u001b[0m\n\u001b[1;32m     54\u001b[0m                 not allow_nan and not np.isfinite(X).all()):\n\u001b[1;32m     55\u001b[0m             \u001b[0mtype_err\u001b[0m \u001b[0;34m=\u001b[0m \u001b[0;34m'infinity'\u001b[0m \u001b[0;32mif\u001b[0m \u001b[0mallow_nan\u001b[0m \u001b[0;32melse\u001b[0m \u001b[0;34m'NaN, infinity'\u001b[0m\u001b[0;34m\u001b[0m\u001b[0m\n\u001b[0;32m---> 56\u001b[0;31m             \u001b[0;32mraise\u001b[0m \u001b[0mValueError\u001b[0m\u001b[0;34m(\u001b[0m\u001b[0mmsg_err\u001b[0m\u001b[0;34m.\u001b[0m\u001b[0mformat\u001b[0m\u001b[0;34m(\u001b[0m\u001b[0mtype_err\u001b[0m\u001b[0;34m,\u001b[0m \u001b[0mX\u001b[0m\u001b[0;34m.\u001b[0m\u001b[0mdtype\u001b[0m\u001b[0;34m)\u001b[0m\u001b[0;34m)\u001b[0m\u001b[0;34m\u001b[0m\u001b[0m\n\u001b[0m\u001b[1;32m     57\u001b[0m     \u001b[0;31m# for object dtype data, we only check for NaNs (GH-13254)\u001b[0m\u001b[0;34m\u001b[0m\u001b[0;34m\u001b[0m\u001b[0m\n\u001b[1;32m     58\u001b[0m     \u001b[0;32melif\u001b[0m \u001b[0mX\u001b[0m\u001b[0;34m.\u001b[0m\u001b[0mdtype\u001b[0m \u001b[0;34m==\u001b[0m \u001b[0mnp\u001b[0m\u001b[0;34m.\u001b[0m\u001b[0mdtype\u001b[0m\u001b[0;34m(\u001b[0m\u001b[0;34m'object'\u001b[0m\u001b[0;34m)\u001b[0m \u001b[0;32mand\u001b[0m \u001b[0;32mnot\u001b[0m \u001b[0mallow_nan\u001b[0m\u001b[0;34m:\u001b[0m\u001b[0;34m\u001b[0m\u001b[0m\n",
      "\u001b[0;31mValueError\u001b[0m: Input contains NaN, infinity or a value too large for dtype('float32')."
     ]
    }
   ],
   "source": [
    "dt_v2 = DecisionTreeClassifier(max_depth=5)\n",
    "dt_v2.fit(dataset[feature_set_v2], dataset[target])"
   ]
  },
  {
   "cell_type": "markdown",
   "metadata": {},
   "source": [
    "### Handle missing values"
   ]
  },
  {
   "cell_type": "markdown",
   "metadata": {},
   "source": [
    "TODO\n",
    "- more details"
   ]
  },
  {
   "cell_type": "code",
   "execution_count": 28,
   "metadata": {
    "ExecuteTime": {
     "end_time": "2019-07-01T15:49:47.105085Z",
     "start_time": "2019-07-01T15:49:47.062462Z"
    }
   },
   "outputs": [
    {
     "data": {
      "text/plain": [
       "sex_cat         False\n",
       "age              True\n",
       "fare             True\n",
       "embarked_cat    False\n",
       "dtype: bool"
      ]
     },
     "execution_count": 28,
     "metadata": {},
     "output_type": "execute_result"
    }
   ],
   "source": [
    "dataset[feature_set_v2].isna().any()"
   ]
  },
  {
   "cell_type": "code",
   "execution_count": 29,
   "metadata": {
    "ExecuteTime": {
     "end_time": "2019-07-01T15:49:47.307052Z",
     "start_time": "2019-07-01T15:49:47.257056Z"
    },
    "scrolled": true
   },
   "outputs": [
    {
     "data": {
      "text/plain": [
       "28.0"
      ]
     },
     "execution_count": 29,
     "metadata": {},
     "output_type": "execute_result"
    }
   ],
   "source": [
    "dataset.age.median()"
   ]
  },
  {
   "cell_type": "code",
   "execution_count": 30,
   "metadata": {
    "ExecuteTime": {
     "end_time": "2019-07-01T15:49:47.489861Z",
     "start_time": "2019-07-01T15:49:47.444576Z"
    }
   },
   "outputs": [],
   "source": [
    "dataset[\"age_missing\"] = dataset.age.isna()\n",
    "dataset.fillna({\"age\":dataset.age.median()}, inplace = True)"
   ]
  },
  {
   "cell_type": "markdown",
   "metadata": {},
   "source": [
    "### workshop work"
   ]
  },
  {
   "cell_type": "code",
   "execution_count": 31,
   "metadata": {
    "ExecuteTime": {
     "end_time": "2019-07-01T15:49:47.850302Z",
     "start_time": "2019-07-01T15:49:47.808997Z"
    }
   },
   "outputs": [
    {
     "data": {
      "text/plain": [
       "14.4542"
      ]
     },
     "execution_count": 31,
     "metadata": {},
     "output_type": "execute_result"
    }
   ],
   "source": [
    "dataset.fare.median()"
   ]
  },
  {
   "cell_type": "code",
   "execution_count": 32,
   "metadata": {
    "ExecuteTime": {
     "end_time": "2019-07-01T15:49:48.036126Z",
     "start_time": "2019-07-01T15:49:47.992958Z"
    }
   },
   "outputs": [],
   "source": [
    "dataset[\"fare_missing\"] = dataset.fare.isna()\n",
    "dataset.fillna({\"fare\" : dataset.fare.median()}, inplace=True)"
   ]
  },
  {
   "cell_type": "code",
   "execution_count": 33,
   "metadata": {
    "ExecuteTime": {
     "end_time": "2019-07-01T15:49:48.212063Z",
     "start_time": "2019-07-01T15:49:48.168198Z"
    }
   },
   "outputs": [
    {
     "data": {
      "text/plain": [
       "sex_cat         False\n",
       "age             False\n",
       "fare            False\n",
       "embarked_cat    False\n",
       "dtype: bool"
      ]
     },
     "execution_count": 33,
     "metadata": {},
     "output_type": "execute_result"
    }
   ],
   "source": [
    "dataset[feature_set_v2].isna().any()"
   ]
  },
  {
   "cell_type": "code",
   "execution_count": 34,
   "metadata": {
    "ExecuteTime": {
     "end_time": "2019-07-01T15:49:48.402666Z",
     "start_time": "2019-07-01T15:49:48.361460Z"
    }
   },
   "outputs": [],
   "source": [
    "feature_set_v3 = [\"sex_cat\", \"age\", \"age_missing\", \"fare\", \"fare_missing\", \"embarked_cat\"]"
   ]
  },
  {
   "cell_type": "code",
   "execution_count": 35,
   "metadata": {
    "ExecuteTime": {
     "end_time": "2019-07-01T15:49:48.599888Z",
     "start_time": "2019-07-01T15:49:48.543337Z"
    }
   },
   "outputs": [
    {
     "data": {
      "text/plain": [
       "DecisionTreeClassifier(class_weight=None, criterion='gini', max_depth=3,\n",
       "                       max_features=None, max_leaf_nodes=None,\n",
       "                       min_impurity_decrease=0.0, min_impurity_split=None,\n",
       "                       min_samples_leaf=1, min_samples_split=2,\n",
       "                       min_weight_fraction_leaf=0.0, presort=False,\n",
       "                       random_state=None, splitter='best')"
      ]
     },
     "execution_count": 35,
     "metadata": {},
     "output_type": "execute_result"
    }
   ],
   "source": [
    "dt_v3 = DecisionTreeClassifier(max_depth=3)\n",
    "dt_v3.fit(dataset[feature_set_v3], dataset[target])"
   ]
  },
  {
   "cell_type": "markdown",
   "metadata": {},
   "source": [
    "We succeded to train our DecisionTreeClassifier model !!! <br>\n",
    "To reach this step, we needed to read the dataset, to know what we are trying to solve and to make the dataset ready for the model. <br>\n",
    "We needed to encode categorical features into numerical features and to handle missing data. These operations are known under the concept of feature engineering. <br>\n",
    "In our case, we spend only a few time on feature enginner, but in real use-cases we need to spend a lot of time, mostly because the dataset isn't in a good shape, like this one. Also, most of the time, a good feature enginner would reflect in an good model performance.\n",
    "\n",
    "\n",
    "\n",
    "\n",
    "\n",
    "\n"
   ]
  },
  {
   "cell_type": "code",
   "execution_count": 36,
   "metadata": {
    "ExecuteTime": {
     "end_time": "2019-07-01T15:49:48.948267Z",
     "start_time": "2019-07-01T15:49:48.913198Z"
    }
   },
   "outputs": [],
   "source": [
    "def save_decision_tree_structure(model_param, filename_param, features_param):\n",
    "    graph = Source(tree.export_graphviz(model_param, feature_names=features_param, class_names=[\"0\", \"1\"],\n",
    "                                                filled=True, node_ids=True))\n",
    "    graph.format = 'png'\n",
    "    graph.render(filename=filename_param,view=True)"
   ]
  },
  {
   "cell_type": "code",
   "execution_count": 37,
   "metadata": {
    "ExecuteTime": {
     "end_time": "2019-07-01T15:49:49.137593Z",
     "start_time": "2019-07-01T15:49:49.105249Z"
    }
   },
   "outputs": [],
   "source": [
    "#save_decision_tree_structure(dt_v2, \"decision_tree_classifier_sample\", features_param=feature_set_v3)"
   ]
  },
  {
   "cell_type": "code",
   "execution_count": 38,
   "metadata": {
    "ExecuteTime": {
     "end_time": "2019-07-01T15:49:49.468980Z",
     "start_time": "2019-07-01T15:49:49.295418Z"
    }
   },
   "outputs": [
    {
     "data": {
      "image/svg+xml": [
       "<?xml version=\"1.0\" encoding=\"UTF-8\" standalone=\"no\"?>\n",
       "<!DOCTYPE svg PUBLIC \"-//W3C//DTD SVG 1.1//EN\"\n",
       " \"http://www.w3.org/Graphics/SVG/1.1/DTD/svg11.dtd\">\n",
       "<!-- Generated by graphviz version 2.40.1 (20161225.0304)\n",
       " -->\n",
       "<!-- Title: Tree Pages: 1 -->\n",
       "<svg width=\"985pt\" height=\"452pt\"\n",
       " viewBox=\"0.00 0.00 984.50 452.00\" xmlns=\"http://www.w3.org/2000/svg\" xmlns:xlink=\"http://www.w3.org/1999/xlink\">\n",
       "<g id=\"graph0\" class=\"graph\" transform=\"scale(1 1) rotate(0) translate(4 448)\">\n",
       "<title>Tree</title>\n",
       "<polygon fill=\"#ffffff\" stroke=\"transparent\" points=\"-4,4 -4,-448 980.5,-448 980.5,4 -4,4\"/>\n",
       "<!-- 0 -->\n",
       "<g id=\"node1\" class=\"node\">\n",
       "<title>0</title>\n",
       "<polygon fill=\"#f5cfb3\" stroke=\"#000000\" points=\"530,-444 410,-444 410,-356 530,-356 530,-444\"/>\n",
       "<text text-anchor=\"middle\" x=\"470\" y=\"-427.4\" font-family=\"Times,serif\" font-size=\"14.00\" fill=\"#000000\">node #0</text>\n",
       "<text text-anchor=\"middle\" x=\"470\" y=\"-411.4\" font-family=\"Times,serif\" font-size=\"14.00\" fill=\"#000000\">sex_cat &lt;= 0.5</text>\n",
       "<text text-anchor=\"middle\" x=\"470\" y=\"-395.4\" font-family=\"Times,serif\" font-size=\"14.00\" fill=\"#000000\">gini = 0.472</text>\n",
       "<text text-anchor=\"middle\" x=\"470\" y=\"-379.4\" font-family=\"Times,serif\" font-size=\"14.00\" fill=\"#000000\">samples = 1309</text>\n",
       "<text text-anchor=\"middle\" x=\"470\" y=\"-363.4\" font-family=\"Times,serif\" font-size=\"14.00\" fill=\"#000000\">value = [809, 500]</text>\n",
       "</g>\n",
       "<!-- 1 -->\n",
       "<g id=\"node2\" class=\"node\">\n",
       "<title>1</title>\n",
       "<polygon fill=\"#83c2ef\" stroke=\"#000000\" points=\"422,-320 302,-320 302,-232 422,-232 422,-320\"/>\n",
       "<text text-anchor=\"middle\" x=\"362\" y=\"-303.4\" font-family=\"Times,serif\" font-size=\"14.00\" fill=\"#000000\">node #1</text>\n",
       "<text text-anchor=\"middle\" x=\"362\" y=\"-287.4\" font-family=\"Times,serif\" font-size=\"14.00\" fill=\"#000000\">fare &lt;= 48.2</text>\n",
       "<text text-anchor=\"middle\" x=\"362\" y=\"-271.4\" font-family=\"Times,serif\" font-size=\"14.00\" fill=\"#000000\">gini = 0.397</text>\n",
       "<text text-anchor=\"middle\" x=\"362\" y=\"-255.4\" font-family=\"Times,serif\" font-size=\"14.00\" fill=\"#000000\">samples = 466</text>\n",
       "<text text-anchor=\"middle\" x=\"362\" y=\"-239.4\" font-family=\"Times,serif\" font-size=\"14.00\" fill=\"#000000\">value = [127, 339]</text>\n",
       "</g>\n",
       "<!-- 0&#45;&gt;1 -->\n",
       "<g id=\"edge1\" class=\"edge\">\n",
       "<title>0&#45;&gt;1</title>\n",
       "<path fill=\"none\" stroke=\"#000000\" d=\"M431.6191,-355.9331C423.7563,-346.9053 415.41,-337.3226 407.3296,-328.0451\"/>\n",
       "<polygon fill=\"#000000\" stroke=\"#000000\" points=\"409.8283,-325.5849 400.6211,-320.3428 404.5497,-330.1824 409.8283,-325.5849\"/>\n",
       "<text text-anchor=\"middle\" x=\"398.9011\" y=\"-340.6836\" font-family=\"Times,serif\" font-size=\"14.00\" fill=\"#000000\">True</text>\n",
       "</g>\n",
       "<!-- 8 -->\n",
       "<g id=\"node9\" class=\"node\">\n",
       "<title>8</title>\n",
       "<polygon fill=\"#eb9f68\" stroke=\"#000000\" points=\"659,-320 539,-320 539,-232 659,-232 659,-320\"/>\n",
       "<text text-anchor=\"middle\" x=\"599\" y=\"-303.4\" font-family=\"Times,serif\" font-size=\"14.00\" fill=\"#000000\">node #8</text>\n",
       "<text text-anchor=\"middle\" x=\"599\" y=\"-287.4\" font-family=\"Times,serif\" font-size=\"14.00\" fill=\"#000000\">age &lt;= 9.5</text>\n",
       "<text text-anchor=\"middle\" x=\"599\" y=\"-271.4\" font-family=\"Times,serif\" font-size=\"14.00\" fill=\"#000000\">gini = 0.309</text>\n",
       "<text text-anchor=\"middle\" x=\"599\" y=\"-255.4\" font-family=\"Times,serif\" font-size=\"14.00\" fill=\"#000000\">samples = 843</text>\n",
       "<text text-anchor=\"middle\" x=\"599\" y=\"-239.4\" font-family=\"Times,serif\" font-size=\"14.00\" fill=\"#000000\">value = [682, 161]</text>\n",
       "</g>\n",
       "<!-- 0&#45;&gt;8 -->\n",
       "<g id=\"edge8\" class=\"edge\">\n",
       "<title>0&#45;&gt;8</title>\n",
       "<path fill=\"none\" stroke=\"#000000\" d=\"M515.8438,-355.9331C525.4234,-346.7248 535.6038,-336.939 545.435,-327.4889\"/>\n",
       "<polygon fill=\"#000000\" stroke=\"#000000\" points=\"548.0853,-329.7961 552.8692,-320.3428 543.2343,-324.7495 548.0853,-329.7961\"/>\n",
       "<text text-anchor=\"middle\" x=\"552.3752\" y=\"-340.7379\" font-family=\"Times,serif\" font-size=\"14.00\" fill=\"#000000\">False</text>\n",
       "</g>\n",
       "<!-- 2 -->\n",
       "<g id=\"node3\" class=\"node\">\n",
       "<title>2</title>\n",
       "<polygon fill=\"#a7d3f3\" stroke=\"#000000\" points=\"241,-196 121,-196 121,-108 241,-108 241,-196\"/>\n",
       "<text text-anchor=\"middle\" x=\"181\" y=\"-179.4\" font-family=\"Times,serif\" font-size=\"14.00\" fill=\"#000000\">node #2</text>\n",
       "<text text-anchor=\"middle\" x=\"181\" y=\"-163.4\" font-family=\"Times,serif\" font-size=\"14.00\" fill=\"#000000\">fare &lt;= 10.481</text>\n",
       "<text text-anchor=\"middle\" x=\"181\" y=\"-147.4\" font-family=\"Times,serif\" font-size=\"14.00\" fill=\"#000000\">gini = 0.459</text>\n",
       "<text text-anchor=\"middle\" x=\"181\" y=\"-131.4\" font-family=\"Times,serif\" font-size=\"14.00\" fill=\"#000000\">samples = 334</text>\n",
       "<text text-anchor=\"middle\" x=\"181\" y=\"-115.4\" font-family=\"Times,serif\" font-size=\"14.00\" fill=\"#000000\">value = [119, 215]</text>\n",
       "</g>\n",
       "<!-- 1&#45;&gt;2 -->\n",
       "<g id=\"edge2\" class=\"edge\">\n",
       "<title>1&#45;&gt;2</title>\n",
       "<path fill=\"none\" stroke=\"#000000\" d=\"M301.981,-234.882C285.1785,-223.3709 266.7889,-210.7725 249.5332,-198.9509\"/>\n",
       "<polygon fill=\"#000000\" stroke=\"#000000\" points=\"251.3931,-195.9826 241.1653,-193.2182 247.4369,-201.7574 251.3931,-195.9826\"/>\n",
       "</g>\n",
       "<!-- 5 -->\n",
       "<g id=\"node6\" class=\"node\">\n",
       "<title>5</title>\n",
       "<polygon fill=\"#46a3e7\" stroke=\"#000000\" points=\"425.5,-196 298.5,-196 298.5,-108 425.5,-108 425.5,-196\"/>\n",
       "<text text-anchor=\"middle\" x=\"362\" y=\"-179.4\" font-family=\"Times,serif\" font-size=\"14.00\" fill=\"#000000\">node #5</text>\n",
       "<text text-anchor=\"middle\" x=\"362\" y=\"-163.4\" font-family=\"Times,serif\" font-size=\"14.00\" fill=\"#000000\">age_missing &lt;= 0.5</text>\n",
       "<text text-anchor=\"middle\" x=\"362\" y=\"-147.4\" font-family=\"Times,serif\" font-size=\"14.00\" fill=\"#000000\">gini = 0.114</text>\n",
       "<text text-anchor=\"middle\" x=\"362\" y=\"-131.4\" font-family=\"Times,serif\" font-size=\"14.00\" fill=\"#000000\">samples = 132</text>\n",
       "<text text-anchor=\"middle\" x=\"362\" y=\"-115.4\" font-family=\"Times,serif\" font-size=\"14.00\" fill=\"#000000\">value = [8, 124]</text>\n",
       "</g>\n",
       "<!-- 1&#45;&gt;5 -->\n",
       "<g id=\"edge5\" class=\"edge\">\n",
       "<title>1&#45;&gt;5</title>\n",
       "<path fill=\"none\" stroke=\"#000000\" d=\"M362,-231.9331C362,-223.7178 362,-215.043 362,-206.5568\"/>\n",
       "<polygon fill=\"#000000\" stroke=\"#000000\" points=\"365.5001,-206.3428 362,-196.3428 358.5001,-206.3428 365.5001,-206.3428\"/>\n",
       "</g>\n",
       "<!-- 3 -->\n",
       "<g id=\"node4\" class=\"node\">\n",
       "<title>3</title>\n",
       "<polygon fill=\"#e4f1fb\" stroke=\"#000000\" points=\"106,-72 0,-72 0,0 106,0 106,-72\"/>\n",
       "<text text-anchor=\"middle\" x=\"53\" y=\"-55.4\" font-family=\"Times,serif\" font-size=\"14.00\" fill=\"#000000\">node #3</text>\n",
       "<text text-anchor=\"middle\" x=\"53\" y=\"-39.4\" font-family=\"Times,serif\" font-size=\"14.00\" fill=\"#000000\">gini = 0.497</text>\n",
       "<text text-anchor=\"middle\" x=\"53\" y=\"-23.4\" font-family=\"Times,serif\" font-size=\"14.00\" fill=\"#000000\">samples = 108</text>\n",
       "<text text-anchor=\"middle\" x=\"53\" y=\"-7.4\" font-family=\"Times,serif\" font-size=\"14.00\" fill=\"#000000\">value = [50, 58]</text>\n",
       "</g>\n",
       "<!-- 2&#45;&gt;3 -->\n",
       "<g id=\"edge3\" class=\"edge\">\n",
       "<title>2&#45;&gt;3</title>\n",
       "<path fill=\"none\" stroke=\"#000000\" d=\"M132.2435,-107.8145C121.7829,-98.3345 110.7455,-88.3318 100.3396,-78.9015\"/>\n",
       "<polygon fill=\"#000000\" stroke=\"#000000\" points=\"102.6516,-76.2733 92.8914,-72.1516 97.9509,-81.4602 102.6516,-76.2733\"/>\n",
       "</g>\n",
       "<!-- 4 -->\n",
       "<g id=\"node5\" class=\"node\">\n",
       "<title>4</title>\n",
       "<polygon fill=\"#90c8f0\" stroke=\"#000000\" points=\"237.5,-72 124.5,-72 124.5,0 237.5,0 237.5,-72\"/>\n",
       "<text text-anchor=\"middle\" x=\"181\" y=\"-55.4\" font-family=\"Times,serif\" font-size=\"14.00\" fill=\"#000000\">node #4</text>\n",
       "<text text-anchor=\"middle\" x=\"181\" y=\"-39.4\" font-family=\"Times,serif\" font-size=\"14.00\" fill=\"#000000\">gini = 0.424</text>\n",
       "<text text-anchor=\"middle\" x=\"181\" y=\"-23.4\" font-family=\"Times,serif\" font-size=\"14.00\" fill=\"#000000\">samples = 226</text>\n",
       "<text text-anchor=\"middle\" x=\"181\" y=\"-7.4\" font-family=\"Times,serif\" font-size=\"14.00\" fill=\"#000000\">value = [69, 157]</text>\n",
       "</g>\n",
       "<!-- 2&#45;&gt;4 -->\n",
       "<g id=\"edge4\" class=\"edge\">\n",
       "<title>2&#45;&gt;4</title>\n",
       "<path fill=\"none\" stroke=\"#000000\" d=\"M181,-107.8145C181,-99.439 181,-90.6555 181,-82.2191\"/>\n",
       "<polygon fill=\"#000000\" stroke=\"#000000\" points=\"184.5001,-82.1515 181,-72.1516 177.5001,-82.1516 184.5001,-82.1515\"/>\n",
       "</g>\n",
       "<!-- 6 -->\n",
       "<g id=\"node7\" class=\"node\">\n",
       "<title>6</title>\n",
       "<polygon fill=\"#3ea0e6\" stroke=\"#000000\" points=\"362,-72 256,-72 256,0 362,0 362,-72\"/>\n",
       "<text text-anchor=\"middle\" x=\"309\" y=\"-55.4\" font-family=\"Times,serif\" font-size=\"14.00\" fill=\"#000000\">node #6</text>\n",
       "<text text-anchor=\"middle\" x=\"309\" y=\"-39.4\" font-family=\"Times,serif\" font-size=\"14.00\" fill=\"#000000\">gini = 0.05</text>\n",
       "<text text-anchor=\"middle\" x=\"309\" y=\"-23.4\" font-family=\"Times,serif\" font-size=\"14.00\" fill=\"#000000\">samples = 118</text>\n",
       "<text text-anchor=\"middle\" x=\"309\" y=\"-7.4\" font-family=\"Times,serif\" font-size=\"14.00\" fill=\"#000000\">value = [3, 115]</text>\n",
       "</g>\n",
       "<!-- 5&#45;&gt;6 -->\n",
       "<g id=\"edge6\" class=\"edge\">\n",
       "<title>5&#45;&gt;6</title>\n",
       "<path fill=\"none\" stroke=\"#000000\" d=\"M341.8118,-107.8145C337.8589,-99.1629 333.7071,-90.0759 329.7367,-81.3859\"/>\n",
       "<polygon fill=\"#000000\" stroke=\"#000000\" points=\"332.8568,-79.7926 325.5175,-72.1516 326.4899,-82.7017 332.8568,-79.7926\"/>\n",
       "</g>\n",
       "<!-- 7 -->\n",
       "<g id=\"node8\" class=\"node\">\n",
       "<title>7</title>\n",
       "<polygon fill=\"#a7d3f3\" stroke=\"#000000\" points=\"472,-72 380,-72 380,0 472,0 472,-72\"/>\n",
       "<text text-anchor=\"middle\" x=\"426\" y=\"-55.4\" font-family=\"Times,serif\" font-size=\"14.00\" fill=\"#000000\">node #7</text>\n",
       "<text text-anchor=\"middle\" x=\"426\" y=\"-39.4\" font-family=\"Times,serif\" font-size=\"14.00\" fill=\"#000000\">gini = 0.459</text>\n",
       "<text text-anchor=\"middle\" x=\"426\" y=\"-23.4\" font-family=\"Times,serif\" font-size=\"14.00\" fill=\"#000000\">samples = 14</text>\n",
       "<text text-anchor=\"middle\" x=\"426\" y=\"-7.4\" font-family=\"Times,serif\" font-size=\"14.00\" fill=\"#000000\">value = [5, 9]</text>\n",
       "</g>\n",
       "<!-- 5&#45;&gt;7 -->\n",
       "<g id=\"edge7\" class=\"edge\">\n",
       "<title>5&#45;&gt;7</title>\n",
       "<path fill=\"none\" stroke=\"#000000\" d=\"M386.3782,-107.8145C391.2023,-99.0708 396.2717,-89.8825 401.1124,-81.1087\"/>\n",
       "<polygon fill=\"#000000\" stroke=\"#000000\" points=\"404.288,-82.5981 406.0543,-72.1516 398.159,-79.2166 404.288,-82.5981\"/>\n",
       "</g>\n",
       "<!-- 9 -->\n",
       "<g id=\"node10\" class=\"node\">\n",
       "<title>9</title>\n",
       "<polygon fill=\"#c8e4f8\" stroke=\"#000000\" points=\"652,-196 546,-196 546,-108 652,-108 652,-196\"/>\n",
       "<text text-anchor=\"middle\" x=\"599\" y=\"-179.4\" font-family=\"Times,serif\" font-size=\"14.00\" fill=\"#000000\">node #9</text>\n",
       "<text text-anchor=\"middle\" x=\"599\" y=\"-163.4\" font-family=\"Times,serif\" font-size=\"14.00\" fill=\"#000000\">fare &lt;= 20.825</text>\n",
       "<text text-anchor=\"middle\" x=\"599\" y=\"-147.4\" font-family=\"Times,serif\" font-size=\"14.00\" fill=\"#000000\">gini = 0.487</text>\n",
       "<text text-anchor=\"middle\" x=\"599\" y=\"-131.4\" font-family=\"Times,serif\" font-size=\"14.00\" fill=\"#000000\">samples = 43</text>\n",
       "<text text-anchor=\"middle\" x=\"599\" y=\"-115.4\" font-family=\"Times,serif\" font-size=\"14.00\" fill=\"#000000\">value = [18, 25]</text>\n",
       "</g>\n",
       "<!-- 8&#45;&gt;9 -->\n",
       "<g id=\"edge9\" class=\"edge\">\n",
       "<title>8&#45;&gt;9</title>\n",
       "<path fill=\"none\" stroke=\"#000000\" d=\"M599,-231.9331C599,-223.7178 599,-215.043 599,-206.5568\"/>\n",
       "<polygon fill=\"#000000\" stroke=\"#000000\" points=\"602.5001,-206.3428 599,-196.3428 595.5001,-206.3428 602.5001,-206.3428\"/>\n",
       "</g>\n",
       "<!-- 12 -->\n",
       "<g id=\"node13\" class=\"node\">\n",
       "<title>12</title>\n",
       "<polygon fill=\"#ea9b62\" stroke=\"#000000\" points=\"849,-196 729,-196 729,-108 849,-108 849,-196\"/>\n",
       "<text text-anchor=\"middle\" x=\"789\" y=\"-179.4\" font-family=\"Times,serif\" font-size=\"14.00\" fill=\"#000000\">node #12</text>\n",
       "<text text-anchor=\"middle\" x=\"789\" y=\"-163.4\" font-family=\"Times,serif\" font-size=\"14.00\" fill=\"#000000\">fare &lt;= 26.269</text>\n",
       "<text text-anchor=\"middle\" x=\"789\" y=\"-147.4\" font-family=\"Times,serif\" font-size=\"14.00\" fill=\"#000000\">gini = 0.282</text>\n",
       "<text text-anchor=\"middle\" x=\"789\" y=\"-131.4\" font-family=\"Times,serif\" font-size=\"14.00\" fill=\"#000000\">samples = 800</text>\n",
       "<text text-anchor=\"middle\" x=\"789\" y=\"-115.4\" font-family=\"Times,serif\" font-size=\"14.00\" fill=\"#000000\">value = [664, 136]</text>\n",
       "</g>\n",
       "<!-- 8&#45;&gt;12 -->\n",
       "<g id=\"edge12\" class=\"edge\">\n",
       "<title>8&#45;&gt;12</title>\n",
       "<path fill=\"none\" stroke=\"#000000\" d=\"M659.1172,-236.7656C678.6186,-224.0384 700.3975,-209.8248 720.4644,-196.7285\"/>\n",
       "<polygon fill=\"#000000\" stroke=\"#000000\" points=\"722.4866,-199.5882 728.948,-191.1918 718.6608,-193.7262 722.4866,-199.5882\"/>\n",
       "</g>\n",
       "<!-- 10 -->\n",
       "<g id=\"node11\" class=\"node\">\n",
       "<title>10</title>\n",
       "<polygon fill=\"#67b4eb\" stroke=\"#000000\" points=\"589.5,-72 490.5,-72 490.5,0 589.5,0 589.5,-72\"/>\n",
       "<text text-anchor=\"middle\" x=\"540\" y=\"-55.4\" font-family=\"Times,serif\" font-size=\"14.00\" fill=\"#000000\">node #10</text>\n",
       "<text text-anchor=\"middle\" x=\"540\" y=\"-39.4\" font-family=\"Times,serif\" font-size=\"14.00\" fill=\"#000000\">gini = 0.305</text>\n",
       "<text text-anchor=\"middle\" x=\"540\" y=\"-23.4\" font-family=\"Times,serif\" font-size=\"14.00\" fill=\"#000000\">samples = 16</text>\n",
       "<text text-anchor=\"middle\" x=\"540\" y=\"-7.4\" font-family=\"Times,serif\" font-size=\"14.00\" fill=\"#000000\">value = [3, 13]</text>\n",
       "</g>\n",
       "<!-- 9&#45;&gt;10 -->\n",
       "<g id=\"edge10\" class=\"edge\">\n",
       "<title>9&#45;&gt;10</title>\n",
       "<path fill=\"none\" stroke=\"#000000\" d=\"M576.5263,-107.8145C572.0791,-99.0708 567.4058,-89.8825 562.9432,-81.1087\"/>\n",
       "<polygon fill=\"#000000\" stroke=\"#000000\" points=\"566.0407,-79.4781 558.3874,-72.1516 559.8013,-82.6516 566.0407,-79.4781\"/>\n",
       "</g>\n",
       "<!-- 11 -->\n",
       "<g id=\"node12\" class=\"node\">\n",
       "<title>11</title>\n",
       "<polygon fill=\"#fae6d7\" stroke=\"#000000\" points=\"714,-72 608,-72 608,0 714,0 714,-72\"/>\n",
       "<text text-anchor=\"middle\" x=\"661\" y=\"-55.4\" font-family=\"Times,serif\" font-size=\"14.00\" fill=\"#000000\">node #11</text>\n",
       "<text text-anchor=\"middle\" x=\"661\" y=\"-39.4\" font-family=\"Times,serif\" font-size=\"14.00\" fill=\"#000000\">gini = 0.494</text>\n",
       "<text text-anchor=\"middle\" x=\"661\" y=\"-23.4\" font-family=\"Times,serif\" font-size=\"14.00\" fill=\"#000000\">samples = 27</text>\n",
       "<text text-anchor=\"middle\" x=\"661\" y=\"-7.4\" font-family=\"Times,serif\" font-size=\"14.00\" fill=\"#000000\">value = [15, 12]</text>\n",
       "</g>\n",
       "<!-- 9&#45;&gt;11 -->\n",
       "<g id=\"edge11\" class=\"edge\">\n",
       "<title>9&#45;&gt;11</title>\n",
       "<path fill=\"none\" stroke=\"#000000\" d=\"M622.6164,-107.8145C627.2897,-99.0708 632.2007,-89.8825 636.8902,-81.1087\"/>\n",
       "<polygon fill=\"#000000\" stroke=\"#000000\" points=\"640.0506,-82.6207 641.6776,-72.1516 633.877,-79.321 640.0506,-82.6207\"/>\n",
       "</g>\n",
       "<!-- 13 -->\n",
       "<g id=\"node14\" class=\"node\">\n",
       "<title>13</title>\n",
       "<polygon fill=\"#e99355\" stroke=\"#000000\" points=\"845.5,-72 732.5,-72 732.5,0 845.5,0 845.5,-72\"/>\n",
       "<text text-anchor=\"middle\" x=\"789\" y=\"-55.4\" font-family=\"Times,serif\" font-size=\"14.00\" fill=\"#000000\">node #13</text>\n",
       "<text text-anchor=\"middle\" x=\"789\" y=\"-39.4\" font-family=\"Times,serif\" font-size=\"14.00\" fill=\"#000000\">gini = 0.218</text>\n",
       "<text text-anchor=\"middle\" x=\"789\" y=\"-23.4\" font-family=\"Times,serif\" font-size=\"14.00\" fill=\"#000000\">samples = 593</text>\n",
       "<text text-anchor=\"middle\" x=\"789\" y=\"-7.4\" font-family=\"Times,serif\" font-size=\"14.00\" fill=\"#000000\">value = [519, 74]</text>\n",
       "</g>\n",
       "<!-- 12&#45;&gt;13 -->\n",
       "<g id=\"edge13\" class=\"edge\">\n",
       "<title>12&#45;&gt;13</title>\n",
       "<path fill=\"none\" stroke=\"#000000\" d=\"M789,-107.8145C789,-99.439 789,-90.6555 789,-82.2191\"/>\n",
       "<polygon fill=\"#000000\" stroke=\"#000000\" points=\"792.5001,-82.1515 789,-72.1516 785.5001,-82.1516 792.5001,-82.1515\"/>\n",
       "</g>\n",
       "<!-- 14 -->\n",
       "<g id=\"node15\" class=\"node\">\n",
       "<title>14</title>\n",
       "<polygon fill=\"#f0b78e\" stroke=\"#000000\" points=\"976.5,-72 863.5,-72 863.5,0 976.5,0 976.5,-72\"/>\n",
       "<text text-anchor=\"middle\" x=\"920\" y=\"-55.4\" font-family=\"Times,serif\" font-size=\"14.00\" fill=\"#000000\">node #14</text>\n",
       "<text text-anchor=\"middle\" x=\"920\" y=\"-39.4\" font-family=\"Times,serif\" font-size=\"14.00\" fill=\"#000000\">gini = 0.42</text>\n",
       "<text text-anchor=\"middle\" x=\"920\" y=\"-23.4\" font-family=\"Times,serif\" font-size=\"14.00\" fill=\"#000000\">samples = 207</text>\n",
       "<text text-anchor=\"middle\" x=\"920\" y=\"-7.4\" font-family=\"Times,serif\" font-size=\"14.00\" fill=\"#000000\">value = [145, 62]</text>\n",
       "</g>\n",
       "<!-- 12&#45;&gt;14 -->\n",
       "<g id=\"edge14\" class=\"edge\">\n",
       "<title>12&#45;&gt;14</title>\n",
       "<path fill=\"none\" stroke=\"#000000\" d=\"M838.8992,-107.8145C849.605,-98.3345 860.9011,-88.3318 871.5509,-78.9015\"/>\n",
       "<polygon fill=\"#000000\" stroke=\"#000000\" points=\"874.0073,-81.4014 879.1737,-72.1516 869.3666,-76.1607 874.0073,-81.4014\"/>\n",
       "</g>\n",
       "</g>\n",
       "</svg>\n"
      ],
      "text/plain": [
       "<graphviz.files.Source at 0x128b37518>"
      ]
     },
     "execution_count": 38,
     "metadata": {},
     "output_type": "execute_result"
    }
   ],
   "source": [
    "dts = DecisionTreeStructure(dt_v3, dataset, feature_set_v3, target)\n",
    "dts.show_decision_tree_structure(rotate=False)"
   ]
  },
  {
   "cell_type": "markdown",
   "metadata": {},
   "source": [
    "### Prediction description"
   ]
  },
  {
   "cell_type": "markdown",
   "metadata": {},
   "source": [
    "Let's take 10 random samples from our dataset."
   ]
  },
  {
   "cell_type": "code",
   "execution_count": 39,
   "metadata": {
    "ExecuteTime": {
     "end_time": "2019-07-01T15:49:49.897994Z",
     "start_time": "2019-07-01T15:49:49.846245Z"
    }
   },
   "outputs": [],
   "source": [
    "dataset_predictions = dataset.sample(frac=1).head(10)"
   ]
  },
  {
   "cell_type": "code",
   "execution_count": 40,
   "metadata": {
    "ExecuteTime": {
     "end_time": "2019-07-01T15:49:50.085790Z",
     "start_time": "2019-07-01T15:49:50.031191Z"
    }
   },
   "outputs": [
    {
     "data": {
      "text/html": [
       "<div>\n",
       "<style scoped>\n",
       "    .dataframe tbody tr th:only-of-type {\n",
       "        vertical-align: middle;\n",
       "    }\n",
       "\n",
       "    .dataframe tbody tr th {\n",
       "        vertical-align: top;\n",
       "    }\n",
       "\n",
       "    .dataframe thead th {\n",
       "        text-align: right;\n",
       "    }\n",
       "</style>\n",
       "<table border=\"1\" class=\"dataframe\">\n",
       "  <thead>\n",
       "    <tr style=\"text-align: right;\">\n",
       "      <th></th>\n",
       "      <th>sex_cat</th>\n",
       "      <th>age</th>\n",
       "      <th>age_missing</th>\n",
       "      <th>fare</th>\n",
       "      <th>fare_missing</th>\n",
       "      <th>embarked_cat</th>\n",
       "    </tr>\n",
       "  </thead>\n",
       "  <tbody>\n",
       "    <tr>\n",
       "      <th>1193</th>\n",
       "      <td>1</td>\n",
       "      <td>28.0</td>\n",
       "      <td>True</td>\n",
       "      <td>7.7250</td>\n",
       "      <td>False</td>\n",
       "      <td>1</td>\n",
       "    </tr>\n",
       "    <tr>\n",
       "      <th>990</th>\n",
       "      <td>1</td>\n",
       "      <td>29.0</td>\n",
       "      <td>False</td>\n",
       "      <td>7.9250</td>\n",
       "      <td>False</td>\n",
       "      <td>2</td>\n",
       "    </tr>\n",
       "    <tr>\n",
       "      <th>862</th>\n",
       "      <td>0</td>\n",
       "      <td>22.0</td>\n",
       "      <td>False</td>\n",
       "      <td>8.9625</td>\n",
       "      <td>False</td>\n",
       "      <td>2</td>\n",
       "    </tr>\n",
       "    <tr>\n",
       "      <th>47</th>\n",
       "      <td>1</td>\n",
       "      <td>42.0</td>\n",
       "      <td>False</td>\n",
       "      <td>26.2875</td>\n",
       "      <td>False</td>\n",
       "      <td>2</td>\n",
       "    </tr>\n",
       "    <tr>\n",
       "      <th>160</th>\n",
       "      <td>0</td>\n",
       "      <td>44.0</td>\n",
       "      <td>False</td>\n",
       "      <td>57.9792</td>\n",
       "      <td>False</td>\n",
       "      <td>0</td>\n",
       "    </tr>\n",
       "    <tr>\n",
       "      <th>960</th>\n",
       "      <td>1</td>\n",
       "      <td>34.5</td>\n",
       "      <td>False</td>\n",
       "      <td>6.4375</td>\n",
       "      <td>False</td>\n",
       "      <td>0</td>\n",
       "    </tr>\n",
       "    <tr>\n",
       "      <th>265</th>\n",
       "      <td>1</td>\n",
       "      <td>28.0</td>\n",
       "      <td>False</td>\n",
       "      <td>35.5000</td>\n",
       "      <td>False</td>\n",
       "      <td>2</td>\n",
       "    </tr>\n",
       "    <tr>\n",
       "      <th>1156</th>\n",
       "      <td>0</td>\n",
       "      <td>2.0</td>\n",
       "      <td>False</td>\n",
       "      <td>20.2125</td>\n",
       "      <td>False</td>\n",
       "      <td>2</td>\n",
       "    </tr>\n",
       "    <tr>\n",
       "      <th>1011</th>\n",
       "      <td>0</td>\n",
       "      <td>19.0</td>\n",
       "      <td>False</td>\n",
       "      <td>16.1000</td>\n",
       "      <td>False</td>\n",
       "      <td>2</td>\n",
       "    </tr>\n",
       "    <tr>\n",
       "      <th>18</th>\n",
       "      <td>0</td>\n",
       "      <td>32.0</td>\n",
       "      <td>False</td>\n",
       "      <td>76.2917</td>\n",
       "      <td>False</td>\n",
       "      <td>0</td>\n",
       "    </tr>\n",
       "  </tbody>\n",
       "</table>\n",
       "</div>"
      ],
      "text/plain": [
       "      sex_cat   age  age_missing     fare  fare_missing  embarked_cat\n",
       "1193        1  28.0         True   7.7250         False             1\n",
       "990         1  29.0        False   7.9250         False             2\n",
       "862         0  22.0        False   8.9625         False             2\n",
       "47          1  42.0        False  26.2875         False             2\n",
       "160         0  44.0        False  57.9792         False             0\n",
       "960         1  34.5        False   6.4375         False             0\n",
       "265         1  28.0        False  35.5000         False             2\n",
       "1156        0   2.0        False  20.2125         False             2\n",
       "1011        0  19.0        False  16.1000         False             2\n",
       "18          0  32.0        False  76.2917         False             0"
      ]
     },
     "execution_count": 40,
     "metadata": {},
     "output_type": "execute_result"
    }
   ],
   "source": [
    "dataset_predictions[feature_set_v3]"
   ]
  },
  {
   "cell_type": "markdown",
   "metadata": {},
   "source": [
    "DecisionTreeClassifier contains predict and predict_proba methods for making predictions : <br>\n",
    "- predict method returns the predicted class \n",
    "- predict_proba returns the class probabilities "
   ]
  },
  {
   "cell_type": "code",
   "execution_count": 41,
   "metadata": {
    "ExecuteTime": {
     "end_time": "2019-07-01T15:49:50.431277Z",
     "start_time": "2019-07-01T15:49:50.380623Z"
    }
   },
   "outputs": [
    {
     "data": {
      "text/plain": [
       "array([False, False,  True, False,  True, False, False,  True,  True,\n",
       "        True])"
      ]
     },
     "execution_count": 41,
     "metadata": {},
     "output_type": "execute_result"
    }
   ],
   "source": [
    "dt_v3.predict(dataset_predictions[feature_set_v3])"
   ]
  },
  {
   "cell_type": "code",
   "execution_count": 42,
   "metadata": {
    "ExecuteTime": {
     "end_time": "2019-07-01T15:49:50.625521Z",
     "start_time": "2019-07-01T15:49:50.579281Z"
    }
   },
   "outputs": [
    {
     "data": {
      "text/plain": [
       "array([[0.87521079, 0.12478921],\n",
       "       [0.87521079, 0.12478921],\n",
       "       [0.46296296, 0.53703704],\n",
       "       [0.70048309, 0.29951691],\n",
       "       [0.02542373, 0.97457627],\n",
       "       [0.87521079, 0.12478921],\n",
       "       [0.70048309, 0.29951691],\n",
       "       [0.30530973, 0.69469027],\n",
       "       [0.30530973, 0.69469027],\n",
       "       [0.02542373, 0.97457627]])"
      ]
     },
     "execution_count": 42,
     "metadata": {},
     "output_type": "execute_result"
    }
   ],
   "source": [
    "dt_v3.predict_proba(dataset_predictions[feature_set_v3])"
   ]
  },
  {
   "cell_type": "markdown",
   "metadata": {},
   "source": [
    "### Model validation\n",
    "\n",
    "The role of model validation is to check the model performance and how it will perform in production environment ! <br>\n",
    "\n",
    "The most common model validation metric for classification algorithms is accuracy metric. It tells us the percentage of corrent predictions made by our model, in others words accuracy = (number of corrent predictions / total number of predictions). <br>\n",
    "[Check for others validation metrics for classification](https://scikit-learn.org/stable/modules/classes.html#classification-metrics)\n",
    "\n"
   ]
  },
  {
   "cell_type": "code",
   "execution_count": 43,
   "metadata": {
    "ExecuteTime": {
     "end_time": "2019-07-01T15:49:50.985166Z",
     "start_time": "2019-07-01T15:49:50.936730Z"
    }
   },
   "outputs": [
    {
     "data": {
      "text/plain": [
       "0.787624140565317"
      ]
     },
     "execution_count": 43,
     "metadata": {},
     "output_type": "execute_result"
    }
   ],
   "source": [
    "accuracy_score(dataset[target], dt_v3.predict(dataset[feature_set_v3]))"
   ]
  },
  {
   "cell_type": "markdown",
   "metadata": {},
   "source": [
    "### Validation strategies  \n",
    "\n",
    "The rule number one : validation strategy should reflect as much as possible how the model will behave in production. <br>\n",
    "\n",
    "The most common validation strategy is holdout method, where we split our dataset in two parts, training and validation datasets. <br>\n",
    "One splitting method would be to shuffle the data and choose 70% of them in training and 30% into validation. "
   ]
  },
  {
   "cell_type": "code",
   "execution_count": 44,
   "metadata": {
    "ExecuteTime": {
     "end_time": "2019-07-01T15:49:51.353768Z",
     "start_time": "2019-07-01T15:49:51.314508Z"
    }
   },
   "outputs": [],
   "source": [
    "random_state = 1987"
   ]
  },
  {
   "cell_type": "code",
   "execution_count": 45,
   "metadata": {
    "ExecuteTime": {
     "end_time": "2019-07-01T15:49:51.534550Z",
     "start_time": "2019-07-01T15:49:51.488952Z"
    }
   },
   "outputs": [],
   "source": [
    "train, validation = train_test_split(dataset, train_size=0.7, random_state=random_state, stratify = dataset.survived)"
   ]
  },
  {
   "cell_type": "code",
   "execution_count": 46,
   "metadata": {
    "ExecuteTime": {
     "end_time": "2019-07-01T15:49:51.730403Z",
     "start_time": "2019-07-01T15:49:51.689268Z"
    }
   },
   "outputs": [
    {
     "name": "stdout",
     "output_type": "stream",
     "text": [
      "train size 916\n",
      "validation size 393\n"
     ]
    }
   ],
   "source": [
    "print(f\"train size {train.shape[0]}\")\n",
    "print(f\"validation size {validation.shape[0]}\")"
   ]
  },
  {
   "cell_type": "code",
   "execution_count": 47,
   "metadata": {
    "ExecuteTime": {
     "end_time": "2019-07-01T15:49:52.324357Z",
     "start_time": "2019-07-01T15:49:51.898319Z"
    }
   },
   "outputs": [
    {
     "data": {
      "text/plain": [
       "<matplotlib.axes._subplots.AxesSubplot at 0x129618e80>"
      ]
     },
     "execution_count": 47,
     "metadata": {},
     "output_type": "execute_result"
    },
    {
     "data": {
      "image/png": "[encoded data removed]",
      "text/plain": [
       "<Figure size 720x360 with 2 Axes>"
      ]
     },
     "metadata": {
      "needs_background": "light"
     },
     "output_type": "display_data"
    }
   ],
   "source": [
    "plt.figure(figsize=(10,5))\n",
    "plt.subplot(1,2,1)\n",
    "train.groupby(\"survived\").size().plot.bar()\n",
    "plt.subplot(1,2,2)\n",
    "validation.groupby(\"survived\").size().plot.bar()"
   ]
  },
  {
   "cell_type": "code",
   "execution_count": 48,
   "metadata": {
    "ExecuteTime": {
     "end_time": "2019-07-01T15:49:52.912288Z",
     "start_time": "2019-07-01T15:49:52.326613Z"
    }
   },
   "outputs": [
    {
     "data": {
      "text/plain": [
       "<matplotlib.axes._subplots.AxesSubplot at 0x1296eda58>"
      ]
     },
     "execution_count": 48,
     "metadata": {},
     "output_type": "execute_result"
    },
    {
     "data": {
      "image/png": "[encoded data removed]",
      "text/plain": [
       "<Figure size 720x360 with 2 Axes>"
      ]
     },
     "metadata": {
      "needs_background": "light"
     },
     "output_type": "display_data"
    }
   ],
   "source": [
    "plt.figure(figsize=(10,5))\n",
    "plt.subplot(1,2,1)\n",
    "train.age.plot.hist()\n",
    "plt.subplot(1,2,2)\n",
    "validation.age.plot.hist()"
   ]
  },
  {
   "cell_type": "code",
   "execution_count": 131,
   "metadata": {
    "ExecuteTime": {
     "end_time": "2019-07-01T16:09:14.687456Z",
     "start_time": "2019-07-01T16:09:14.641465Z"
    }
   },
   "outputs": [
    {
     "data": {
      "text/plain": [
       "DecisionTreeClassifier(class_weight=None, criterion='gini', max_depth=5,\n",
       "                       max_features=None, max_leaf_nodes=None,\n",
       "                       min_impurity_decrease=0.0, min_impurity_split=None,\n",
       "                       min_samples_leaf=1, min_samples_split=2,\n",
       "                       min_weight_fraction_leaf=0.0, presort=False,\n",
       "                       random_state=1987, splitter='best')"
      ]
     },
     "execution_count": 131,
     "metadata": {},
     "output_type": "execute_result"
    }
   ],
   "source": [
    "dt_v4 = DecisionTreeClassifier(max_depth=5, random_state=random_state, class_weight=None)\n",
    "dt_v4.fit(train[feature_set_v3], train[target])\n"
   ]
  },
  {
   "cell_type": "code",
   "execution_count": 132,
   "metadata": {
    "ExecuteTime": {
     "end_time": "2019-07-01T16:09:15.549146Z",
     "start_time": "2019-07-01T16:09:15.503534Z"
    }
   },
   "outputs": [
    {
     "name": "stdout",
     "output_type": "stream",
     "text": [
      "training accuracy 0.8275109170305677\n",
      "validation accuracy 0.7506361323155216\n"
     ]
    }
   ],
   "source": [
    "print(f\"training accuracy {accuracy_score(train[target], dt_v4.predict(train[feature_set_v3]))}\")\n",
    "print(f\"validation accuracy {accuracy_score(validation[target], dt_v4.predict(validation[feature_set_v3]))}\")"
   ]
  },
  {
   "cell_type": "code",
   "execution_count": 52,
   "metadata": {
    "ExecuteTime": {
     "end_time": "2019-07-01T15:49:53.168255Z",
     "start_time": "2019-07-01T15:49:53.063032Z"
    }
   },
   "outputs": [
    {
     "name": "stderr",
     "output_type": "stream",
     "text": [
      "/Users/tudorlapusan/Documents/workspaces/ml/workshops/tree_based_models_workshop/venv/lib/python3.7/site-packages/ipykernel_launcher.py:1: SettingWithCopyWarning: \n",
      "A value is trying to be set on a copy of a slice from a DataFrame.\n",
      "Try using .loc[row_indexer,col_indexer] = value instead\n",
      "\n",
      "See the caveats in the documentation: http://pandas.pydata.org/pandas-docs/stable/indexing.html#indexing-view-versus-copy\n",
      "  \"\"\"Entry point for launching an IPython kernel.\n"
     ]
    }
   ],
   "source": [
    "validation[\"prediction\"]= dt_v4.predict(validation[feature_set_v3])"
   ]
  },
  {
   "cell_type": "code",
   "execution_count": 53,
   "metadata": {
    "ExecuteTime": {
     "end_time": "2019-07-01T15:49:53.211542Z",
     "start_time": "2019-07-01T15:49:53.170831Z"
    }
   },
   "outputs": [
    {
     "data": {
      "text/plain": [
       "['sex_cat', 'age', 'age_missing', 'fare', 'fare_missing', 'embarked_cat']"
      ]
     },
     "execution_count": 53,
     "metadata": {},
     "output_type": "execute_result"
    }
   ],
   "source": [
    "feature_set_v3"
   ]
  },
  {
   "cell_type": "code",
   "execution_count": null,
   "metadata": {
    "ExecuteTime": {
     "end_time": "2019-07-01T06:07:30.278913Z",
     "start_time": "2019-07-01T06:07:30.237177Z"
    }
   },
   "outputs": [],
   "source": []
  },
  {
   "cell_type": "code",
   "execution_count": 54,
   "metadata": {
    "ExecuteTime": {
     "end_time": "2019-07-01T15:49:53.563834Z",
     "start_time": "2019-07-01T15:49:53.510509Z"
    }
   },
   "outputs": [
    {
     "data": {
      "text/plain": [
       "survived  prediction  sex_cat\n",
       "False     False       0            1\n",
       "                      1          191\n",
       "          True        0           42\n",
       "                      1            9\n",
       "True      False       0            2\n",
       "                      1           52\n",
       "          True        0           88\n",
       "                      1            8\n",
       "dtype: int64"
      ]
     },
     "execution_count": 54,
     "metadata": {},
     "output_type": "execute_result"
    }
   ],
   "source": [
    "validation.groupby([\"survived\", \"prediction\", \"sex_cat\"]).size()"
   ]
  },
  {
   "cell_type": "markdown",
   "metadata": {},
   "source": [
    "TODO\n",
    "- explain overfitting and underfitting"
   ]
  },
  {
   "cell_type": "markdown",
   "metadata": {},
   "source": [
    "### Model interpretation"
   ]
  },
  {
   "cell_type": "code",
   "execution_count": 55,
   "metadata": {
    "ExecuteTime": {
     "end_time": "2019-07-01T15:49:54.148793Z",
     "start_time": "2019-07-01T15:49:54.107294Z"
    }
   },
   "outputs": [],
   "source": [
    "dts = DecisionTreeStructure(dt_v4, train, feature_set_v3, target)"
   ]
  },
  {
   "cell_type": "code",
   "execution_count": 56,
   "metadata": {
    "ExecuteTime": {
     "end_time": "2019-07-01T15:49:54.760993Z",
     "start_time": "2019-07-01T15:49:54.295432Z"
    }
   },
   "outputs": [
    {
     "data": {
      "image/png": "[encoded data removed]",
      "text/plain": [
       "<Figure size 1440x504 with 1 Axes>"
      ]
     },
     "metadata": {
      "needs_background": "light"
     },
     "output_type": "display_data"
    }
   ],
   "source": [
    "dts.show_features_importance(figsize=(20,7))"
   ]
  },
  {
   "cell_type": "code",
   "execution_count": 57,
   "metadata": {
    "ExecuteTime": {
     "end_time": "2019-07-01T15:49:54.884415Z",
     "start_time": "2019-07-01T15:49:54.763160Z"
    }
   },
   "outputs": [
    {
     "data": {
      "image/svg+xml": [
       "<?xml version=\"1.0\" encoding=\"UTF-8\" standalone=\"no\"?>\n",
       "<!DOCTYPE svg PUBLIC \"-//W3C//DTD SVG 1.1//EN\"\n",
       " \"http://www.w3.org/Graphics/SVG/1.1/DTD/svg11.dtd\">\n",
       "<!-- Generated by graphviz version 2.40.1 (20161225.0304)\n",
       " -->\n",
       "<!-- Title: Tree Pages: 1 -->\n",
       "<svg width=\"958pt\" height=\"452pt\"\n",
       " viewBox=\"0.00 0.00 957.50 452.00\" xmlns=\"http://www.w3.org/2000/svg\" xmlns:xlink=\"http://www.w3.org/1999/xlink\">\n",
       "<g id=\"graph0\" class=\"graph\" transform=\"scale(1 1) rotate(0) translate(4 448)\">\n",
       "<title>Tree</title>\n",
       "<polygon fill=\"#ffffff\" stroke=\"transparent\" points=\"-4,4 -4,-448 953.5,-448 953.5,4 -4,4\"/>\n",
       "<!-- 0 -->\n",
       "<g id=\"node1\" class=\"node\">\n",
       "<title>0</title>\n",
       "<polygon fill=\"#f5cfb3\" stroke=\"#000000\" points=\"513.5,-444 393.5,-444 393.5,-356 513.5,-356 513.5,-444\"/>\n",
       "<text text-anchor=\"middle\" x=\"453.5\" y=\"-427.4\" font-family=\"Times,serif\" font-size=\"14.00\" fill=\"#000000\">node #0</text>\n",
       "<text text-anchor=\"middle\" x=\"453.5\" y=\"-411.4\" font-family=\"Times,serif\" font-size=\"14.00\" fill=\"#000000\">sex_cat &lt;= 0.5</text>\n",
       "<text text-anchor=\"middle\" x=\"453.5\" y=\"-395.4\" font-family=\"Times,serif\" font-size=\"14.00\" fill=\"#000000\">gini = 0.472</text>\n",
       "<text text-anchor=\"middle\" x=\"453.5\" y=\"-379.4\" font-family=\"Times,serif\" font-size=\"14.00\" fill=\"#000000\">samples = 916</text>\n",
       "<text text-anchor=\"middle\" x=\"453.5\" y=\"-363.4\" font-family=\"Times,serif\" font-size=\"14.00\" fill=\"#000000\">value = [566, 350]</text>\n",
       "</g>\n",
       "<!-- 1 -->\n",
       "<g id=\"node2\" class=\"node\">\n",
       "<title>1</title>\n",
       "<polygon fill=\"#7cbeee\" stroke=\"#000000\" points=\"442,-320 329,-320 329,-232 442,-232 442,-320\"/>\n",
       "<text text-anchor=\"middle\" x=\"385.5\" y=\"-303.4\" font-family=\"Times,serif\" font-size=\"14.00\" fill=\"#000000\">node #1</text>\n",
       "<text text-anchor=\"middle\" x=\"385.5\" y=\"-287.4\" font-family=\"Times,serif\" font-size=\"14.00\" fill=\"#000000\">fare &lt;= 25.698</text>\n",
       "<text text-anchor=\"middle\" x=\"385.5\" y=\"-271.4\" font-family=\"Times,serif\" font-size=\"14.00\" fill=\"#000000\">gini = 0.377</text>\n",
       "<text text-anchor=\"middle\" x=\"385.5\" y=\"-255.4\" font-family=\"Times,serif\" font-size=\"14.00\" fill=\"#000000\">samples = 333</text>\n",
       "<text text-anchor=\"middle\" x=\"385.5\" y=\"-239.4\" font-family=\"Times,serif\" font-size=\"14.00\" fill=\"#000000\">value = [84, 249]</text>\n",
       "</g>\n",
       "<!-- 0&#45;&gt;1 -->\n",
       "<g id=\"edge1\" class=\"edge\">\n",
       "<title>0&#45;&gt;1</title>\n",
       "<path fill=\"none\" stroke=\"#000000\" d=\"M429.3343,-355.9331C424.5816,-347.2664 419.5484,-338.0883 414.6522,-329.1598\"/>\n",
       "<polygon fill=\"#000000\" stroke=\"#000000\" points=\"417.6942,-327.428 409.817,-320.3428 411.5565,-330.7939 417.6942,-327.428\"/>\n",
       "<text text-anchor=\"middle\" x=\"402.817\" y=\"-339.7428\" font-family=\"Times,serif\" font-size=\"14.00\" fill=\"#000000\">True</text>\n",
       "</g>\n",
       "<!-- 8 -->\n",
       "<g id=\"node9\" class=\"node\">\n",
       "<title>8</title>\n",
       "<polygon fill=\"#ea9b62\" stroke=\"#000000\" points=\"620.5,-320 500.5,-320 500.5,-232 620.5,-232 620.5,-320\"/>\n",
       "<text text-anchor=\"middle\" x=\"560.5\" y=\"-303.4\" font-family=\"Times,serif\" font-size=\"14.00\" fill=\"#000000\">node #8</text>\n",
       "<text text-anchor=\"middle\" x=\"560.5\" y=\"-287.4\" font-family=\"Times,serif\" font-size=\"14.00\" fill=\"#000000\">age &lt;= 9.5</text>\n",
       "<text text-anchor=\"middle\" x=\"560.5\" y=\"-271.4\" font-family=\"Times,serif\" font-size=\"14.00\" fill=\"#000000\">gini = 0.286</text>\n",
       "<text text-anchor=\"middle\" x=\"560.5\" y=\"-255.4\" font-family=\"Times,serif\" font-size=\"14.00\" fill=\"#000000\">samples = 583</text>\n",
       "<text text-anchor=\"middle\" x=\"560.5\" y=\"-239.4\" font-family=\"Times,serif\" font-size=\"14.00\" fill=\"#000000\">value = [482, 101]</text>\n",
       "</g>\n",
       "<!-- 0&#45;&gt;8 -->\n",
       "<g id=\"edge8\" class=\"edge\">\n",
       "<title>0&#45;&gt;8</title>\n",
       "<path fill=\"none\" stroke=\"#000000\" d=\"M491.5255,-355.9331C499.3156,-346.9053 507.5846,-337.3226 515.5901,-328.0451\"/>\n",
       "<polygon fill=\"#000000\" stroke=\"#000000\" points=\"518.3533,-330.2004 522.2365,-320.3428 513.0536,-325.6272 518.3533,-330.2004\"/>\n",
       "<text text-anchor=\"middle\" x=\"524.0713\" y=\"-340.6754\" font-family=\"Times,serif\" font-size=\"14.00\" fill=\"#000000\">False</text>\n",
       "</g>\n",
       "<!-- 2 -->\n",
       "<g id=\"node3\" class=\"node\">\n",
       "<title>2</title>\n",
       "<polygon fill=\"#aed7f4\" stroke=\"#000000\" points=\"234,-196 121,-196 121,-108 234,-108 234,-196\"/>\n",
       "<text text-anchor=\"middle\" x=\"177.5\" y=\"-179.4\" font-family=\"Times,serif\" font-size=\"14.00\" fill=\"#000000\">node #2</text>\n",
       "<text text-anchor=\"middle\" x=\"177.5\" y=\"-163.4\" font-family=\"Times,serif\" font-size=\"14.00\" fill=\"#000000\">fare &lt;= 23.225</text>\n",
       "<text text-anchor=\"middle\" x=\"177.5\" y=\"-147.4\" font-family=\"Times,serif\" font-size=\"14.00\" fill=\"#000000\">gini = 0.467</text>\n",
       "<text text-anchor=\"middle\" x=\"177.5\" y=\"-131.4\" font-family=\"Times,serif\" font-size=\"14.00\" fill=\"#000000\">samples = 178</text>\n",
       "<text text-anchor=\"middle\" x=\"177.5\" y=\"-115.4\" font-family=\"Times,serif\" font-size=\"14.00\" fill=\"#000000\">value = [66, 112]</text>\n",
       "</g>\n",
       "<!-- 1&#45;&gt;2 -->\n",
       "<g id=\"edge2\" class=\"edge\">\n",
       "<title>1&#45;&gt;2</title>\n",
       "<path fill=\"none\" stroke=\"#000000\" d=\"M328.9378,-242.2802C302.3429,-226.4256 270.4807,-207.4308 242.8582,-190.9636\"/>\n",
       "<polygon fill=\"#000000\" stroke=\"#000000\" points=\"244.4326,-187.8274 234.0509,-185.713 240.8481,-193.8401 244.4326,-187.8274\"/>\n",
       "</g>\n",
       "<!-- 5 -->\n",
       "<g id=\"node6\" class=\"node\">\n",
       "<title>5</title>\n",
       "<polygon fill=\"#53aae8\" stroke=\"#000000\" points=\"453,-196 318,-196 318,-108 453,-108 453,-196\"/>\n",
       "<text text-anchor=\"middle\" x=\"385.5\" y=\"-179.4\" font-family=\"Times,serif\" font-size=\"14.00\" fill=\"#000000\">node #5</text>\n",
       "<text text-anchor=\"middle\" x=\"385.5\" y=\"-163.4\" font-family=\"Times,serif\" font-size=\"14.00\" fill=\"#000000\">embarked_cat &lt;= 0.5</text>\n",
       "<text text-anchor=\"middle\" x=\"385.5\" y=\"-147.4\" font-family=\"Times,serif\" font-size=\"14.00\" fill=\"#000000\">gini = 0.205</text>\n",
       "<text text-anchor=\"middle\" x=\"385.5\" y=\"-131.4\" font-family=\"Times,serif\" font-size=\"14.00\" fill=\"#000000\">samples = 155</text>\n",
       "<text text-anchor=\"middle\" x=\"385.5\" y=\"-115.4\" font-family=\"Times,serif\" font-size=\"14.00\" fill=\"#000000\">value = [18, 137]</text>\n",
       "</g>\n",
       "<!-- 1&#45;&gt;5 -->\n",
       "<g id=\"edge5\" class=\"edge\">\n",
       "<title>1&#45;&gt;5</title>\n",
       "<path fill=\"none\" stroke=\"#000000\" d=\"M385.5,-231.9331C385.5,-223.7178 385.5,-215.043 385.5,-206.5568\"/>\n",
       "<polygon fill=\"#000000\" stroke=\"#000000\" points=\"389.0001,-206.3428 385.5,-196.3428 382.0001,-206.3428 389.0001,-206.3428\"/>\n",
       "</g>\n",
       "<!-- 3 -->\n",
       "<g id=\"node4\" class=\"node\">\n",
       "<title>3</title>\n",
       "<polygon fill=\"#a3d2f3\" stroke=\"#000000\" points=\"113,-72 0,-72 0,0 113,0 113,-72\"/>\n",
       "<text text-anchor=\"middle\" x=\"56.5\" y=\"-55.4\" font-family=\"Times,serif\" font-size=\"14.00\" fill=\"#000000\">node #3</text>\n",
       "<text text-anchor=\"middle\" x=\"56.5\" y=\"-39.4\" font-family=\"Times,serif\" font-size=\"14.00\" fill=\"#000000\">gini = 0.454</text>\n",
       "<text text-anchor=\"middle\" x=\"56.5\" y=\"-23.4\" font-family=\"Times,serif\" font-size=\"14.00\" fill=\"#000000\">samples = 169</text>\n",
       "<text text-anchor=\"middle\" x=\"56.5\" y=\"-7.4\" font-family=\"Times,serif\" font-size=\"14.00\" fill=\"#000000\">value = [59, 110]</text>\n",
       "</g>\n",
       "<!-- 2&#45;&gt;3 -->\n",
       "<g id=\"edge3\" class=\"edge\">\n",
       "<title>2&#45;&gt;3</title>\n",
       "<path fill=\"none\" stroke=\"#000000\" d=\"M131.4099,-107.8145C121.6174,-98.4266 111.2901,-88.526 101.5374,-79.1763\"/>\n",
       "<polygon fill=\"#000000\" stroke=\"#000000\" points=\"103.8506,-76.5454 94.2098,-72.1516 99.0063,-81.5985 103.8506,-76.5454\"/>\n",
       "</g>\n",
       "<!-- 4 -->\n",
       "<g id=\"node5\" class=\"node\">\n",
       "<title>4</title>\n",
       "<polygon fill=\"#eca572\" stroke=\"#000000\" points=\"223.5,-72 131.5,-72 131.5,0 223.5,0 223.5,-72\"/>\n",
       "<text text-anchor=\"middle\" x=\"177.5\" y=\"-55.4\" font-family=\"Times,serif\" font-size=\"14.00\" fill=\"#000000\">node #4</text>\n",
       "<text text-anchor=\"middle\" x=\"177.5\" y=\"-39.4\" font-family=\"Times,serif\" font-size=\"14.00\" fill=\"#000000\">gini = 0.346</text>\n",
       "<text text-anchor=\"middle\" x=\"177.5\" y=\"-23.4\" font-family=\"Times,serif\" font-size=\"14.00\" fill=\"#000000\">samples = 9</text>\n",
       "<text text-anchor=\"middle\" x=\"177.5\" y=\"-7.4\" font-family=\"Times,serif\" font-size=\"14.00\" fill=\"#000000\">value = [7, 2]</text>\n",
       "</g>\n",
       "<!-- 2&#45;&gt;4 -->\n",
       "<g id=\"edge4\" class=\"edge\">\n",
       "<title>2&#45;&gt;4</title>\n",
       "<path fill=\"none\" stroke=\"#000000\" d=\"M177.5,-107.8145C177.5,-99.439 177.5,-90.6555 177.5,-82.2191\"/>\n",
       "<polygon fill=\"#000000\" stroke=\"#000000\" points=\"181.0001,-82.1515 177.5,-72.1516 174.0001,-82.1516 181.0001,-82.1515\"/>\n",
       "</g>\n",
       "<!-- 6 -->\n",
       "<g id=\"node7\" class=\"node\">\n",
       "<title>6</title>\n",
       "<polygon fill=\"#40a0e6\" stroke=\"#000000\" points=\"341,-72 242,-72 242,0 341,0 341,-72\"/>\n",
       "<text text-anchor=\"middle\" x=\"291.5\" y=\"-55.4\" font-family=\"Times,serif\" font-size=\"14.00\" fill=\"#000000\">node #6</text>\n",
       "<text text-anchor=\"middle\" x=\"291.5\" y=\"-39.4\" font-family=\"Times,serif\" font-size=\"14.00\" fill=\"#000000\">gini = 0.067</text>\n",
       "<text text-anchor=\"middle\" x=\"291.5\" y=\"-23.4\" font-family=\"Times,serif\" font-size=\"14.00\" fill=\"#000000\">samples = 58</text>\n",
       "<text text-anchor=\"middle\" x=\"291.5\" y=\"-7.4\" font-family=\"Times,serif\" font-size=\"14.00\" fill=\"#000000\">value = [2, 56]</text>\n",
       "</g>\n",
       "<!-- 5&#45;&gt;6 -->\n",
       "<g id=\"edge6\" class=\"edge\">\n",
       "<title>5&#45;&gt;6</title>\n",
       "<path fill=\"none\" stroke=\"#000000\" d=\"M349.6945,-107.8145C342.3108,-98.7027 334.5358,-89.108 327.1574,-80.0027\"/>\n",
       "<polygon fill=\"#000000\" stroke=\"#000000\" points=\"329.8104,-77.7173 320.7952,-72.1516 324.3718,-82.1245 329.8104,-77.7173\"/>\n",
       "</g>\n",
       "<!-- 7 -->\n",
       "<g id=\"node8\" class=\"node\">\n",
       "<title>7</title>\n",
       "<polygon fill=\"#60b0ea\" stroke=\"#000000\" points=\"465.5,-72 359.5,-72 359.5,0 465.5,0 465.5,-72\"/>\n",
       "<text text-anchor=\"middle\" x=\"412.5\" y=\"-55.4\" font-family=\"Times,serif\" font-size=\"14.00\" fill=\"#000000\">node #7</text>\n",
       "<text text-anchor=\"middle\" x=\"412.5\" y=\"-39.4\" font-family=\"Times,serif\" font-size=\"14.00\" fill=\"#000000\">gini = 0.275</text>\n",
       "<text text-anchor=\"middle\" x=\"412.5\" y=\"-23.4\" font-family=\"Times,serif\" font-size=\"14.00\" fill=\"#000000\">samples = 97</text>\n",
       "<text text-anchor=\"middle\" x=\"412.5\" y=\"-7.4\" font-family=\"Times,serif\" font-size=\"14.00\" fill=\"#000000\">value = [16, 81]</text>\n",
       "</g>\n",
       "<!-- 5&#45;&gt;7 -->\n",
       "<g id=\"edge7\" class=\"edge\">\n",
       "<title>5&#45;&gt;7</title>\n",
       "<path fill=\"none\" stroke=\"#000000\" d=\"M395.7846,-107.8145C397.7554,-99.347 399.8234,-90.4624 401.8068,-81.9411\"/>\n",
       "<polygon fill=\"#000000\" stroke=\"#000000\" points=\"405.2272,-82.6847 404.0854,-72.1516 398.4095,-81.0977 405.2272,-82.6847\"/>\n",
       "</g>\n",
       "<!-- 9 -->\n",
       "<g id=\"node10\" class=\"node\">\n",
       "<title>9</title>\n",
       "<polygon fill=\"#a2d1f3\" stroke=\"#000000\" points=\"610.5,-196 510.5,-196 510.5,-108 610.5,-108 610.5,-196\"/>\n",
       "<text text-anchor=\"middle\" x=\"560.5\" y=\"-179.4\" font-family=\"Times,serif\" font-size=\"14.00\" fill=\"#000000\">node #9</text>\n",
       "<text text-anchor=\"middle\" x=\"560.5\" y=\"-163.4\" font-family=\"Times,serif\" font-size=\"14.00\" fill=\"#000000\">fare &lt;= 31.944</text>\n",
       "<text text-anchor=\"middle\" x=\"560.5\" y=\"-147.4\" font-family=\"Times,serif\" font-size=\"14.00\" fill=\"#000000\">gini = 0.453</text>\n",
       "<text text-anchor=\"middle\" x=\"560.5\" y=\"-131.4\" font-family=\"Times,serif\" font-size=\"14.00\" fill=\"#000000\">samples = 26</text>\n",
       "<text text-anchor=\"middle\" x=\"560.5\" y=\"-115.4\" font-family=\"Times,serif\" font-size=\"14.00\" fill=\"#000000\">value = [9, 17]</text>\n",
       "</g>\n",
       "<!-- 8&#45;&gt;9 -->\n",
       "<g id=\"edge9\" class=\"edge\">\n",
       "<title>8&#45;&gt;9</title>\n",
       "<path fill=\"none\" stroke=\"#000000\" d=\"M560.5,-231.9331C560.5,-223.7178 560.5,-215.043 560.5,-206.5568\"/>\n",
       "<polygon fill=\"#000000\" stroke=\"#000000\" points=\"564.0001,-206.3428 560.5,-196.3428 557.0001,-206.3428 564.0001,-206.3428\"/>\n",
       "</g>\n",
       "<!-- 12 -->\n",
       "<g id=\"node13\" class=\"node\">\n",
       "<title>12</title>\n",
       "<polygon fill=\"#ea975c\" stroke=\"#000000\" points=\"825,-196 712,-196 712,-108 825,-108 825,-196\"/>\n",
       "<text text-anchor=\"middle\" x=\"768.5\" y=\"-179.4\" font-family=\"Times,serif\" font-size=\"14.00\" fill=\"#000000\">node #12</text>\n",
       "<text text-anchor=\"middle\" x=\"768.5\" y=\"-163.4\" font-family=\"Times,serif\" font-size=\"14.00\" fill=\"#000000\">fare &lt;= 28.519</text>\n",
       "<text text-anchor=\"middle\" x=\"768.5\" y=\"-147.4\" font-family=\"Times,serif\" font-size=\"14.00\" fill=\"#000000\">gini = 0.256</text>\n",
       "<text text-anchor=\"middle\" x=\"768.5\" y=\"-131.4\" font-family=\"Times,serif\" font-size=\"14.00\" fill=\"#000000\">samples = 557</text>\n",
       "<text text-anchor=\"middle\" x=\"768.5\" y=\"-115.4\" font-family=\"Times,serif\" font-size=\"14.00\" fill=\"#000000\">value = [473, 84]</text>\n",
       "</g>\n",
       "<!-- 8&#45;&gt;12 -->\n",
       "<g id=\"edge12\" class=\"edge\">\n",
       "<title>8&#45;&gt;12</title>\n",
       "<path fill=\"none\" stroke=\"#000000\" d=\"M620.6622,-240.1341C646.4253,-224.7753 676.5816,-206.7975 702.9148,-191.0989\"/>\n",
       "<polygon fill=\"#000000\" stroke=\"#000000\" points=\"704.8895,-193.9965 711.6867,-185.8695 701.305,-187.9838 704.8895,-193.9965\"/>\n",
       "</g>\n",
       "<!-- 10 -->\n",
       "<g id=\"node11\" class=\"node\">\n",
       "<title>10</title>\n",
       "<polygon fill=\"#cee6f8\" stroke=\"#000000\" points=\"583,-72 484,-72 484,0 583,0 583,-72\"/>\n",
       "<text text-anchor=\"middle\" x=\"533.5\" y=\"-55.4\" font-family=\"Times,serif\" font-size=\"14.00\" fill=\"#000000\">node #10</text>\n",
       "<text text-anchor=\"middle\" x=\"533.5\" y=\"-39.4\" font-family=\"Times,serif\" font-size=\"14.00\" fill=\"#000000\">gini = 0.49</text>\n",
       "<text text-anchor=\"middle\" x=\"533.5\" y=\"-23.4\" font-family=\"Times,serif\" font-size=\"14.00\" fill=\"#000000\">samples = 21</text>\n",
       "<text text-anchor=\"middle\" x=\"533.5\" y=\"-7.4\" font-family=\"Times,serif\" font-size=\"14.00\" fill=\"#000000\">value = [9, 12]</text>\n",
       "</g>\n",
       "<!-- 9&#45;&gt;10 -->\n",
       "<g id=\"edge10\" class=\"edge\">\n",
       "<title>9&#45;&gt;10</title>\n",
       "<path fill=\"none\" stroke=\"#000000\" d=\"M550.2154,-107.8145C548.2446,-99.347 546.1766,-90.4624 544.1932,-81.9411\"/>\n",
       "<polygon fill=\"#000000\" stroke=\"#000000\" points=\"547.5905,-81.0977 541.9146,-72.1516 540.7728,-82.6847 547.5905,-81.0977\"/>\n",
       "</g>\n",
       "<!-- 11 -->\n",
       "<g id=\"node12\" class=\"node\">\n",
       "<title>11</title>\n",
       "<polygon fill=\"#399de5\" stroke=\"#000000\" points=\"693.5,-72 601.5,-72 601.5,0 693.5,0 693.5,-72\"/>\n",
       "<text text-anchor=\"middle\" x=\"647.5\" y=\"-55.4\" font-family=\"Times,serif\" font-size=\"14.00\" fill=\"#000000\">node #11</text>\n",
       "<text text-anchor=\"middle\" x=\"647.5\" y=\"-39.4\" font-family=\"Times,serif\" font-size=\"14.00\" fill=\"#000000\">gini = 0.0</text>\n",
       "<text text-anchor=\"middle\" x=\"647.5\" y=\"-23.4\" font-family=\"Times,serif\" font-size=\"14.00\" fill=\"#000000\">samples = 5</text>\n",
       "<text text-anchor=\"middle\" x=\"647.5\" y=\"-7.4\" font-family=\"Times,serif\" font-size=\"14.00\" fill=\"#000000\">value = [0, 5]</text>\n",
       "</g>\n",
       "<!-- 9&#45;&gt;11 -->\n",
       "<g id=\"edge11\" class=\"edge\">\n",
       "<title>9&#45;&gt;11</title>\n",
       "<path fill=\"none\" stroke=\"#000000\" d=\"M593.6392,-107.8145C600.4039,-98.7947 607.5237,-89.3017 614.2909,-80.2788\"/>\n",
       "<polygon fill=\"#000000\" stroke=\"#000000\" points=\"617.1863,-82.2516 620.3863,-72.1516 611.5863,-78.0516 617.1863,-82.2516\"/>\n",
       "</g>\n",
       "<!-- 13 -->\n",
       "<g id=\"node14\" class=\"node\">\n",
       "<title>13</title>\n",
       "<polygon fill=\"#e89152\" stroke=\"#000000\" points=\"825,-72 712,-72 712,0 825,0 825,-72\"/>\n",
       "<text text-anchor=\"middle\" x=\"768.5\" y=\"-55.4\" font-family=\"Times,serif\" font-size=\"14.00\" fill=\"#000000\">node #13</text>\n",
       "<text text-anchor=\"middle\" x=\"768.5\" y=\"-39.4\" font-family=\"Times,serif\" font-size=\"14.00\" fill=\"#000000\">gini = 0.201</text>\n",
       "<text text-anchor=\"middle\" x=\"768.5\" y=\"-23.4\" font-family=\"Times,serif\" font-size=\"14.00\" fill=\"#000000\">samples = 441</text>\n",
       "<text text-anchor=\"middle\" x=\"768.5\" y=\"-7.4\" font-family=\"Times,serif\" font-size=\"14.00\" fill=\"#000000\">value = [391, 50]</text>\n",
       "</g>\n",
       "<!-- 12&#45;&gt;13 -->\n",
       "<g id=\"edge13\" class=\"edge\">\n",
       "<title>12&#45;&gt;13</title>\n",
       "<path fill=\"none\" stroke=\"#000000\" d=\"M768.5,-107.8145C768.5,-99.439 768.5,-90.6555 768.5,-82.2191\"/>\n",
       "<polygon fill=\"#000000\" stroke=\"#000000\" points=\"772.0001,-82.1515 768.5,-72.1516 765.0001,-82.1516 772.0001,-82.1515\"/>\n",
       "</g>\n",
       "<!-- 14 -->\n",
       "<g id=\"node15\" class=\"node\">\n",
       "<title>14</title>\n",
       "<polygon fill=\"#f0b58b\" stroke=\"#000000\" points=\"949.5,-72 843.5,-72 843.5,0 949.5,0 949.5,-72\"/>\n",
       "<text text-anchor=\"middle\" x=\"896.5\" y=\"-55.4\" font-family=\"Times,serif\" font-size=\"14.00\" fill=\"#000000\">node #14</text>\n",
       "<text text-anchor=\"middle\" x=\"896.5\" y=\"-39.4\" font-family=\"Times,serif\" font-size=\"14.00\" fill=\"#000000\">gini = 0.414</text>\n",
       "<text text-anchor=\"middle\" x=\"896.5\" y=\"-23.4\" font-family=\"Times,serif\" font-size=\"14.00\" fill=\"#000000\">samples = 116</text>\n",
       "<text text-anchor=\"middle\" x=\"896.5\" y=\"-7.4\" font-family=\"Times,serif\" font-size=\"14.00\" fill=\"#000000\">value = [82, 34]</text>\n",
       "</g>\n",
       "<!-- 12&#45;&gt;14 -->\n",
       "<g id=\"edge14\" class=\"edge\">\n",
       "<title>12&#45;&gt;14</title>\n",
       "<path fill=\"none\" stroke=\"#000000\" d=\"M817.2565,-107.8145C827.7171,-98.3345 838.7545,-88.3318 849.1604,-78.9015\"/>\n",
       "<polygon fill=\"#000000\" stroke=\"#000000\" points=\"851.5491,-81.4602 856.6086,-72.1516 846.8484,-76.2733 851.5491,-81.4602\"/>\n",
       "</g>\n",
       "</g>\n",
       "</svg>\n"
      ],
      "text/plain": [
       "<graphviz.files.Source at 0x1299864e0>"
      ]
     },
     "execution_count": 57,
     "metadata": {},
     "output_type": "execute_result"
    }
   ],
   "source": [
    "dts.show_decision_tree_structure(rotate=False)"
   ]
  },
  {
   "cell_type": "code",
   "execution_count": 58,
   "metadata": {
    "ExecuteTime": {
     "end_time": "2019-07-01T15:49:55.482554Z",
     "start_time": "2019-07-01T15:49:54.888380Z"
    }
   },
   "outputs": [
    {
     "data": {
      "image/png": "[encoded data removed]",
      "text/plain": [
       "<Figure size 1440x504 with 1 Axes>"
      ]
     },
     "metadata": {
      "needs_background": "light"
     },
     "output_type": "display_data"
    }
   ],
   "source": [
    "dts.show_leaf_samples_by_class(figsize=(20,7))"
   ]
  },
  {
   "cell_type": "code",
   "execution_count": 59,
   "metadata": {
    "ExecuteTime": {
     "end_time": "2019-07-01T15:49:55.574981Z",
     "start_time": "2019-07-01T15:49:55.484431Z"
    }
   },
   "outputs": [
    {
     "name": "stderr",
     "output_type": "stream",
     "text": [
      "INFO - decision paths [[1 0 0 ... 1 1 0]\n",
      " [1 1 0 ... 0 0 0]\n",
      " [1 1 1 ... 0 0 0]\n",
      " ...\n",
      " [1 0 0 ... 1 1 0]\n",
      " [1 0 0 ... 1 1 0]\n",
      " [1 0 0 ... 1 1 0]] \n"
     ]
    },
    {
     "data": {
      "text/html": [
       "<div>\n",
       "<style scoped>\n",
       "    .dataframe tbody tr th:only-of-type {\n",
       "        vertical-align: middle;\n",
       "    }\n",
       "\n",
       "    .dataframe tbody tr th {\n",
       "        vertical-align: top;\n",
       "    }\n",
       "\n",
       "    .dataframe thead th {\n",
       "        text-align: right;\n",
       "    }\n",
       "</style>\n",
       "<table border=\"1\" class=\"dataframe\">\n",
       "  <thead>\n",
       "    <tr style=\"text-align: right;\">\n",
       "      <th></th>\n",
       "      <th>sex_cat</th>\n",
       "      <th>age</th>\n",
       "      <th>age_missing</th>\n",
       "      <th>fare</th>\n",
       "      <th>fare_missing</th>\n",
       "      <th>embarked_cat</th>\n",
       "      <th>survived</th>\n",
       "    </tr>\n",
       "  </thead>\n",
       "  <tbody>\n",
       "    <tr>\n",
       "      <th>count</th>\n",
       "      <td>58.0</td>\n",
       "      <td>58.000000</td>\n",
       "      <td>58</td>\n",
       "      <td>58.000000</td>\n",
       "      <td>58</td>\n",
       "      <td>58.000000</td>\n",
       "      <td>58</td>\n",
       "    </tr>\n",
       "    <tr>\n",
       "      <th>unique</th>\n",
       "      <td>NaN</td>\n",
       "      <td>NaN</td>\n",
       "      <td>2</td>\n",
       "      <td>NaN</td>\n",
       "      <td>1</td>\n",
       "      <td>NaN</td>\n",
       "      <td>2</td>\n",
       "    </tr>\n",
       "    <tr>\n",
       "      <th>top</th>\n",
       "      <td>NaN</td>\n",
       "      <td>NaN</td>\n",
       "      <td>False</td>\n",
       "      <td>NaN</td>\n",
       "      <td>False</td>\n",
       "      <td>NaN</td>\n",
       "      <td>True</td>\n",
       "    </tr>\n",
       "    <tr>\n",
       "      <th>freq</th>\n",
       "      <td>NaN</td>\n",
       "      <td>NaN</td>\n",
       "      <td>53</td>\n",
       "      <td>NaN</td>\n",
       "      <td>58</td>\n",
       "      <td>NaN</td>\n",
       "      <td>56</td>\n",
       "    </tr>\n",
       "    <tr>\n",
       "      <th>mean</th>\n",
       "      <td>0.0</td>\n",
       "      <td>34.068966</td>\n",
       "      <td>NaN</td>\n",
       "      <td>114.599641</td>\n",
       "      <td>NaN</td>\n",
       "      <td>-0.034483</td>\n",
       "      <td>NaN</td>\n",
       "    </tr>\n",
       "    <tr>\n",
       "      <th>std</th>\n",
       "      <td>0.0</td>\n",
       "      <td>14.401343</td>\n",
       "      <td>NaN</td>\n",
       "      <td>102.640235</td>\n",
       "      <td>NaN</td>\n",
       "      <td>0.184059</td>\n",
       "      <td>NaN</td>\n",
       "    </tr>\n",
       "    <tr>\n",
       "      <th>min</th>\n",
       "      <td>0.0</td>\n",
       "      <td>1.000000</td>\n",
       "      <td>NaN</td>\n",
       "      <td>27.445800</td>\n",
       "      <td>NaN</td>\n",
       "      <td>-1.000000</td>\n",
       "      <td>NaN</td>\n",
       "    </tr>\n",
       "    <tr>\n",
       "      <th>25%</th>\n",
       "      <td>0.0</td>\n",
       "      <td>24.000000</td>\n",
       "      <td>NaN</td>\n",
       "      <td>50.988575</td>\n",
       "      <td>NaN</td>\n",
       "      <td>0.000000</td>\n",
       "      <td>NaN</td>\n",
       "    </tr>\n",
       "    <tr>\n",
       "      <th>50%</th>\n",
       "      <td>0.0</td>\n",
       "      <td>32.000000</td>\n",
       "      <td>NaN</td>\n",
       "      <td>80.000000</td>\n",
       "      <td>NaN</td>\n",
       "      <td>0.000000</td>\n",
       "      <td>NaN</td>\n",
       "    </tr>\n",
       "    <tr>\n",
       "      <th>75%</th>\n",
       "      <td>0.0</td>\n",
       "      <td>47.250000</td>\n",
       "      <td>NaN</td>\n",
       "      <td>134.500000</td>\n",
       "      <td>NaN</td>\n",
       "      <td>0.000000</td>\n",
       "      <td>NaN</td>\n",
       "    </tr>\n",
       "    <tr>\n",
       "      <th>max</th>\n",
       "      <td>0.0</td>\n",
       "      <td>62.000000</td>\n",
       "      <td>NaN</td>\n",
       "      <td>512.329200</td>\n",
       "      <td>NaN</td>\n",
       "      <td>0.000000</td>\n",
       "      <td>NaN</td>\n",
       "    </tr>\n",
       "  </tbody>\n",
       "</table>\n",
       "</div>"
      ],
      "text/plain": [
       "        sex_cat        age age_missing        fare fare_missing  embarked_cat  \\\n",
       "count      58.0  58.000000          58   58.000000           58     58.000000   \n",
       "unique      NaN        NaN           2         NaN            1           NaN   \n",
       "top         NaN        NaN       False         NaN        False           NaN   \n",
       "freq        NaN        NaN          53         NaN           58           NaN   \n",
       "mean        0.0  34.068966         NaN  114.599641          NaN     -0.034483   \n",
       "std         0.0  14.401343         NaN  102.640235          NaN      0.184059   \n",
       "min         0.0   1.000000         NaN   27.445800          NaN     -1.000000   \n",
       "25%         0.0  24.000000         NaN   50.988575          NaN      0.000000   \n",
       "50%         0.0  32.000000         NaN   80.000000          NaN      0.000000   \n",
       "75%         0.0  47.250000         NaN  134.500000          NaN      0.000000   \n",
       "max         0.0  62.000000         NaN  512.329200          NaN      0.000000   \n",
       "\n",
       "       survived  \n",
       "count        58  \n",
       "unique        2  \n",
       "top        True  \n",
       "freq         56  \n",
       "mean        NaN  \n",
       "std         NaN  \n",
       "min         NaN  \n",
       "25%         NaN  \n",
       "50%         NaN  \n",
       "75%         NaN  \n",
       "max         NaN  "
      ]
     },
     "execution_count": 59,
     "metadata": {},
     "output_type": "execute_result"
    }
   ],
   "source": [
    "dts.get_node_samples(6).describe(include=\"all\")"
   ]
  },
  {
   "cell_type": "code",
   "execution_count": 60,
   "metadata": {
    "ExecuteTime": {
     "end_time": "2019-07-01T15:49:55.657530Z",
     "start_time": "2019-07-01T15:49:55.577671Z"
    }
   },
   "outputs": [
    {
     "data": {
      "text/html": [
       "<div>\n",
       "<style scoped>\n",
       "    .dataframe tbody tr th:only-of-type {\n",
       "        vertical-align: middle;\n",
       "    }\n",
       "\n",
       "    .dataframe tbody tr th {\n",
       "        vertical-align: top;\n",
       "    }\n",
       "\n",
       "    .dataframe thead th {\n",
       "        text-align: right;\n",
       "    }\n",
       "</style>\n",
       "<table border=\"1\" class=\"dataframe\">\n",
       "  <thead>\n",
       "    <tr style=\"text-align: right;\">\n",
       "      <th></th>\n",
       "      <th>sex_cat</th>\n",
       "      <th>age</th>\n",
       "      <th>age_missing</th>\n",
       "      <th>fare</th>\n",
       "      <th>fare_missing</th>\n",
       "      <th>embarked_cat</th>\n",
       "      <th>survived</th>\n",
       "    </tr>\n",
       "  </thead>\n",
       "  <tbody>\n",
       "    <tr>\n",
       "      <th>count</th>\n",
       "      <td>58.0</td>\n",
       "      <td>58.000000</td>\n",
       "      <td>58</td>\n",
       "      <td>58.000000</td>\n",
       "      <td>58</td>\n",
       "      <td>58.000000</td>\n",
       "      <td>58</td>\n",
       "    </tr>\n",
       "    <tr>\n",
       "      <th>unique</th>\n",
       "      <td>NaN</td>\n",
       "      <td>NaN</td>\n",
       "      <td>2</td>\n",
       "      <td>NaN</td>\n",
       "      <td>1</td>\n",
       "      <td>NaN</td>\n",
       "      <td>2</td>\n",
       "    </tr>\n",
       "    <tr>\n",
       "      <th>top</th>\n",
       "      <td>NaN</td>\n",
       "      <td>NaN</td>\n",
       "      <td>False</td>\n",
       "      <td>NaN</td>\n",
       "      <td>False</td>\n",
       "      <td>NaN</td>\n",
       "      <td>True</td>\n",
       "    </tr>\n",
       "    <tr>\n",
       "      <th>freq</th>\n",
       "      <td>NaN</td>\n",
       "      <td>NaN</td>\n",
       "      <td>53</td>\n",
       "      <td>NaN</td>\n",
       "      <td>58</td>\n",
       "      <td>NaN</td>\n",
       "      <td>56</td>\n",
       "    </tr>\n",
       "    <tr>\n",
       "      <th>mean</th>\n",
       "      <td>0.0</td>\n",
       "      <td>34.068966</td>\n",
       "      <td>NaN</td>\n",
       "      <td>114.599641</td>\n",
       "      <td>NaN</td>\n",
       "      <td>-0.034483</td>\n",
       "      <td>NaN</td>\n",
       "    </tr>\n",
       "    <tr>\n",
       "      <th>std</th>\n",
       "      <td>0.0</td>\n",
       "      <td>14.401343</td>\n",
       "      <td>NaN</td>\n",
       "      <td>102.640235</td>\n",
       "      <td>NaN</td>\n",
       "      <td>0.184059</td>\n",
       "      <td>NaN</td>\n",
       "    </tr>\n",
       "    <tr>\n",
       "      <th>min</th>\n",
       "      <td>0.0</td>\n",
       "      <td>1.000000</td>\n",
       "      <td>NaN</td>\n",
       "      <td>27.445800</td>\n",
       "      <td>NaN</td>\n",
       "      <td>-1.000000</td>\n",
       "      <td>NaN</td>\n",
       "    </tr>\n",
       "    <tr>\n",
       "      <th>25%</th>\n",
       "      <td>0.0</td>\n",
       "      <td>24.000000</td>\n",
       "      <td>NaN</td>\n",
       "      <td>50.988575</td>\n",
       "      <td>NaN</td>\n",
       "      <td>0.000000</td>\n",
       "      <td>NaN</td>\n",
       "    </tr>\n",
       "    <tr>\n",
       "      <th>50%</th>\n",
       "      <td>0.0</td>\n",
       "      <td>32.000000</td>\n",
       "      <td>NaN</td>\n",
       "      <td>80.000000</td>\n",
       "      <td>NaN</td>\n",
       "      <td>0.000000</td>\n",
       "      <td>NaN</td>\n",
       "    </tr>\n",
       "    <tr>\n",
       "      <th>75%</th>\n",
       "      <td>0.0</td>\n",
       "      <td>47.250000</td>\n",
       "      <td>NaN</td>\n",
       "      <td>134.500000</td>\n",
       "      <td>NaN</td>\n",
       "      <td>0.000000</td>\n",
       "      <td>NaN</td>\n",
       "    </tr>\n",
       "    <tr>\n",
       "      <th>max</th>\n",
       "      <td>0.0</td>\n",
       "      <td>62.000000</td>\n",
       "      <td>NaN</td>\n",
       "      <td>512.329200</td>\n",
       "      <td>NaN</td>\n",
       "      <td>0.000000</td>\n",
       "      <td>NaN</td>\n",
       "    </tr>\n",
       "  </tbody>\n",
       "</table>\n",
       "</div>"
      ],
      "text/plain": [
       "        sex_cat        age age_missing        fare fare_missing  embarked_cat  \\\n",
       "count      58.0  58.000000          58   58.000000           58     58.000000   \n",
       "unique      NaN        NaN           2         NaN            1           NaN   \n",
       "top         NaN        NaN       False         NaN        False           NaN   \n",
       "freq        NaN        NaN          53         NaN           58           NaN   \n",
       "mean        0.0  34.068966         NaN  114.599641          NaN     -0.034483   \n",
       "std         0.0  14.401343         NaN  102.640235          NaN      0.184059   \n",
       "min         0.0   1.000000         NaN   27.445800          NaN     -1.000000   \n",
       "25%         0.0  24.000000         NaN   50.988575          NaN      0.000000   \n",
       "50%         0.0  32.000000         NaN   80.000000          NaN      0.000000   \n",
       "75%         0.0  47.250000         NaN  134.500000          NaN      0.000000   \n",
       "max         0.0  62.000000         NaN  512.329200          NaN      0.000000   \n",
       "\n",
       "       survived  \n",
       "count        58  \n",
       "unique        2  \n",
       "top        True  \n",
       "freq         56  \n",
       "mean        NaN  \n",
       "std         NaN  \n",
       "min         NaN  \n",
       "25%         NaN  \n",
       "50%         NaN  \n",
       "75%         NaN  \n",
       "max         NaN  "
      ]
     },
     "execution_count": 60,
     "metadata": {},
     "output_type": "execute_result"
    }
   ],
   "source": [
    "dts.get_node_samples(6).describe(include=\"all\")"
   ]
  },
  {
   "cell_type": "markdown",
   "metadata": {},
   "source": [
    "### Hyperparameter tuning\n",
    "Hyperparameters are those parameters we can set when we initialize a ML model. Their values can have a big impact \n",
    "into model performance.\n",
    "\n",
    "How do we change them ? First we need to understand if our model is overfitting or underfitting and based on this information to change corresponding hyperparameters values.\n",
    "\n",
    "Don’t exagerate and spend too much time to tune hyperparameters, especially in the first phase of the project. Would be recommended to spend that time for feature understanding, feature engineering."
   ]
  },
  {
   "cell_type": "markdown",
   "metadata": {},
   "source": [
    "Using max_depth = 3, we have a bigger accuracy for training set than the validation set. This means that if we increase the max_depth, our model will overfit even more."
   ]
  },
  {
   "cell_type": "code",
   "execution_count": 61,
   "metadata": {
    "ExecuteTime": {
     "end_time": "2019-07-01T15:49:55.824196Z",
     "start_time": "2019-07-01T15:49:55.706263Z"
    }
   },
   "outputs": [],
   "source": [
    "train_accuracy = []\n",
    "validation_accuracy = []\n",
    "max_depth_values = [1, 2, 3, 5, 10, 30, 60, 100]\n",
    "for depth in max_depth_values:\n",
    "    dt = DecisionTreeClassifier(max_depth=depth)\n",
    "    dt.fit(train[feature_set_v3], train[target])\n",
    "    train_accuracy.append(accuracy_score(train[target], dt.predict(train[feature_set_v3])))\n",
    "    validation_accuracy.append(accuracy_score(validation[target], dt.predict(validation[feature_set_v3])))"
   ]
  },
  {
   "cell_type": "code",
   "execution_count": 62,
   "metadata": {
    "ExecuteTime": {
     "end_time": "2019-07-01T15:49:56.217495Z",
     "start_time": "2019-07-01T15:49:55.853170Z"
    }
   },
   "outputs": [
    {
     "data": {
      "text/plain": [
       "<matplotlib.legend.Legend at 0x129e6ceb8>"
      ]
     },
     "execution_count": 62,
     "metadata": {},
     "output_type": "execute_result"
    },
    {
     "data": {
      "image/png": "[encoded data removed]",
      "text/plain": [
       "<Figure size 720x360 with 1 Axes>"
      ]
     },
     "metadata": {
      "needs_background": "light"
     },
     "output_type": "display_data"
    }
   ],
   "source": [
    "plt.figure(figsize=(10,5))\n",
    "plt.xticks(range(0, len(max_depth_values)), max_depth_values)\n",
    "plt.plot(train_accuracy, label=\"train accuracy\")\n",
    "plt.plot(validation_accuracy, label=\"validation accuracy\")\n",
    "plt.grid()\n",
    "plt.legend()"
   ]
  },
  {
   "cell_type": "markdown",
   "metadata": {},
   "source": [
    "max_depth is one of the most important hyperparameter for decision trees, but it seems that in this context it don't help too much. Let's look at other important [hyperparamenters](https://scikit-learn.org/stable/modules/generated/sklearn.tree.DecisionTreeClassifier.html). "
   ]
  },
  {
   "cell_type": "markdown",
   "metadata": {},
   "source": [
    "#### min_samples_split\n",
    "The minimum number of samples required to split an internal node"
   ]
  },
  {
   "cell_type": "code",
   "execution_count": 63,
   "metadata": {
    "ExecuteTime": {
     "end_time": "2019-07-01T15:49:56.548245Z",
     "start_time": "2019-07-01T15:49:56.424703Z"
    }
   },
   "outputs": [],
   "source": [
    "train_accuracy = []\n",
    "validation_accuracy = []\n",
    "min_samples_split_values = [2, 5, 10, 15, 20, 30, 40, 50]\n",
    "for min_samples_split in min_samples_split_values:\n",
    "    dt = DecisionTreeClassifier(min_samples_split=min_samples_split)\n",
    "    dt.fit(train[feature_set_v3], train[target])\n",
    "    train_accuracy.append(accuracy_score(train[target], dt.predict(train[feature_set_v3])))\n",
    "    validation_accuracy.append(accuracy_score(validation[target], dt.predict(validation[feature_set_v3])))"
   ]
  },
  {
   "cell_type": "code",
   "execution_count": 64,
   "metadata": {
    "ExecuteTime": {
     "end_time": "2019-07-01T15:49:56.934104Z",
     "start_time": "2019-07-01T15:49:56.626847Z"
    }
   },
   "outputs": [
    {
     "data": {
      "image/png": "[encoded data removed]",
      "text/plain": [
       "<Figure size 720x360 with 1 Axes>"
      ]
     },
     "metadata": {
      "needs_background": "light"
     },
     "output_type": "display_data"
    }
   ],
   "source": [
    "plt.figure(figsize=(10,5))\n",
    "plt.xticks(range(0, len(min_samples_split_values)), min_samples_split_values)\n",
    "plt.plot(train_accuracy)\n",
    "plt.plot(validation_accuracy)\n",
    "plt.grid()"
   ]
  },
  {
   "cell_type": "markdown",
   "metadata": {
    "ExecuteTime": {
     "end_time": "2019-06-28T08:38:27.347518Z",
     "start_time": "2019-06-28T08:38:27.291415Z"
    }
   },
   "source": [
    "#### min_samples_leaf\n",
    "The minimum number of samples required to be at a leaf node. A split point at any depth will only be considered if it leaves at least min_samples_leaf training samples in each of the left and right branches. <br>\n",
    "\n",
    "<b>write your own code </b>"
   ]
  },
  {
   "cell_type": "markdown",
   "metadata": {},
   "source": [
    "#### Try multiple hyperparameters  \n",
    "Trying multiple hyperparameter values in the same time can be done manually or [automatically](https://scikit-learn.org/stable/modules/grid_search.html)."
   ]
  },
  {
   "cell_type": "code",
   "execution_count": 65,
   "metadata": {
    "ExecuteTime": {
     "end_time": "2019-07-01T15:49:57.708395Z",
     "start_time": "2019-07-01T15:49:57.193409Z"
    }
   },
   "outputs": [],
   "source": [
    "hyperparameters_values = []\n",
    "train_accuracy = []\n",
    "validation_accuracy = []\n",
    "max_depth_values = [1, 2, 3, 5, 10, 30, 60, 100]\n",
    "min_samples_split_values = [2, 5, 10, 15, 20, 30, 40, 50]\n",
    "\n",
    "for max_depth in max_depth_values:\n",
    "    for min_samples_split in min_samples_split_values:\n",
    "        dt = DecisionTreeClassifier(max_depth=max_depth, min_samples_split=min_samples_split)\n",
    "        dt.fit(train[feature_set_v3], train[target])\n",
    "\n",
    "        hyperparameters_values.append(f\"{max_depth},{min_samples_split}\")\n",
    "        train_accuracy.append(accuracy_score(train[target], dt.predict(train[feature_set_v3])))\n",
    "        validation_accuracy.append(accuracy_score(validation[target], dt.predict(validation[feature_set_v3])))\n",
    "        "
   ]
  },
  {
   "cell_type": "code",
   "execution_count": 66,
   "metadata": {
    "ExecuteTime": {
     "end_time": "2019-07-01T15:49:59.547227Z",
     "start_time": "2019-07-01T15:49:57.910361Z"
    }
   },
   "outputs": [
    {
     "data": {
      "text/plain": [
       "<matplotlib.legend.Legend at 0x12a12cfd0>"
      ]
     },
     "execution_count": 66,
     "metadata": {},
     "output_type": "execute_result"
    },
    {
     "data": {
      "image/png": "[encoded data removed]",
      "text/plain": [
       "<Figure size 2880x720 with 1 Axes>"
      ]
     },
     "metadata": {
      "needs_background": "light"
     },
     "output_type": "display_data"
    }
   ],
   "source": [
    "plt.figure(figsize=(40,10))\n",
    "plt.xticks(range(0, len(hyperparameters_values)), hyperparameters_values, rotation='40')\n",
    "plt.plot(train_accuracy, label=\"train_accuracy\")\n",
    "plt.plot(validation_accuracy, label=\"validation_accuracy\")\n",
    "plt.grid()\n",
    "plt.legend()"
   ]
  },
  {
   "cell_type": "markdown",
   "metadata": {},
   "source": [
    "#### workshop work\n",
    "Add min_samples_leaf hyperparameter in above visualisation "
   ]
  },
  {
   "cell_type": "markdown",
   "metadata": {},
   "source": [
    "### Other type of validation\n",
    "Splitting our dataset in two parts is the common and easiest one, but not all the time the most effective, especially for small datasets. <br>\n",
    "As you can observered, we made some hyperparameter changes. The main risk is that we could changed those hyperparameters until our model performs optimally only on the validation set and will not perform optimally/generalize in production environment.\n",
    "\n",
    "To reduce this, we can apply another validation strategy, namek k-fold. <br>\n",
    "The dataset set is split into k smaller sets. The following procedure is followed for each of the k “folds”:\n",
    "- a model is trained using k-1 of the folds as training data\n",
    "- the resulting model is validated on the remaining part of  the data, 1 fold\n",
    "\n",
    "![kfold](../resources/images/kfold.png)\n",
    "\n",
    "\n"
   ]
  },
  {
   "cell_type": "code",
   "execution_count": 74,
   "metadata": {
    "ExecuteTime": {
     "end_time": "2019-07-01T15:50:30.639943Z",
     "start_time": "2019-07-01T15:50:30.601207Z"
    }
   },
   "outputs": [],
   "source": [
    "dt_v5 = DecisionTreeClassifier(max_depth=5, random_state=random_state)"
   ]
  },
  {
   "cell_type": "code",
   "execution_count": 75,
   "metadata": {
    "ExecuteTime": {
     "end_time": "2019-07-01T15:50:32.672328Z",
     "start_time": "2019-07-01T15:50:32.633931Z"
    }
   },
   "outputs": [],
   "source": [
    "kfold = StratifiedKFold(n_splits=5, shuffle=True, random_state=random_state)"
   ]
  },
  {
   "cell_type": "code",
   "execution_count": 87,
   "metadata": {
    "ExecuteTime": {
     "end_time": "2019-07-01T15:51:56.451268Z",
     "start_time": "2019-07-01T15:51:56.371868Z"
    }
   },
   "outputs": [],
   "source": [
    "cross_val_dt_stats = cross_validate(dt_v5, dataset[feature_set_v3], dataset[target], cv = kfold, scoring=\"accuracy\", return_train_score=True )\n"
   ]
  },
  {
   "cell_type": "code",
   "execution_count": 88,
   "metadata": {
    "ExecuteTime": {
     "end_time": "2019-07-01T15:51:57.095989Z",
     "start_time": "2019-07-01T15:51:57.055382Z"
    }
   },
   "outputs": [
    {
     "data": {
      "text/plain": [
       "{'fit_time': array([0.0038197 , 0.00386667, 0.00352383, 0.00390911, 0.00362325]),\n",
       " 'score_time': array([0.00154519, 0.00136709, 0.0014143 , 0.00143003, 0.00129771]),\n",
       " 'test_score': array([0.8129771 , 0.79770992, 0.78625954, 0.7519084 , 0.79310345]),\n",
       " 'train_score': array([0.80515759, 0.81948424, 0.80038204, 0.81757402, 0.81679389])}"
      ]
     },
     "execution_count": 88,
     "metadata": {},
     "output_type": "execute_result"
    }
   ],
   "source": [
    "cross_val_dt_stats"
   ]
  },
  {
   "cell_type": "code",
   "execution_count": 89,
   "metadata": {
    "ExecuteTime": {
     "end_time": "2019-07-01T15:51:58.299052Z",
     "start_time": "2019-07-01T15:51:57.802938Z"
    }
   },
   "outputs": [
    {
     "data": {
      "image/png": "[encoded data removed]",
      "text/plain": [
       "<Figure size 1440x504 with 1 Axes>"
      ]
     },
     "metadata": {
      "needs_background": "light"
     },
     "output_type": "display_data"
    }
   ],
   "source": [
    "plt.figure(figsize=(20,7))\n",
    "plt.plot(cross_val_dt_stats[\"test_score\"], label=\"val_score\")\n",
    "plt.plot(cross_val_dt_stats[\"train_score\"], label=\"train_score\")\n",
    "plt.legend()\n",
    "plt.grid()"
   ]
  },
  {
   "cell_type": "code",
   "execution_count": 90,
   "metadata": {
    "ExecuteTime": {
     "end_time": "2019-07-01T15:51:59.221655Z",
     "start_time": "2019-07-01T15:51:59.182272Z"
    }
   },
   "outputs": [
    {
     "data": {
      "text/plain": [
       "0.7883916820215846"
      ]
     },
     "execution_count": 90,
     "metadata": {},
     "output_type": "execute_result"
    }
   ],
   "source": [
    "cross_val_dt_stats[\"test_score\"].mean()"
   ]
  },
  {
   "cell_type": "markdown",
   "metadata": {},
   "source": [
    "### DecisionTreeClassifier conclusions "
   ]
  },
  {
   "cell_type": "markdown",
   "metadata": {
    "ExecuteTime": {
     "end_time": "2019-06-28T08:43:49.651996Z",
     "start_time": "2019-06-28T08:43:49.611325Z"
    }
   },
   "source": [
    "The main steps from any ML projects are :\n",
    "- data access\n",
    "- data exploration\n",
    "- feature enginner (clean, transform, generate new features)\n",
    "- create an ML modeling \n",
    "- model validation\n",
    "- model interpretation\n",
    "- model improvement (usually starting again from first step)"
   ]
  },
  {
   "cell_type": "markdown",
   "metadata": {},
   "source": [
    "## RandomForestClassifier\n",
    "\n",
    "A random forest is a ML model that trains a number of decision tree classifiers on various sub-samples of the dataset and uses averaging to improve the predictive accuracy and control over-fitting.\n",
    "\n",
    "![RandomForest](../resources/images/random_forest.png) <br>\n",
    "\n",
    "\n",
    "Main characteristics :\n",
    "- decision trees from RF are independent, so they can be trained in the same time, taking advantage of parallel computing\n",
    "- each tree is trained with a slightly different input of data\n",
    "- the average predictions is always better than a single model prediction. "
   ]
  },
  {
   "cell_type": "code",
   "execution_count": 75,
   "metadata": {
    "ExecuteTime": {
     "end_time": "2019-06-29T10:29:35.547130Z",
     "start_time": "2019-06-29T10:29:35.507416Z"
    }
   },
   "outputs": [
    {
     "data": {
      "text/plain": [
       "['sex_cat',\n",
       " 'age',\n",
       " 'age_missing',\n",
       " 'fare',\n",
       " 'fare_missing',\n",
       " 'embarked_cat',\n",
       " 'pclass']"
      ]
     },
     "execution_count": 75,
     "metadata": {},
     "output_type": "execute_result"
    }
   ],
   "source": [
    "feature_set_v4"
   ]
  },
  {
   "cell_type": "markdown",
   "metadata": {},
   "source": [
    "### Randomness from RandomForest \n",
    "Randomness in RF is given by :\n",
    "- random input for each tree (hyperparameter bootstrap)\n",
    "- random sample of features for each split node (hyperparameter max_features)\n"
   ]
  },
  {
   "cell_type": "code",
   "execution_count": 135,
   "metadata": {
    "ExecuteTime": {
     "end_time": "2019-07-01T16:09:54.530965Z",
     "start_time": "2019-07-01T16:09:53.773456Z"
    }
   },
   "outputs": [],
   "source": [
    "train_accuracy = []\n",
    "validation_accuracy = []\n",
    "for i in range(10):\n",
    "    rf = RandomForestClassifier(n_estimators=n_estimator, max_depth=5, random_state=None)\n",
    "    rf.fit(train[feature_set_v3], train[target])\n",
    "    \n",
    "    train_accuracy.append(accuracy_score(train[target], rf.predict(train[feature_set_v3])))\n",
    "    validation_accuracy.append(accuracy_score(validation[target], rf.predict(validation[feature_set_v3])))\n",
    "    "
   ]
  },
  {
   "cell_type": "code",
   "execution_count": 136,
   "metadata": {
    "ExecuteTime": {
     "end_time": "2019-07-01T16:09:55.030732Z",
     "start_time": "2019-07-01T16:09:54.565253Z"
    }
   },
   "outputs": [
    {
     "data": {
      "text/plain": [
       "<matplotlib.legend.Legend at 0x1299d6860>"
      ]
     },
     "execution_count": 136,
     "metadata": {},
     "output_type": "execute_result"
    },
    {
     "data": {
      "image/png": "[encoded data removed]",
      "text/plain": [
       "<Figure size 1080x504 with 1 Axes>"
      ]
     },
     "metadata": {
      "needs_background": "light"
     },
     "output_type": "display_data"
    }
   ],
   "source": [
    "plt.figure(figsize=(15,7))\n",
    "plt.plot(train_accuracy, label=\"train_accuracy\")\n",
    "plt.plot(validation_accuracy, label=\"validation_accuracy\")\n",
    "plt.grid()\n",
    "plt.legend()"
   ]
  },
  {
   "cell_type": "markdown",
   "metadata": {},
   "source": [
    "Why do you have differente results even if we initialized the RF with the same hyperparameters ?\n",
    "\n",
    "\n"
   ]
  },
  {
   "cell_type": "markdown",
   "metadata": {},
   "source": [
    "### Add new data\n",
    "Training a model with the best features will have the biggest impact for model performance. <br>\n",
    "The ability to dig into the data and derive new features, insights is what makes a good ML engineer a great one."
   ]
  },
  {
   "cell_type": "code",
   "execution_count": 142,
   "metadata": {
    "ExecuteTime": {
     "end_time": "2019-07-02T04:56:15.376284Z",
     "start_time": "2019-07-02T04:56:15.219609Z"
    }
   },
   "outputs": [
    {
     "data": {
      "text/plain": [
       "['sex_cat', 'age', 'age_missing', 'fare', 'fare_missing', 'embarked_cat']"
      ]
     },
     "execution_count": 142,
     "metadata": {},
     "output_type": "execute_result"
    }
   ],
   "source": [
    "feature_set_v3"
   ]
  },
  {
   "cell_type": "code",
   "execution_count": 143,
   "metadata": {
    "ExecuteTime": {
     "end_time": "2019-07-02T04:56:15.473368Z",
     "start_time": "2019-07-02T04:56:15.380515Z"
    }
   },
   "outputs": [
    {
     "data": {
      "text/html": [
       "<div>\n",
       "<style scoped>\n",
       "    .dataframe tbody tr th:only-of-type {\n",
       "        vertical-align: middle;\n",
       "    }\n",
       "\n",
       "    .dataframe tbody tr th {\n",
       "        vertical-align: top;\n",
       "    }\n",
       "\n",
       "    .dataframe thead th {\n",
       "        text-align: right;\n",
       "    }\n",
       "</style>\n",
       "<table border=\"1\" class=\"dataframe\">\n",
       "  <thead>\n",
       "    <tr style=\"text-align: right;\">\n",
       "      <th></th>\n",
       "      <th>pclass</th>\n",
       "      <th>survived</th>\n",
       "      <th>name</th>\n",
       "      <th>sex</th>\n",
       "      <th>age</th>\n",
       "      <th>sibsp</th>\n",
       "      <th>parch</th>\n",
       "      <th>ticket</th>\n",
       "      <th>fare</th>\n",
       "      <th>cabin</th>\n",
       "      <th>embarked</th>\n",
       "      <th>sex_cat</th>\n",
       "      <th>embarked_cat</th>\n",
       "      <th>age_missing</th>\n",
       "      <th>fare_missing</th>\n",
       "    </tr>\n",
       "  </thead>\n",
       "  <tbody>\n",
       "    <tr>\n",
       "      <th>0</th>\n",
       "      <td>1</td>\n",
       "      <td>True</td>\n",
       "      <td>Allen, Miss. Elisabeth Walton</td>\n",
       "      <td>female</td>\n",
       "      <td>29.0000</td>\n",
       "      <td>0</td>\n",
       "      <td>0</td>\n",
       "      <td>24160</td>\n",
       "      <td>211.3375</td>\n",
       "      <td>B5</td>\n",
       "      <td>S</td>\n",
       "      <td>0</td>\n",
       "      <td>2</td>\n",
       "      <td>False</td>\n",
       "      <td>False</td>\n",
       "    </tr>\n",
       "    <tr>\n",
       "      <th>1</th>\n",
       "      <td>1</td>\n",
       "      <td>True</td>\n",
       "      <td>Allison, Master. Hudson Trevor</td>\n",
       "      <td>male</td>\n",
       "      <td>0.9167</td>\n",
       "      <td>1</td>\n",
       "      <td>2</td>\n",
       "      <td>113781</td>\n",
       "      <td>151.5500</td>\n",
       "      <td>C22 C26</td>\n",
       "      <td>S</td>\n",
       "      <td>1</td>\n",
       "      <td>2</td>\n",
       "      <td>False</td>\n",
       "      <td>False</td>\n",
       "    </tr>\n",
       "    <tr>\n",
       "      <th>2</th>\n",
       "      <td>1</td>\n",
       "      <td>False</td>\n",
       "      <td>Allison, Miss. Helen Loraine</td>\n",
       "      <td>female</td>\n",
       "      <td>2.0000</td>\n",
       "      <td>1</td>\n",
       "      <td>2</td>\n",
       "      <td>113781</td>\n",
       "      <td>151.5500</td>\n",
       "      <td>C22 C26</td>\n",
       "      <td>S</td>\n",
       "      <td>0</td>\n",
       "      <td>2</td>\n",
       "      <td>False</td>\n",
       "      <td>False</td>\n",
       "    </tr>\n",
       "  </tbody>\n",
       "</table>\n",
       "</div>"
      ],
      "text/plain": [
       "   pclass  survived                            name     sex      age  sibsp  \\\n",
       "0       1      True   Allen, Miss. Elisabeth Walton  female  29.0000      0   \n",
       "1       1      True  Allison, Master. Hudson Trevor    male   0.9167      1   \n",
       "2       1     False    Allison, Miss. Helen Loraine  female   2.0000      1   \n",
       "\n",
       "   parch  ticket      fare    cabin embarked  sex_cat  embarked_cat  \\\n",
       "0      0   24160  211.3375       B5        S        0             2   \n",
       "1      2  113781  151.5500  C22 C26        S        1             2   \n",
       "2      2  113781  151.5500  C22 C26        S        0             2   \n",
       "\n",
       "   age_missing  fare_missing  \n",
       "0        False         False  \n",
       "1        False         False  \n",
       "2        False         False  "
      ]
     },
     "execution_count": 143,
     "metadata": {},
     "output_type": "execute_result"
    }
   ],
   "source": [
    "dataset.head(3)"
   ]
  },
  {
   "cell_type": "code",
   "execution_count": 144,
   "metadata": {
    "ExecuteTime": {
     "end_time": "2019-07-02T04:56:15.566281Z",
     "start_time": "2019-07-02T04:56:15.523510Z"
    }
   },
   "outputs": [],
   "source": [
    "feature_set_v4 = feature_set_v3 + [\"pclass\"]"
   ]
  },
  {
   "cell_type": "code",
   "execution_count": 115,
   "metadata": {
    "ExecuteTime": {
     "end_time": "2019-07-01T16:04:45.970973Z",
     "start_time": "2019-07-01T16:04:45.928381Z"
    }
   },
   "outputs": [],
   "source": [
    "train, validation = train_test_split(dataset, train_size=0.7, random_state=random_state, stratify = dataset.survived)"
   ]
  },
  {
   "cell_type": "code",
   "execution_count": 137,
   "metadata": {
    "ExecuteTime": {
     "end_time": "2019-07-01T16:10:26.566115Z",
     "start_time": "2019-07-01T16:10:26.183012Z"
    }
   },
   "outputs": [
    {
     "name": "stdout",
     "output_type": "stream",
     "text": [
      "training accuracy 0.868995633187773\n",
      "validation accuracy 0.7837150127226463\n"
     ]
    }
   ],
   "source": [
    "rf = RandomForestClassifier(n_estimators=30, max_depth=6, n_jobs=3, random_state=None)\n",
    "rf.fit(train[feature_set_v4], train[target])\n",
    "\n",
    "print(f\"training accuracy {accuracy_score(train[target], rf.predict(train[feature_set_v4]))}\")\n",
    "print(f\"validation accuracy {accuracy_score(validation[target], rf.predict(validation[feature_set_v4]))}\")"
   ]
  },
  {
   "cell_type": "markdown",
   "metadata": {},
   "source": [
    "### k-fold for RandomForestClassifier"
   ]
  },
  {
   "cell_type": "code",
   "execution_count": 138,
   "metadata": {
    "ExecuteTime": {
     "end_time": "2019-07-01T16:10:27.444414Z",
     "start_time": "2019-07-01T16:10:27.405472Z"
    }
   },
   "outputs": [],
   "source": [
    "rf = RandomForestClassifier(n_estimators=30, max_depth=6, n_jobs=3, random_state=random_state)"
   ]
  },
  {
   "cell_type": "markdown",
   "metadata": {},
   "source": [
    "#### workshop work"
   ]
  },
  {
   "cell_type": "code",
   "execution_count": 139,
   "metadata": {
    "ExecuteTime": {
     "end_time": "2019-07-01T16:10:30.381940Z",
     "start_time": "2019-07-01T16:10:28.205460Z"
    }
   },
   "outputs": [
    {
     "data": {
      "text/plain": [
       "{'fit_time': array([0.81971407, 0.05808496, 0.05489993, 0.05374408, 0.06761217]),\n",
       " 'score_time': array([0.10690093, 0.10761404, 0.10826278, 0.10503983, 0.10587883]),\n",
       " 'test_score': array([0.80916031, 0.82442748, 0.83587786, 0.79007634, 0.79693487]),\n",
       " 'train_score': array([0.85577841, 0.84527221, 0.84718243, 0.85768863, 0.85782443])}"
      ]
     },
     "execution_count": 139,
     "metadata": {},
     "output_type": "execute_result"
    }
   ],
   "source": [
    "cv = StratifiedKFold(n_splits=5, shuffle=True, random_state=random_state)\n",
    "cross_val_rf_stats = cross_validate(rf, dataset[feature_set_v4], dataset[target], cv=cv, scoring=\"accuracy\", return_train_score=True)\n",
    "cross_val_rf_stats"
   ]
  },
  {
   "cell_type": "code",
   "execution_count": 140,
   "metadata": {
    "ExecuteTime": {
     "end_time": "2019-07-01T16:10:30.965873Z",
     "start_time": "2019-07-01T16:10:30.385136Z"
    }
   },
   "outputs": [
    {
     "data": {
      "image/png": "[encoded data removed]",
      "text/plain": [
       "<Figure size 1440x504 with 1 Axes>"
      ]
     },
     "metadata": {
      "needs_background": "light"
     },
     "output_type": "display_data"
    }
   ],
   "source": [
    "plt.figure(figsize=(20,7))\n",
    "plt.plot(cross_val_rf_stats[\"test_score\"], label=\"val_score\")\n",
    "plt.plot(cross_val_rf_stats[\"train_score\"], label=\"train_score\")\n",
    "plt.legend()\n",
    "plt.grid()"
   ]
  },
  {
   "cell_type": "code",
   "execution_count": 141,
   "metadata": {
    "ExecuteTime": {
     "end_time": "2019-07-01T16:10:31.005463Z",
     "start_time": "2019-07-01T16:10:30.968046Z"
    }
   },
   "outputs": [
    {
     "data": {
      "text/plain": [
       "0.8112953701266414"
      ]
     },
     "execution_count": 141,
     "metadata": {},
     "output_type": "execute_result"
    }
   ],
   "source": [
    "cross_val_rf_stats[\"test_score\"].mean()"
   ]
  },
  {
   "cell_type": "markdown",
   "metadata": {},
   "source": [
    "# Regression algorithms - DecisionTree and RandomForest"
   ]
  },
  {
   "cell_type": "markdown",
   "metadata": {},
   "source": [
    "TODO\n",
    "- L1 vs L2"
   ]
  },
  {
   "cell_type": "markdown",
   "metadata": {},
   "source": [
    "### Imports"
   ]
  },
  {
   "cell_type": "code",
   "execution_count": 145,
   "metadata": {
    "ExecuteTime": {
     "end_time": "2019-07-02T05:03:01.925987Z",
     "start_time": "2019-07-02T05:03:01.886663Z"
    }
   },
   "outputs": [],
   "source": [
    "from sklearn.tree import DecisionTreeRegressor\n",
    "from sklearn.metrics import mean_absolute_error\n",
    "from sklearn.model_selection import KFold"
   ]
  },
  {
   "cell_type": "code",
   "execution_count": 146,
   "metadata": {
    "ExecuteTime": {
     "end_time": "2019-07-02T05:03:02.153253Z",
     "start_time": "2019-07-02T05:03:02.113628Z"
    }
   },
   "outputs": [],
   "source": [
    "# dataset.to_csv(\"../dataset/titanic/tmp/titanic_v4.csv\", index=False)"
   ]
  },
  {
   "cell_type": "code",
   "execution_count": 147,
   "metadata": {
    "ExecuteTime": {
     "end_time": "2019-07-02T05:03:02.376617Z",
     "start_time": "2019-07-02T05:03:02.310959Z"
    }
   },
   "outputs": [],
   "source": [
    "dataset_reg = pd.read_csv(\"../dataset/titanic/tmp/titanic_v4.csv\")"
   ]
  },
  {
   "cell_type": "code",
   "execution_count": 148,
   "metadata": {
    "ExecuteTime": {
     "end_time": "2019-07-02T05:03:02.962379Z",
     "start_time": "2019-07-02T05:03:02.906345Z"
    }
   },
   "outputs": [
    {
     "data": {
      "text/html": [
       "<div>\n",
       "<style scoped>\n",
       "    .dataframe tbody tr th:only-of-type {\n",
       "        vertical-align: middle;\n",
       "    }\n",
       "\n",
       "    .dataframe tbody tr th {\n",
       "        vertical-align: top;\n",
       "    }\n",
       "\n",
       "    .dataframe thead th {\n",
       "        text-align: right;\n",
       "    }\n",
       "</style>\n",
       "<table border=\"1\" class=\"dataframe\">\n",
       "  <thead>\n",
       "    <tr style=\"text-align: right;\">\n",
       "      <th></th>\n",
       "      <th>pclass</th>\n",
       "      <th>survived</th>\n",
       "      <th>name</th>\n",
       "      <th>sex</th>\n",
       "      <th>age</th>\n",
       "      <th>sibsp</th>\n",
       "      <th>parch</th>\n",
       "      <th>ticket</th>\n",
       "      <th>fare</th>\n",
       "      <th>cabin</th>\n",
       "      <th>embarked</th>\n",
       "      <th>sex_cat</th>\n",
       "      <th>embarked_cat</th>\n",
       "      <th>age_missing</th>\n",
       "      <th>fare_missing</th>\n",
       "    </tr>\n",
       "  </thead>\n",
       "  <tbody>\n",
       "    <tr>\n",
       "      <th>0</th>\n",
       "      <td>1</td>\n",
       "      <td>True</td>\n",
       "      <td>Allen, Miss. Elisabeth Walton</td>\n",
       "      <td>female</td>\n",
       "      <td>29.0000</td>\n",
       "      <td>0</td>\n",
       "      <td>0</td>\n",
       "      <td>24160</td>\n",
       "      <td>211.3375</td>\n",
       "      <td>B5</td>\n",
       "      <td>S</td>\n",
       "      <td>0</td>\n",
       "      <td>2</td>\n",
       "      <td>False</td>\n",
       "      <td>False</td>\n",
       "    </tr>\n",
       "    <tr>\n",
       "      <th>1</th>\n",
       "      <td>1</td>\n",
       "      <td>True</td>\n",
       "      <td>Allison, Master. Hudson Trevor</td>\n",
       "      <td>male</td>\n",
       "      <td>0.9167</td>\n",
       "      <td>1</td>\n",
       "      <td>2</td>\n",
       "      <td>113781</td>\n",
       "      <td>151.5500</td>\n",
       "      <td>C22 C26</td>\n",
       "      <td>S</td>\n",
       "      <td>1</td>\n",
       "      <td>2</td>\n",
       "      <td>False</td>\n",
       "      <td>False</td>\n",
       "    </tr>\n",
       "    <tr>\n",
       "      <th>2</th>\n",
       "      <td>1</td>\n",
       "      <td>False</td>\n",
       "      <td>Allison, Miss. Helen Loraine</td>\n",
       "      <td>female</td>\n",
       "      <td>2.0000</td>\n",
       "      <td>1</td>\n",
       "      <td>2</td>\n",
       "      <td>113781</td>\n",
       "      <td>151.5500</td>\n",
       "      <td>C22 C26</td>\n",
       "      <td>S</td>\n",
       "      <td>0</td>\n",
       "      <td>2</td>\n",
       "      <td>False</td>\n",
       "      <td>False</td>\n",
       "    </tr>\n",
       "    <tr>\n",
       "      <th>3</th>\n",
       "      <td>1</td>\n",
       "      <td>False</td>\n",
       "      <td>Allison, Mr. Hudson Joshua Creighton</td>\n",
       "      <td>male</td>\n",
       "      <td>30.0000</td>\n",
       "      <td>1</td>\n",
       "      <td>2</td>\n",
       "      <td>113781</td>\n",
       "      <td>151.5500</td>\n",
       "      <td>C22 C26</td>\n",
       "      <td>S</td>\n",
       "      <td>1</td>\n",
       "      <td>2</td>\n",
       "      <td>False</td>\n",
       "      <td>False</td>\n",
       "    </tr>\n",
       "    <tr>\n",
       "      <th>4</th>\n",
       "      <td>1</td>\n",
       "      <td>False</td>\n",
       "      <td>Allison, Mrs. Hudson J C (Bessie Waldo Daniels)</td>\n",
       "      <td>female</td>\n",
       "      <td>25.0000</td>\n",
       "      <td>1</td>\n",
       "      <td>2</td>\n",
       "      <td>113781</td>\n",
       "      <td>151.5500</td>\n",
       "      <td>C22 C26</td>\n",
       "      <td>S</td>\n",
       "      <td>0</td>\n",
       "      <td>2</td>\n",
       "      <td>False</td>\n",
       "      <td>False</td>\n",
       "    </tr>\n",
       "    <tr>\n",
       "      <th>5</th>\n",
       "      <td>1</td>\n",
       "      <td>True</td>\n",
       "      <td>Anderson, Mr. Harry</td>\n",
       "      <td>male</td>\n",
       "      <td>48.0000</td>\n",
       "      <td>0</td>\n",
       "      <td>0</td>\n",
       "      <td>19952</td>\n",
       "      <td>26.5500</td>\n",
       "      <td>E12</td>\n",
       "      <td>S</td>\n",
       "      <td>1</td>\n",
       "      <td>2</td>\n",
       "      <td>False</td>\n",
       "      <td>False</td>\n",
       "    </tr>\n",
       "    <tr>\n",
       "      <th>6</th>\n",
       "      <td>1</td>\n",
       "      <td>True</td>\n",
       "      <td>Andrews, Miss. Kornelia Theodosia</td>\n",
       "      <td>female</td>\n",
       "      <td>63.0000</td>\n",
       "      <td>1</td>\n",
       "      <td>0</td>\n",
       "      <td>13502</td>\n",
       "      <td>77.9583</td>\n",
       "      <td>D7</td>\n",
       "      <td>S</td>\n",
       "      <td>0</td>\n",
       "      <td>2</td>\n",
       "      <td>False</td>\n",
       "      <td>False</td>\n",
       "    </tr>\n",
       "    <tr>\n",
       "      <th>7</th>\n",
       "      <td>1</td>\n",
       "      <td>False</td>\n",
       "      <td>Andrews, Mr. Thomas Jr</td>\n",
       "      <td>male</td>\n",
       "      <td>39.0000</td>\n",
       "      <td>0</td>\n",
       "      <td>0</td>\n",
       "      <td>112050</td>\n",
       "      <td>0.0000</td>\n",
       "      <td>A36</td>\n",
       "      <td>S</td>\n",
       "      <td>1</td>\n",
       "      <td>2</td>\n",
       "      <td>False</td>\n",
       "      <td>False</td>\n",
       "    </tr>\n",
       "    <tr>\n",
       "      <th>8</th>\n",
       "      <td>1</td>\n",
       "      <td>True</td>\n",
       "      <td>Appleton, Mrs. Edward Dale (Charlotte Lamson)</td>\n",
       "      <td>female</td>\n",
       "      <td>53.0000</td>\n",
       "      <td>2</td>\n",
       "      <td>0</td>\n",
       "      <td>11769</td>\n",
       "      <td>51.4792</td>\n",
       "      <td>C101</td>\n",
       "      <td>S</td>\n",
       "      <td>0</td>\n",
       "      <td>2</td>\n",
       "      <td>False</td>\n",
       "      <td>False</td>\n",
       "    </tr>\n",
       "    <tr>\n",
       "      <th>9</th>\n",
       "      <td>1</td>\n",
       "      <td>False</td>\n",
       "      <td>Artagaveytia, Mr. Ramon</td>\n",
       "      <td>male</td>\n",
       "      <td>71.0000</td>\n",
       "      <td>0</td>\n",
       "      <td>0</td>\n",
       "      <td>PC 17609</td>\n",
       "      <td>49.5042</td>\n",
       "      <td>NaN</td>\n",
       "      <td>C</td>\n",
       "      <td>1</td>\n",
       "      <td>0</td>\n",
       "      <td>False</td>\n",
       "      <td>False</td>\n",
       "    </tr>\n",
       "  </tbody>\n",
       "</table>\n",
       "</div>"
      ],
      "text/plain": [
       "   pclass  survived                                             name     sex  \\\n",
       "0       1      True                    Allen, Miss. Elisabeth Walton  female   \n",
       "1       1      True                   Allison, Master. Hudson Trevor    male   \n",
       "2       1     False                     Allison, Miss. Helen Loraine  female   \n",
       "3       1     False             Allison, Mr. Hudson Joshua Creighton    male   \n",
       "4       1     False  Allison, Mrs. Hudson J C (Bessie Waldo Daniels)  female   \n",
       "5       1      True                              Anderson, Mr. Harry    male   \n",
       "6       1      True                Andrews, Miss. Kornelia Theodosia  female   \n",
       "7       1     False                           Andrews, Mr. Thomas Jr    male   \n",
       "8       1      True    Appleton, Mrs. Edward Dale (Charlotte Lamson)  female   \n",
       "9       1     False                          Artagaveytia, Mr. Ramon    male   \n",
       "\n",
       "       age  sibsp  parch    ticket      fare    cabin embarked  sex_cat  \\\n",
       "0  29.0000      0      0     24160  211.3375       B5        S        0   \n",
       "1   0.9167      1      2    113781  151.5500  C22 C26        S        1   \n",
       "2   2.0000      1      2    113781  151.5500  C22 C26        S        0   \n",
       "3  30.0000      1      2    113781  151.5500  C22 C26        S        1   \n",
       "4  25.0000      1      2    113781  151.5500  C22 C26        S        0   \n",
       "5  48.0000      0      0     19952   26.5500      E12        S        1   \n",
       "6  63.0000      1      0     13502   77.9583       D7        S        0   \n",
       "7  39.0000      0      0    112050    0.0000      A36        S        1   \n",
       "8  53.0000      2      0     11769   51.4792     C101        S        0   \n",
       "9  71.0000      0      0  PC 17609   49.5042      NaN        C        1   \n",
       "\n",
       "   embarked_cat  age_missing  fare_missing  \n",
       "0             2        False         False  \n",
       "1             2        False         False  \n",
       "2             2        False         False  \n",
       "3             2        False         False  \n",
       "4             2        False         False  \n",
       "5             2        False         False  \n",
       "6             2        False         False  \n",
       "7             2        False         False  \n",
       "8             2        False         False  \n",
       "9             0        False         False  "
      ]
     },
     "execution_count": 148,
     "metadata": {},
     "output_type": "execute_result"
    }
   ],
   "source": [
    "dataset_reg.head(10)"
   ]
  },
  {
   "cell_type": "markdown",
   "metadata": {},
   "source": [
    "### Feature selection"
   ]
  },
  {
   "cell_type": "code",
   "execution_count": 149,
   "metadata": {
    "ExecuteTime": {
     "end_time": "2019-07-02T05:03:04.254317Z",
     "start_time": "2019-07-02T05:03:04.215178Z"
    }
   },
   "outputs": [],
   "source": [
    "feature_set_reg_v1 = [\"pclass\", \"survived\", \"sex_cat\", \"fare\", \"embarked_cat\"]\n",
    "target_reg = \"age\""
   ]
  },
  {
   "cell_type": "markdown",
   "metadata": {},
   "source": [
    "### Train/validation split"
   ]
  },
  {
   "cell_type": "code",
   "execution_count": 150,
   "metadata": {
    "ExecuteTime": {
     "end_time": "2019-07-02T05:03:06.092488Z",
     "start_time": "2019-07-02T05:03:06.040020Z"
    }
   },
   "outputs": [],
   "source": [
    "train_reg, validation_reg = train_test_split(dataset_reg, train_size=0.7, random_state=random_state)"
   ]
  },
  {
   "cell_type": "code",
   "execution_count": 151,
   "metadata": {
    "ExecuteTime": {
     "end_time": "2019-07-02T05:03:08.657885Z",
     "start_time": "2019-07-02T05:03:07.911079Z"
    }
   },
   "outputs": [
    {
     "data": {
      "text/plain": [
       "<matplotlib.axes._subplots.AxesSubplot at 0x130ef34e0>"
      ]
     },
     "execution_count": 151,
     "metadata": {},
     "output_type": "execute_result"
    },
    {
     "data": {
      "image/png": "[encoded data removed]",
      "text/plain": [
       "<Figure size 1440x504 with 2 Axes>"
      ]
     },
     "metadata": {
      "needs_background": "light"
     },
     "output_type": "display_data"
    }
   ],
   "source": [
    "plt.figure(figsize=(20,7))\n",
    "plt.subplot(1,2,1)\n",
    "train_reg.age.plot.hist()\n",
    "plt.subplot(1,2,2)\n",
    "validation_reg.age.plot.hist()"
   ]
  },
  {
   "cell_type": "markdown",
   "metadata": {},
   "source": [
    "### DecisionTreeRegression v 1"
   ]
  },
  {
   "cell_type": "code",
   "execution_count": 167,
   "metadata": {
    "ExecuteTime": {
     "end_time": "2019-07-02T05:05:06.841602Z",
     "start_time": "2019-07-02T05:05:06.781977Z"
    }
   },
   "outputs": [
    {
     "data": {
      "text/plain": [
       "DecisionTreeRegressor(criterion='mae', max_depth=4, max_features=None,\n",
       "                      max_leaf_nodes=None, min_impurity_decrease=0.0,\n",
       "                      min_impurity_split=None, min_samples_leaf=1,\n",
       "                      min_samples_split=2, min_weight_fraction_leaf=0.0,\n",
       "                      presort=False, random_state=None, splitter='best')"
      ]
     },
     "execution_count": 167,
     "metadata": {},
     "output_type": "execute_result"
    }
   ],
   "source": [
    "dt_reg_v1 = DecisionTreeRegressor(criterion=\"mae\", max_depth=4)\n",
    "dt_reg_v1.fit(train_reg[feature_set_reg_v1], train_reg[target_reg])"
   ]
  },
  {
   "cell_type": "markdown",
   "metadata": {},
   "source": [
    "### Prediction description"
   ]
  },
  {
   "cell_type": "code",
   "execution_count": 168,
   "metadata": {
    "ExecuteTime": {
     "end_time": "2019-07-02T05:05:07.264990Z",
     "start_time": "2019-07-02T05:05:07.220818Z"
    }
   },
   "outputs": [
    {
     "data": {
      "text/plain": [
       "[(37.0, 37.0),\n",
       " (35.0, 48.0),\n",
       " (26.0, 0.1667),\n",
       " (28.0, 22.0),\n",
       " (35.0, 19.0),\n",
       " (28.0, 20.0),\n",
       " (35.0, 49.0),\n",
       " (26.0, 5.0),\n",
       " (21.0, 21.0),\n",
       " (26.0, 19.0)]"
      ]
     },
     "execution_count": 168,
     "metadata": {},
     "output_type": "execute_result"
    }
   ],
   "source": [
    "list(zip(dt_reg_v1.predict(validation_reg[feature_set_reg_v1][:10]), validation_reg[target_reg][:10]))"
   ]
  },
  {
   "cell_type": "markdown",
   "metadata": {},
   "source": [
    "### Model validation"
   ]
  },
  {
   "cell_type": "code",
   "execution_count": 166,
   "metadata": {
    "ExecuteTime": {
     "end_time": "2019-07-02T05:05:02.571368Z",
     "start_time": "2019-07-02T05:05:02.524499Z"
    }
   },
   "outputs": [
    {
     "name": "stdout",
     "output_type": "stream",
     "text": [
      "training MAE : 8.617264277146763\n",
      "validation MAE : 8.746329417942937\n"
     ]
    }
   ],
   "source": [
    "print(f\"training MAE : {mean_absolute_error(train_reg[target_reg], dt_reg_v1.predict(train_reg[feature_set_reg_v1]))}\")\n",
    "print(f\"validation MAE : {mean_absolute_error(validation_reg[target_reg], dt_reg_v1.predict(validation_reg[feature_set_reg_v1]))}\")\n"
   ]
  },
  {
   "cell_type": "code",
   "execution_count": 169,
   "metadata": {
    "ExecuteTime": {
     "end_time": "2019-07-02T05:05:10.344261Z",
     "start_time": "2019-07-02T05:05:10.298273Z"
    }
   },
   "outputs": [
    {
     "name": "stdout",
     "output_type": "stream",
     "text": [
      "training MAE : 8.26774017467249\n",
      "validation MAE : 8.170695419847329\n"
     ]
    }
   ],
   "source": [
    "print(f\"training MAE : {mean_absolute_error(train_reg[target_reg], dt_reg_v1.predict(train_reg[feature_set_reg_v1]))}\")\n",
    "print(f\"validation MAE : {mean_absolute_error(validation_reg[target_reg], dt_reg_v1.predict(validation_reg[feature_set_reg_v1]))}\")\n"
   ]
  },
  {
   "cell_type": "markdown",
   "metadata": {},
   "source": [
    "### Hyperparameter tuning"
   ]
  },
  {
   "cell_type": "code",
   "execution_count": 157,
   "metadata": {
    "ExecuteTime": {
     "end_time": "2019-06-29T11:11:54.411195Z",
     "start_time": "2019-06-29T11:11:54.304634Z"
    }
   },
   "outputs": [],
   "source": [
    "train_mae = []\n",
    "validation_mae = []\n",
    "max_depth_values = [1, 2, 3, 6, 10, 20, 40]\n",
    "\n",
    "for max_depth in max_depth_values:\n",
    "    dt_reg = DecisionTreeRegressor(max_depth=max_depth)\n",
    "    dt_reg.fit(train_reg[feature_set_reg_v1], train_reg[target_reg])\n",
    "    \n",
    "    train_mae.append(mean_absolute_error(train_reg[target_reg], dt_reg.predict(train_reg[feature_set_reg_v1])))\n",
    "    validation_mae.append(mean_absolute_error(validation_reg[target_reg], dt_reg.predict(validation_reg[feature_set_reg_v1])))"
   ]
  },
  {
   "cell_type": "code",
   "execution_count": 158,
   "metadata": {
    "ExecuteTime": {
     "end_time": "2019-06-29T11:11:55.242674Z",
     "start_time": "2019-06-29T11:11:54.769531Z"
    }
   },
   "outputs": [
    {
     "data": {
      "image/png": "[encoded data removed]",
      "text/plain": [
       "<Figure size 1440x576 with 1 Axes>"
      ]
     },
     "metadata": {
      "needs_background": "light"
     },
     "output_type": "display_data"
    }
   ],
   "source": [
    "plt.figure(figsize=(20,8))\n",
    "plt.xticks(range(0, len(max_depth_values)), max_depth_values)\n",
    "plt.plot(train_mae, label=\"train_mae\")\n",
    "plt.plot(validation_mae, label=\"validation_mae\")\n",
    "plt.legend()\n",
    "plt.grid()"
   ]
  },
  {
   "cell_type": "markdown",
   "metadata": {},
   "source": [
    "### kfold validation"
   ]
  },
  {
   "cell_type": "code",
   "execution_count": 205,
   "metadata": {
    "ExecuteTime": {
     "end_time": "2019-06-29T12:04:29.119921Z",
     "start_time": "2019-06-29T12:04:29.080369Z"
    }
   },
   "outputs": [],
   "source": [
    "dt_reg = DecisionTreeRegressor(max_depth=3)\n",
    "kfold_reg = KFold(n_splits=5, shuffle=True, random_state=random_state)"
   ]
  },
  {
   "cell_type": "code",
   "execution_count": 206,
   "metadata": {
    "ExecuteTime": {
     "end_time": "2019-06-29T12:04:29.588318Z",
     "start_time": "2019-06-29T12:04:29.514493Z"
    }
   },
   "outputs": [],
   "source": [
    "cross_val_rf_reg_stats = cross_validate(dt_reg, dataset_reg[feature_set_reg_v1], dataset_reg[target_reg], cv = kfold_reg, scoring=\"neg_mean_absolute_error\", return_train_score=True)\n"
   ]
  },
  {
   "cell_type": "code",
   "execution_count": 207,
   "metadata": {
    "ExecuteTime": {
     "end_time": "2019-06-29T12:04:29.925918Z",
     "start_time": "2019-06-29T12:04:29.884484Z"
    }
   },
   "outputs": [
    {
     "data": {
      "text/plain": [
       "{'fit_time': array([0.00316405, 0.00330806, 0.0028851 , 0.00318289, 0.00307107]),\n",
       " 'score_time': array([0.00118899, 0.00129795, 0.00116086, 0.00119209, 0.00159788]),\n",
       " 'test_score': array([-8.37697642, -8.99243544, -8.76024528, -8.95316921, -9.31091116]),\n",
       " 'train_score': array([-8.71338383, -8.43662238, -8.49037762, -8.66519122, -8.40752761])}"
      ]
     },
     "execution_count": 207,
     "metadata": {},
     "output_type": "execute_result"
    }
   ],
   "source": [
    "cross_val_rf_reg_stats"
   ]
  },
  {
   "cell_type": "code",
   "execution_count": 208,
   "metadata": {
    "ExecuteTime": {
     "end_time": "2019-06-29T12:04:30.579546Z",
     "start_time": "2019-06-29T12:04:30.539529Z"
    }
   },
   "outputs": [
    {
     "data": {
      "text/plain": [
       "8.878747502332837"
      ]
     },
     "execution_count": 208,
     "metadata": {},
     "output_type": "execute_result"
    }
   ],
   "source": [
    "abs(cross_val_rf_reg_stats[\"test_score\"].mean())"
   ]
  },
  {
   "cell_type": "code",
   "execution_count": null,
   "metadata": {},
   "outputs": [],
   "source": []
  },
  {
   "cell_type": "code",
   "execution_count": null,
   "metadata": {},
   "outputs": [],
   "source": []
  }
 ],
 "metadata": {
  "kernelspec": {
   "display_name": "Python 3",
   "language": "python",
   "name": "python3"
  },
  "language_info": {
   "codemirror_mode": {
    "name": "ipython",
    "version": 3
   },
   "file_extension": ".py",
   "mimetype": "text/x-python",
   "name": "python",
   "nbconvert_exporter": "python",
   "pygments_lexer": "ipython3",
   "version": "3.7.0"
  },
  "toc": {
   "base_numbering": 1,
   "nav_menu": {},
   "number_sections": true,
   "sideBar": true,
   "skip_h1_title": false,
   "title_cell": "Table of Contents",
   "title_sidebar": "Contents",
   "toc_cell": false,
   "toc_position": {
    "height": "calc(100% - 180px)",
    "left": "10px",
    "top": "150px",
    "width": "292px"
   },
   "toc_section_display": true,
   "toc_window_display": true
  }
 },
 "nbformat": 4,
 "nbformat_minor": 2
}
